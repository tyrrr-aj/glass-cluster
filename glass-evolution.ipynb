{
 "cells": [
  {
   "cell_type": "markdown",
   "metadata": {},
   "source": [
    "# Glass structure - evolutionary approach"
   ]
  },
  {
   "cell_type": "code",
   "execution_count": 1,
   "metadata": {},
   "outputs": [],
   "source": [
    "import numpy as np"
   ]
  },
  {
   "cell_type": "code",
   "execution_count": 2,
   "metadata": {},
   "outputs": [],
   "source": [
    "rng = np.random.default_rng()"
   ]
  },
  {
   "cell_type": "markdown",
   "metadata": {},
   "source": [
    "## Data preparation and utility functions"
   ]
  },
  {
   "cell_type": "code",
   "execution_count": 3,
   "metadata": {},
   "outputs": [],
   "source": [
    "from itertools import dropwhile, takewhile\n",
    "import re\n",
    "\n",
    "def read_atoms(input_path):\n",
    "    with open(input_path, 'r') as file:\n",
    "        lines = file.readlines()\n",
    "        \n",
    "        atom_spec_lines = list(takewhile(lambda line: line != 'ATOMIC_POSITIONS (angstrom)\\n', dropwhile(lambda line: line != 'ATOMIC_SPECIES\\n', lines)))[1:]\n",
    "        atom_species_by_index = {i: symbol for i, symbol in enumerate([line.split()[0] for line in atom_spec_lines])}\n",
    "        atom_species_by_symbol = {symbol: i for i, symbol in atom_species_by_index.items()}\n",
    "        \n",
    "        atom_pos_lines = list(dropwhile(lambda line: line != 'ATOMIC_POSITIONS (angstrom)\\n', lines))[1:-2]\n",
    "        atom_positions = [(float(x), float(y), float(z), atom_species_by_symbol[symbol]) for symbol, x, y, z in [line.split() for line in atom_pos_lines]]\n",
    "\n",
    "        cell_size_line = next(line for line in lines if line.startswith('  ibrav'))\n",
    "        cell_size_match = re.search(r'a=(\\d+(\\.\\d+)?)', cell_size_line)\n",
    "        cell_size = float(cell_size_match.group(1)) if cell_size_match else None\n",
    "\n",
    "    return atom_species_by_index, atom_species_by_symbol, np.array(atom_positions), cell_size"
   ]
  },
  {
   "cell_type": "code",
   "execution_count": 4,
   "metadata": {},
   "outputs": [],
   "source": [
    "def get_solution_size(cluster_size, solution_thickness, axis):\n",
    "    match axis:\n",
    "        case 0:\n",
    "            size_x = solution_thickness\n",
    "            size_y = cluster_size\n",
    "            size_z = cluster_size\n",
    "        case 1:\n",
    "            size_x = cluster_size + solution_thickness\n",
    "            size_y = solution_thickness\n",
    "            size_z = cluster_size\n",
    "        case 2:\n",
    "            size_x = cluster_size + solution_thickness\n",
    "            size_y = cluster_size + solution_thickness\n",
    "            size_z = solution_thickness\n",
    "\n",
    "    return size_x, size_y, size_z"
   ]
  },
  {
   "cell_type": "code",
   "execution_count": 5,
   "metadata": {},
   "outputs": [],
   "source": [
    "def cut_atoms(atoms, center, x_size, y_size, z_size):\n",
    "    x_min, x_max = center[0] - x_size/2, center[0] + x_size/2\n",
    "    y_min, y_max = center[1] - y_size/2, center[1] + y_size/2\n",
    "    z_min, z_max = center[2] - z_size/2, center[2] + z_size/2\n",
    "\n",
    "    center_coords = np.array(np.concat([center[:3], [0]]))\n",
    "\n",
    "    return atoms[np.all([\n",
    "        atoms[:, 0] > x_min, \n",
    "        atoms[:, 0] < x_max, \n",
    "        atoms[:, 1] > y_min, \n",
    "        atoms[:, 1] < y_max, \n",
    "        atoms[:, 2] > z_min, \n",
    "        atoms[:, 2] < z_max\n",
    "    ], axis=0)] - center_coords"
   ]
  },
  {
   "cell_type": "code",
   "execution_count": 6,
   "metadata": {},
   "outputs": [],
   "source": [
    "def get_positioned_walls_x(cluster, cluster_size, wall_thickness, solution_thickness):\n",
    "    wall_x_left = cluster[cluster[:, 0] < -cluster_size / 2 + wall_thickness]\n",
    "    wall_x_right = cluster[cluster[:, 0] > cluster_size / 2 - wall_thickness]\n",
    "\n",
    "    wall_x_left_shifted = wall_x_left + np.array([cluster_size/2 + solution_thickness/2, 0, 0, 0])\n",
    "    wall_x_right_shifted = wall_x_right - np.array([cluster_size/2 + solution_thickness/2, 0, 0, 0])\n",
    "\n",
    "    return wall_x_left_shifted, wall_x_right_shifted\n",
    "\n",
    "\n",
    "def get_positioned_walls_y(solution_x, cluster, cluster_size, wall_thickness, solution_thickness):\n",
    "    atoms = np.concat([cluster, solution_x])\n",
    "\n",
    "    wall_y_bottom = atoms[atoms[:, 1] < -cluster_size / 2 + wall_thickness]\n",
    "    wall_y_top = atoms[atoms[:, 1] > cluster_size / 2 - wall_thickness]\n",
    "\n",
    "    wall_y_bottom_shifted = wall_y_bottom + np.array([0, cluster_size/2 + solution_thickness/2, 0, 0])\n",
    "    wall_y_top_shifted = wall_y_top - np.array([0, cluster_size/2 + solution_thickness/2, 0, 0])\n",
    "\n",
    "    return wall_y_bottom_shifted, wall_y_top_shifted\n",
    "\n",
    "\n",
    "def get_positioned_walls_z(solution_x, solution_y, cluster, cluster_size, wall_thickness, solution_thickness):\n",
    "    atoms = np.concat([cluster, solution_x, solution_y])\n",
    "\n",
    "    wall_z_back = atoms[atoms[:, 2] < -cluster_size / 2 + wall_thickness]\n",
    "    wall_z_front = atoms[atoms[:, 2] > cluster_size / 2 - wall_thickness]\n",
    "\n",
    "    wall_z_back_shifted = wall_z_back + np.array([0, 0, cluster_size/2 + solution_thickness/2, 0])\n",
    "    wall_z_front_shifted = wall_z_front - np.array([0, 0, cluster_size/2 + solution_thickness/2, 0])\n",
    "\n",
    "    return wall_z_back_shifted, wall_z_front_shifted"
   ]
  },
  {
   "cell_type": "code",
   "execution_count": 7,
   "metadata": {},
   "outputs": [],
   "source": [
    "def get_random_solution(supercell, cell_size, x_size, y_size, z_size):\n",
    "    center = rng.uniform(-cell_size/2, cell_size/2, 3)\n",
    "    return cut_atoms(supercell, center, x_size, y_size, z_size)\n",
    "\n",
    "\n",
    "def get_random_solution_without_Er(supercell, cell_size, atom_species_by_symbol, x_size, y_size, z_size):\n",
    "    solution = get_random_solution(supercell, cell_size, x_size, y_size, z_size)\n",
    "    while np.any(solution[:, 3] == atom_species_by_symbol['Er']):\n",
    "        solution = get_random_solution(supercell, cell_size, x_size, y_size, z_size)\n",
    "\n",
    "    solution[solution[:, 3] != atom_species_by_symbol['O'], 3] = atom_species_by_symbol['Si']\n",
    "\n",
    "    return solution\n",
    "\n",
    "\n",
    "def get_n_random_solutions_without_Er(supercell, cell_size, atom_species_by_symbol, cluster_size, solution_thickness, axis, n):\n",
    "    x_size, y_size, z_size = get_solution_size(cluster_size, solution_thickness, axis)\n",
    "\n",
    "    return [get_random_solution_without_Er(supercell, cell_size, atom_species_by_symbol, x_size, y_size, z_size) for _ in range(n)]"
   ]
  },
  {
   "cell_type": "code",
   "execution_count": 8,
   "metadata": {},
   "outputs": [],
   "source": [
    "from itertools import product\n",
    "\n",
    "def get_supercell(cell, cell_size):\n",
    "    shift_options = [-cell_size, 0, cell_size]\n",
    "    return np.concat([cell + np.array(shift_vector + (0,)) for shift_vector in product(shift_options, repeat=3)])"
   ]
  },
  {
   "cell_type": "code",
   "execution_count": 9,
   "metadata": {},
   "outputs": [],
   "source": [
    "def get_Er_clusters(supercell, cluster_size, atom_species_by_symbol):\n",
    "    atoms_Er = supercell[supercell[:, 3] == atom_species_by_symbol['Er']]\n",
    "    return [cut_atoms(supercell, center, cluster_size, cluster_size, cluster_size) for center in atoms_Er]"
   ]
  },
  {
   "cell_type": "code",
   "execution_count": 10,
   "metadata": {},
   "outputs": [],
   "source": [
    "import plotly.graph_objects as go\n",
    "\n",
    "\n",
    "def plot_atoms_on_ax(atoms, atom_species_by_index, marker_symbol, fig):\n",
    "    fig.add_trace(go.Scatter3d(\n",
    "        x=atoms[:, 0],\n",
    "        y=atoms[:, 1],\n",
    "        z=atoms[:, 2],\n",
    "        mode='markers',\n",
    "        marker=dict(\n",
    "            size=5,\n",
    "            color=atoms[:, 3],\n",
    "            colorscale='Viridis',\n",
    "            symbol=marker_symbol,\n",
    "            opacity=0.8\n",
    "        ),\n",
    "        text=[atom_species_by_index[i] for i in atoms[:, 3]],\n",
    "        hoverinfo='text'\n",
    "    ))\n",
    "\n",
    "\n",
    "def setup_scene_and_legend(fig):\n",
    "    fig.update_layout(\n",
    "        scene=dict(\n",
    "            xaxis_title='X',\n",
    "            yaxis_title='Y',\n",
    "            zaxis_title='Z'\n",
    "        ),\n",
    "        width=700,\n",
    "        margin=dict(r=20, l=10, b=10, t=10),\n",
    "        showlegend=False\n",
    "    )\n",
    "\n",
    "\n",
    "def plot_atoms(atoms, atom_species_by_index,):\n",
    "    fig = go.Figure()\n",
    "    plot_atoms_on_ax(atoms, atom_species_by_index, 'circle', fig)\n",
    "    setup_scene_and_legend(fig)\n",
    "    fig.show()\n",
    "\n",
    "\n",
    "def plot_solution_with_walls(walls, solution, atom_species_by_index):\n",
    "    fig = go.Figure()\n",
    "    plot_atoms_on_ax(solution, atom_species_by_index, 'circle', fig)\n",
    "    for wall in walls:\n",
    "        plot_atoms_on_ax(wall, atom_species_by_index, 'diamond', fig)\n",
    "    setup_scene_and_legend(fig)\n",
    "    fig.show()"
   ]
  },
  {
   "cell_type": "code",
   "execution_count": 11,
   "metadata": {},
   "outputs": [],
   "source": [
    "def split_and_shift_solution(solution, cluster_size, axis):\n",
    "    if solution is None:\n",
    "        return np.empty(shape=(0, 4))\n",
    "\n",
    "    shift_vector = np.array([0, 0, 0, 0])\n",
    "    shift_vector[axis] = cluster_size / 2\n",
    "\n",
    "    minor_half = solution[solution[:, axis] < 0]\n",
    "    major_half = solution[solution[:, axis] >= 0]\n",
    "    \n",
    "    minor_half_shifted = minor_half - shift_vector\n",
    "    major_half_shifted = major_half + shift_vector\n",
    "\n",
    "    return np.concat([minor_half_shifted, major_half_shifted])\n",
    "\n",
    "\n",
    "def export_to_xcrysden(cluster, x_solution, y_solution, z_solution, cluster_size, solution_thickness, atom_species_by_index, filename):\n",
    "    x_solution_shifted = split_and_shift_solution(x_solution, cluster_size, 0)\n",
    "    y_solution_shifted = split_and_shift_solution(y_solution, cluster_size, 1)\n",
    "    z_solution_shifted = split_and_shift_solution(z_solution, cluster_size, 2)\n",
    "\n",
    "    all_atoms = np.concat([cluster, x_solution_shifted, y_solution_shifted, z_solution_shifted])\n",
    "    n_atoms = len(all_atoms)\n",
    "    cell_size = cluster_size + solution_thickness\n",
    "    \n",
    "    preamble = f'''cell \n",
    "&CONTROL\n",
    "  calculation='scf'\n",
    "  restart_mode='from_scratch'\n",
    "  pseudo_dir = './pseudo/',\n",
    "  outdir='./tmp/'\n",
    "  prefix='cell',\n",
    "  wf_collect=.true.\n",
    " /\n",
    " &system\n",
    "  ibrav= 1, nat={n_atoms}, a={cell_size}, ntyp={len(atom_species_by_index)},\n",
    " /\n",
    " &electrons\n",
    "  conv_thr = 0.04  \n",
    "  diagonalization='davidson'\n",
    "  mixing_beta = 0.1\n",
    " /'''\n",
    "    \n",
    "    atom_species_formatted = '\\n'.join(f'{symbol}   1.0   {symbol}.pz-n-nc.UPF' for symbol in atom_species_by_index.values())\n",
    "\n",
    "    atom_species_part = f'''\n",
    "ATOMIC_SPECIES\n",
    "{atom_species_formatted}'''\n",
    "\n",
    "    atom_positions_formatted = '\\n'.join(f'{atom_species_by_index[species_index]}\\t{x:.6f}\\t{y:.6f}\\t{z:.6f}' for x, y, z, species_index in all_atoms)\n",
    "\n",
    "    atom_positions_part = f'''\n",
    "ATOMIC_POSITIONS (angstrom)\n",
    "{atom_positions_formatted}'''\n",
    "\n",
    "    k_points_part = '''\n",
    "K_POINTS {automatic}\n",
    "2 2 2 0 0 0\n",
    "'''\n",
    "\n",
    "    with open(filename, 'w') as file:\n",
    "        file.write(preamble)\n",
    "        file.write(atom_species_part)\n",
    "        file.write(atom_positions_part)\n",
    "        file.write(k_points_part)"
   ]
  },
  {
   "cell_type": "markdown",
   "metadata": {},
   "source": [
    "## Common algorithm components"
   ]
  },
  {
   "cell_type": "markdown",
   "metadata": {},
   "source": [
    "### Fitness function"
   ]
  },
  {
   "cell_type": "markdown",
   "metadata": {},
   "source": [
    "#### Density"
   ]
  },
  {
   "cell_type": "code",
   "execution_count": 12,
   "metadata": {},
   "outputs": [],
   "source": [
    "def cubature(size_x, sizy_y, size_z):\n",
    "    return size_x * sizy_y * size_z\n",
    "    \n",
    "\n",
    "def density_anions(atoms, size_x, sizy_y, size_z, atom_species_by_symbol):\n",
    "    anions = atoms[atoms[:, 3] == atom_species_by_symbol['O']]\n",
    "    return len(anions) / cubature(size_x, sizy_y, size_z)\n",
    "\n",
    "\n",
    "def density_cations(atoms, size_x, sizy_y, size_z, atom_species_by_symbol):\n",
    "    cations = atoms[atoms[:, 3] != atom_species_by_symbol['O']]\n",
    "    return len(cations) / cubature(size_x, sizy_y, size_z)\n",
    "    "
   ]
  },
  {
   "cell_type": "code",
   "execution_count": 13,
   "metadata": {},
   "outputs": [
    {
     "name": "stdout",
     "output_type": "stream",
     "text": [
      "448: 0.039536 anions per Å^3\n",
      "448: 0.023721 cations per Å^3\n",
      "896: 0.039536 anions per Å^3\n",
      "896: 0.023721 cations per Å^3\n",
      "1808: 0.03952 anions per Å^3\n",
      "1808: 0.023768 cations per Å^3\n",
      "3616: 0.03952 anions per Å^3\n",
      "3616: 0.023768 cations per Å^3\n",
      "\n",
      "Average anion density: 0.039528 anions per Å^3\n",
      "Average cation density: 0.023745 cations per Å^3\n"
     ]
    }
   ],
   "source": [
    "# Expected density measurement\n",
    "\n",
    "anion_densities = []\n",
    "cation_densities = []\n",
    "\n",
    "for cell_name in ['448', '896', '1808', '3616']:\n",
    "    _atom_species_by_index, atom_species_by_symbol, cell, cell_size = read_atoms(f'./data/big cells/{cell_name}.in')\n",
    "\n",
    "    d_anions = density_anions(cell, cell_size, cell_size, cell_size, atom_species_by_symbol)\n",
    "    d_cations = density_cations(cell, cell_size, cell_size, cell_size, atom_species_by_symbol)\n",
    "\n",
    "    anion_densities.append(d_anions)\n",
    "    cation_densities.append(d_cations)\n",
    "\n",
    "    print(f'{cell_name}: {d_anions:.5} anions per Å^3')\n",
    "    print(f'{cell_name}: {d_cations:.5} cations per Å^3')\n",
    "\n",
    "avg_d_anions = np.mean(anion_densities)\n",
    "avg_d_cations = np.mean(cation_densities)\n",
    "\n",
    "print()\n",
    "print(f'Average anion density: {avg_d_anions:.5} anions per Å^3')\n",
    "print(f'Average cation density: {avg_d_cations:.5} cations per Å^3')\n"
   ]
  },
  {
   "cell_type": "code",
   "execution_count": 14,
   "metadata": {},
   "outputs": [],
   "source": [
    "def penalty_density(atoms, size_x, size_y, size_z, atom_species_by_symbol):\n",
    "    target_anion_density = 0.0395\n",
    "    target_cation_density = 0.0237\n",
    "\n",
    "    anions = atoms[atoms[:, 3] == atom_species_by_symbol['O']]\n",
    "    cations = atoms[atoms[:, 3] != atom_species_by_symbol['O']]\n",
    "\n",
    "    curr_anion_density = density_anions(anions, size_x, size_y, size_z, atom_species_by_symbol)\n",
    "    curr_cation_density = density_cations(cations, size_x, size_y, size_z, atom_species_by_symbol)\n",
    "\n",
    "    return ((target_anion_density - curr_anion_density) / target_anion_density) ** 2 + ((target_cation_density - curr_cation_density) / target_cation_density) ** 2"
   ]
  },
  {
   "cell_type": "markdown",
   "metadata": {},
   "source": [
    "#### Neighbourhood"
   ]
  },
  {
   "cell_type": "code",
   "execution_count": 15,
   "metadata": {},
   "outputs": [],
   "source": [
    "def penalty_neighbourhood(atoms, atom_species_by_symbol):\n",
    "    desired_n_neighs_Si = 4\n",
    "    desired_n_neighs_O = 2\n",
    "    max_neigh_distance_Si_O = 2.0\n",
    "\n",
    "    atoms_Si = atoms[atoms[:, 3] == atom_species_by_symbol['Si']][:, :3]\n",
    "    atoms_O = atoms[atoms[:, 3] == atom_species_by_symbol['O']][:, :3]\n",
    "\n",
    "    distances = np.linalg.norm(atoms_Si[:, None] - atoms_O, axis=-1)\n",
    "    neighs = distances < max_neigh_distance_Si_O\n",
    "\n",
    "    n_neighs_Si = np.sum(neighs, axis=1)\n",
    "    n_neighs_O = np.sum(neighs, axis=0)\n",
    "\n",
    "    violations_Si = np.power(n_neighs_Si - desired_n_neighs_Si, 2)\n",
    "    violations_O = np.power(n_neighs_O - desired_n_neighs_O, 2)\n",
    "\n",
    "    penalty_neighs = np.sum(violations_Si) + np.sum(violations_O)\n",
    "    return penalty_neighs"
   ]
  },
  {
   "cell_type": "markdown",
   "metadata": {},
   "source": [
    "#### Distances"
   ]
  },
  {
   "cell_type": "code",
   "execution_count": 16,
   "metadata": {},
   "outputs": [],
   "source": [
    "def distance_penalty_for_atom_species(atoms, first_species_index, second_species_index, threshold):\n",
    "        first_atoms = atoms[atoms[:, 3] == first_species_index][:, :3]\n",
    "        second_atoms = atoms[atoms[:, 3] == second_species_index][:, :3]\n",
    "\n",
    "        distances = np.linalg.norm(first_atoms[:, None] - second_atoms, axis=-1)\n",
    "        violations = distances < threshold if first_species_index != second_species_index else np.triu(distances < threshold, k=1)\n",
    "\n",
    "        penalties = np.ones(distances.shape)[violations]\n",
    "        return np.sum(penalties)\n",
    "\n",
    "\n",
    "def penalty_distances(atoms, atom_species_by_symbol):\n",
    "    checked_distances = [\n",
    "        ('O', 'O', 2.6),\n",
    "        ('O', 'Si', 1.6),\n",
    "        ('Si', 'Si', 2.9)\n",
    "    ]\n",
    "\n",
    "    return sum([distance_penalty_for_atom_species(atoms, atom_species_by_symbol[first_species], atom_species_by_symbol[second_species], threshold) for first_species, second_species, threshold in checked_distances])"
   ]
  },
  {
   "cell_type": "markdown",
   "metadata": {},
   "source": [
    "#### Angles"
   ]
  },
  {
   "cell_type": "code",
   "execution_count": 17,
   "metadata": {},
   "outputs": [],
   "source": [
    "def angle_penalty_for_atom_species(atoms, anion_index, cation_index, distance_threshold):\n",
    "    angle_hard_lower_threshold_deg = 70\n",
    "    angle_soft_lower_threshold_deg = 100\n",
    "    angle_soft_upper_threshold_deg = 130\n",
    "    angle_hard_upper_threshold_deg = 180\n",
    "\n",
    "    anions = atoms[atoms[:, 3] == anion_index][:, :3]\n",
    "    cations = atoms[atoms[:, 3] == cation_index][:, :3]\n",
    "    \n",
    "    cation_anion_distances = np.linalg.norm(cations[:, None] - anions, axis=-1)\n",
    "    cation_nearest_neighbour_indices = np.argpartition(cation_anion_distances, 2, axis=1)[:, :2]\n",
    "    cation_between_nearest_neighbours = np.concat([anions[cation_nearest_neighbour_indices[:, 0, None]], cations[:, None], anions[cation_nearest_neighbour_indices[:, 1, None]]], axis=1)\n",
    "\n",
    "    vectors = np.diff(cation_between_nearest_neighbours, axis=1)\n",
    "    vectors[:, 0] *= -1\n",
    "    vector_lengths = np.linalg.norm(vectors, axis=-1)\n",
    "\n",
    "    short_vector_indices = np.logical_and(vector_lengths[:, 0] < distance_threshold, vector_lengths[:, 1] < distance_threshold)\n",
    "    short_vectors = vectors[short_vector_indices]\n",
    "    short_vector_lengths = vector_lengths[short_vector_indices]\n",
    "\n",
    "    angles = np.arccos(np.sum(short_vectors[:, 0] * short_vectors[:, 1], axis=-1) / (short_vector_lengths[:, 0] * short_vector_lengths[:, 1]))\n",
    "    angles_deg = np.degrees(angles)\n",
    "\n",
    "    hard_violations = np.logical_or(angles_deg < angle_hard_lower_threshold_deg, angles_deg > angle_hard_upper_threshold_deg)\n",
    "    soft_violations_lower = np.logical_and(angles_deg <= angle_soft_lower_threshold_deg, angles_deg > angle_hard_lower_threshold_deg)\n",
    "    soft_violations_upper = np.logical_and(angles_deg < angle_hard_upper_threshold_deg, angles_deg >= angle_soft_upper_threshold_deg)\n",
    "\n",
    "    hard_violations_penalty = np.sum(np.ones(angles_deg.shape)[hard_violations])\n",
    "    soft_violations_lower_penalty = np.sum((angle_soft_lower_threshold_deg - angles_deg[soft_violations_lower]) / (angle_soft_lower_threshold_deg - angle_hard_lower_threshold_deg))\n",
    "    soft_violations_upper_penalty = np.sum((angles_deg[soft_violations_upper] - angle_soft_upper_threshold_deg) / (angle_hard_upper_threshold_deg - angle_soft_upper_threshold_deg))\n",
    "\n",
    "    return hard_violations_penalty + soft_violations_lower_penalty + soft_violations_upper_penalty\n",
    "\n",
    "\n",
    "def penalty_angles(atoms, atom_species_by_symbol):\n",
    "    checked_angles = [\n",
    "        ('O', 'Si', 2.6)\n",
    "    ]\n",
    "\n",
    "    return sum([angle_penalty_for_atom_species(atoms, atom_species_by_symbol[anion], atom_species_by_symbol[cation], threshold) for anion, cation, threshold in checked_angles])"
   ]
  },
  {
   "cell_type": "markdown",
   "metadata": {},
   "source": [
    "#### Fitness"
   ]
  },
  {
   "cell_type": "code",
   "execution_count": 18,
   "metadata": {},
   "outputs": [],
   "source": [
    "def fitness_func(atoms, atom_species_by_symbol, size_x, size_y, size_z, alpha, beta, gamma):\n",
    "    return -1 * (\n",
    "        alpha * penalty_neighbourhood(atoms, atom_species_by_symbol) \n",
    "        + beta * penalty_distances(atoms, atom_species_by_symbol) \n",
    "        + gamma * penalty_angles(atoms, atom_species_by_symbol)\n",
    "    )"
   ]
  },
  {
   "cell_type": "code",
   "execution_count": 19,
   "metadata": {},
   "outputs": [],
   "source": [
    "def fitness_x(wall_left, wall_right, solution, atom_species_by_symbol, cluster_size, wall_thickness, solution_thickness, alpha=1.0, beta=1.0, gamma=1.0):\n",
    "    atoms = np.concat([wall_left, wall_right, solution])\n",
    "\n",
    "    size_x = 2 * wall_thickness + solution_thickness\n",
    "    size_y = cluster_size\n",
    "    size_z = cluster_size\n",
    "\n",
    "    return fitness_func(atoms, atom_species_by_symbol, size_x, size_y, size_z, alpha, beta, gamma)\n",
    "\n",
    "\n",
    "def fitness_y(wall_down, wall_up, solution, atom_species_by_symbol, cluster_size, wall_thickness, solution_thickness, alpha=1.0, beta=1.0, gamma=1.0):\n",
    "    periodic_x_left_wall = solution[solution[:, 0] < -cluster_size/2] + np.array([cluster_size + 2 * wall_thickness, 0, 0, 0])\n",
    "    periodic_x_right_wall = solution[solution[:, 0] > cluster_size/2] - np.array([cluster_size + 2 * wall_thickness, 0, 0, 0])\n",
    "\n",
    "    atoms = np.concat([wall_down, wall_up, solution, periodic_x_left_wall, periodic_x_right_wall])\n",
    "\n",
    "    size_x = cluster_size + solution_thickness\n",
    "    size_y = 2 * wall_thickness + solution_thickness\n",
    "    size_z = cluster_size\n",
    "    \n",
    "    return fitness_func(atoms, atom_species_by_symbol, size_x, size_y, size_z, alpha, beta, gamma)\n",
    "\n",
    "\n",
    "def fitness_z(wall_front, wall_back, solution, atom_species_by_symbol, cluster_size, wall_thickness, solution_thickness, alpha=1.0, beta=1.0, gamma=1.0):\n",
    "    periodic_x_left_wall = solution[solution[:, 0] < -cluster_size/2] + np.array([cluster_size + 2 * wall_thickness, 0, 0, 0])\n",
    "    periodic_x_right_wall = solution[solution[:, 0] > cluster_size/2] - np.array([cluster_size + 2 * wall_thickness, 0, 0, 0])\n",
    "    periodic_y_down_wall = solution[solution[:, 1] < -cluster_size/2] + np.array([0, cluster_size + 2 * wall_thickness, 0, 0])\n",
    "    periodic_y_up_wall = solution[solution[:, 1] > cluster_size/2] - np.array([0, cluster_size + 2 * wall_thickness, 0, 0])\n",
    "\n",
    "    atoms = np.concat([wall_front, wall_back, solution, periodic_x_left_wall, periodic_x_right_wall, periodic_y_down_wall, periodic_y_up_wall])\n",
    "\n",
    "    size_x = cluster_size + solution_thickness\n",
    "    size_y = cluster_size + solution_thickness\n",
    "    size_z = 2 * wall_thickness + solution_thickness\n",
    "\n",
    "    return fitness_func(atoms, atom_species_by_symbol, size_x, size_y, size_z, alpha, beta, gamma)"
   ]
  },
  {
   "cell_type": "markdown",
   "metadata": {},
   "source": [
    "## Evolutionary algorithms"
   ]
  },
  {
   "cell_type": "markdown",
   "metadata": {},
   "source": [
    "### Classic evolutionary algorithm"
   ]
  },
  {
   "cell_type": "markdown",
   "metadata": {},
   "source": [
    "#### Genotype and fenotype (currently unused - all operations take place directly on fenotype)"
   ]
  },
  {
   "cell_type": "markdown",
   "metadata": {},
   "source": [
    "**Fenotype** - vector of atoms, i.e. np.array([[x,y,z,Sp],...])\n",
    "\n",
    "**Genotype** - vector which elements correspond to space chunks, each element is a vector of atoms in that chunk of space, i.e. [[[x,y,z,Sp],...],...]"
   ]
  },
  {
   "cell_type": "code",
   "execution_count": 20,
   "metadata": {},
   "outputs": [],
   "source": [
    "def genotype_to_fenotype(genotype):\n",
    "    return np.concat(genotype)\n",
    "\n",
    "\n",
    "def fenotype_to_genotype(fenotype, cluster_size, solution_thickness, axis, n_chunks=10):    # space_size = (x_size, y_size, z_size)\n",
    "    chunk_axis = (axis + 1) % 3   # Y for x-solution, Z for y-solution, X for z-solution\n",
    "    space_size = get_solution_size(cluster_size, solution_thickness, axis)\n",
    "\n",
    "    lower_bound = -space_size[chunk_axis] / 2\n",
    "    chunk_size = space_size[chunk_axis] / n_chunks\n",
    "\n",
    "    return [\n",
    "        fenotype[np.all([\n",
    "            fenotype[:, chunk_axis] >= lower_bound + i * chunk_size, \n",
    "            fenotype[:, chunk_axis] < lower_bound + (i + 1) * chunk_size\n",
    "        ], axis=0)] for i in range(n_chunks)\n",
    "    ]"
   ]
  },
  {
   "cell_type": "markdown",
   "metadata": {},
   "source": [
    "#### Crossover"
   ]
  },
  {
   "cell_type": "code",
   "execution_count": 21,
   "metadata": {},
   "outputs": [],
   "source": [
    "def crossover_fenotypes(parent_fenotypes, cluster_size, solution_thickness, axis):\n",
    "    n_parents = len(parent_fenotypes)\n",
    "\n",
    "    chunk_axis = (axis + 1) % 3   # Y for x-solution, Z for y-solution, X for z-solution\n",
    "    solution_size_in_chunk_axis = get_solution_size(cluster_size, solution_thickness, axis)[chunk_axis]\n",
    "    chunk_size = solution_size_in_chunk_axis / n_parents\n",
    "    min_coord_in_chunk_axis = -solution_size_in_chunk_axis / 2\n",
    "    \n",
    "    return np.concat([\n",
    "        fenotype[np.all([\n",
    "            fenotype[:, chunk_axis] >= min_coord_in_chunk_axis + i * chunk_size, \n",
    "            fenotype[:, chunk_axis] < min_coord_in_chunk_axis + (i+1) * chunk_size\n",
    "            ], axis=0)]\n",
    "        for i, fenotype in enumerate(parent_fenotypes)])"
   ]
  },
  {
   "cell_type": "markdown",
   "metadata": {},
   "source": [
    "#### Mutations"
   ]
  },
  {
   "cell_type": "code",
   "execution_count": 22,
   "metadata": {},
   "outputs": [],
   "source": [
    "def mut_add_anion(solution_fenotype, size_x, size_y, size_z, atom_species_by_symbol):\n",
    "    random_anion = np.array([rng.uniform(-size_x/2, size_x/2), rng.uniform(-size_y/2, size_y/2), rng.uniform(-size_z/2, size_z/2), atom_species_by_symbol['O']])\n",
    "    return np.concat([solution_fenotype, random_anion[None, :]])\n",
    "\n",
    "\n",
    "def mut_remove_anion(solution_fenotype, _size_x, _size_y, _size_z, atom_species_by_symbol):\n",
    "    anions_indices = np.argwhere(solution_fenotype[:, 3] == atom_species_by_symbol['O'])\n",
    "    if len(anions_indices) == 0:\n",
    "        return solution_fenotype\n",
    "\n",
    "    index_of_anion_to_remove = rng.choice(anions_indices)[0]\n",
    "    return np.concat([solution_fenotype[:index_of_anion_to_remove], solution_fenotype[index_of_anion_to_remove + 1:]])\n",
    "\n",
    "\n",
    "def mut_add_cation(solution_fenotype, size_x, size_y, size_z, atom_species_by_symbol):\n",
    "    random_cation_species = atom_species_by_symbol['Si']\n",
    "    random_cation = np.array([rng.uniform(-size_x/2, size_x/2), rng.uniform(-size_y/2, size_y/2), rng.uniform(-size_z/2, size_z/2), random_cation_species])\n",
    "    return np.concat([solution_fenotype, random_cation[None, :]])\n",
    "\n",
    "\n",
    "def mut_remove_cation(solution_fenotype, _size_x, _size_y, _size_z, atom_species_by_symbol):\n",
    "    cation_indeices = np.argwhere(solution_fenotype[:, 3] != atom_species_by_symbol['O'])\n",
    "    if len(cation_indeices) == 0:\n",
    "        return solution_fenotype\n",
    "    \n",
    "    index_of_cation_to_remove = rng.choice(cation_indeices)[0]\n",
    "    return np.concat([solution_fenotype[:index_of_cation_to_remove], solution_fenotype[index_of_cation_to_remove + 1:]])\n",
    "\n",
    "def mut_shift_atom(solution_fenotype, size_x, size_y, size_z, atom_species_by_symbol):\n",
    "    if len(solution_fenotype) == 0:\n",
    "        return solution_fenotype\n",
    "    \n",
    "    index_of_atom_to_move = rng.integers(0, len(solution_fenotype))\n",
    "    \n",
    "    while True:\n",
    "        shift_length = rng.gamma(2, 2, 3) / 10.     # mean = 0.2, std = 0.14\n",
    "        direction_vector = rng.normal(size=3)\n",
    "        \n",
    "        scaled_direction_vector = direction_vector / np.linalg.norm(direction_vector) * shift_length\n",
    "        shift_vector = np.concat([scaled_direction_vector, [0]])\n",
    "\n",
    "        moved_atom = solution_fenotype[index_of_atom_to_move] + shift_vector\n",
    "\n",
    "        if moved_atom[0] >= -size_x/2 and moved_atom[0] < size_x/2 and moved_atom[1] >= -size_y/2 and moved_atom[1] < size_y/2 and moved_atom[2] >= -size_z/2 and moved_atom[2] < size_z/2:\n",
    "            return np.concat([solution_fenotype[:index_of_atom_to_move], moved_atom[None, :], solution_fenotype[index_of_atom_to_move + 1:]])"
   ]
  },
  {
   "cell_type": "code",
   "execution_count": 23,
   "metadata": {},
   "outputs": [],
   "source": [
    "def random_mutation(mut_probabilities, solution_fenotype, cluster_size, solution_thickness, atom_species_by_symbol, axis):\n",
    "    possible_mutations = list(mut_probabilities.keys())\n",
    "    probabilities = list(mut_probabilities.values())\n",
    "    \n",
    "    noop_prob = 1.0 - sum(probabilities)\n",
    "\n",
    "    if noop_prob > 0:\n",
    "        noop = lambda solution_fenotype, size_x, size_y, size_z, atom_species_by_symbol: solution_fenotype\n",
    "        possible_mutations = possible_mutations + [noop]\n",
    "        probabilities = probabilities + [noop_prob]\n",
    "\n",
    "    mutation = rng.choice(possible_mutations, p=probabilities)\n",
    "    size_x, size_y, size_z = get_solution_size(cluster_size, solution_thickness, axis)\n",
    "    mutated_solution_fenotype = mutation(solution_fenotype, size_x, size_y, size_z, atom_species_by_symbol)\n",
    "\n",
    "    return mutated_solution_fenotype"
   ]
  },
  {
   "cell_type": "markdown",
   "metadata": {},
   "source": [
    "#### Selection"
   ]
  },
  {
   "cell_type": "code",
   "execution_count": 24,
   "metadata": {},
   "outputs": [],
   "source": [
    "from itertools import combinations, permutations\n",
    "\n",
    "\n",
    "def self_cartesian_product(array, n):\n",
    "    shape = (len(array),) * n\n",
    "    ix = np.indices(shape)\n",
    "    return array[ix.reshape(n, -1).T]\n",
    "\n",
    "\n",
    "def get_possible_matings_indices(population, n_parents_per_child):\n",
    "    return [p for c in combinations(range(len(population)), n_parents_per_child) for p in permutations(c)]\n",
    "\n",
    "\n",
    "def selection_proportional(population, fitness_func, n_parents_per_child, n_children):\n",
    "    fitness_values = np.array([fitness_func(solution) for solution in population])\n",
    "    min_fitness_value = np.min(fitness_values)\n",
    "    fitness_values_shifted = fitness_values - min_fitness_value     # accomodate for negative fitness values\n",
    "    total_fitness = np.sum(fitness_values_shifted)\n",
    "    single_parent_probabilities = fitness_values_shifted / total_fitness\n",
    "\n",
    "    possible_matings_indices = np.array(get_possible_matings_indices(population, n_parents_per_child))\n",
    "    matings_prob_prod = np.prod(single_parent_probabilities[possible_matings_indices], axis=-1)\n",
    "    mating_prob = matings_prob_prod / np.sum(matings_prob_prod)\n",
    "\n",
    "    chosen_matings_indices = rng.choice(possible_matings_indices, size=n_children, p=mating_prob, replace=False)\n",
    "    return [[population[index] for index in mating_indices] for mating_indices in chosen_matings_indices]"
   ]
  },
  {
   "cell_type": "markdown",
   "metadata": {},
   "source": [
    "#### Evolutionary algorithm"
   ]
  },
  {
   "cell_type": "code",
   "execution_count": 25,
   "metadata": {},
   "outputs": [],
   "source": [
    "from matplotlib import pyplot as plt\n",
    "\n",
    "\n",
    "class EvolutionaryAlgorithm:\n",
    "    def __init__(self, initial_population, mutation, crossover, selection, fitness):\n",
    "        self.population = initial_population\n",
    "        self.mutation = mutation    # mutation(solution_fenotype)\n",
    "        self.crossover = crossover  # crossover(parents_fenotypes)\n",
    "        self.selection = selection  # selection(population, fitness_func, n_parents_per_child, n_children)\n",
    "        self.fitness = fitness\n",
    "\n",
    "        self.avg_fitness_values = [np.mean([self.fitness(solution) for solution in self.population])]\n",
    "        self.max_fitness_values = [np.max([self.fitness(solution) for solution in self.population])]\n",
    "        self.best_solutions = [self.population[np.argmax([self.fitness(solution) for solution in self.population])]]\n",
    "\n",
    "\n",
    "    def evolve(self, n_parents_per_child, n_children, n_elites, max_n_generations, tolerate_stagnation_for_n_generations, stagnation_epsilon, target_fitness_value=None):\n",
    "        generation_idx = 0\n",
    "        \n",
    "        while not self._stop_condition(generation_idx, max_n_generations, tolerate_stagnation_for_n_generations, stagnation_epsilon, target_fitness_value):\n",
    "\n",
    "            if generation_idx * 10 % max_n_generations == 0:\n",
    "                print('Generation', generation_idx, 'avg fitness:', self.avg_fitness_values[-1], 'best fitness:', np.max(self.max_fitness_values))\n",
    "\n",
    "            matings = self.selection(self.population, self.fitness, n_parents_per_child, n_children)\n",
    "            children = [self.crossover(parents) for parents in matings]\n",
    "            mutated_children = [self.mutation(child) for child in children]\n",
    "            elites = [e[0] for e in self.selection(self.population, self.fitness, 1, n_elites)]\n",
    "\n",
    "            self.population = elites + mutated_children\n",
    "\n",
    "            self.avg_fitness_values.append(np.mean([self.fitness(solution) for solution in self.population]))\n",
    "            self.max_fitness_values.append(np.max([self.fitness(solution) for solution in self.population]))\n",
    "            self.best_solutions.append(self.population[np.argmax([self.fitness(solution) for solution in self.population])])\n",
    "\n",
    "            generation_idx += 1\n",
    "\n",
    "        print('Evolution ran for ', generation_idx, 'generations, reached best fitness of ', np.max(self.max_fitness_values))\n",
    "        return self.population\n",
    "    \n",
    "\n",
    "    def get_best_solution(self):\n",
    "        return self.best_solutions[np.argmax([self.fitness(solution) for solution in self.best_solutions])]\n",
    "    \n",
    "\n",
    "    def _stop_condition(self, generation_idx, max_n_generations, tolerate_stagnation_for_n_generations, stagnation_epsilon, target_fitness_value):\n",
    "        if generation_idx >= max_n_generations:\n",
    "            print('Reached maximum number of generations')\n",
    "            return True\n",
    "\n",
    "        if target_fitness_value is not None and np.max(self.max_fitness_values) > target_fitness_value:\n",
    "            print('Reached target fitness value')\n",
    "            return True\n",
    "\n",
    "        if generation_idx >= tolerate_stagnation_for_n_generations:\n",
    "            if np.all(self.avg_fitness_values[-tolerate_stagnation_for_n_generations:] - self.avg_fitness_values[-tolerate_stagnation_for_n_generations] < stagnation_epsilon):\n",
    "                print('Reached stagnation')\n",
    "                return True\n",
    "\n",
    "        return False\n",
    "    \n",
    "\n",
    "    def plot_fitness(self):\n",
    "        fig, ax = plt.subplots()\n",
    "        ax.plot(self.avg_fitness_values, label='Average fitness')\n",
    "        ax.plot(self.max_fitness_values, label='Max fitness')\n",
    "        ax.legend()\n",
    "        plt.show()\n"
   ]
  },
  {
   "cell_type": "markdown",
   "metadata": {},
   "source": [
    "## Experiments"
   ]
  },
  {
   "cell_type": "markdown",
   "metadata": {},
   "source": [
    "#### Setup"
   ]
  },
  {
   "cell_type": "code",
   "execution_count": 26,
   "metadata": {},
   "outputs": [],
   "source": [
    "max_num_generations = 150\n",
    "tolerate_stagnation_for_n_generations = 10\n",
    "stagnation_epsilon = 0.2\n",
    "target_fitness_value = 0.0\n",
    "\n",
    "n_genes = 10\n",
    "\n",
    "population_size = 70\n",
    "n_parents_per_child = 2\n",
    "n_children = 50\n",
    "n_elites = population_size - n_children\n",
    "\n",
    "mutation_probabilities = {\n",
    "    mut_add_anion: 0.2,\n",
    "    mut_remove_anion: 0.2,\n",
    "    mut_add_cation: 0.1,\n",
    "    mut_remove_cation: 0.1,\n",
    "    mut_shift_atom: 0.4\n",
    "}\n",
    "\n",
    "alpha = 10.0 \n",
    "beta = 3.0\n",
    "gamma = 1.0"
   ]
  },
  {
   "cell_type": "code",
   "execution_count": 27,
   "metadata": {},
   "outputs": [],
   "source": [
    "cluster_size = 12.0\n",
    "wall_thickness = 3.0\n",
    "solution_thickness = 3.0"
   ]
  },
  {
   "cell_type": "code",
   "execution_count": 28,
   "metadata": {},
   "outputs": [],
   "source": [
    "atom_species_by_index, atom_species_by_symbol, cell, cell_size = read_atoms('data/big cells/448.in')\n",
    "\n",
    "supercell = get_supercell(cell, cell_size)\n",
    "er_clusters = get_Er_clusters(supercell, cluster_size, atom_species_by_symbol)\n",
    "er_cluster = er_clusters[0]"
   ]
  },
  {
   "cell_type": "markdown",
   "metadata": {},
   "source": [
    "#### X-axis"
   ]
  },
  {
   "cell_type": "code",
   "execution_count": 29,
   "metadata": {},
   "outputs": [],
   "source": [
    "wall_left, wall_right = get_positioned_walls_x(er_cluster, cluster_size, wall_thickness, solution_thickness)"
   ]
  },
  {
   "cell_type": "code",
   "execution_count": 30,
   "metadata": {},
   "outputs": [],
   "source": [
    "initial_population = get_n_random_solutions_without_Er(supercell, \n",
    "                                                        cell_size, \n",
    "                                                        atom_species_by_symbol, \n",
    "                                                        cluster_size, \n",
    "                                                        solution_thickness, \n",
    "                                                        axis=0, \n",
    "                                                        n=population_size)"
   ]
  },
  {
   "cell_type": "code",
   "execution_count": 31,
   "metadata": {},
   "outputs": [],
   "source": [
    "mutation_type = lambda offspring: random_mutation(mutation_probabilities, offspring, cluster_size, solution_thickness, atom_species_by_symbol, axis=0)"
   ]
  },
  {
   "cell_type": "code",
   "execution_count": 32,
   "metadata": {},
   "outputs": [],
   "source": [
    "crossover = lambda parents: crossover_fenotypes(parents, cluster_size, solution_thickness, axis=0)"
   ]
  },
  {
   "cell_type": "code",
   "execution_count": 33,
   "metadata": {},
   "outputs": [],
   "source": [
    "fitness_function = lambda solution: fitness_x(wall_left, wall_right, solution, atom_species_by_symbol, cluster_size, wall_thickness, solution_thickness, alpha, beta, gamma)"
   ]
  },
  {
   "cell_type": "code",
   "execution_count": 34,
   "metadata": {},
   "outputs": [],
   "source": [
    "ea_x = EvolutionaryAlgorithm(initial_population, mutation_type, crossover, selection_proportional, fitness_function)"
   ]
  },
  {
   "cell_type": "code",
   "execution_count": 35,
   "metadata": {},
   "outputs": [
    {
     "name": "stdout",
     "output_type": "stream",
     "text": [
      "Generation 0 avg fitness: -1683.4687670962978 best fitness: -1237.4613006111288\n",
      "Generation 15 avg fitness: -1215.8081395443041 best fitness: -1060.3000459743594\n",
      "Generation 30 avg fitness: -1150.688316084731 best fitness: -1003.6766354514311\n",
      "Generation 45 avg fitness: -1059.115542633647 best fitness: -966.6766354514311\n",
      "Generation 60 avg fitness: -1024.2291096392544 best fitness: -901.0038088725792\n",
      "Reached stagnation\n",
      "Evolution ran for  65 generations, reached best fitness of  -891.2421155659964\n"
     ]
    }
   ],
   "source": [
    "new_population = ea_x.evolve(n_parents_per_child, n_children, n_elites, max_num_generations, tolerate_stagnation_for_n_generations, stagnation_epsilon, target_fitness_value)"
   ]
  },
  {
   "cell_type": "code",
   "execution_count": 36,
   "metadata": {},
   "outputs": [
    {
     "data": {
      "image/png": "[encoded data removed]",
      "text/plain": [
       "<Figure size 640x480 with 1 Axes>"
      ]
     },
     "metadata": {},
     "output_type": "display_data"
    },
    {
     "data": {
      "application/vnd.plotly.v1+json": {
       "config": {
        "plotlyServerURL": "https://plot.ly"
       },
       "data": [
        {
         "hoverinfo": "text",
         "marker": {
          "color": [
           4,
           6,
           6,
           6,
           4,
           6,
           6,
           6,
           6,
           6,
           4,
           4,
           4,
           4,
           4,
           6,
           6,
           6,
           6,
           6,
           6,
           6,
           6,
           4
          ],
          "colorscale": [
           [
            0,
            "#440154"
           ],
           [
            0.1111111111111111,
            "#482878"
           ],
           [
            0.2222222222222222,
            "#3e4989"
           ],
           [
            0.3333333333333333,
            "#31688e"
           ],
           [
            0.4444444444444444,
            "#26828e"
           ],
           [
            0.5555555555555556,
            "#1f9e89"
           ],
           [
            0.6666666666666666,
            "#35b779"
           ],
           [
            0.7777777777777778,
            "#6ece58"
           ],
           [
            0.8888888888888888,
            "#b5de2b"
           ],
           [
            1,
            "#fde725"
           ]
          ],
          "opacity": 0.8,
          "size": 5,
          "symbol": "circle"
         },
         "mode": "markers",
         "text": [
          "Si",
          "O",
          "O",
          "O",
          "Si",
          "O",
          "O",
          "O",
          "O",
          "O",
          "Si",
          "Si",
          "Si",
          "Si",
          "Si",
          "O",
          "O",
          "O",
          "O",
          "O",
          "O",
          "O",
          "O",
          "Si"
         ],
         "type": "scatter3d",
         "x": [
          1.1385014564546392,
          0.5266694076352781,
          0.4603854248872927,
          -0.4331476344429247,
          -1.0901625435453601,
          0.270393073637331,
          -0.8633175435453602,
          1.1959345471517124,
          -0.4411560378952275,
          -0.3718827797781765,
          0.05602772965140246,
          -1.2050534394603216,
          -1.1705176701498365,
          -0.02929208321767618,
          -1.29655427190867,
          1.310876916782325,
          -0.8546220832176754,
          1.3011239167823252,
          -1.1379768260790062,
          -0.7973630832176752,
          -1.3363920832176763,
          -0.7370310822274014,
          -0.5218280832176756,
          -0.45642843842963426
         ],
         "y": [
          -4.229791856881006,
          -5.086655989686497,
          -0.813064881813775,
          -4.303671544967447,
          -4.334661856881006,
          -5.657457006062407,
          -3.365620856881005,
          -4.775455439494404,
          -0.1899733881991148,
          -5.661572927388615,
          0.8443725311554793,
          1.583389750070823,
          3.9054075375571173,
          2.66712558249566,
          4.019320777513069,
          1.67985258249566,
          2.1931305824956597,
          3.06574258249566,
          3.615574099313874,
          2.55911658249566,
          4.8866335824956595,
          0.9440990839044682,
          4.89570258249566,
          4.2554595993917745
         ],
         "z": [
          -0.25819330923359196,
          -1.6065051284683665,
          -1.34834574175011,
          0.036379338787077886,
          4.057699690766407,
          3.6015511316454005,
          2.607140690766408,
          0.45088697476777284,
          -5.793987285371497,
          2.8261840238128446,
          -0.4338771908771776,
          -5.437902434370133,
          0.8379353862043587,
          2.905224109083342,
          -4.08887042616266,
          -1.7382188909166585,
          -4.2103178909166585,
          1.9603011090833409,
          2.526500097521482,
          -0.38568289091665875,
          -4.9819918909166585,
          3.5149958345659664,
          -2.4726138909166586,
          -1.0942019279747206
         ]
        }
       ],
       "layout": {
        "margin": {
         "b": 10,
         "l": 10,
         "r": 20,
         "t": 10
        },
        "scene": {
         "xaxis": {
          "title": {
           "text": "X"
          }
         },
         "yaxis": {
          "title": {
           "text": "Y"
          }
         },
         "zaxis": {
          "title": {
           "text": "Z"
          }
         }
        },
        "showlegend": false,
        "template": {
         "data": {
          "bar": [
           {
            "error_x": {
             "color": "#2a3f5f"
            },
            "error_y": {
             "color": "#2a3f5f"
            },
            "marker": {
             "line": {
              "color": "#E5ECF6",
              "width": 0.5
             },
             "pattern": {
              "fillmode": "overlay",
              "size": 10,
              "solidity": 0.2
             }
            },
            "type": "bar"
           }
          ],
          "barpolar": [
           {
            "marker": {
             "line": {
              "color": "#E5ECF6",
              "width": 0.5
             },
             "pattern": {
              "fillmode": "overlay",
              "size": 10,
              "solidity": 0.2
             }
            },
            "type": "barpolar"
           }
          ],
          "carpet": [
           {
            "aaxis": {
             "endlinecolor": "#2a3f5f",
             "gridcolor": "white",
             "linecolor": "white",
             "minorgridcolor": "white",
             "startlinecolor": "#2a3f5f"
            },
            "baxis": {
             "endlinecolor": "#2a3f5f",
             "gridcolor": "white",
             "linecolor": "white",
             "minorgridcolor": "white",
             "startlinecolor": "#2a3f5f"
            },
            "type": "carpet"
           }
          ],
          "choropleth": [
           {
            "colorbar": {
             "outlinewidth": 0,
             "ticks": ""
            },
            "type": "choropleth"
           }
          ],
          "contour": [
           {
            "colorbar": {
             "outlinewidth": 0,
             "ticks": ""
            },
            "colorscale": [
             [
              0,
              "#0d0887"
             ],
             [
              0.1111111111111111,
              "#46039f"
             ],
             [
              0.2222222222222222,
              "#7201a8"
             ],
             [
              0.3333333333333333,
              "#9c179e"
             ],
             [
              0.4444444444444444,
              "#bd3786"
             ],
             [
              0.5555555555555556,
              "#d8576b"
             ],
             [
              0.6666666666666666,
              "#ed7953"
             ],
             [
              0.7777777777777778,
              "#fb9f3a"
             ],
             [
              0.8888888888888888,
              "#fdca26"
             ],
             [
              1,
              "#f0f921"
             ]
            ],
            "type": "contour"
           }
          ],
          "contourcarpet": [
           {
            "colorbar": {
             "outlinewidth": 0,
             "ticks": ""
            },
            "type": "contourcarpet"
           }
          ],
          "heatmap": [
           {
            "colorbar": {
             "outlinewidth": 0,
             "ticks": ""
            },
            "colorscale": [
             [
              0,
              "#0d0887"
             ],
             [
              0.1111111111111111,
              "#46039f"
             ],
             [
              0.2222222222222222,
              "#7201a8"
             ],
             [
              0.3333333333333333,
              "#9c179e"
             ],
             [
              0.4444444444444444,
              "#bd3786"
             ],
             [
              0.5555555555555556,
              "#d8576b"
             ],
             [
              0.6666666666666666,
              "#ed7953"
             ],
             [
              0.7777777777777778,
              "#fb9f3a"
             ],
             [
              0.8888888888888888,
              "#fdca26"
             ],
             [
              1,
              "#f0f921"
             ]
            ],
            "type": "heatmap"
           }
          ],
          "heatmapgl": [
           {
            "colorbar": {
             "outlinewidth": 0,
             "ticks": ""
            },
            "colorscale": [
             [
              0,
              "#0d0887"
             ],
             [
              0.1111111111111111,
              "#46039f"
             ],
             [
              0.2222222222222222,
              "#7201a8"
             ],
             [
              0.3333333333333333,
              "#9c179e"
             ],
             [
              0.4444444444444444,
              "#bd3786"
             ],
             [
              0.5555555555555556,
              "#d8576b"
             ],
             [
              0.6666666666666666,
              "#ed7953"
             ],
             [
              0.7777777777777778,
              "#fb9f3a"
             ],
             [
              0.8888888888888888,
              "#fdca26"
             ],
             [
              1,
              "#f0f921"
             ]
            ],
            "type": "heatmapgl"
           }
          ],
          "histogram": [
           {
            "marker": {
             "pattern": {
              "fillmode": "overlay",
              "size": 10,
              "solidity": 0.2
             }
            },
            "type": "histogram"
           }
          ],
          "histogram2d": [
           {
            "colorbar": {
             "outlinewidth": 0,
             "ticks": ""
            },
            "colorscale": [
             [
              0,
              "#0d0887"
             ],
             [
              0.1111111111111111,
              "#46039f"
             ],
             [
              0.2222222222222222,
              "#7201a8"
             ],
             [
              0.3333333333333333,
              "#9c179e"
             ],
             [
              0.4444444444444444,
              "#bd3786"
             ],
             [
              0.5555555555555556,
              "#d8576b"
             ],
             [
              0.6666666666666666,
              "#ed7953"
             ],
             [
              0.7777777777777778,
              "#fb9f3a"
             ],
             [
              0.8888888888888888,
              "#fdca26"
             ],
             [
              1,
              "#f0f921"
             ]
            ],
            "type": "histogram2d"
           }
          ],
          "histogram2dcontour": [
           {
            "colorbar": {
             "outlinewidth": 0,
             "ticks": ""
            },
            "colorscale": [
             [
              0,
              "#0d0887"
             ],
             [
              0.1111111111111111,
              "#46039f"
             ],
             [
              0.2222222222222222,
              "#7201a8"
             ],
             [
              0.3333333333333333,
              "#9c179e"
             ],
             [
              0.4444444444444444,
              "#bd3786"
             ],
             [
              0.5555555555555556,
              "#d8576b"
             ],
             [
              0.6666666666666666,
              "#ed7953"
             ],
             [
              0.7777777777777778,
              "#fb9f3a"
             ],
             [
              0.8888888888888888,
              "#fdca26"
             ],
             [
              1,
              "#f0f921"
             ]
            ],
            "type": "histogram2dcontour"
           }
          ],
          "mesh3d": [
           {
            "colorbar": {
             "outlinewidth": 0,
             "ticks": ""
            },
            "type": "mesh3d"
           }
          ],
          "parcoords": [
           {
            "line": {
             "colorbar": {
              "outlinewidth": 0,
              "ticks": ""
             }
            },
            "type": "parcoords"
           }
          ],
          "pie": [
           {
            "automargin": true,
            "type": "pie"
           }
          ],
          "scatter": [
           {
            "fillpattern": {
             "fillmode": "overlay",
             "size": 10,
             "solidity": 0.2
            },
            "type": "scatter"
           }
          ],
          "scatter3d": [
           {
            "line": {
             "colorbar": {
              "outlinewidth": 0,
              "ticks": ""
             }
            },
            "marker": {
             "colorbar": {
              "outlinewidth": 0,
              "ticks": ""
             }
            },
            "type": "scatter3d"
           }
          ],
          "scattercarpet": [
           {
            "marker": {
             "colorbar": {
              "outlinewidth": 0,
              "ticks": ""
             }
            },
            "type": "scattercarpet"
           }
          ],
          "scattergeo": [
           {
            "marker": {
             "colorbar": {
              "outlinewidth": 0,
              "ticks": ""
             }
            },
            "type": "scattergeo"
           }
          ],
          "scattergl": [
           {
            "marker": {
             "colorbar": {
              "outlinewidth": 0,
              "ticks": ""
             }
            },
            "type": "scattergl"
           }
          ],
          "scattermapbox": [
           {
            "marker": {
             "colorbar": {
              "outlinewidth": 0,
              "ticks": ""
             }
            },
            "type": "scattermapbox"
           }
          ],
          "scatterpolar": [
           {
            "marker": {
             "colorbar": {
              "outlinewidth": 0,
              "ticks": ""
             }
            },
            "type": "scatterpolar"
           }
          ],
          "scatterpolargl": [
           {
            "marker": {
             "colorbar": {
              "outlinewidth": 0,
              "ticks": ""
             }
            },
            "type": "scatterpolargl"
           }
          ],
          "scatterternary": [
           {
            "marker": {
             "colorbar": {
              "outlinewidth": 0,
              "ticks": ""
             }
            },
            "type": "scatterternary"
           }
          ],
          "surface": [
           {
            "colorbar": {
             "outlinewidth": 0,
             "ticks": ""
            },
            "colorscale": [
             [
              0,
              "#0d0887"
             ],
             [
              0.1111111111111111,
              "#46039f"
             ],
             [
              0.2222222222222222,
              "#7201a8"
             ],
             [
              0.3333333333333333,
              "#9c179e"
             ],
             [
              0.4444444444444444,
              "#bd3786"
             ],
             [
              0.5555555555555556,
              "#d8576b"
             ],
             [
              0.6666666666666666,
              "#ed7953"
             ],
             [
              0.7777777777777778,
              "#fb9f3a"
             ],
             [
              0.8888888888888888,
              "#fdca26"
             ],
             [
              1,
              "#f0f921"
             ]
            ],
            "type": "surface"
           }
          ],
          "table": [
           {
            "cells": {
             "fill": {
              "color": "#EBF0F8"
             },
             "line": {
              "color": "white"
             }
            },
            "header": {
             "fill": {
              "color": "#C8D4E3"
             },
             "line": {
              "color": "white"
             }
            },
            "type": "table"
           }
          ]
         },
         "layout": {
          "annotationdefaults": {
           "arrowcolor": "#2a3f5f",
           "arrowhead": 0,
           "arrowwidth": 1
          },
          "autotypenumbers": "strict",
          "coloraxis": {
           "colorbar": {
            "outlinewidth": 0,
            "ticks": ""
           }
          },
          "colorscale": {
           "diverging": [
            [
             0,
             "#8e0152"
            ],
            [
             0.1,
             "#c51b7d"
            ],
            [
             0.2,
             "#de77ae"
            ],
            [
             0.3,
             "#f1b6da"
            ],
            [
             0.4,
             "#fde0ef"
            ],
            [
             0.5,
             "#f7f7f7"
            ],
            [
             0.6,
             "#e6f5d0"
            ],
            [
             0.7,
             "#b8e186"
            ],
            [
             0.8,
             "#7fbc41"
            ],
            [
             0.9,
             "#4d9221"
            ],
            [
             1,
             "#276419"
            ]
           ],
           "sequential": [
            [
             0,
             "#0d0887"
            ],
            [
             0.1111111111111111,
             "#46039f"
            ],
            [
             0.2222222222222222,
             "#7201a8"
            ],
            [
             0.3333333333333333,
             "#9c179e"
            ],
            [
             0.4444444444444444,
             "#bd3786"
            ],
            [
             0.5555555555555556,
             "#d8576b"
            ],
            [
             0.6666666666666666,
             "#ed7953"
            ],
            [
             0.7777777777777778,
             "#fb9f3a"
            ],
            [
             0.8888888888888888,
             "#fdca26"
            ],
            [
             1,
             "#f0f921"
            ]
           ],
           "sequentialminus": [
            [
             0,
             "#0d0887"
            ],
            [
             0.1111111111111111,
             "#46039f"
            ],
            [
             0.2222222222222222,
             "#7201a8"
            ],
            [
             0.3333333333333333,
             "#9c179e"
            ],
            [
             0.4444444444444444,
             "#bd3786"
            ],
            [
             0.5555555555555556,
             "#d8576b"
            ],
            [
             0.6666666666666666,
             "#ed7953"
            ],
            [
             0.7777777777777778,
             "#fb9f3a"
            ],
            [
             0.8888888888888888,
             "#fdca26"
            ],
            [
             1,
             "#f0f921"
            ]
           ]
          },
          "colorway": [
           "#636efa",
           "#EF553B",
           "#00cc96",
           "#ab63fa",
           "#FFA15A",
           "#19d3f3",
           "#FF6692",
           "#B6E880",
           "#FF97FF",
           "#FECB52"
          ],
          "font": {
           "color": "#2a3f5f"
          },
          "geo": {
           "bgcolor": "white",
           "lakecolor": "white",
           "landcolor": "#E5ECF6",
           "showlakes": true,
           "showland": true,
           "subunitcolor": "white"
          },
          "hoverlabel": {
           "align": "left"
          },
          "hovermode": "closest",
          "mapbox": {
           "style": "light"
          },
          "paper_bgcolor": "white",
          "plot_bgcolor": "#E5ECF6",
          "polar": {
           "angularaxis": {
            "gridcolor": "white",
            "linecolor": "white",
            "ticks": ""
           },
           "bgcolor": "#E5ECF6",
           "radialaxis": {
            "gridcolor": "white",
            "linecolor": "white",
            "ticks": ""
           }
          },
          "scene": {
           "xaxis": {
            "backgroundcolor": "#E5ECF6",
            "gridcolor": "white",
            "gridwidth": 2,
            "linecolor": "white",
            "showbackground": true,
            "ticks": "",
            "zerolinecolor": "white"
           },
           "yaxis": {
            "backgroundcolor": "#E5ECF6",
            "gridcolor": "white",
            "gridwidth": 2,
            "linecolor": "white",
            "showbackground": true,
            "ticks": "",
            "zerolinecolor": "white"
           },
           "zaxis": {
            "backgroundcolor": "#E5ECF6",
            "gridcolor": "white",
            "gridwidth": 2,
            "linecolor": "white",
            "showbackground": true,
            "ticks": "",
            "zerolinecolor": "white"
           }
          },
          "shapedefaults": {
           "line": {
            "color": "#2a3f5f"
           }
          },
          "ternary": {
           "aaxis": {
            "gridcolor": "white",
            "linecolor": "white",
            "ticks": ""
           },
           "baxis": {
            "gridcolor": "white",
            "linecolor": "white",
            "ticks": ""
           },
           "bgcolor": "#E5ECF6",
           "caxis": {
            "gridcolor": "white",
            "linecolor": "white",
            "ticks": ""
           }
          },
          "title": {
           "x": 0.05
          },
          "xaxis": {
           "automargin": true,
           "gridcolor": "white",
           "linecolor": "white",
           "ticks": "",
           "title": {
            "standoff": 15
           },
           "zerolinecolor": "white",
           "zerolinewidth": 2
          },
          "yaxis": {
           "automargin": true,
           "gridcolor": "white",
           "linecolor": "white",
           "ticks": "",
           "title": {
            "standoff": 15
           },
           "zerolinecolor": "white",
           "zerolinewidth": 2
          }
         }
        },
        "width": 700
       }
      }
     },
     "metadata": {},
     "output_type": "display_data"
    },
    {
     "data": {
      "application/vnd.plotly.v1+json": {
       "config": {
        "plotlyServerURL": "https://plot.ly"
       },
       "data": [
        {
         "hoverinfo": "text",
         "marker": {
          "color": [
           4,
           6,
           6,
           6,
           4,
           6,
           6,
           6,
           6,
           6,
           4,
           4,
           4,
           4,
           4,
           6,
           6,
           6,
           6,
           6,
           6,
           6,
           6,
           4
          ],
          "colorscale": [
           [
            0,
            "#440154"
           ],
           [
            0.1111111111111111,
            "#482878"
           ],
           [
            0.2222222222222222,
            "#3e4989"
           ],
           [
            0.3333333333333333,
            "#31688e"
           ],
           [
            0.4444444444444444,
            "#26828e"
           ],
           [
            0.5555555555555556,
            "#1f9e89"
           ],
           [
            0.6666666666666666,
            "#35b779"
           ],
           [
            0.7777777777777778,
            "#6ece58"
           ],
           [
            0.8888888888888888,
            "#b5de2b"
           ],
           [
            1,
            "#fde725"
           ]
          ],
          "opacity": 0.8,
          "size": 5,
          "symbol": "circle"
         },
         "mode": "markers",
         "text": [
          "Si",
          "O",
          "O",
          "O",
          "Si",
          "O",
          "O",
          "O",
          "O",
          "O",
          "Si",
          "Si",
          "Si",
          "Si",
          "Si",
          "O",
          "O",
          "O",
          "O",
          "O",
          "O",
          "O",
          "O",
          "Si"
         ],
         "type": "scatter3d",
         "x": [
          1.1385014564546392,
          0.5266694076352781,
          0.4603854248872927,
          -0.4331476344429247,
          -1.0901625435453601,
          0.270393073637331,
          -0.8633175435453602,
          1.1959345471517124,
          -0.4411560378952275,
          -0.3718827797781765,
          0.05602772965140246,
          -1.2050534394603216,
          -1.1705176701498365,
          -0.02929208321767618,
          -1.29655427190867,
          1.310876916782325,
          -0.8546220832176754,
          1.3011239167823252,
          -1.1379768260790062,
          -0.7973630832176752,
          -1.3363920832176763,
          -0.7370310822274014,
          -0.5218280832176756,
          -0.45642843842963426
         ],
         "y": [
          -4.229791856881006,
          -5.086655989686497,
          -0.813064881813775,
          -4.303671544967447,
          -4.334661856881006,
          -5.657457006062407,
          -3.365620856881005,
          -4.775455439494404,
          -0.1899733881991148,
          -5.661572927388615,
          0.8443725311554793,
          1.583389750070823,
          3.9054075375571173,
          2.66712558249566,
          4.019320777513069,
          1.67985258249566,
          2.1931305824956597,
          3.06574258249566,
          3.615574099313874,
          2.55911658249566,
          4.8866335824956595,
          0.9440990839044682,
          4.89570258249566,
          4.2554595993917745
         ],
         "z": [
          -0.25819330923359196,
          -1.6065051284683665,
          -1.34834574175011,
          0.036379338787077886,
          4.057699690766407,
          3.6015511316454005,
          2.607140690766408,
          0.45088697476777284,
          -5.793987285371497,
          2.8261840238128446,
          -0.4338771908771776,
          -5.437902434370133,
          0.8379353862043587,
          2.905224109083342,
          -4.08887042616266,
          -1.7382188909166585,
          -4.2103178909166585,
          1.9603011090833409,
          2.526500097521482,
          -0.38568289091665875,
          -4.9819918909166585,
          3.5149958345659664,
          -2.4726138909166586,
          -1.0942019279747206
         ]
        },
        {
         "hoverinfo": "text",
         "marker": {
          "color": [
           1,
           2,
           6,
           6,
           6,
           5,
           3,
           5,
           6,
           6,
           6
          ],
          "colorscale": [
           [
            0,
            "#440154"
           ],
           [
            0.1111111111111111,
            "#482878"
           ],
           [
            0.2222222222222222,
            "#3e4989"
           ],
           [
            0.3333333333333333,
            "#31688e"
           ],
           [
            0.4444444444444444,
            "#26828e"
           ],
           [
            0.5555555555555556,
            "#1f9e89"
           ],
           [
            0.6666666666666666,
            "#35b779"
           ],
           [
            0.7777777777777778,
            "#6ece58"
           ],
           [
            0.8888888888888888,
            "#b5de2b"
           ],
           [
            1,
            "#fde725"
           ]
          ],
          "opacity": 0.8,
          "size": 5,
          "symbol": "diamond"
         },
         "mode": "markers",
         "text": [
          "Sb",
          "Al",
          "O",
          "O",
          "O",
          "Na",
          "Ge",
          "Na",
          "O",
          "O",
          "O"
         ],
         "type": "scatter3d",
         "x": [
          3.505683000000001,
          4.337536,
          4.198772999999999,
          4.112224999999999,
          4.46865,
          3.400791999999999,
          3.2963629999999995,
          4.288603999999999,
          4.025485,
          3.9726670000000013,
          3.679558
         ],
         "y": [
          -1.677274999999998,
          -1.9924879999999998,
          0.11856900000000081,
          -0.22287000000000035,
          -3.174268999999999,
          -4.923577,
          4.620056000000001,
          1.4117780000000009,
          3.4501470000000007,
          4.633879,
          2.060506000000001
         ],
         "z": [
          -5.43286,
          2.272283,
          -2.9687300000000008,
          3.3099690000000006,
          0.8509709999999995,
          4.106719999999999,
          1.5188079999999982,
          -5.295141000000001,
          3.8831879999999988,
          -3.611614000000001,
          -1.050217
         ]
        },
        {
         "hoverinfo": "text",
         "marker": {
          "color": [
           1,
           1,
           1,
           4,
           6,
           6,
           6,
           6,
           6,
           6,
           4,
           6,
           6,
           6,
           1,
           1,
           3,
           6,
           6,
           6,
           6,
           6,
           4,
           6
          ],
          "colorscale": [
           [
            0,
            "#440154"
           ],
           [
            0.1111111111111111,
            "#482878"
           ],
           [
            0.2222222222222222,
            "#3e4989"
           ],
           [
            0.3333333333333333,
            "#31688e"
           ],
           [
            0.4444444444444444,
            "#26828e"
           ],
           [
            0.5555555555555556,
            "#1f9e89"
           ],
           [
            0.6666666666666666,
            "#35b779"
           ],
           [
            0.7777777777777778,
            "#6ece58"
           ],
           [
            0.8888888888888888,
            "#b5de2b"
           ],
           [
            1,
            "#fde725"
           ]
          ],
          "opacity": 0.8,
          "size": 5,
          "symbol": "diamond"
         },
         "mode": "markers",
         "text": [
          "Sb",
          "Sb",
          "Sb",
          "Si",
          "O",
          "O",
          "O",
          "O",
          "O",
          "O",
          "Si",
          "O",
          "O",
          "O",
          "Sb",
          "Sb",
          "Ge",
          "O",
          "O",
          "O",
          "O",
          "O",
          "Si",
          "O"
         ],
         "type": "scatter3d",
         "x": [
          -3.395403999999999,
          -3.9045710000000007,
          -2.1031150000000007,
          -3.3346160000000005,
          -3.1948380000000007,
          -3.1256400000000006,
          -2.258349000000001,
          -2.7628140000000005,
          -4.108806999999999,
          -2.3234209999999997,
          -1.677486,
          -3.0988109999999995,
          -2.066502,
          -3.2260089999999995,
          -2.2986380000000004,
          -2.8018959999999993,
          -3.542605,
          -3.7055670000000003,
          -1.8499400000000001,
          -3.5322949999999995,
          -2.0446790000000004,
          -2.365627,
          -4.376805000000001,
          -3.84666
         ],
         "y": [
          -4.470077999999999,
          0.17148200000000102,
          -1.5952190000000002,
          -4.618774999999999,
          -2.527085999999999,
          -5.290586999999999,
          -4.765920999999999,
          -0.8007080000000002,
          -1.4535209999999985,
          -3.369076999999999,
          0.6030180000000023,
          1.1894430000000007,
          -0.45721400000000045,
          -5.765405999999999,
          2.3820580000000007,
          5.288629,
          4.373694,
          2.030163000000001,
          3.940156000000001,
          3.8789640000000007,
          4.855818000000001,
          1.768718000000001,
          1.9777850000000008,
          3.421695000000001
         ],
         "z": [
          -5.2492920000000005,
          -0.075094,
          2.627377000000001,
          3.535831,
          -4.913344,
          2.0674100000000006,
          -3.592866000000001,
          -1.4281260000000007,
          2.4953160000000008,
          3.8384349999999987,
          5.314871,
          5.7820089999999995,
          4.155599,
          4.712675,
          -3.4082419999999995,
          -4.8826529999999995,
          3.179373,
          -0.95214,
          2.6708279999999984,
          -3.662769000000001,
          -0.10802600000000062,
          -5.370734000000001,
          5.124404999999999,
          4.655602
         ]
        }
       ],
       "layout": {
        "margin": {
         "b": 10,
         "l": 10,
         "r": 20,
         "t": 10
        },
        "scene": {
         "xaxis": {
          "title": {
           "text": "X"
          }
         },
         "yaxis": {
          "title": {
           "text": "Y"
          }
         },
         "zaxis": {
          "title": {
           "text": "Z"
          }
         }
        },
        "showlegend": false,
        "template": {
         "data": {
          "bar": [
           {
            "error_x": {
             "color": "#2a3f5f"
            },
            "error_y": {
             "color": "#2a3f5f"
            },
            "marker": {
             "line": {
              "color": "#E5ECF6",
              "width": 0.5
             },
             "pattern": {
              "fillmode": "overlay",
              "size": 10,
              "solidity": 0.2
             }
            },
            "type": "bar"
           }
          ],
          "barpolar": [
           {
            "marker": {
             "line": {
              "color": "#E5ECF6",
              "width": 0.5
             },
             "pattern": {
              "fillmode": "overlay",
              "size": 10,
              "solidity": 0.2
             }
            },
            "type": "barpolar"
           }
          ],
          "carpet": [
           {
            "aaxis": {
             "endlinecolor": "#2a3f5f",
             "gridcolor": "white",
             "linecolor": "white",
             "minorgridcolor": "white",
             "startlinecolor": "#2a3f5f"
            },
            "baxis": {
             "endlinecolor": "#2a3f5f",
             "gridcolor": "white",
             "linecolor": "white",
             "minorgridcolor": "white",
             "startlinecolor": "#2a3f5f"
            },
            "type": "carpet"
           }
          ],
          "choropleth": [
           {
            "colorbar": {
             "outlinewidth": 0,
             "ticks": ""
            },
            "type": "choropleth"
           }
          ],
          "contour": [
           {
            "colorbar": {
             "outlinewidth": 0,
             "ticks": ""
            },
            "colorscale": [
             [
              0,
              "#0d0887"
             ],
             [
              0.1111111111111111,
              "#46039f"
             ],
             [
              0.2222222222222222,
              "#7201a8"
             ],
             [
              0.3333333333333333,
              "#9c179e"
             ],
             [
              0.4444444444444444,
              "#bd3786"
             ],
             [
              0.5555555555555556,
              "#d8576b"
             ],
             [
              0.6666666666666666,
              "#ed7953"
             ],
             [
              0.7777777777777778,
              "#fb9f3a"
             ],
             [
              0.8888888888888888,
              "#fdca26"
             ],
             [
              1,
              "#f0f921"
             ]
            ],
            "type": "contour"
           }
          ],
          "contourcarpet": [
           {
            "colorbar": {
             "outlinewidth": 0,
             "ticks": ""
            },
            "type": "contourcarpet"
           }
          ],
          "heatmap": [
           {
            "colorbar": {
             "outlinewidth": 0,
             "ticks": ""
            },
            "colorscale": [
             [
              0,
              "#0d0887"
             ],
             [
              0.1111111111111111,
              "#46039f"
             ],
             [
              0.2222222222222222,
              "#7201a8"
             ],
             [
              0.3333333333333333,
              "#9c179e"
             ],
             [
              0.4444444444444444,
              "#bd3786"
             ],
             [
              0.5555555555555556,
              "#d8576b"
             ],
             [
              0.6666666666666666,
              "#ed7953"
             ],
             [
              0.7777777777777778,
              "#fb9f3a"
             ],
             [
              0.8888888888888888,
              "#fdca26"
             ],
             [
              1,
              "#f0f921"
             ]
            ],
            "type": "heatmap"
           }
          ],
          "heatmapgl": [
           {
            "colorbar": {
             "outlinewidth": 0,
             "ticks": ""
            },
            "colorscale": [
             [
              0,
              "#0d0887"
             ],
             [
              0.1111111111111111,
              "#46039f"
             ],
             [
              0.2222222222222222,
              "#7201a8"
             ],
             [
              0.3333333333333333,
              "#9c179e"
             ],
             [
              0.4444444444444444,
              "#bd3786"
             ],
             [
              0.5555555555555556,
              "#d8576b"
             ],
             [
              0.6666666666666666,
              "#ed7953"
             ],
             [
              0.7777777777777778,
              "#fb9f3a"
             ],
             [
              0.8888888888888888,
              "#fdca26"
             ],
             [
              1,
              "#f0f921"
             ]
            ],
            "type": "heatmapgl"
           }
          ],
          "histogram": [
           {
            "marker": {
             "pattern": {
              "fillmode": "overlay",
              "size": 10,
              "solidity": 0.2
             }
            },
            "type": "histogram"
           }
          ],
          "histogram2d": [
           {
            "colorbar": {
             "outlinewidth": 0,
             "ticks": ""
            },
            "colorscale": [
             [
              0,
              "#0d0887"
             ],
             [
              0.1111111111111111,
              "#46039f"
             ],
             [
              0.2222222222222222,
              "#7201a8"
             ],
             [
              0.3333333333333333,
              "#9c179e"
             ],
             [
              0.4444444444444444,
              "#bd3786"
             ],
             [
              0.5555555555555556,
              "#d8576b"
             ],
             [
              0.6666666666666666,
              "#ed7953"
             ],
             [
              0.7777777777777778,
              "#fb9f3a"
             ],
             [
              0.8888888888888888,
              "#fdca26"
             ],
             [
              1,
              "#f0f921"
             ]
            ],
            "type": "histogram2d"
           }
          ],
          "histogram2dcontour": [
           {
            "colorbar": {
             "outlinewidth": 0,
             "ticks": ""
            },
            "colorscale": [
             [
              0,
              "#0d0887"
             ],
             [
              0.1111111111111111,
              "#46039f"
             ],
             [
              0.2222222222222222,
              "#7201a8"
             ],
             [
              0.3333333333333333,
              "#9c179e"
             ],
             [
              0.4444444444444444,
              "#bd3786"
             ],
             [
              0.5555555555555556,
              "#d8576b"
             ],
             [
              0.6666666666666666,
              "#ed7953"
             ],
             [
              0.7777777777777778,
              "#fb9f3a"
             ],
             [
              0.8888888888888888,
              "#fdca26"
             ],
             [
              1,
              "#f0f921"
             ]
            ],
            "type": "histogram2dcontour"
           }
          ],
          "mesh3d": [
           {
            "colorbar": {
             "outlinewidth": 0,
             "ticks": ""
            },
            "type": "mesh3d"
           }
          ],
          "parcoords": [
           {
            "line": {
             "colorbar": {
              "outlinewidth": 0,
              "ticks": ""
             }
            },
            "type": "parcoords"
           }
          ],
          "pie": [
           {
            "automargin": true,
            "type": "pie"
           }
          ],
          "scatter": [
           {
            "fillpattern": {
             "fillmode": "overlay",
             "size": 10,
             "solidity": 0.2
            },
            "type": "scatter"
           }
          ],
          "scatter3d": [
           {
            "line": {
             "colorbar": {
              "outlinewidth": 0,
              "ticks": ""
             }
            },
            "marker": {
             "colorbar": {
              "outlinewidth": 0,
              "ticks": ""
             }
            },
            "type": "scatter3d"
           }
          ],
          "scattercarpet": [
           {
            "marker": {
             "colorbar": {
              "outlinewidth": 0,
              "ticks": ""
             }
            },
            "type": "scattercarpet"
           }
          ],
          "scattergeo": [
           {
            "marker": {
             "colorbar": {
              "outlinewidth": 0,
              "ticks": ""
             }
            },
            "type": "scattergeo"
           }
          ],
          "scattergl": [
           {
            "marker": {
             "colorbar": {
              "outlinewidth": 0,
              "ticks": ""
             }
            },
            "type": "scattergl"
           }
          ],
          "scattermapbox": [
           {
            "marker": {
             "colorbar": {
              "outlinewidth": 0,
              "ticks": ""
             }
            },
            "type": "scattermapbox"
           }
          ],
          "scatterpolar": [
           {
            "marker": {
             "colorbar": {
              "outlinewidth": 0,
              "ticks": ""
             }
            },
            "type": "scatterpolar"
           }
          ],
          "scatterpolargl": [
           {
            "marker": {
             "colorbar": {
              "outlinewidth": 0,
              "ticks": ""
             }
            },
            "type": "scatterpolargl"
           }
          ],
          "scatterternary": [
           {
            "marker": {
             "colorbar": {
              "outlinewidth": 0,
              "ticks": ""
             }
            },
            "type": "scatterternary"
           }
          ],
          "surface": [
           {
            "colorbar": {
             "outlinewidth": 0,
             "ticks": ""
            },
            "colorscale": [
             [
              0,
              "#0d0887"
             ],
             [
              0.1111111111111111,
              "#46039f"
             ],
             [
              0.2222222222222222,
              "#7201a8"
             ],
             [
              0.3333333333333333,
              "#9c179e"
             ],
             [
              0.4444444444444444,
              "#bd3786"
             ],
             [
              0.5555555555555556,
              "#d8576b"
             ],
             [
              0.6666666666666666,
              "#ed7953"
             ],
             [
              0.7777777777777778,
              "#fb9f3a"
             ],
             [
              0.8888888888888888,
              "#fdca26"
             ],
             [
              1,
              "#f0f921"
             ]
            ],
            "type": "surface"
           }
          ],
          "table": [
           {
            "cells": {
             "fill": {
              "color": "#EBF0F8"
             },
             "line": {
              "color": "white"
             }
            },
            "header": {
             "fill": {
              "color": "#C8D4E3"
             },
             "line": {
              "color": "white"
             }
            },
            "type": "table"
           }
          ]
         },
         "layout": {
          "annotationdefaults": {
           "arrowcolor": "#2a3f5f",
           "arrowhead": 0,
           "arrowwidth": 1
          },
          "autotypenumbers": "strict",
          "coloraxis": {
           "colorbar": {
            "outlinewidth": 0,
            "ticks": ""
           }
          },
          "colorscale": {
           "diverging": [
            [
             0,
             "#8e0152"
            ],
            [
             0.1,
             "#c51b7d"
            ],
            [
             0.2,
             "#de77ae"
            ],
            [
             0.3,
             "#f1b6da"
            ],
            [
             0.4,
             "#fde0ef"
            ],
            [
             0.5,
             "#f7f7f7"
            ],
            [
             0.6,
             "#e6f5d0"
            ],
            [
             0.7,
             "#b8e186"
            ],
            [
             0.8,
             "#7fbc41"
            ],
            [
             0.9,
             "#4d9221"
            ],
            [
             1,
             "#276419"
            ]
           ],
           "sequential": [
            [
             0,
             "#0d0887"
            ],
            [
             0.1111111111111111,
             "#46039f"
            ],
            [
             0.2222222222222222,
             "#7201a8"
            ],
            [
             0.3333333333333333,
             "#9c179e"
            ],
            [
             0.4444444444444444,
             "#bd3786"
            ],
            [
             0.5555555555555556,
             "#d8576b"
            ],
            [
             0.6666666666666666,
             "#ed7953"
            ],
            [
             0.7777777777777778,
             "#fb9f3a"
            ],
            [
             0.8888888888888888,
             "#fdca26"
            ],
            [
             1,
             "#f0f921"
            ]
           ],
           "sequentialminus": [
            [
             0,
             "#0d0887"
            ],
            [
             0.1111111111111111,
             "#46039f"
            ],
            [
             0.2222222222222222,
             "#7201a8"
            ],
            [
             0.3333333333333333,
             "#9c179e"
            ],
            [
             0.4444444444444444,
             "#bd3786"
            ],
            [
             0.5555555555555556,
             "#d8576b"
            ],
            [
             0.6666666666666666,
             "#ed7953"
            ],
            [
             0.7777777777777778,
             "#fb9f3a"
            ],
            [
             0.8888888888888888,
             "#fdca26"
            ],
            [
             1,
             "#f0f921"
            ]
           ]
          },
          "colorway": [
           "#636efa",
           "#EF553B",
           "#00cc96",
           "#ab63fa",
           "#FFA15A",
           "#19d3f3",
           "#FF6692",
           "#B6E880",
           "#FF97FF",
           "#FECB52"
          ],
          "font": {
           "color": "#2a3f5f"
          },
          "geo": {
           "bgcolor": "white",
           "lakecolor": "white",
           "landcolor": "#E5ECF6",
           "showlakes": true,
           "showland": true,
           "subunitcolor": "white"
          },
          "hoverlabel": {
           "align": "left"
          },
          "hovermode": "closest",
          "mapbox": {
           "style": "light"
          },
          "paper_bgcolor": "white",
          "plot_bgcolor": "#E5ECF6",
          "polar": {
           "angularaxis": {
            "gridcolor": "white",
            "linecolor": "white",
            "ticks": ""
           },
           "bgcolor": "#E5ECF6",
           "radialaxis": {
            "gridcolor": "white",
            "linecolor": "white",
            "ticks": ""
           }
          },
          "scene": {
           "xaxis": {
            "backgroundcolor": "#E5ECF6",
            "gridcolor": "white",
            "gridwidth": 2,
            "linecolor": "white",
            "showbackground": true,
            "ticks": "",
            "zerolinecolor": "white"
           },
           "yaxis": {
            "backgroundcolor": "#E5ECF6",
            "gridcolor": "white",
            "gridwidth": 2,
            "linecolor": "white",
            "showbackground": true,
            "ticks": "",
            "zerolinecolor": "white"
           },
           "zaxis": {
            "backgroundcolor": "#E5ECF6",
            "gridcolor": "white",
            "gridwidth": 2,
            "linecolor": "white",
            "showbackground": true,
            "ticks": "",
            "zerolinecolor": "white"
           }
          },
          "shapedefaults": {
           "line": {
            "color": "#2a3f5f"
           }
          },
          "ternary": {
           "aaxis": {
            "gridcolor": "white",
            "linecolor": "white",
            "ticks": ""
           },
           "baxis": {
            "gridcolor": "white",
            "linecolor": "white",
            "ticks": ""
           },
           "bgcolor": "#E5ECF6",
           "caxis": {
            "gridcolor": "white",
            "linecolor": "white",
            "ticks": ""
           }
          },
          "title": {
           "x": 0.05
          },
          "xaxis": {
           "automargin": true,
           "gridcolor": "white",
           "linecolor": "white",
           "ticks": "",
           "title": {
            "standoff": 15
           },
           "zerolinecolor": "white",
           "zerolinewidth": 2
          },
          "yaxis": {
           "automargin": true,
           "gridcolor": "white",
           "linecolor": "white",
           "ticks": "",
           "title": {
            "standoff": 15
           },
           "zerolinecolor": "white",
           "zerolinewidth": 2
          }
         }
        },
        "width": 700
       }
      }
     },
     "metadata": {},
     "output_type": "display_data"
    }
   ],
   "source": [
    "ea_x.plot_fitness()\n",
    "\n",
    "best_solution_x = ea_x.get_best_solution()\n",
    "\n",
    "plot_atoms(best_solution_x, atom_species_by_index)\n",
    "plot_solution_with_walls((wall_left, wall_right), best_solution_x, atom_species_by_index)"
   ]
  },
  {
   "cell_type": "markdown",
   "metadata": {},
   "source": [
    "####  Y-axis"
   ]
  },
  {
   "cell_type": "code",
   "execution_count": 37,
   "metadata": {},
   "outputs": [],
   "source": [
    "wall_down, wall_up = get_positioned_walls_y(best_solution_x, er_cluster, cluster_size, wall_thickness, solution_thickness)"
   ]
  },
  {
   "cell_type": "code",
   "execution_count": 38,
   "metadata": {},
   "outputs": [],
   "source": [
    "initial_population = get_n_random_solutions_without_Er(supercell, \n",
    "                                                        cell_size, \n",
    "                                                        atom_species_by_symbol, \n",
    "                                                        cluster_size, \n",
    "                                                        solution_thickness, \n",
    "                                                        axis=1, \n",
    "                                                        n=population_size)"
   ]
  },
  {
   "cell_type": "code",
   "execution_count": 39,
   "metadata": {},
   "outputs": [],
   "source": [
    "mutation_type = lambda offspring: random_mutation(mutation_probabilities, offspring, cluster_size, solution_thickness, atom_species_by_symbol, axis=1)"
   ]
  },
  {
   "cell_type": "code",
   "execution_count": 40,
   "metadata": {},
   "outputs": [],
   "source": [
    "crossover = lambda parents: crossover_fenotypes(parents, cluster_size, solution_thickness, axis=1)"
   ]
  },
  {
   "cell_type": "code",
   "execution_count": 41,
   "metadata": {},
   "outputs": [],
   "source": [
    "fitness_function = lambda solution: fitness_y(wall_down, wall_up, solution, atom_species_by_symbol, cluster_size, wall_thickness, solution_thickness, alpha, beta, gamma)"
   ]
  },
  {
   "cell_type": "code",
   "execution_count": 42,
   "metadata": {},
   "outputs": [],
   "source": [
    "ea_y = EvolutionaryAlgorithm(initial_population, mutation_type, crossover, selection_proportional, fitness_function)"
   ]
  },
  {
   "cell_type": "code",
   "execution_count": 43,
   "metadata": {},
   "outputs": [
    {
     "name": "stdout",
     "output_type": "stream",
     "text": [
      "Generation 0 avg fitness: -2727.093106382892 best fitness: -2043.2439277998897\n",
      "Generation 15 avg fitness: -1919.5057366227888 best fitness: -1641.8660481468364\n",
      "Generation 30 avg fitness: -1705.829692199442 best fitness: -1558.0495374085808\n",
      "Generation 45 avg fitness: -1662.0912786809297 best fitness: -1487.3681558141102\n",
      "Generation 60 avg fitness: -1587.3970605155168 best fitness: -1435.113207880365\n",
      "Generation 75 avg fitness: -1560.8706836266701 best fitness: -1401.5180505499925\n",
      "Reached stagnation\n",
      "Evolution ran for  86 generations, reached best fitness of  -1388.6491614884917\n"
     ]
    }
   ],
   "source": [
    "new_population = ea_y.evolve(n_parents_per_child, n_children, n_elites, max_num_generations, tolerate_stagnation_for_n_generations, stagnation_epsilon, target_fitness_value)"
   ]
  },
  {
   "cell_type": "code",
   "execution_count": 44,
   "metadata": {},
   "outputs": [
    {
     "data": {
      "image/png": "[encoded data removed]",
      "text/plain": [
       "<Figure size 640x480 with 1 Axes>"
      ]
     },
     "metadata": {},
     "output_type": "display_data"
    },
    {
     "data": {
      "application/vnd.plotly.v1+json": {
       "config": {
        "plotlyServerURL": "https://plot.ly"
       },
       "data": [
        {
         "hoverinfo": "text",
         "marker": {
          "color": [
           4,
           4,
           6,
           6,
           6,
           6,
           6,
           4,
           4,
           4,
           6,
           6,
           6,
           6,
           6
          ],
          "colorscale": [
           [
            0,
            "#440154"
           ],
           [
            0.1111111111111111,
            "#482878"
           ],
           [
            0.2222222222222222,
            "#3e4989"
           ],
           [
            0.3333333333333333,
            "#31688e"
           ],
           [
            0.4444444444444444,
            "#26828e"
           ],
           [
            0.5555555555555556,
            "#1f9e89"
           ],
           [
            0.6666666666666666,
            "#35b779"
           ],
           [
            0.7777777777777778,
            "#6ece58"
           ],
           [
            0.8888888888888888,
            "#b5de2b"
           ],
           [
            1,
            "#fde725"
           ]
          ],
          "opacity": 0.8,
          "size": 5,
          "symbol": "circle"
         },
         "mode": "markers",
         "text": [
          "Si",
          "Si",
          "O",
          "O",
          "O",
          "O",
          "O",
          "Si",
          "Si",
          "Si",
          "O",
          "O",
          "O",
          "O",
          "O"
         ],
         "type": "scatter3d",
         "x": [
          3.8229301379006877,
          -0.3167346311413628,
          5.53868853115329,
          3.163903687629249,
          -0.2557038620993133,
          4.019552043380817,
          2.6760529365225367,
          5.134055069375222,
          -3.0621174942387057,
          3.050500537048085,
          -3.1685027491601843,
          -3.3720022934495093,
          4.604893505761293,
          5.61040765136501,
          -3.32821740745813
         ],
         "y": [
          0.7046250757701813,
          1.398461113410013,
          -1.0992983097085736,
          0.16468413664350595,
          0.8596950757701807,
          -0.546256939977428,
          -0.07401176805563292,
          0.38806439248072033,
          0.609594888248564,
          0.938020738571636,
          0.3245921691877569,
          -0.6160509637467428,
          0.7116658882485645,
          -0.4384151751281409,
          -0.8938183486554508
         ],
         "z": [
          -3.8628279256665037,
          -2.528647564647586,
          -0.09537569715020458,
          -2.339854833055461,
          -3.9640229256665034,
          -5.114360025895784,
          0.9174415619131423,
          5.799648679070167,
          1.953511260277146,
          1.6544556570297044,
          3.2052920763488757,
          0.8700349663289967,
          2.076744260277146,
          4.513024460622433,
          2.777916583014308
         ]
        }
       ],
       "layout": {
        "margin": {
         "b": 10,
         "l": 10,
         "r": 20,
         "t": 10
        },
        "scene": {
         "xaxis": {
          "title": {
           "text": "X"
          }
         },
         "yaxis": {
          "title": {
           "text": "Y"
          }
         },
         "zaxis": {
          "title": {
           "text": "Z"
          }
         }
        },
        "showlegend": false,
        "template": {
         "data": {
          "bar": [
           {
            "error_x": {
             "color": "#2a3f5f"
            },
            "error_y": {
             "color": "#2a3f5f"
            },
            "marker": {
             "line": {
              "color": "#E5ECF6",
              "width": 0.5
             },
             "pattern": {
              "fillmode": "overlay",
              "size": 10,
              "solidity": 0.2
             }
            },
            "type": "bar"
           }
          ],
          "barpolar": [
           {
            "marker": {
             "line": {
              "color": "#E5ECF6",
              "width": 0.5
             },
             "pattern": {
              "fillmode": "overlay",
              "size": 10,
              "solidity": 0.2
             }
            },
            "type": "barpolar"
           }
          ],
          "carpet": [
           {
            "aaxis": {
             "endlinecolor": "#2a3f5f",
             "gridcolor": "white",
             "linecolor": "white",
             "minorgridcolor": "white",
             "startlinecolor": "#2a3f5f"
            },
            "baxis": {
             "endlinecolor": "#2a3f5f",
             "gridcolor": "white",
             "linecolor": "white",
             "minorgridcolor": "white",
             "startlinecolor": "#2a3f5f"
            },
            "type": "carpet"
           }
          ],
          "choropleth": [
           {
            "colorbar": {
             "outlinewidth": 0,
             "ticks": ""
            },
            "type": "choropleth"
           }
          ],
          "contour": [
           {
            "colorbar": {
             "outlinewidth": 0,
             "ticks": ""
            },
            "colorscale": [
             [
              0,
              "#0d0887"
             ],
             [
              0.1111111111111111,
              "#46039f"
             ],
             [
              0.2222222222222222,
              "#7201a8"
             ],
             [
              0.3333333333333333,
              "#9c179e"
             ],
             [
              0.4444444444444444,
              "#bd3786"
             ],
             [
              0.5555555555555556,
              "#d8576b"
             ],
             [
              0.6666666666666666,
              "#ed7953"
             ],
             [
              0.7777777777777778,
              "#fb9f3a"
             ],
             [
              0.8888888888888888,
              "#fdca26"
             ],
             [
              1,
              "#f0f921"
             ]
            ],
            "type": "contour"
           }
          ],
          "contourcarpet": [
           {
            "colorbar": {
             "outlinewidth": 0,
             "ticks": ""
            },
            "type": "contourcarpet"
           }
          ],
          "heatmap": [
           {
            "colorbar": {
             "outlinewidth": 0,
             "ticks": ""
            },
            "colorscale": [
             [
              0,
              "#0d0887"
             ],
             [
              0.1111111111111111,
              "#46039f"
             ],
             [
              0.2222222222222222,
              "#7201a8"
             ],
             [
              0.3333333333333333,
              "#9c179e"
             ],
             [
              0.4444444444444444,
              "#bd3786"
             ],
             [
              0.5555555555555556,
              "#d8576b"
             ],
             [
              0.6666666666666666,
              "#ed7953"
             ],
             [
              0.7777777777777778,
              "#fb9f3a"
             ],
             [
              0.8888888888888888,
              "#fdca26"
             ],
             [
              1,
              "#f0f921"
             ]
            ],
            "type": "heatmap"
           }
          ],
          "heatmapgl": [
           {
            "colorbar": {
             "outlinewidth": 0,
             "ticks": ""
            },
            "colorscale": [
             [
              0,
              "#0d0887"
             ],
             [
              0.1111111111111111,
              "#46039f"
             ],
             [
              0.2222222222222222,
              "#7201a8"
             ],
             [
              0.3333333333333333,
              "#9c179e"
             ],
             [
              0.4444444444444444,
              "#bd3786"
             ],
             [
              0.5555555555555556,
              "#d8576b"
             ],
             [
              0.6666666666666666,
              "#ed7953"
             ],
             [
              0.7777777777777778,
              "#fb9f3a"
             ],
             [
              0.8888888888888888,
              "#fdca26"
             ],
             [
              1,
              "#f0f921"
             ]
            ],
            "type": "heatmapgl"
           }
          ],
          "histogram": [
           {
            "marker": {
             "pattern": {
              "fillmode": "overlay",
              "size": 10,
              "solidity": 0.2
             }
            },
            "type": "histogram"
           }
          ],
          "histogram2d": [
           {
            "colorbar": {
             "outlinewidth": 0,
             "ticks": ""
            },
            "colorscale": [
             [
              0,
              "#0d0887"
             ],
             [
              0.1111111111111111,
              "#46039f"
             ],
             [
              0.2222222222222222,
              "#7201a8"
             ],
             [
              0.3333333333333333,
              "#9c179e"
             ],
             [
              0.4444444444444444,
              "#bd3786"
             ],
             [
              0.5555555555555556,
              "#d8576b"
             ],
             [
              0.6666666666666666,
              "#ed7953"
             ],
             [
              0.7777777777777778,
              "#fb9f3a"
             ],
             [
              0.8888888888888888,
              "#fdca26"
             ],
             [
              1,
              "#f0f921"
             ]
            ],
            "type": "histogram2d"
           }
          ],
          "histogram2dcontour": [
           {
            "colorbar": {
             "outlinewidth": 0,
             "ticks": ""
            },
            "colorscale": [
             [
              0,
              "#0d0887"
             ],
             [
              0.1111111111111111,
              "#46039f"
             ],
             [
              0.2222222222222222,
              "#7201a8"
             ],
             [
              0.3333333333333333,
              "#9c179e"
             ],
             [
              0.4444444444444444,
              "#bd3786"
             ],
             [
              0.5555555555555556,
              "#d8576b"
             ],
             [
              0.6666666666666666,
              "#ed7953"
             ],
             [
              0.7777777777777778,
              "#fb9f3a"
             ],
             [
              0.8888888888888888,
              "#fdca26"
             ],
             [
              1,
              "#f0f921"
             ]
            ],
            "type": "histogram2dcontour"
           }
          ],
          "mesh3d": [
           {
            "colorbar": {
             "outlinewidth": 0,
             "ticks": ""
            },
            "type": "mesh3d"
           }
          ],
          "parcoords": [
           {
            "line": {
             "colorbar": {
              "outlinewidth": 0,
              "ticks": ""
             }
            },
            "type": "parcoords"
           }
          ],
          "pie": [
           {
            "automargin": true,
            "type": "pie"
           }
          ],
          "scatter": [
           {
            "fillpattern": {
             "fillmode": "overlay",
             "size": 10,
             "solidity": 0.2
            },
            "type": "scatter"
           }
          ],
          "scatter3d": [
           {
            "line": {
             "colorbar": {
              "outlinewidth": 0,
              "ticks": ""
             }
            },
            "marker": {
             "colorbar": {
              "outlinewidth": 0,
              "ticks": ""
             }
            },
            "type": "scatter3d"
           }
          ],
          "scattercarpet": [
           {
            "marker": {
             "colorbar": {
              "outlinewidth": 0,
              "ticks": ""
             }
            },
            "type": "scattercarpet"
           }
          ],
          "scattergeo": [
           {
            "marker": {
             "colorbar": {
              "outlinewidth": 0,
              "ticks": ""
             }
            },
            "type": "scattergeo"
           }
          ],
          "scattergl": [
           {
            "marker": {
             "colorbar": {
              "outlinewidth": 0,
              "ticks": ""
             }
            },
            "type": "scattergl"
           }
          ],
          "scattermapbox": [
           {
            "marker": {
             "colorbar": {
              "outlinewidth": 0,
              "ticks": ""
             }
            },
            "type": "scattermapbox"
           }
          ],
          "scatterpolar": [
           {
            "marker": {
             "colorbar": {
              "outlinewidth": 0,
              "ticks": ""
             }
            },
            "type": "scatterpolar"
           }
          ],
          "scatterpolargl": [
           {
            "marker": {
             "colorbar": {
              "outlinewidth": 0,
              "ticks": ""
             }
            },
            "type": "scatterpolargl"
           }
          ],
          "scatterternary": [
           {
            "marker": {
             "colorbar": {
              "outlinewidth": 0,
              "ticks": ""
             }
            },
            "type": "scatterternary"
           }
          ],
          "surface": [
           {
            "colorbar": {
             "outlinewidth": 0,
             "ticks": ""
            },
            "colorscale": [
             [
              0,
              "#0d0887"
             ],
             [
              0.1111111111111111,
              "#46039f"
             ],
             [
              0.2222222222222222,
              "#7201a8"
             ],
             [
              0.3333333333333333,
              "#9c179e"
             ],
             [
              0.4444444444444444,
              "#bd3786"
             ],
             [
              0.5555555555555556,
              "#d8576b"
             ],
             [
              0.6666666666666666,
              "#ed7953"
             ],
             [
              0.7777777777777778,
              "#fb9f3a"
             ],
             [
              0.8888888888888888,
              "#fdca26"
             ],
             [
              1,
              "#f0f921"
             ]
            ],
            "type": "surface"
           }
          ],
          "table": [
           {
            "cells": {
             "fill": {
              "color": "#EBF0F8"
             },
             "line": {
              "color": "white"
             }
            },
            "header": {
             "fill": {
              "color": "#C8D4E3"
             },
             "line": {
              "color": "white"
             }
            },
            "type": "table"
           }
          ]
         },
         "layout": {
          "annotationdefaults": {
           "arrowcolor": "#2a3f5f",
           "arrowhead": 0,
           "arrowwidth": 1
          },
          "autotypenumbers": "strict",
          "coloraxis": {
           "colorbar": {
            "outlinewidth": 0,
            "ticks": ""
           }
          },
          "colorscale": {
           "diverging": [
            [
             0,
             "#8e0152"
            ],
            [
             0.1,
             "#c51b7d"
            ],
            [
             0.2,
             "#de77ae"
            ],
            [
             0.3,
             "#f1b6da"
            ],
            [
             0.4,
             "#fde0ef"
            ],
            [
             0.5,
             "#f7f7f7"
            ],
            [
             0.6,
             "#e6f5d0"
            ],
            [
             0.7,
             "#b8e186"
            ],
            [
             0.8,
             "#7fbc41"
            ],
            [
             0.9,
             "#4d9221"
            ],
            [
             1,
             "#276419"
            ]
           ],
           "sequential": [
            [
             0,
             "#0d0887"
            ],
            [
             0.1111111111111111,
             "#46039f"
            ],
            [
             0.2222222222222222,
             "#7201a8"
            ],
            [
             0.3333333333333333,
             "#9c179e"
            ],
            [
             0.4444444444444444,
             "#bd3786"
            ],
            [
             0.5555555555555556,
             "#d8576b"
            ],
            [
             0.6666666666666666,
             "#ed7953"
            ],
            [
             0.7777777777777778,
             "#fb9f3a"
            ],
            [
             0.8888888888888888,
             "#fdca26"
            ],
            [
             1,
             "#f0f921"
            ]
           ],
           "sequentialminus": [
            [
             0,
             "#0d0887"
            ],
            [
             0.1111111111111111,
             "#46039f"
            ],
            [
             0.2222222222222222,
             "#7201a8"
            ],
            [
             0.3333333333333333,
             "#9c179e"
            ],
            [
             0.4444444444444444,
             "#bd3786"
            ],
            [
             0.5555555555555556,
             "#d8576b"
            ],
            [
             0.6666666666666666,
             "#ed7953"
            ],
            [
             0.7777777777777778,
             "#fb9f3a"
            ],
            [
             0.8888888888888888,
             "#fdca26"
            ],
            [
             1,
             "#f0f921"
            ]
           ]
          },
          "colorway": [
           "#636efa",
           "#EF553B",
           "#00cc96",
           "#ab63fa",
           "#FFA15A",
           "#19d3f3",
           "#FF6692",
           "#B6E880",
           "#FF97FF",
           "#FECB52"
          ],
          "font": {
           "color": "#2a3f5f"
          },
          "geo": {
           "bgcolor": "white",
           "lakecolor": "white",
           "landcolor": "#E5ECF6",
           "showlakes": true,
           "showland": true,
           "subunitcolor": "white"
          },
          "hoverlabel": {
           "align": "left"
          },
          "hovermode": "closest",
          "mapbox": {
           "style": "light"
          },
          "paper_bgcolor": "white",
          "plot_bgcolor": "#E5ECF6",
          "polar": {
           "angularaxis": {
            "gridcolor": "white",
            "linecolor": "white",
            "ticks": ""
           },
           "bgcolor": "#E5ECF6",
           "radialaxis": {
            "gridcolor": "white",
            "linecolor": "white",
            "ticks": ""
           }
          },
          "scene": {
           "xaxis": {
            "backgroundcolor": "#E5ECF6",
            "gridcolor": "white",
            "gridwidth": 2,
            "linecolor": "white",
            "showbackground": true,
            "ticks": "",
            "zerolinecolor": "white"
           },
           "yaxis": {
            "backgroundcolor": "#E5ECF6",
            "gridcolor": "white",
            "gridwidth": 2,
            "linecolor": "white",
            "showbackground": true,
            "ticks": "",
            "zerolinecolor": "white"
           },
           "zaxis": {
            "backgroundcolor": "#E5ECF6",
            "gridcolor": "white",
            "gridwidth": 2,
            "linecolor": "white",
            "showbackground": true,
            "ticks": "",
            "zerolinecolor": "white"
           }
          },
          "shapedefaults": {
           "line": {
            "color": "#2a3f5f"
           }
          },
          "ternary": {
           "aaxis": {
            "gridcolor": "white",
            "linecolor": "white",
            "ticks": ""
           },
           "baxis": {
            "gridcolor": "white",
            "linecolor": "white",
            "ticks": ""
           },
           "bgcolor": "#E5ECF6",
           "caxis": {
            "gridcolor": "white",
            "linecolor": "white",
            "ticks": ""
           }
          },
          "title": {
           "x": 0.05
          },
          "xaxis": {
           "automargin": true,
           "gridcolor": "white",
           "linecolor": "white",
           "ticks": "",
           "title": {
            "standoff": 15
           },
           "zerolinecolor": "white",
           "zerolinewidth": 2
          },
          "yaxis": {
           "automargin": true,
           "gridcolor": "white",
           "linecolor": "white",
           "ticks": "",
           "title": {
            "standoff": 15
           },
           "zerolinecolor": "white",
           "zerolinewidth": 2
          }
         }
        },
        "width": 700
       }
      }
     },
     "metadata": {},
     "output_type": "display_data"
    },
    {
     "data": {
      "application/vnd.plotly.v1+json": {
       "config": {
        "plotlyServerURL": "https://plot.ly"
       },
       "data": [
        {
         "hoverinfo": "text",
         "marker": {
          "color": [
           4,
           4,
           6,
           6,
           6,
           6,
           6,
           4,
           4,
           4,
           6,
           6,
           6,
           6,
           6
          ],
          "colorscale": [
           [
            0,
            "#440154"
           ],
           [
            0.1111111111111111,
            "#482878"
           ],
           [
            0.2222222222222222,
            "#3e4989"
           ],
           [
            0.3333333333333333,
            "#31688e"
           ],
           [
            0.4444444444444444,
            "#26828e"
           ],
           [
            0.5555555555555556,
            "#1f9e89"
           ],
           [
            0.6666666666666666,
            "#35b779"
           ],
           [
            0.7777777777777778,
            "#6ece58"
           ],
           [
            0.8888888888888888,
            "#b5de2b"
           ],
           [
            1,
            "#fde725"
           ]
          ],
          "opacity": 0.8,
          "size": 5,
          "symbol": "circle"
         },
         "mode": "markers",
         "text": [
          "Si",
          "Si",
          "O",
          "O",
          "O",
          "O",
          "O",
          "Si",
          "Si",
          "Si",
          "O",
          "O",
          "O",
          "O",
          "O"
         ],
         "type": "scatter3d",
         "x": [
          3.8229301379006877,
          -0.3167346311413628,
          5.53868853115329,
          3.163903687629249,
          -0.2557038620993133,
          4.019552043380817,
          2.6760529365225367,
          5.134055069375222,
          -3.0621174942387057,
          3.050500537048085,
          -3.1685027491601843,
          -3.3720022934495093,
          4.604893505761293,
          5.61040765136501,
          -3.32821740745813
         ],
         "y": [
          0.7046250757701813,
          1.398461113410013,
          -1.0992983097085736,
          0.16468413664350595,
          0.8596950757701807,
          -0.546256939977428,
          -0.07401176805563292,
          0.38806439248072033,
          0.609594888248564,
          0.938020738571636,
          0.3245921691877569,
          -0.6160509637467428,
          0.7116658882485645,
          -0.4384151751281409,
          -0.8938183486554508
         ],
         "z": [
          -3.8628279256665037,
          -2.528647564647586,
          -0.09537569715020458,
          -2.339854833055461,
          -3.9640229256665034,
          -5.114360025895784,
          0.9174415619131423,
          5.799648679070167,
          1.953511260277146,
          1.6544556570297044,
          3.2052920763488757,
          0.8700349663289967,
          2.076744260277146,
          4.513024460622433,
          2.777916583014308
         ]
        },
        {
         "hoverinfo": "text",
         "marker": {
          "color": [
           1,
           1,
           1,
           1,
           3,
           3,
           3,
           4,
           6,
           6,
           6,
           6,
           6,
           6,
           6,
           6,
           6,
           6,
           6,
           6,
           6,
           6,
           5,
           6,
           6,
           4,
           6,
           6,
           4,
           6,
           6,
           6,
           6
          ],
          "colorscale": [
           [
            0,
            "#440154"
           ],
           [
            0.1111111111111111,
            "#482878"
           ],
           [
            0.2222222222222222,
            "#3e4989"
           ],
           [
            0.3333333333333333,
            "#31688e"
           ],
           [
            0.4444444444444444,
            "#26828e"
           ],
           [
            0.5555555555555556,
            "#1f9e89"
           ],
           [
            0.6666666666666666,
            "#35b779"
           ],
           [
            0.7777777777777778,
            "#6ece58"
           ],
           [
            0.8888888888888888,
            "#b5de2b"
           ],
           [
            1,
            "#fde725"
           ]
          ],
          "opacity": 0.8,
          "size": 5,
          "symbol": "diamond"
         },
         "mode": "markers",
         "text": [
          "Sb",
          "Sb",
          "Sb",
          "Sb",
          "Ge",
          "Ge",
          "Ge",
          "Si",
          "O",
          "O",
          "O",
          "O",
          "O",
          "O",
          "O",
          "O",
          "O",
          "O",
          "O",
          "O",
          "O",
          "O",
          "Na",
          "O",
          "O",
          "Si",
          "O",
          "O",
          "Si",
          "O",
          "O",
          "O",
          "O"
         ],
         "type": "scatter3d",
         "x": [
          1.5982789999999998,
          4.104596000000001,
          0.38539800000000035,
          1.0470590000000009,
          1.960559,
          -1.8428670000000018,
          -1.441711999999999,
          4.1653839999999995,
          0.1944720000000011,
          -0.5660799999999995,
          0.04781000000000013,
          -2.461870000000001,
          2.2226800000000004,
          4.374359999999999,
          5.241650999999999,
          -1.9396580000000014,
          1.019646999999999,
          2.7276480000000003,
          1.2575059999999993,
          -3.0313499999999998,
          2.6424339999999997,
          5.176579,
          -4.099208000000001,
          -1.1628469999999993,
          4.2739910000000005,
          1.1385014564546392,
          0.5266694076352781,
          -0.4331476344429247,
          -1.0901625435453601,
          0.270393073637331,
          -0.8633175435453602,
          1.1959345471517124,
          -0.3718827797781765
         ],
         "y": [
          3.6457210000000018,
          3.029922000000001,
          2.4557610000000007,
          2.4084000000000003,
          2.7243140000000015,
          4.431564000000002,
          2.3832380000000004,
          2.8812250000000006,
          2.868539,
          4.176868000000001,
          3.9712830000000015,
          3.6587960000000006,
          3.0236170000000016,
          2.2094130000000014,
          2.7340790000000013,
          1.945672,
          2.077173,
          4.206485000000001,
          2.273733000000002,
          4.325731000000001,
          3.466812000000001,
          4.130923000000001,
          2.576423,
          4.267608000000001,
          1.7345940000000013,
          3.270208143118994,
          2.4133440103135033,
          3.1963284550325533,
          3.165338143118994,
          1.8425429939375926,
          4.134379143118995,
          2.7245445605055956,
          1.8384270726113847
         ],
         "z": [
          0.5615810000000003,
          -5.2492920000000005,
          -5.346079,
          3.8928780000000014,
          -2.4344099999999997,
          -0.38092100000000073,
          -2.5603999999999996,
          3.535831,
          -3.0924560000000003,
          -5.646465000000001,
          3.5105190000000004,
          -1.8827829999999999,
          -4.381571000000001,
          2.0674100000000006,
          -3.592866000000001,
          -4.148141000000001,
          1.7352739999999987,
          -1.7859670000000012,
          -0.7566860000000002,
          0.8509709999999995,
          3.564393000000001,
          3.8384349999999987,
          4.106719999999999,
          5.902368999999999,
          4.712675,
          -0.25819330923359196,
          -1.6065051284683665,
          0.036379338787077886,
          4.057699690766407,
          3.6015511316454005,
          2.607140690766408,
          0.45088697476777284,
          2.8261840238128446
         ]
        },
        {
         "hoverinfo": "text",
         "marker": {
          "color": [
           1,
           1,
           3,
           3,
           3,
           4,
           6,
           6,
           6,
           6,
           6,
           6,
           6,
           6,
           6,
           6,
           6,
           6,
           1,
           6,
           6,
           4,
           4,
           6,
           6,
           6,
           6,
           4
          ],
          "colorscale": [
           [
            0,
            "#440154"
           ],
           [
            0.1111111111111111,
            "#482878"
           ],
           [
            0.2222222222222222,
            "#3e4989"
           ],
           [
            0.3333333333333333,
            "#31688e"
           ],
           [
            0.4444444444444444,
            "#26828e"
           ],
           [
            0.5555555555555556,
            "#1f9e89"
           ],
           [
            0.6666666666666666,
            "#35b779"
           ],
           [
            0.7777777777777778,
            "#6ece58"
           ],
           [
            0.8888888888888888,
            "#b5de2b"
           ],
           [
            1,
            "#fde725"
           ]
          ],
          "opacity": 0.8,
          "size": 5,
          "symbol": "diamond"
         },
         "mode": "markers",
         "text": [
          "Sb",
          "Sb",
          "Ge",
          "Ge",
          "Ge",
          "Si",
          "O",
          "O",
          "O",
          "O",
          "O",
          "O",
          "O",
          "O",
          "O",
          "O",
          "O",
          "O",
          "Sb",
          "O",
          "O",
          "Si",
          "Si",
          "O",
          "O",
          "O",
          "O",
          "Si"
         ],
         "type": "scatter3d",
         "x": [
          0.7969489999999997,
          4.698104000000001,
          -1.8873420000000003,
          3.957395,
          -4.2036370000000005,
          2.180046000000001,
          -3.4745150000000002,
          2.6984449999999995,
          1.97363,
          -0.953793000000001,
          5.65006,
          0.7698959999999992,
          3.9677050000000005,
          -1.7219209999999983,
          -3.5273329999999987,
          5.455321,
          -0.5796510000000001,
          -2.7372739999999993,
          -0.09485199999999949,
          1.8091910000000002,
          3.65334,
          -1.1705176701498365,
          -1.29655427190867,
          1.3011239167823252,
          -1.1379768260790062,
          -1.3363920832176763,
          -0.5218280832176756,
          -0.45642843842963426
         ],
         "y": [
          -2.4658919999999993,
          -2.2113709999999998,
          -3.423259999999999,
          -3.1263059999999996,
          -2.879943999999999,
          -2.3432779999999998,
          -4.049852999999999,
          -3.517539999999999,
          -3.0613919999999997,
          -2.0322619999999993,
          -3.559843999999999,
          -1.7085969999999993,
          -3.6210359999999993,
          -3.3704599999999996,
          -2.8661209999999997,
          -2.644181999999999,
          -3.3850549999999995,
          -3.7957709999999993,
          -1.825937999999999,
          -2.1167479999999994,
          -4.0783049999999985,
          -3.5945924624428827,
          -3.4806792224869314,
          -4.43425741750434,
          -3.884425900686126,
          -2.6133664175043405,
          -2.6042974175043403,
          -3.2445404006082255
         ],
         "z": [
          -4.552469,
          -4.8826529999999995,
          -3.089163000000001,
          3.179373,
          1.5188079999999982,
          0.9048460000000009,
          3.8831879999999988,
          2.0315819999999984,
          -0.5321040000000004,
          -3.6700920000000004,
          2.6708279999999984,
          1.3903820000000007,
          -3.662769000000001,
          -1.3376770000000011,
          -3.611614000000001,
          -0.10802600000000062,
          4.006603,
          1.297409,
          5.3262,
          5.815417,
          4.655602,
          0.8379353862043587,
          -4.08887042616266,
          1.9603011090833409,
          2.526500097521482,
          -4.9819918909166585,
          -2.4726138909166586,
          -1.0942019279747206
         ]
        }
       ],
       "layout": {
        "margin": {
         "b": 10,
         "l": 10,
         "r": 20,
         "t": 10
        },
        "scene": {
         "xaxis": {
          "title": {
           "text": "X"
          }
         },
         "yaxis": {
          "title": {
           "text": "Y"
          }
         },
         "zaxis": {
          "title": {
           "text": "Z"
          }
         }
        },
        "showlegend": false,
        "template": {
         "data": {
          "bar": [
           {
            "error_x": {
             "color": "#2a3f5f"
            },
            "error_y": {
             "color": "#2a3f5f"
            },
            "marker": {
             "line": {
              "color": "#E5ECF6",
              "width": 0.5
             },
             "pattern": {
              "fillmode": "overlay",
              "size": 10,
              "solidity": 0.2
             }
            },
            "type": "bar"
           }
          ],
          "barpolar": [
           {
            "marker": {
             "line": {
              "color": "#E5ECF6",
              "width": 0.5
             },
             "pattern": {
              "fillmode": "overlay",
              "size": 10,
              "solidity": 0.2
             }
            },
            "type": "barpolar"
           }
          ],
          "carpet": [
           {
            "aaxis": {
             "endlinecolor": "#2a3f5f",
             "gridcolor": "white",
             "linecolor": "white",
             "minorgridcolor": "white",
             "startlinecolor": "#2a3f5f"
            },
            "baxis": {
             "endlinecolor": "#2a3f5f",
             "gridcolor": "white",
             "linecolor": "white",
             "minorgridcolor": "white",
             "startlinecolor": "#2a3f5f"
            },
            "type": "carpet"
           }
          ],
          "choropleth": [
           {
            "colorbar": {
             "outlinewidth": 0,
             "ticks": ""
            },
            "type": "choropleth"
           }
          ],
          "contour": [
           {
            "colorbar": {
             "outlinewidth": 0,
             "ticks": ""
            },
            "colorscale": [
             [
              0,
              "#0d0887"
             ],
             [
              0.1111111111111111,
              "#46039f"
             ],
             [
              0.2222222222222222,
              "#7201a8"
             ],
             [
              0.3333333333333333,
              "#9c179e"
             ],
             [
              0.4444444444444444,
              "#bd3786"
             ],
             [
              0.5555555555555556,
              "#d8576b"
             ],
             [
              0.6666666666666666,
              "#ed7953"
             ],
             [
              0.7777777777777778,
              "#fb9f3a"
             ],
             [
              0.8888888888888888,
              "#fdca26"
             ],
             [
              1,
              "#f0f921"
             ]
            ],
            "type": "contour"
           }
          ],
          "contourcarpet": [
           {
            "colorbar": {
             "outlinewidth": 0,
             "ticks": ""
            },
            "type": "contourcarpet"
           }
          ],
          "heatmap": [
           {
            "colorbar": {
             "outlinewidth": 0,
             "ticks": ""
            },
            "colorscale": [
             [
              0,
              "#0d0887"
             ],
             [
              0.1111111111111111,
              "#46039f"
             ],
             [
              0.2222222222222222,
              "#7201a8"
             ],
             [
              0.3333333333333333,
              "#9c179e"
             ],
             [
              0.4444444444444444,
              "#bd3786"
             ],
             [
              0.5555555555555556,
              "#d8576b"
             ],
             [
              0.6666666666666666,
              "#ed7953"
             ],
             [
              0.7777777777777778,
              "#fb9f3a"
             ],
             [
              0.8888888888888888,
              "#fdca26"
             ],
             [
              1,
              "#f0f921"
             ]
            ],
            "type": "heatmap"
           }
          ],
          "heatmapgl": [
           {
            "colorbar": {
             "outlinewidth": 0,
             "ticks": ""
            },
            "colorscale": [
             [
              0,
              "#0d0887"
             ],
             [
              0.1111111111111111,
              "#46039f"
             ],
             [
              0.2222222222222222,
              "#7201a8"
             ],
             [
              0.3333333333333333,
              "#9c179e"
             ],
             [
              0.4444444444444444,
              "#bd3786"
             ],
             [
              0.5555555555555556,
              "#d8576b"
             ],
             [
              0.6666666666666666,
              "#ed7953"
             ],
             [
              0.7777777777777778,
              "#fb9f3a"
             ],
             [
              0.8888888888888888,
              "#fdca26"
             ],
             [
              1,
              "#f0f921"
             ]
            ],
            "type": "heatmapgl"
           }
          ],
          "histogram": [
           {
            "marker": {
             "pattern": {
              "fillmode": "overlay",
              "size": 10,
              "solidity": 0.2
             }
            },
            "type": "histogram"
           }
          ],
          "histogram2d": [
           {
            "colorbar": {
             "outlinewidth": 0,
             "ticks": ""
            },
            "colorscale": [
             [
              0,
              "#0d0887"
             ],
             [
              0.1111111111111111,
              "#46039f"
             ],
             [
              0.2222222222222222,
              "#7201a8"
             ],
             [
              0.3333333333333333,
              "#9c179e"
             ],
             [
              0.4444444444444444,
              "#bd3786"
             ],
             [
              0.5555555555555556,
              "#d8576b"
             ],
             [
              0.6666666666666666,
              "#ed7953"
             ],
             [
              0.7777777777777778,
              "#fb9f3a"
             ],
             [
              0.8888888888888888,
              "#fdca26"
             ],
             [
              1,
              "#f0f921"
             ]
            ],
            "type": "histogram2d"
           }
          ],
          "histogram2dcontour": [
           {
            "colorbar": {
             "outlinewidth": 0,
             "ticks": ""
            },
            "colorscale": [
             [
              0,
              "#0d0887"
             ],
             [
              0.1111111111111111,
              "#46039f"
             ],
             [
              0.2222222222222222,
              "#7201a8"
             ],
             [
              0.3333333333333333,
              "#9c179e"
             ],
             [
              0.4444444444444444,
              "#bd3786"
             ],
             [
              0.5555555555555556,
              "#d8576b"
             ],
             [
              0.6666666666666666,
              "#ed7953"
             ],
             [
              0.7777777777777778,
              "#fb9f3a"
             ],
             [
              0.8888888888888888,
              "#fdca26"
             ],
             [
              1,
              "#f0f921"
             ]
            ],
            "type": "histogram2dcontour"
           }
          ],
          "mesh3d": [
           {
            "colorbar": {
             "outlinewidth": 0,
             "ticks": ""
            },
            "type": "mesh3d"
           }
          ],
          "parcoords": [
           {
            "line": {
             "colorbar": {
              "outlinewidth": 0,
              "ticks": ""
             }
            },
            "type": "parcoords"
           }
          ],
          "pie": [
           {
            "automargin": true,
            "type": "pie"
           }
          ],
          "scatter": [
           {
            "fillpattern": {
             "fillmode": "overlay",
             "size": 10,
             "solidity": 0.2
            },
            "type": "scatter"
           }
          ],
          "scatter3d": [
           {
            "line": {
             "colorbar": {
              "outlinewidth": 0,
              "ticks": ""
             }
            },
            "marker": {
             "colorbar": {
              "outlinewidth": 0,
              "ticks": ""
             }
            },
            "type": "scatter3d"
           }
          ],
          "scattercarpet": [
           {
            "marker": {
             "colorbar": {
              "outlinewidth": 0,
              "ticks": ""
             }
            },
            "type": "scattercarpet"
           }
          ],
          "scattergeo": [
           {
            "marker": {
             "colorbar": {
              "outlinewidth": 0,
              "ticks": ""
             }
            },
            "type": "scattergeo"
           }
          ],
          "scattergl": [
           {
            "marker": {
             "colorbar": {
              "outlinewidth": 0,
              "ticks": ""
             }
            },
            "type": "scattergl"
           }
          ],
          "scattermapbox": [
           {
            "marker": {
             "colorbar": {
              "outlinewidth": 0,
              "ticks": ""
             }
            },
            "type": "scattermapbox"
           }
          ],
          "scatterpolar": [
           {
            "marker": {
             "colorbar": {
              "outlinewidth": 0,
              "ticks": ""
             }
            },
            "type": "scatterpolar"
           }
          ],
          "scatterpolargl": [
           {
            "marker": {
             "colorbar": {
              "outlinewidth": 0,
              "ticks": ""
             }
            },
            "type": "scatterpolargl"
           }
          ],
          "scatterternary": [
           {
            "marker": {
             "colorbar": {
              "outlinewidth": 0,
              "ticks": ""
             }
            },
            "type": "scatterternary"
           }
          ],
          "surface": [
           {
            "colorbar": {
             "outlinewidth": 0,
             "ticks": ""
            },
            "colorscale": [
             [
              0,
              "#0d0887"
             ],
             [
              0.1111111111111111,
              "#46039f"
             ],
             [
              0.2222222222222222,
              "#7201a8"
             ],
             [
              0.3333333333333333,
              "#9c179e"
             ],
             [
              0.4444444444444444,
              "#bd3786"
             ],
             [
              0.5555555555555556,
              "#d8576b"
             ],
             [
              0.6666666666666666,
              "#ed7953"
             ],
             [
              0.7777777777777778,
              "#fb9f3a"
             ],
             [
              0.8888888888888888,
              "#fdca26"
             ],
             [
              1,
              "#f0f921"
             ]
            ],
            "type": "surface"
           }
          ],
          "table": [
           {
            "cells": {
             "fill": {
              "color": "#EBF0F8"
             },
             "line": {
              "color": "white"
             }
            },
            "header": {
             "fill": {
              "color": "#C8D4E3"
             },
             "line": {
              "color": "white"
             }
            },
            "type": "table"
           }
          ]
         },
         "layout": {
          "annotationdefaults": {
           "arrowcolor": "#2a3f5f",
           "arrowhead": 0,
           "arrowwidth": 1
          },
          "autotypenumbers": "strict",
          "coloraxis": {
           "colorbar": {
            "outlinewidth": 0,
            "ticks": ""
           }
          },
          "colorscale": {
           "diverging": [
            [
             0,
             "#8e0152"
            ],
            [
             0.1,
             "#c51b7d"
            ],
            [
             0.2,
             "#de77ae"
            ],
            [
             0.3,
             "#f1b6da"
            ],
            [
             0.4,
             "#fde0ef"
            ],
            [
             0.5,
             "#f7f7f7"
            ],
            [
             0.6,
             "#e6f5d0"
            ],
            [
             0.7,
             "#b8e186"
            ],
            [
             0.8,
             "#7fbc41"
            ],
            [
             0.9,
             "#4d9221"
            ],
            [
             1,
             "#276419"
            ]
           ],
           "sequential": [
            [
             0,
             "#0d0887"
            ],
            [
             0.1111111111111111,
             "#46039f"
            ],
            [
             0.2222222222222222,
             "#7201a8"
            ],
            [
             0.3333333333333333,
             "#9c179e"
            ],
            [
             0.4444444444444444,
             "#bd3786"
            ],
            [
             0.5555555555555556,
             "#d8576b"
            ],
            [
             0.6666666666666666,
             "#ed7953"
            ],
            [
             0.7777777777777778,
             "#fb9f3a"
            ],
            [
             0.8888888888888888,
             "#fdca26"
            ],
            [
             1,
             "#f0f921"
            ]
           ],
           "sequentialminus": [
            [
             0,
             "#0d0887"
            ],
            [
             0.1111111111111111,
             "#46039f"
            ],
            [
             0.2222222222222222,
             "#7201a8"
            ],
            [
             0.3333333333333333,
             "#9c179e"
            ],
            [
             0.4444444444444444,
             "#bd3786"
            ],
            [
             0.5555555555555556,
             "#d8576b"
            ],
            [
             0.6666666666666666,
             "#ed7953"
            ],
            [
             0.7777777777777778,
             "#fb9f3a"
            ],
            [
             0.8888888888888888,
             "#fdca26"
            ],
            [
             1,
             "#f0f921"
            ]
           ]
          },
          "colorway": [
           "#636efa",
           "#EF553B",
           "#00cc96",
           "#ab63fa",
           "#FFA15A",
           "#19d3f3",
           "#FF6692",
           "#B6E880",
           "#FF97FF",
           "#FECB52"
          ],
          "font": {
           "color": "#2a3f5f"
          },
          "geo": {
           "bgcolor": "white",
           "lakecolor": "white",
           "landcolor": "#E5ECF6",
           "showlakes": true,
           "showland": true,
           "subunitcolor": "white"
          },
          "hoverlabel": {
           "align": "left"
          },
          "hovermode": "closest",
          "mapbox": {
           "style": "light"
          },
          "paper_bgcolor": "white",
          "plot_bgcolor": "#E5ECF6",
          "polar": {
           "angularaxis": {
            "gridcolor": "white",
            "linecolor": "white",
            "ticks": ""
           },
           "bgcolor": "#E5ECF6",
           "radialaxis": {
            "gridcolor": "white",
            "linecolor": "white",
            "ticks": ""
           }
          },
          "scene": {
           "xaxis": {
            "backgroundcolor": "#E5ECF6",
            "gridcolor": "white",
            "gridwidth": 2,
            "linecolor": "white",
            "showbackground": true,
            "ticks": "",
            "zerolinecolor": "white"
           },
           "yaxis": {
            "backgroundcolor": "#E5ECF6",
            "gridcolor": "white",
            "gridwidth": 2,
            "linecolor": "white",
            "showbackground": true,
            "ticks": "",
            "zerolinecolor": "white"
           },
           "zaxis": {
            "backgroundcolor": "#E5ECF6",
            "gridcolor": "white",
            "gridwidth": 2,
            "linecolor": "white",
            "showbackground": true,
            "ticks": "",
            "zerolinecolor": "white"
           }
          },
          "shapedefaults": {
           "line": {
            "color": "#2a3f5f"
           }
          },
          "ternary": {
           "aaxis": {
            "gridcolor": "white",
            "linecolor": "white",
            "ticks": ""
           },
           "baxis": {
            "gridcolor": "white",
            "linecolor": "white",
            "ticks": ""
           },
           "bgcolor": "#E5ECF6",
           "caxis": {
            "gridcolor": "white",
            "linecolor": "white",
            "ticks": ""
           }
          },
          "title": {
           "x": 0.05
          },
          "xaxis": {
           "automargin": true,
           "gridcolor": "white",
           "linecolor": "white",
           "ticks": "",
           "title": {
            "standoff": 15
           },
           "zerolinecolor": "white",
           "zerolinewidth": 2
          },
          "yaxis": {
           "automargin": true,
           "gridcolor": "white",
           "linecolor": "white",
           "ticks": "",
           "title": {
            "standoff": 15
           },
           "zerolinecolor": "white",
           "zerolinewidth": 2
          }
         }
        },
        "width": 700
       }
      }
     },
     "metadata": {},
     "output_type": "display_data"
    }
   ],
   "source": [
    "ea_y.plot_fitness()\n",
    "best_solution_y = ea_y.get_best_solution()\n",
    "\n",
    "plot_atoms(best_solution_y, atom_species_by_index)\n",
    "plot_solution_with_walls((wall_down, wall_up), best_solution_y, atom_species_by_index)"
   ]
  },
  {
   "cell_type": "markdown",
   "metadata": {},
   "source": [
    "####  Z-axis"
   ]
  },
  {
   "cell_type": "code",
   "execution_count": 45,
   "metadata": {},
   "outputs": [],
   "source": [
    "wall_front, wall_back = get_positioned_walls_z(best_solution_x, best_solution_y, er_cluster, cluster_size, wall_thickness, solution_thickness)"
   ]
  },
  {
   "cell_type": "code",
   "execution_count": 46,
   "metadata": {},
   "outputs": [],
   "source": [
    "initial_population = get_n_random_solutions_without_Er(supercell, \n",
    "                                                        cell_size, \n",
    "                                                        atom_species_by_symbol, \n",
    "                                                        cluster_size, \n",
    "                                                        solution_thickness, \n",
    "                                                        axis=2, \n",
    "                                                        n=population_size)"
   ]
  },
  {
   "cell_type": "code",
   "execution_count": 47,
   "metadata": {},
   "outputs": [],
   "source": [
    "mutation_type = lambda offspring: random_mutation(mutation_probabilities, offspring, cluster_size, solution_thickness, atom_species_by_symbol, axis=2)"
   ]
  },
  {
   "cell_type": "code",
   "execution_count": 48,
   "metadata": {},
   "outputs": [],
   "source": [
    "crossover = lambda parents: crossover_fenotypes(parents, cluster_size, solution_thickness, axis=2)"
   ]
  },
  {
   "cell_type": "code",
   "execution_count": 49,
   "metadata": {},
   "outputs": [],
   "source": [
    "fitness_function = lambda solution: fitness_z(wall_front, wall_back, solution, atom_species_by_symbol, cluster_size, wall_thickness, solution_thickness, alpha, beta, gamma)"
   ]
  },
  {
   "cell_type": "code",
   "execution_count": 50,
   "metadata": {},
   "outputs": [],
   "source": [
    "ea_z = EvolutionaryAlgorithm(initial_population, mutation_type, crossover, selection_proportional, fitness_function)"
   ]
  },
  {
   "cell_type": "code",
   "execution_count": 51,
   "metadata": {},
   "outputs": [
    {
     "name": "stdout",
     "output_type": "stream",
     "text": [
      "Generation 0 avg fitness: -3758.2522844470864 best fitness: -2707.2330326577785\n",
      "Generation 15 avg fitness: -2713.1115555075 best fitness: -2418.859605527688\n",
      "Generation 30 avg fitness: -2243.8225202360763 best fitness: -1966.1580194807043\n",
      "Generation 45 avg fitness: -2036.427934042178 best fitness: -1759.6668156375513\n",
      "Generation 60 avg fitness: -1883.8561415275792 best fitness: -1650.111292050263\n",
      "Generation 75 avg fitness: -1758.079885898974 best fitness: -1507.3666723254066\n",
      "Generation 90 avg fitness: -1643.1456717069282 best fitness: -1361.0954496181446\n",
      "Generation 105 avg fitness: -1499.637282843991 best fitness: -1338.3666723254066\n",
      "Generation 120 avg fitness: -1340.1170729676203 best fitness: -1176.8853901911452\n",
      "Generation 135 avg fitness: -1260.6205402018065 best fitness: -1168.8853901911452\n",
      "Reached maximum number of generations\n",
      "Evolution ran for  150 generations, reached best fitness of  -1166.8853901911452\n"
     ]
    }
   ],
   "source": [
    "new_population = ea_z.evolve(n_parents_per_child, n_children, n_elites, max_num_generations, tolerate_stagnation_for_n_generations, stagnation_epsilon, target_fitness_value)"
   ]
  },
  {
   "cell_type": "code",
   "execution_count": 52,
   "metadata": {},
   "outputs": [
    {
     "data": {
      "image/png": "[encoded data removed]",
      "text/plain": [
       "<Figure size 640x480 with 1 Axes>"
      ]
     },
     "metadata": {},
     "output_type": "display_data"
    },
    {
     "data": {
      "application/vnd.plotly.v1+json": {
       "config": {
        "plotlyServerURL": "https://plot.ly"
       },
       "data": [
        {
         "hoverinfo": "text",
         "marker": {
          "color": [
           6
          ],
          "colorscale": [
           [
            0,
            "#440154"
           ],
           [
            0.1111111111111111,
            "#482878"
           ],
           [
            0.2222222222222222,
            "#3e4989"
           ],
           [
            0.3333333333333333,
            "#31688e"
           ],
           [
            0.4444444444444444,
            "#26828e"
           ],
           [
            0.5555555555555556,
            "#1f9e89"
           ],
           [
            0.6666666666666666,
            "#35b779"
           ],
           [
            0.7777777777777778,
            "#6ece58"
           ],
           [
            0.8888888888888888,
            "#b5de2b"
           ],
           [
            1,
            "#fde725"
           ]
          ],
          "opacity": 0.8,
          "size": 5,
          "symbol": "circle"
         },
         "mode": "markers",
         "text": [
          "O"
         ],
         "type": "scatter3d",
         "x": [
          4.428015328530376
         ],
         "y": [
          0.28546709417080557
         ],
         "z": [
          -1.0078875805255334
         ]
        }
       ],
       "layout": {
        "margin": {
         "b": 10,
         "l": 10,
         "r": 20,
         "t": 10
        },
        "scene": {
         "xaxis": {
          "title": {
           "text": "X"
          }
         },
         "yaxis": {
          "title": {
           "text": "Y"
          }
         },
         "zaxis": {
          "title": {
           "text": "Z"
          }
         }
        },
        "showlegend": false,
        "template": {
         "data": {
          "bar": [
           {
            "error_x": {
             "color": "#2a3f5f"
            },
            "error_y": {
             "color": "#2a3f5f"
            },
            "marker": {
             "line": {
              "color": "#E5ECF6",
              "width": 0.5
             },
             "pattern": {
              "fillmode": "overlay",
              "size": 10,
              "solidity": 0.2
             }
            },
            "type": "bar"
           }
          ],
          "barpolar": [
           {
            "marker": {
             "line": {
              "color": "#E5ECF6",
              "width": 0.5
             },
             "pattern": {
              "fillmode": "overlay",
              "size": 10,
              "solidity": 0.2
             }
            },
            "type": "barpolar"
           }
          ],
          "carpet": [
           {
            "aaxis": {
             "endlinecolor": "#2a3f5f",
             "gridcolor": "white",
             "linecolor": "white",
             "minorgridcolor": "white",
             "startlinecolor": "#2a3f5f"
            },
            "baxis": {
             "endlinecolor": "#2a3f5f",
             "gridcolor": "white",
             "linecolor": "white",
             "minorgridcolor": "white",
             "startlinecolor": "#2a3f5f"
            },
            "type": "carpet"
           }
          ],
          "choropleth": [
           {
            "colorbar": {
             "outlinewidth": 0,
             "ticks": ""
            },
            "type": "choropleth"
           }
          ],
          "contour": [
           {
            "colorbar": {
             "outlinewidth": 0,
             "ticks": ""
            },
            "colorscale": [
             [
              0,
              "#0d0887"
             ],
             [
              0.1111111111111111,
              "#46039f"
             ],
             [
              0.2222222222222222,
              "#7201a8"
             ],
             [
              0.3333333333333333,
              "#9c179e"
             ],
             [
              0.4444444444444444,
              "#bd3786"
             ],
             [
              0.5555555555555556,
              "#d8576b"
             ],
             [
              0.6666666666666666,
              "#ed7953"
             ],
             [
              0.7777777777777778,
              "#fb9f3a"
             ],
             [
              0.8888888888888888,
              "#fdca26"
             ],
             [
              1,
              "#f0f921"
             ]
            ],
            "type": "contour"
           }
          ],
          "contourcarpet": [
           {
            "colorbar": {
             "outlinewidth": 0,
             "ticks": ""
            },
            "type": "contourcarpet"
           }
          ],
          "heatmap": [
           {
            "colorbar": {
             "outlinewidth": 0,
             "ticks": ""
            },
            "colorscale": [
             [
              0,
              "#0d0887"
             ],
             [
              0.1111111111111111,
              "#46039f"
             ],
             [
              0.2222222222222222,
              "#7201a8"
             ],
             [
              0.3333333333333333,
              "#9c179e"
             ],
             [
              0.4444444444444444,
              "#bd3786"
             ],
             [
              0.5555555555555556,
              "#d8576b"
             ],
             [
              0.6666666666666666,
              "#ed7953"
             ],
             [
              0.7777777777777778,
              "#fb9f3a"
             ],
             [
              0.8888888888888888,
              "#fdca26"
             ],
             [
              1,
              "#f0f921"
             ]
            ],
            "type": "heatmap"
           }
          ],
          "heatmapgl": [
           {
            "colorbar": {
             "outlinewidth": 0,
             "ticks": ""
            },
            "colorscale": [
             [
              0,
              "#0d0887"
             ],
             [
              0.1111111111111111,
              "#46039f"
             ],
             [
              0.2222222222222222,
              "#7201a8"
             ],
             [
              0.3333333333333333,
              "#9c179e"
             ],
             [
              0.4444444444444444,
              "#bd3786"
             ],
             [
              0.5555555555555556,
              "#d8576b"
             ],
             [
              0.6666666666666666,
              "#ed7953"
             ],
             [
              0.7777777777777778,
              "#fb9f3a"
             ],
             [
              0.8888888888888888,
              "#fdca26"
             ],
             [
              1,
              "#f0f921"
             ]
            ],
            "type": "heatmapgl"
           }
          ],
          "histogram": [
           {
            "marker": {
             "pattern": {
              "fillmode": "overlay",
              "size": 10,
              "solidity": 0.2
             }
            },
            "type": "histogram"
           }
          ],
          "histogram2d": [
           {
            "colorbar": {
             "outlinewidth": 0,
             "ticks": ""
            },
            "colorscale": [
             [
              0,
              "#0d0887"
             ],
             [
              0.1111111111111111,
              "#46039f"
             ],
             [
              0.2222222222222222,
              "#7201a8"
             ],
             [
              0.3333333333333333,
              "#9c179e"
             ],
             [
              0.4444444444444444,
              "#bd3786"
             ],
             [
              0.5555555555555556,
              "#d8576b"
             ],
             [
              0.6666666666666666,
              "#ed7953"
             ],
             [
              0.7777777777777778,
              "#fb9f3a"
             ],
             [
              0.8888888888888888,
              "#fdca26"
             ],
             [
              1,
              "#f0f921"
             ]
            ],
            "type": "histogram2d"
           }
          ],
          "histogram2dcontour": [
           {
            "colorbar": {
             "outlinewidth": 0,
             "ticks": ""
            },
            "colorscale": [
             [
              0,
              "#0d0887"
             ],
             [
              0.1111111111111111,
              "#46039f"
             ],
             [
              0.2222222222222222,
              "#7201a8"
             ],
             [
              0.3333333333333333,
              "#9c179e"
             ],
             [
              0.4444444444444444,
              "#bd3786"
             ],
             [
              0.5555555555555556,
              "#d8576b"
             ],
             [
              0.6666666666666666,
              "#ed7953"
             ],
             [
              0.7777777777777778,
              "#fb9f3a"
             ],
             [
              0.8888888888888888,
              "#fdca26"
             ],
             [
              1,
              "#f0f921"
             ]
            ],
            "type": "histogram2dcontour"
           }
          ],
          "mesh3d": [
           {
            "colorbar": {
             "outlinewidth": 0,
             "ticks": ""
            },
            "type": "mesh3d"
           }
          ],
          "parcoords": [
           {
            "line": {
             "colorbar": {
              "outlinewidth": 0,
              "ticks": ""
             }
            },
            "type": "parcoords"
           }
          ],
          "pie": [
           {
            "automargin": true,
            "type": "pie"
           }
          ],
          "scatter": [
           {
            "fillpattern": {
             "fillmode": "overlay",
             "size": 10,
             "solidity": 0.2
            },
            "type": "scatter"
           }
          ],
          "scatter3d": [
           {
            "line": {
             "colorbar": {
              "outlinewidth": 0,
              "ticks": ""
             }
            },
            "marker": {
             "colorbar": {
              "outlinewidth": 0,
              "ticks": ""
             }
            },
            "type": "scatter3d"
           }
          ],
          "scattercarpet": [
           {
            "marker": {
             "colorbar": {
              "outlinewidth": 0,
              "ticks": ""
             }
            },
            "type": "scattercarpet"
           }
          ],
          "scattergeo": [
           {
            "marker": {
             "colorbar": {
              "outlinewidth": 0,
              "ticks": ""
             }
            },
            "type": "scattergeo"
           }
          ],
          "scattergl": [
           {
            "marker": {
             "colorbar": {
              "outlinewidth": 0,
              "ticks": ""
             }
            },
            "type": "scattergl"
           }
          ],
          "scattermapbox": [
           {
            "marker": {
             "colorbar": {
              "outlinewidth": 0,
              "ticks": ""
             }
            },
            "type": "scattermapbox"
           }
          ],
          "scatterpolar": [
           {
            "marker": {
             "colorbar": {
              "outlinewidth": 0,
              "ticks": ""
             }
            },
            "type": "scatterpolar"
           }
          ],
          "scatterpolargl": [
           {
            "marker": {
             "colorbar": {
              "outlinewidth": 0,
              "ticks": ""
             }
            },
            "type": "scatterpolargl"
           }
          ],
          "scatterternary": [
           {
            "marker": {
             "colorbar": {
              "outlinewidth": 0,
              "ticks": ""
             }
            },
            "type": "scatterternary"
           }
          ],
          "surface": [
           {
            "colorbar": {
             "outlinewidth": 0,
             "ticks": ""
            },
            "colorscale": [
             [
              0,
              "#0d0887"
             ],
             [
              0.1111111111111111,
              "#46039f"
             ],
             [
              0.2222222222222222,
              "#7201a8"
             ],
             [
              0.3333333333333333,
              "#9c179e"
             ],
             [
              0.4444444444444444,
              "#bd3786"
             ],
             [
              0.5555555555555556,
              "#d8576b"
             ],
             [
              0.6666666666666666,
              "#ed7953"
             ],
             [
              0.7777777777777778,
              "#fb9f3a"
             ],
             [
              0.8888888888888888,
              "#fdca26"
             ],
             [
              1,
              "#f0f921"
             ]
            ],
            "type": "surface"
           }
          ],
          "table": [
           {
            "cells": {
             "fill": {
              "color": "#EBF0F8"
             },
             "line": {
              "color": "white"
             }
            },
            "header": {
             "fill": {
              "color": "#C8D4E3"
             },
             "line": {
              "color": "white"
             }
            },
            "type": "table"
           }
          ]
         },
         "layout": {
          "annotationdefaults": {
           "arrowcolor": "#2a3f5f",
           "arrowhead": 0,
           "arrowwidth": 1
          },
          "autotypenumbers": "strict",
          "coloraxis": {
           "colorbar": {
            "outlinewidth": 0,
            "ticks": ""
           }
          },
          "colorscale": {
           "diverging": [
            [
             0,
             "#8e0152"
            ],
            [
             0.1,
             "#c51b7d"
            ],
            [
             0.2,
             "#de77ae"
            ],
            [
             0.3,
             "#f1b6da"
            ],
            [
             0.4,
             "#fde0ef"
            ],
            [
             0.5,
             "#f7f7f7"
            ],
            [
             0.6,
             "#e6f5d0"
            ],
            [
             0.7,
             "#b8e186"
            ],
            [
             0.8,
             "#7fbc41"
            ],
            [
             0.9,
             "#4d9221"
            ],
            [
             1,
             "#276419"
            ]
           ],
           "sequential": [
            [
             0,
             "#0d0887"
            ],
            [
             0.1111111111111111,
             "#46039f"
            ],
            [
             0.2222222222222222,
             "#7201a8"
            ],
            [
             0.3333333333333333,
             "#9c179e"
            ],
            [
             0.4444444444444444,
             "#bd3786"
            ],
            [
             0.5555555555555556,
             "#d8576b"
            ],
            [
             0.6666666666666666,
             "#ed7953"
            ],
            [
             0.7777777777777778,
             "#fb9f3a"
            ],
            [
             0.8888888888888888,
             "#fdca26"
            ],
            [
             1,
             "#f0f921"
            ]
           ],
           "sequentialminus": [
            [
             0,
             "#0d0887"
            ],
            [
             0.1111111111111111,
             "#46039f"
            ],
            [
             0.2222222222222222,
             "#7201a8"
            ],
            [
             0.3333333333333333,
             "#9c179e"
            ],
            [
             0.4444444444444444,
             "#bd3786"
            ],
            [
             0.5555555555555556,
             "#d8576b"
            ],
            [
             0.6666666666666666,
             "#ed7953"
            ],
            [
             0.7777777777777778,
             "#fb9f3a"
            ],
            [
             0.8888888888888888,
             "#fdca26"
            ],
            [
             1,
             "#f0f921"
            ]
           ]
          },
          "colorway": [
           "#636efa",
           "#EF553B",
           "#00cc96",
           "#ab63fa",
           "#FFA15A",
           "#19d3f3",
           "#FF6692",
           "#B6E880",
           "#FF97FF",
           "#FECB52"
          ],
          "font": {
           "color": "#2a3f5f"
          },
          "geo": {
           "bgcolor": "white",
           "lakecolor": "white",
           "landcolor": "#E5ECF6",
           "showlakes": true,
           "showland": true,
           "subunitcolor": "white"
          },
          "hoverlabel": {
           "align": "left"
          },
          "hovermode": "closest",
          "mapbox": {
           "style": "light"
          },
          "paper_bgcolor": "white",
          "plot_bgcolor": "#E5ECF6",
          "polar": {
           "angularaxis": {
            "gridcolor": "white",
            "linecolor": "white",
            "ticks": ""
           },
           "bgcolor": "#E5ECF6",
           "radialaxis": {
            "gridcolor": "white",
            "linecolor": "white",
            "ticks": ""
           }
          },
          "scene": {
           "xaxis": {
            "backgroundcolor": "#E5ECF6",
            "gridcolor": "white",
            "gridwidth": 2,
            "linecolor": "white",
            "showbackground": true,
            "ticks": "",
            "zerolinecolor": "white"
           },
           "yaxis": {
            "backgroundcolor": "#E5ECF6",
            "gridcolor": "white",
            "gridwidth": 2,
            "linecolor": "white",
            "showbackground": true,
            "ticks": "",
            "zerolinecolor": "white"
           },
           "zaxis": {
            "backgroundcolor": "#E5ECF6",
            "gridcolor": "white",
            "gridwidth": 2,
            "linecolor": "white",
            "showbackground": true,
            "ticks": "",
            "zerolinecolor": "white"
           }
          },
          "shapedefaults": {
           "line": {
            "color": "#2a3f5f"
           }
          },
          "ternary": {
           "aaxis": {
            "gridcolor": "white",
            "linecolor": "white",
            "ticks": ""
           },
           "baxis": {
            "gridcolor": "white",
            "linecolor": "white",
            "ticks": ""
           },
           "bgcolor": "#E5ECF6",
           "caxis": {
            "gridcolor": "white",
            "linecolor": "white",
            "ticks": ""
           }
          },
          "title": {
           "x": 0.05
          },
          "xaxis": {
           "automargin": true,
           "gridcolor": "white",
           "linecolor": "white",
           "ticks": "",
           "title": {
            "standoff": 15
           },
           "zerolinecolor": "white",
           "zerolinewidth": 2
          },
          "yaxis": {
           "automargin": true,
           "gridcolor": "white",
           "linecolor": "white",
           "ticks": "",
           "title": {
            "standoff": 15
           },
           "zerolinecolor": "white",
           "zerolinewidth": 2
          }
         }
        },
        "width": 700
       }
      }
     },
     "metadata": {},
     "output_type": "display_data"
    },
    {
     "data": {
      "application/vnd.plotly.v1+json": {
       "config": {
        "plotlyServerURL": "https://plot.ly"
       },
       "data": [
        {
         "hoverinfo": "text",
         "marker": {
          "color": [
           6
          ],
          "colorscale": [
           [
            0,
            "#440154"
           ],
           [
            0.1111111111111111,
            "#482878"
           ],
           [
            0.2222222222222222,
            "#3e4989"
           ],
           [
            0.3333333333333333,
            "#31688e"
           ],
           [
            0.4444444444444444,
            "#26828e"
           ],
           [
            0.5555555555555556,
            "#1f9e89"
           ],
           [
            0.6666666666666666,
            "#35b779"
           ],
           [
            0.7777777777777778,
            "#6ece58"
           ],
           [
            0.8888888888888888,
            "#b5de2b"
           ],
           [
            1,
            "#fde725"
           ]
          ],
          "opacity": 0.8,
          "size": 5,
          "symbol": "circle"
         },
         "mode": "markers",
         "text": [
          "O"
         ],
         "type": "scatter3d",
         "x": [
          4.428015328530376
         ],
         "y": [
          0.28546709417080557
         ],
         "z": [
          -1.0078875805255334
         ]
        },
        {
         "hoverinfo": "text",
         "marker": {
          "color": [
           1,
           1,
           1,
           1,
           3,
           3,
           3,
           4,
           6,
           6,
           6,
           6,
           6,
           6,
           6,
           6,
           6,
           6,
           6,
           6,
           6,
           6,
           5,
           6,
           6,
           4,
           6,
           6,
           4,
           6,
           6,
           6,
           6
          ],
          "colorscale": [
           [
            0,
            "#440154"
           ],
           [
            0.1111111111111111,
            "#482878"
           ],
           [
            0.2222222222222222,
            "#3e4989"
           ],
           [
            0.3333333333333333,
            "#31688e"
           ],
           [
            0.4444444444444444,
            "#26828e"
           ],
           [
            0.5555555555555556,
            "#1f9e89"
           ],
           [
            0.6666666666666666,
            "#35b779"
           ],
           [
            0.7777777777777778,
            "#6ece58"
           ],
           [
            0.8888888888888888,
            "#b5de2b"
           ],
           [
            1,
            "#fde725"
           ]
          ],
          "opacity": 0.8,
          "size": 5,
          "symbol": "diamond"
         },
         "mode": "markers",
         "text": [
          "Sb",
          "Sb",
          "Sb",
          "Sb",
          "Ge",
          "Ge",
          "Ge",
          "Si",
          "O",
          "O",
          "O",
          "O",
          "O",
          "O",
          "O",
          "O",
          "O",
          "O",
          "O",
          "O",
          "O",
          "O",
          "Na",
          "O",
          "O",
          "Si",
          "O",
          "O",
          "Si",
          "O",
          "O",
          "O",
          "O"
         ],
         "type": "scatter3d",
         "x": [
          1.5982789999999998,
          4.104596000000001,
          0.38539800000000035,
          1.0470590000000009,
          1.960559,
          -1.8428670000000018,
          -1.441711999999999,
          4.1653839999999995,
          0.1944720000000011,
          -0.5660799999999995,
          0.04781000000000013,
          -2.461870000000001,
          2.2226800000000004,
          4.374359999999999,
          5.241650999999999,
          -1.9396580000000014,
          1.019646999999999,
          2.7276480000000003,
          1.2575059999999993,
          -3.0313499999999998,
          2.6424339999999997,
          5.176579,
          -4.099208000000001,
          -1.1628469999999993,
          4.2739910000000005,
          1.1385014564546392,
          0.5266694076352781,
          -0.4331476344429247,
          -1.0901625435453601,
          0.270393073637331,
          -0.8633175435453602,
          1.1959345471517124,
          -0.3718827797781765
         ],
         "y": [
          3.6457210000000018,
          3.029922000000001,
          2.4557610000000007,
          2.4084000000000003,
          2.7243140000000015,
          4.431564000000002,
          2.3832380000000004,
          2.8812250000000006,
          2.868539,
          4.176868000000001,
          3.9712830000000015,
          3.6587960000000006,
          3.0236170000000016,
          2.2094130000000014,
          2.7340790000000013,
          1.945672,
          2.077173,
          4.206485000000001,
          2.273733000000002,
          4.325731000000001,
          3.466812000000001,
          4.130923000000001,
          2.576423,
          4.267608000000001,
          1.7345940000000013,
          3.270208143118994,
          2.4133440103135033,
          3.1963284550325533,
          3.165338143118994,
          1.8425429939375926,
          4.134379143118995,
          2.7245445605055956,
          1.8384270726113847
         ],
         "z": [
          0.5615810000000003,
          -5.2492920000000005,
          -5.346079,
          3.8928780000000014,
          -2.4344099999999997,
          -0.38092100000000073,
          -2.5603999999999996,
          3.535831,
          -3.0924560000000003,
          -5.646465000000001,
          3.5105190000000004,
          -1.8827829999999999,
          -4.381571000000001,
          2.0674100000000006,
          -3.592866000000001,
          -4.148141000000001,
          1.7352739999999987,
          -1.7859670000000012,
          -0.7566860000000002,
          0.8509709999999995,
          3.564393000000001,
          3.8384349999999987,
          4.106719999999999,
          5.902368999999999,
          4.712675,
          -0.25819330923359196,
          -1.6065051284683665,
          0.036379338787077886,
          4.057699690766407,
          3.6015511316454005,
          2.607140690766408,
          0.45088697476777284,
          2.8261840238128446
         ]
        },
        {
         "hoverinfo": "text",
         "marker": {
          "color": [
           1,
           1,
           3,
           3,
           3,
           4,
           6,
           6,
           6,
           6,
           6,
           6,
           6,
           6,
           6,
           6,
           6,
           6,
           1,
           6,
           6,
           4,
           4,
           6,
           6,
           6,
           6,
           4
          ],
          "colorscale": [
           [
            0,
            "#440154"
           ],
           [
            0.1111111111111111,
            "#482878"
           ],
           [
            0.2222222222222222,
            "#3e4989"
           ],
           [
            0.3333333333333333,
            "#31688e"
           ],
           [
            0.4444444444444444,
            "#26828e"
           ],
           [
            0.5555555555555556,
            "#1f9e89"
           ],
           [
            0.6666666666666666,
            "#35b779"
           ],
           [
            0.7777777777777778,
            "#6ece58"
           ],
           [
            0.8888888888888888,
            "#b5de2b"
           ],
           [
            1,
            "#fde725"
           ]
          ],
          "opacity": 0.8,
          "size": 5,
          "symbol": "diamond"
         },
         "mode": "markers",
         "text": [
          "Sb",
          "Sb",
          "Ge",
          "Ge",
          "Ge",
          "Si",
          "O",
          "O",
          "O",
          "O",
          "O",
          "O",
          "O",
          "O",
          "O",
          "O",
          "O",
          "O",
          "Sb",
          "O",
          "O",
          "Si",
          "Si",
          "O",
          "O",
          "O",
          "O",
          "Si"
         ],
         "type": "scatter3d",
         "x": [
          0.7969489999999997,
          4.698104000000001,
          -1.8873420000000003,
          3.957395,
          -4.2036370000000005,
          2.180046000000001,
          -3.4745150000000002,
          2.6984449999999995,
          1.97363,
          -0.953793000000001,
          5.65006,
          0.7698959999999992,
          3.9677050000000005,
          -1.7219209999999983,
          -3.5273329999999987,
          5.455321,
          -0.5796510000000001,
          -2.7372739999999993,
          -0.09485199999999949,
          1.8091910000000002,
          3.65334,
          -1.1705176701498365,
          -1.29655427190867,
          1.3011239167823252,
          -1.1379768260790062,
          -1.3363920832176763,
          -0.5218280832176756,
          -0.45642843842963426
         ],
         "y": [
          -2.4658919999999993,
          -2.2113709999999998,
          -3.423259999999999,
          -3.1263059999999996,
          -2.879943999999999,
          -2.3432779999999998,
          -4.049852999999999,
          -3.517539999999999,
          -3.0613919999999997,
          -2.0322619999999993,
          -3.559843999999999,
          -1.7085969999999993,
          -3.6210359999999993,
          -3.3704599999999996,
          -2.8661209999999997,
          -2.644181999999999,
          -3.3850549999999995,
          -3.7957709999999993,
          -1.825937999999999,
          -2.1167479999999994,
          -4.0783049999999985,
          -3.5945924624428827,
          -3.4806792224869314,
          -4.43425741750434,
          -3.884425900686126,
          -2.6133664175043405,
          -2.6042974175043403,
          -3.2445404006082255
         ],
         "z": [
          -4.552469,
          -4.8826529999999995,
          -3.089163000000001,
          3.179373,
          1.5188079999999982,
          0.9048460000000009,
          3.8831879999999988,
          2.0315819999999984,
          -0.5321040000000004,
          -3.6700920000000004,
          2.6708279999999984,
          1.3903820000000007,
          -3.662769000000001,
          -1.3376770000000011,
          -3.611614000000001,
          -0.10802600000000062,
          4.006603,
          1.297409,
          5.3262,
          5.815417,
          4.655602,
          0.8379353862043587,
          -4.08887042616266,
          1.9603011090833409,
          2.526500097521482,
          -4.9819918909166585,
          -2.4726138909166586,
          -1.0942019279747206
         ]
        }
       ],
       "layout": {
        "margin": {
         "b": 10,
         "l": 10,
         "r": 20,
         "t": 10
        },
        "scene": {
         "xaxis": {
          "title": {
           "text": "X"
          }
         },
         "yaxis": {
          "title": {
           "text": "Y"
          }
         },
         "zaxis": {
          "title": {
           "text": "Z"
          }
         }
        },
        "showlegend": false,
        "template": {
         "data": {
          "bar": [
           {
            "error_x": {
             "color": "#2a3f5f"
            },
            "error_y": {
             "color": "#2a3f5f"
            },
            "marker": {
             "line": {
              "color": "#E5ECF6",
              "width": 0.5
             },
             "pattern": {
              "fillmode": "overlay",
              "size": 10,
              "solidity": 0.2
             }
            },
            "type": "bar"
           }
          ],
          "barpolar": [
           {
            "marker": {
             "line": {
              "color": "#E5ECF6",
              "width": 0.5
             },
             "pattern": {
              "fillmode": "overlay",
              "size": 10,
              "solidity": 0.2
             }
            },
            "type": "barpolar"
           }
          ],
          "carpet": [
           {
            "aaxis": {
             "endlinecolor": "#2a3f5f",
             "gridcolor": "white",
             "linecolor": "white",
             "minorgridcolor": "white",
             "startlinecolor": "#2a3f5f"
            },
            "baxis": {
             "endlinecolor": "#2a3f5f",
             "gridcolor": "white",
             "linecolor": "white",
             "minorgridcolor": "white",
             "startlinecolor": "#2a3f5f"
            },
            "type": "carpet"
           }
          ],
          "choropleth": [
           {
            "colorbar": {
             "outlinewidth": 0,
             "ticks": ""
            },
            "type": "choropleth"
           }
          ],
          "contour": [
           {
            "colorbar": {
             "outlinewidth": 0,
             "ticks": ""
            },
            "colorscale": [
             [
              0,
              "#0d0887"
             ],
             [
              0.1111111111111111,
              "#46039f"
             ],
             [
              0.2222222222222222,
              "#7201a8"
             ],
             [
              0.3333333333333333,
              "#9c179e"
             ],
             [
              0.4444444444444444,
              "#bd3786"
             ],
             [
              0.5555555555555556,
              "#d8576b"
             ],
             [
              0.6666666666666666,
              "#ed7953"
             ],
             [
              0.7777777777777778,
              "#fb9f3a"
             ],
             [
              0.8888888888888888,
              "#fdca26"
             ],
             [
              1,
              "#f0f921"
             ]
            ],
            "type": "contour"
           }
          ],
          "contourcarpet": [
           {
            "colorbar": {
             "outlinewidth": 0,
             "ticks": ""
            },
            "type": "contourcarpet"
           }
          ],
          "heatmap": [
           {
            "colorbar": {
             "outlinewidth": 0,
             "ticks": ""
            },
            "colorscale": [
             [
              0,
              "#0d0887"
             ],
             [
              0.1111111111111111,
              "#46039f"
             ],
             [
              0.2222222222222222,
              "#7201a8"
             ],
             [
              0.3333333333333333,
              "#9c179e"
             ],
             [
              0.4444444444444444,
              "#bd3786"
             ],
             [
              0.5555555555555556,
              "#d8576b"
             ],
             [
              0.6666666666666666,
              "#ed7953"
             ],
             [
              0.7777777777777778,
              "#fb9f3a"
             ],
             [
              0.8888888888888888,
              "#fdca26"
             ],
             [
              1,
              "#f0f921"
             ]
            ],
            "type": "heatmap"
           }
          ],
          "heatmapgl": [
           {
            "colorbar": {
             "outlinewidth": 0,
             "ticks": ""
            },
            "colorscale": [
             [
              0,
              "#0d0887"
             ],
             [
              0.1111111111111111,
              "#46039f"
             ],
             [
              0.2222222222222222,
              "#7201a8"
             ],
             [
              0.3333333333333333,
              "#9c179e"
             ],
             [
              0.4444444444444444,
              "#bd3786"
             ],
             [
              0.5555555555555556,
              "#d8576b"
             ],
             [
              0.6666666666666666,
              "#ed7953"
             ],
             [
              0.7777777777777778,
              "#fb9f3a"
             ],
             [
              0.8888888888888888,
              "#fdca26"
             ],
             [
              1,
              "#f0f921"
             ]
            ],
            "type": "heatmapgl"
           }
          ],
          "histogram": [
           {
            "marker": {
             "pattern": {
              "fillmode": "overlay",
              "size": 10,
              "solidity": 0.2
             }
            },
            "type": "histogram"
           }
          ],
          "histogram2d": [
           {
            "colorbar": {
             "outlinewidth": 0,
             "ticks": ""
            },
            "colorscale": [
             [
              0,
              "#0d0887"
             ],
             [
              0.1111111111111111,
              "#46039f"
             ],
             [
              0.2222222222222222,
              "#7201a8"
             ],
             [
              0.3333333333333333,
              "#9c179e"
             ],
             [
              0.4444444444444444,
              "#bd3786"
             ],
             [
              0.5555555555555556,
              "#d8576b"
             ],
             [
              0.6666666666666666,
              "#ed7953"
             ],
             [
              0.7777777777777778,
              "#fb9f3a"
             ],
             [
              0.8888888888888888,
              "#fdca26"
             ],
             [
              1,
              "#f0f921"
             ]
            ],
            "type": "histogram2d"
           }
          ],
          "histogram2dcontour": [
           {
            "colorbar": {
             "outlinewidth": 0,
             "ticks": ""
            },
            "colorscale": [
             [
              0,
              "#0d0887"
             ],
             [
              0.1111111111111111,
              "#46039f"
             ],
             [
              0.2222222222222222,
              "#7201a8"
             ],
             [
              0.3333333333333333,
              "#9c179e"
             ],
             [
              0.4444444444444444,
              "#bd3786"
             ],
             [
              0.5555555555555556,
              "#d8576b"
             ],
             [
              0.6666666666666666,
              "#ed7953"
             ],
             [
              0.7777777777777778,
              "#fb9f3a"
             ],
             [
              0.8888888888888888,
              "#fdca26"
             ],
             [
              1,
              "#f0f921"
             ]
            ],
            "type": "histogram2dcontour"
           }
          ],
          "mesh3d": [
           {
            "colorbar": {
             "outlinewidth": 0,
             "ticks": ""
            },
            "type": "mesh3d"
           }
          ],
          "parcoords": [
           {
            "line": {
             "colorbar": {
              "outlinewidth": 0,
              "ticks": ""
             }
            },
            "type": "parcoords"
           }
          ],
          "pie": [
           {
            "automargin": true,
            "type": "pie"
           }
          ],
          "scatter": [
           {
            "fillpattern": {
             "fillmode": "overlay",
             "size": 10,
             "solidity": 0.2
            },
            "type": "scatter"
           }
          ],
          "scatter3d": [
           {
            "line": {
             "colorbar": {
              "outlinewidth": 0,
              "ticks": ""
             }
            },
            "marker": {
             "colorbar": {
              "outlinewidth": 0,
              "ticks": ""
             }
            },
            "type": "scatter3d"
           }
          ],
          "scattercarpet": [
           {
            "marker": {
             "colorbar": {
              "outlinewidth": 0,
              "ticks": ""
             }
            },
            "type": "scattercarpet"
           }
          ],
          "scattergeo": [
           {
            "marker": {
             "colorbar": {
              "outlinewidth": 0,
              "ticks": ""
             }
            },
            "type": "scattergeo"
           }
          ],
          "scattergl": [
           {
            "marker": {
             "colorbar": {
              "outlinewidth": 0,
              "ticks": ""
             }
            },
            "type": "scattergl"
           }
          ],
          "scattermapbox": [
           {
            "marker": {
             "colorbar": {
              "outlinewidth": 0,
              "ticks": ""
             }
            },
            "type": "scattermapbox"
           }
          ],
          "scatterpolar": [
           {
            "marker": {
             "colorbar": {
              "outlinewidth": 0,
              "ticks": ""
             }
            },
            "type": "scatterpolar"
           }
          ],
          "scatterpolargl": [
           {
            "marker": {
             "colorbar": {
              "outlinewidth": 0,
              "ticks": ""
             }
            },
            "type": "scatterpolargl"
           }
          ],
          "scatterternary": [
           {
            "marker": {
             "colorbar": {
              "outlinewidth": 0,
              "ticks": ""
             }
            },
            "type": "scatterternary"
           }
          ],
          "surface": [
           {
            "colorbar": {
             "outlinewidth": 0,
             "ticks": ""
            },
            "colorscale": [
             [
              0,
              "#0d0887"
             ],
             [
              0.1111111111111111,
              "#46039f"
             ],
             [
              0.2222222222222222,
              "#7201a8"
             ],
             [
              0.3333333333333333,
              "#9c179e"
             ],
             [
              0.4444444444444444,
              "#bd3786"
             ],
             [
              0.5555555555555556,
              "#d8576b"
             ],
             [
              0.6666666666666666,
              "#ed7953"
             ],
             [
              0.7777777777777778,
              "#fb9f3a"
             ],
             [
              0.8888888888888888,
              "#fdca26"
             ],
             [
              1,
              "#f0f921"
             ]
            ],
            "type": "surface"
           }
          ],
          "table": [
           {
            "cells": {
             "fill": {
              "color": "#EBF0F8"
             },
             "line": {
              "color": "white"
             }
            },
            "header": {
             "fill": {
              "color": "#C8D4E3"
             },
             "line": {
              "color": "white"
             }
            },
            "type": "table"
           }
          ]
         },
         "layout": {
          "annotationdefaults": {
           "arrowcolor": "#2a3f5f",
           "arrowhead": 0,
           "arrowwidth": 1
          },
          "autotypenumbers": "strict",
          "coloraxis": {
           "colorbar": {
            "outlinewidth": 0,
            "ticks": ""
           }
          },
          "colorscale": {
           "diverging": [
            [
             0,
             "#8e0152"
            ],
            [
             0.1,
             "#c51b7d"
            ],
            [
             0.2,
             "#de77ae"
            ],
            [
             0.3,
             "#f1b6da"
            ],
            [
             0.4,
             "#fde0ef"
            ],
            [
             0.5,
             "#f7f7f7"
            ],
            [
             0.6,
             "#e6f5d0"
            ],
            [
             0.7,
             "#b8e186"
            ],
            [
             0.8,
             "#7fbc41"
            ],
            [
             0.9,
             "#4d9221"
            ],
            [
             1,
             "#276419"
            ]
           ],
           "sequential": [
            [
             0,
             "#0d0887"
            ],
            [
             0.1111111111111111,
             "#46039f"
            ],
            [
             0.2222222222222222,
             "#7201a8"
            ],
            [
             0.3333333333333333,
             "#9c179e"
            ],
            [
             0.4444444444444444,
             "#bd3786"
            ],
            [
             0.5555555555555556,
             "#d8576b"
            ],
            [
             0.6666666666666666,
             "#ed7953"
            ],
            [
             0.7777777777777778,
             "#fb9f3a"
            ],
            [
             0.8888888888888888,
             "#fdca26"
            ],
            [
             1,
             "#f0f921"
            ]
           ],
           "sequentialminus": [
            [
             0,
             "#0d0887"
            ],
            [
             0.1111111111111111,
             "#46039f"
            ],
            [
             0.2222222222222222,
             "#7201a8"
            ],
            [
             0.3333333333333333,
             "#9c179e"
            ],
            [
             0.4444444444444444,
             "#bd3786"
            ],
            [
             0.5555555555555556,
             "#d8576b"
            ],
            [
             0.6666666666666666,
             "#ed7953"
            ],
            [
             0.7777777777777778,
             "#fb9f3a"
            ],
            [
             0.8888888888888888,
             "#fdca26"
            ],
            [
             1,
             "#f0f921"
            ]
           ]
          },
          "colorway": [
           "#636efa",
           "#EF553B",
           "#00cc96",
           "#ab63fa",
           "#FFA15A",
           "#19d3f3",
           "#FF6692",
           "#B6E880",
           "#FF97FF",
           "#FECB52"
          ],
          "font": {
           "color": "#2a3f5f"
          },
          "geo": {
           "bgcolor": "white",
           "lakecolor": "white",
           "landcolor": "#E5ECF6",
           "showlakes": true,
           "showland": true,
           "subunitcolor": "white"
          },
          "hoverlabel": {
           "align": "left"
          },
          "hovermode": "closest",
          "mapbox": {
           "style": "light"
          },
          "paper_bgcolor": "white",
          "plot_bgcolor": "#E5ECF6",
          "polar": {
           "angularaxis": {
            "gridcolor": "white",
            "linecolor": "white",
            "ticks": ""
           },
           "bgcolor": "#E5ECF6",
           "radialaxis": {
            "gridcolor": "white",
            "linecolor": "white",
            "ticks": ""
           }
          },
          "scene": {
           "xaxis": {
            "backgroundcolor": "#E5ECF6",
            "gridcolor": "white",
            "gridwidth": 2,
            "linecolor": "white",
            "showbackground": true,
            "ticks": "",
            "zerolinecolor": "white"
           },
           "yaxis": {
            "backgroundcolor": "#E5ECF6",
            "gridcolor": "white",
            "gridwidth": 2,
            "linecolor": "white",
            "showbackground": true,
            "ticks": "",
            "zerolinecolor": "white"
           },
           "zaxis": {
            "backgroundcolor": "#E5ECF6",
            "gridcolor": "white",
            "gridwidth": 2,
            "linecolor": "white",
            "showbackground": true,
            "ticks": "",
            "zerolinecolor": "white"
           }
          },
          "shapedefaults": {
           "line": {
            "color": "#2a3f5f"
           }
          },
          "ternary": {
           "aaxis": {
            "gridcolor": "white",
            "linecolor": "white",
            "ticks": ""
           },
           "baxis": {
            "gridcolor": "white",
            "linecolor": "white",
            "ticks": ""
           },
           "bgcolor": "#E5ECF6",
           "caxis": {
            "gridcolor": "white",
            "linecolor": "white",
            "ticks": ""
           }
          },
          "title": {
           "x": 0.05
          },
          "xaxis": {
           "automargin": true,
           "gridcolor": "white",
           "linecolor": "white",
           "ticks": "",
           "title": {
            "standoff": 15
           },
           "zerolinecolor": "white",
           "zerolinewidth": 2
          },
          "yaxis": {
           "automargin": true,
           "gridcolor": "white",
           "linecolor": "white",
           "ticks": "",
           "title": {
            "standoff": 15
           },
           "zerolinecolor": "white",
           "zerolinewidth": 2
          }
         }
        },
        "width": 700
       }
      }
     },
     "metadata": {},
     "output_type": "display_data"
    }
   ],
   "source": [
    "ea_z.plot_fitness()\n",
    "best_solution_z = ea_z.get_best_solution()\n",
    "\n",
    "plot_atoms(best_solution_z, atom_species_by_index)\n",
    "plot_solution_with_walls((wall_down, wall_up), best_solution_z, atom_species_by_index)"
   ]
  },
  {
   "cell_type": "markdown",
   "metadata": {},
   "source": [
    "#### Export results"
   ]
  },
  {
   "cell_type": "code",
   "execution_count": 53,
   "metadata": {},
   "outputs": [],
   "source": [
    "export_to_xcrysden(er_cluster, best_solution_x, best_solution_y, best_solution_z, cluster_size, solution_thickness, atom_species_by_index, 'data/sol.in')"
   ]
  },
  {
   "cell_type": "code",
   "execution_count": 54,
   "metadata": {},
   "outputs": [],
   "source": [
    "export_to_xcrysden(er_cluster, best_solution_x, None, None, cluster_size, solution_thickness, atom_species_by_index, 'data/sol_x.in')"
   ]
  },
  {
   "cell_type": "markdown",
   "metadata": {},
   "source": [
    "#### Fitness analysis"
   ]
  },
  {
   "cell_type": "code",
   "execution_count": 55,
   "metadata": {},
   "outputs": [
    {
     "data": {
      "text/plain": [
       "np.float64(-891.2421155659964)"
      ]
     },
     "execution_count": 55,
     "metadata": {},
     "output_type": "execute_result"
    }
   ],
   "source": [
    "fitness_x(wall_left, wall_right, best_solution_x, atom_species_by_symbol, cluster_size, wall_thickness, solution_thickness, alpha, beta, gamma)"
   ]
  },
  {
   "cell_type": "code",
   "execution_count": 56,
   "metadata": {},
   "outputs": [
    {
     "data": {
      "text/plain": [
       "0.15736659129507888"
      ]
     },
     "execution_count": 56,
     "metadata": {},
     "output_type": "execute_result"
    }
   ],
   "source": [
    "penalty_density(np.concat([wall_left, wall_right, best_solution_x]), 2 * wall_thickness + solution_thickness, cluster_size, cluster_size, atom_species_by_symbol)"
   ]
  },
  {
   "cell_type": "code",
   "execution_count": 57,
   "metadata": {},
   "outputs": [
    {
     "data": {
      "text/plain": [
       "np.float64(23.0)"
      ]
     },
     "execution_count": 57,
     "metadata": {},
     "output_type": "execute_result"
    }
   ],
   "source": [
    "penalty_distances(np.concat([wall_left, wall_right, best_solution_x]), atom_species_by_symbol)"
   ]
  },
  {
   "cell_type": "code",
   "execution_count": 61,
   "metadata": {},
   "outputs": [
    {
     "data": {
      "text/plain": [
       "np.float64(0.0)"
      ]
     },
     "execution_count": 61,
     "metadata": {},
     "output_type": "execute_result"
    }
   ],
   "source": [
    "penalty_angles(np.concat([wall_left, wall_right, best_solution_x]), atom_species_by_symbol)"
   ]
  }
 ],
 "metadata": {
  "kernelspec": {
   "display_name": "Python 3",
   "language": "python",
   "name": "python3"
  },
  "language_info": {
   "codemirror_mode": {
    "name": "ipython",
    "version": 3
   },
   "file_extension": ".py",
   "mimetype": "text/x-python",
   "name": "python",
   "nbconvert_exporter": "python",
   "pygments_lexer": "ipython3",
   "version": "3.11.9"
  }
 },
 "nbformat": 4,
 "nbformat_minor": 2
}
