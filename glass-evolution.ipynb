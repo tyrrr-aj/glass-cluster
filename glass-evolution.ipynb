{
 "cells": [
  {
   "cell_type": "markdown",
   "metadata": {},
   "source": [
    "# Glass structure - evolutionary approach"
   ]
  },
  {
   "cell_type": "code",
   "execution_count": 1,
   "metadata": {},
   "outputs": [],
   "source": [
    "import numpy as np"
   ]
  },
  {
   "cell_type": "code",
   "execution_count": 2,
   "metadata": {},
   "outputs": [],
   "source": [
    "rng = np.random.default_rng()"
   ]
  },
  {
   "cell_type": "markdown",
   "metadata": {},
   "source": [
    "## Data preparation and utility functions"
   ]
  },
  {
   "cell_type": "code",
   "execution_count": 3,
   "metadata": {},
   "outputs": [],
   "source": [
    "from itertools import dropwhile, takewhile\n",
    "import re\n",
    "\n",
    "def read_atoms(input_path):\n",
    "    with open(input_path, 'r') as file:\n",
    "        lines = file.readlines()\n",
    "        \n",
    "        atom_spec_lines = list(takewhile(lambda line: line != 'ATOMIC_POSITIONS (angstrom)\\n', dropwhile(lambda line: line != 'ATOMIC_SPECIES\\n', lines)))[1:]\n",
    "        atom_species_by_index = {i: symbol for i, symbol in enumerate([line.split()[0] for line in atom_spec_lines])}\n",
    "        atom_species_by_symbol = {symbol: i for i, symbol in atom_species_by_index.items()}\n",
    "        \n",
    "        atom_pos_lines = list(dropwhile(lambda line: line != 'ATOMIC_POSITIONS (angstrom)\\n', lines))[1:-2]\n",
    "        atom_positions = [(float(x), float(y), float(z), atom_species_by_symbol[symbol]) for symbol, x, y, z in [line.split() for line in atom_pos_lines]]\n",
    "\n",
    "        cell_size_line = next(line for line in lines if line.startswith('  ibrav'))\n",
    "        cell_size_match = re.search(r'a=(\\d+(\\.\\d+)?)', cell_size_line)\n",
    "        cell_size = float(cell_size_match.group(1)) if cell_size_match else None\n",
    "\n",
    "    return atom_species_by_index, atom_species_by_symbol, np.array(atom_positions), cell_size"
   ]
  },
  {
   "cell_type": "code",
   "execution_count": 4,
   "metadata": {},
   "outputs": [],
   "source": [
    "def get_solution_size(cluster_size, solution_thickness, axis):\n",
    "    match axis:\n",
    "        case 0:\n",
    "            size_x = solution_thickness\n",
    "            size_y = cluster_size\n",
    "            size_z = cluster_size\n",
    "        case 1:\n",
    "            size_x = cluster_size + solution_thickness\n",
    "            size_y = solution_thickness\n",
    "            size_z = cluster_size\n",
    "        case 2:\n",
    "            size_x = cluster_size + solution_thickness\n",
    "            size_y = cluster_size + solution_thickness\n",
    "            size_z = solution_thickness\n",
    "\n",
    "    return size_x, size_y, size_z"
   ]
  },
  {
   "cell_type": "code",
   "execution_count": 5,
   "metadata": {},
   "outputs": [],
   "source": [
    "def get_atoms_in_cuboid(atoms, min_x, max_x, min_y, max_y, min_z, max_z):\n",
    "    return atoms[\n",
    "        (atoms[:, 0] > min_x)\n",
    "        & (atoms[:, 0] < max_x)\n",
    "        & (atoms[:, 1] > min_y)\n",
    "        & (atoms[:, 1] < max_y)\n",
    "        & (atoms[:, 2] > min_z)\n",
    "        & (atoms[:, 2] < max_z)\n",
    "    ]\n",
    "\n",
    "\n",
    "def cut_atoms(atoms, center, x_size, y_size, z_size):\n",
    "    x_min, x_max = center[0] - x_size/2, center[0] + x_size/2\n",
    "    y_min, y_max = center[1] - y_size/2, center[1] + y_size/2\n",
    "    z_min, z_max = center[2] - z_size/2, center[2] + z_size/2\n",
    "\n",
    "    center_coords = np.array(np.concat([center[:3], [0]]))\n",
    "\n",
    "    return get_atoms_in_cuboid(atoms, x_min, x_max, y_min, y_max, z_min, z_max) - center_coords"
   ]
  },
  {
   "cell_type": "code",
   "execution_count": 6,
   "metadata": {},
   "outputs": [],
   "source": [
    "def get_positioned_walls_x(cluster, cluster_size, wall_thickness, solution_thickness):\n",
    "    wall_x_left = cluster[cluster[:, 0] < -cluster_size / 2 + wall_thickness]\n",
    "    wall_x_right = cluster[cluster[:, 0] > cluster_size / 2 - wall_thickness]\n",
    "\n",
    "    wall_x_left_shifted = wall_x_left + np.array([cluster_size/2 + solution_thickness/2, 0, 0, 0])\n",
    "    wall_x_right_shifted = wall_x_right - np.array([cluster_size/2 + solution_thickness/2, 0, 0, 0])\n",
    "\n",
    "    return wall_x_left_shifted, wall_x_right_shifted\n",
    "\n",
    "\n",
    "def get_positioned_walls_y(solution_x, cluster, cluster_size, wall_thickness, solution_thickness):\n",
    "    atoms = np.concat([cluster, solution_x])\n",
    "\n",
    "    wall_y_bottom = atoms[atoms[:, 1] < -cluster_size / 2 + wall_thickness]\n",
    "    wall_y_top = atoms[atoms[:, 1] > cluster_size / 2 - wall_thickness]\n",
    "\n",
    "    wall_y_bottom_shifted = wall_y_bottom + np.array([0, cluster_size/2 + solution_thickness/2, 0, 0])\n",
    "    wall_y_top_shifted = wall_y_top - np.array([0, cluster_size/2 + solution_thickness/2, 0, 0])\n",
    "\n",
    "    return wall_y_bottom_shifted, wall_y_top_shifted\n",
    "\n",
    "\n",
    "def get_positioned_walls_z(solution_x, solution_y, cluster, cluster_size, wall_thickness, solution_thickness):\n",
    "    atoms = np.concat([cluster, solution_x, solution_y])\n",
    "\n",
    "    wall_z_back = atoms[atoms[:, 2] < -cluster_size / 2 + wall_thickness]\n",
    "    wall_z_front = atoms[atoms[:, 2] > cluster_size / 2 - wall_thickness]\n",
    "\n",
    "    wall_z_back_shifted = wall_z_back + np.array([0, 0, cluster_size/2 + solution_thickness/2, 0])\n",
    "    wall_z_front_shifted = wall_z_front - np.array([0, 0, cluster_size/2 + solution_thickness/2, 0])\n",
    "\n",
    "    return wall_z_back_shifted, wall_z_front_shifted"
   ]
  },
  {
   "cell_type": "code",
   "execution_count": 7,
   "metadata": {},
   "outputs": [],
   "source": [
    "def get_random_solution(supercell, cell_size, x_size, y_size, z_size):\n",
    "    center = rng.uniform(-cell_size/2, cell_size/2, 3)\n",
    "    return cut_atoms(supercell, center, x_size, y_size, z_size)\n",
    "\n",
    "\n",
    "def get_random_solution_without_Er(supercell, cell_size, atom_species_by_symbol, x_size, y_size, z_size):\n",
    "    solution = get_random_solution(supercell, cell_size, x_size, y_size, z_size)\n",
    "    while np.any(solution[:, 3] == atom_species_by_symbol['Er']):\n",
    "        solution = get_random_solution(supercell, cell_size, x_size, y_size, z_size)\n",
    "\n",
    "    return solution\n",
    "\n",
    "\n",
    "def get_n_random_solutions_without_Er(supercell, cell_size, atom_species_by_symbol, cluster_size, solution_thickness, axis, n):\n",
    "    x_size, y_size, z_size = get_solution_size(cluster_size, solution_thickness, axis)\n",
    "\n",
    "    return [get_random_solution_without_Er(supercell, cell_size, atom_species_by_symbol, x_size, y_size, z_size) for _ in range(n)]"
   ]
  },
  {
   "cell_type": "code",
   "execution_count": 8,
   "metadata": {},
   "outputs": [],
   "source": [
    "from itertools import product\n",
    "\n",
    "def get_supercell(cell, cell_size):\n",
    "    shift_options = [-cell_size, 0, cell_size]\n",
    "    return np.concat([cell + np.array(shift_vector + (0,)) for shift_vector in product(shift_options, repeat=3)])"
   ]
  },
  {
   "cell_type": "code",
   "execution_count": 9,
   "metadata": {},
   "outputs": [],
   "source": [
    "def get_Er_clusters(supercell, cluster_size, atom_species_by_symbol):\n",
    "    atoms_Er = supercell[supercell[:, 3] == atom_species_by_symbol['Er']]\n",
    "    return [cut_atoms(supercell, center, cluster_size, cluster_size, cluster_size) for center in atoms_Er]"
   ]
  },
  {
   "cell_type": "code",
   "execution_count": 10,
   "metadata": {},
   "outputs": [],
   "source": [
    "def replace_cations_with_Si(atom_groups, atom_species_by_symbol):\n",
    "    def replace_with_Si(atoms):\n",
    "        modified_atoms = atoms.copy()\n",
    "        modified_atoms[atoms[:, 3] != atom_species_by_symbol['O'], 3] = atom_species_by_symbol['Si']\n",
    "        return modified_atoms\n",
    "    \n",
    "    return [replace_with_Si(atoms) for atoms in atom_groups]"
   ]
  },
  {
   "cell_type": "code",
   "execution_count": 11,
   "metadata": {},
   "outputs": [],
   "source": [
    "import plotly.graph_objects as go\n",
    "import plotly.express as px\n",
    "from plotly.colors import sample_colorscale\n",
    "import pandas as pd\n",
    "\n",
    "\n",
    "def plot_atoms_with_default_colors(atoms, atom_species_by_index, marker_symbols, text, show_legend):\n",
    "    df = pd.DataFrame(atoms, columns=['x', 'y', 'z', 'species'])\n",
    "    df['species'] = [atom_species_by_index[i] for i in atoms[:, 3]]\n",
    "    df['text'] = text\n",
    "    fig = px.scatter_3d(df, x='x', y='y', z='z', color='species', labels={'species': 'Species'}, custom_data=['text'])\n",
    "    fig.update_traces(marker=dict(size=5, opacity=0.8, symbol=marker_symbols), text=text, hovertemplate='%{customdata[0]}', showlegend=show_legend)\n",
    "\n",
    "    return fig\n",
    "\n",
    "\n",
    "def plot_atoms_with_custom_colors(atoms, marker_symbols, colors, colorscale, text, colorbar_title=None):\n",
    "    fig = go.Figure()\n",
    "\n",
    "    fig.add_trace(go.Scatter3d(\n",
    "        x=atoms[:, 0],\n",
    "        y=atoms[:, 1],\n",
    "        z=atoms[:, 2],\n",
    "        mode='markers',\n",
    "        marker=dict(\n",
    "            size=5,\n",
    "            color=colors,\n",
    "            colorscale=colorscale,\n",
    "            showscale=True,\n",
    "            colorbar=dict(title=colorbar_title),\n",
    "            symbol=marker_symbols,\n",
    "            opacity=0.8\n",
    "        ),\n",
    "        text=text,\n",
    "        hoverinfo='text',\n",
    "        showlegend=False\n",
    "    ))\n",
    "\n",
    "    return fig\n",
    "\n",
    "\n",
    "def plot_lines(endpoints, colors, colorscale, texts, colorbar_title, fig):\n",
    "    if type(colors) is str:\n",
    "        colors_precomputed = [colors] * len(endpoints)\n",
    "        line_properties = lambda color: dict(color=color, width=3)\n",
    "        marker_properties = dict(showscale=False)\n",
    "\n",
    "    else:\n",
    "        colors_normalized = (colors - np.min(colors)) / (np.max(colors) - np.min(colors))\n",
    "        colors_precomputed = sample_colorscale(colorscale, colors_normalized)\n",
    "\n",
    "        line_properties = lambda color: dict(color=color, colorscale=colorscale, cmin=np.min(colors), cmax=np.max(colors), width=3)\n",
    "        marker_properties = dict(colorscale=colorscale, showscale=True, cmin=np.min(colors), cmax=np.max(colors), colorbar=dict(title=colorbar_title))\n",
    "\n",
    "    for line, color, text in zip(endpoints, colors_precomputed, texts):\n",
    "        fig.add_trace(go.Scatter3d(\n",
    "            x=[line[0][0], line[1][0]],\n",
    "            y=[line[0][1], line[1][1]],\n",
    "            z=[line[0][2], line[1][2]],\n",
    "            mode='lines',\n",
    "            line=line_properties(color),\n",
    "            text=text,\n",
    "            hoverinfo='text',\n",
    "            showlegend=False,\n",
    "        ))\n",
    "\n",
    "    fig.add_trace(go.Scatter3d(\n",
    "        x=[None],\n",
    "        y=[None],\n",
    "        z=[None],\n",
    "        mode='markers',\n",
    "        marker=marker_properties,\n",
    "        hoverinfo='skip',\n",
    "        showlegend=False\n",
    "    ))\n",
    "\n",
    "\n",
    "def plot_atom_connections(atoms, atom_species_by_symbol, fig):\n",
    "    conn_distance_O_O = 2.5\n",
    "    conn_distance_Si_Si = 2.9\n",
    "    conn_distance_Si_O = 1.9\n",
    "\n",
    "    atoms_O = atoms[atoms[:, 3] == atom_species_by_symbol['O']]\n",
    "    atoms_Si = atoms[atoms[:, 3] == atom_species_by_symbol['Si']]\n",
    "\n",
    "    dist_O_O = np.linalg.norm(atoms_O[:, None, :3] - atoms_O[:, :3], axis=-1)\n",
    "    dist_Si_Si = np.linalg.norm(atoms_Si[:, None, :3] - atoms_Si[:, :3], axis=-1)\n",
    "    dist_Si_O = np.linalg.norm(atoms_Si[:, None, :3] - atoms_O[:, :3], axis=-1)\n",
    "\n",
    "    neighs_O_O_indices = np.argwhere(np.logical_and(dist_O_O > 0, dist_O_O < conn_distance_O_O))\n",
    "    neighs_Si_Si_indices = np.argwhere(np.logical_and(dist_Si_Si > 0, dist_Si_Si < conn_distance_Si_Si))\n",
    "    neighs_Si_O_indices = np.argwhere(np.logical_and(dist_Si_O > 0, dist_Si_O < conn_distance_Si_O))\n",
    "\n",
    "    neighs_O_O = np.array([(atoms_O[i], atoms_O[j]) for i, j in neighs_O_O_indices])\n",
    "    neighs_Si_Si = np.array([(atoms_Si[i], atoms_Si[j]) for i, j in neighs_Si_Si_indices])\n",
    "    neighs_Si_O = np.array([(atoms_Si[i], atoms_O[j]) for i, j in neighs_Si_O_indices])\n",
    "\n",
    "    if len(neighs_O_O) == 0 and len(neighs_Si_Si) == 0 and len(neighs_Si_O) == 0:\n",
    "        return\n",
    "\n",
    "    neighs = np.concat([n for n in [neighs_O_O, neighs_Si_Si, neighs_Si_O] if len(n) > 0])\n",
    "\n",
    "    for pair in neighs:\n",
    "        fig.add_trace(go.Scatter3d(\n",
    "            x=[pair[0][0], pair[1][0]],\n",
    "            y=[pair[0][1], pair[1][1]],\n",
    "            z=[pair[0][2], pair[1][2]],\n",
    "            mode='lines',\n",
    "            line=dict(\n",
    "                color='black',\n",
    "                width=1,\n",
    "                showscale=False\n",
    "            ),\n",
    "            hoverinfo='skip',\n",
    "            showlegend=False\n",
    "        ))\n",
    "\n",
    "\n",
    "def setup_scene(fig, title):\n",
    "    fig.update_layout(\n",
    "        scene=dict(\n",
    "            aspectmode='data',\n",
    "            xaxis_title='X',\n",
    "            yaxis_title='Y',\n",
    "            zaxis_title='Z'\n",
    "        ),\n",
    "        width=700,\n",
    "        margin=dict(r=20, l=10, b=10, t=10),\n",
    "        title=dict(text=title, automargin=True, xanchor='center', yanchor='top', x=0.5, y=0.95)\n",
    "    )\n",
    "    \n",
    "\n",
    "def plot_atoms(atoms, atom_species_by_index, atom_species_by_symbol, custom_continuous_colors=None, symbols=None, text=None, colorbar_title=None, title=None, custom_lines=None, custom_lines_colors=None, custom_lines_text=None):   \n",
    "    '''\n",
    "    atoms: np.array of shape (n_atoms, 4) where the columns are x, y, z, species_index\n",
    "    atom_species_by_index: dict mapping species index to species symbol\n",
    "    atom_species_by_symbol: dict mapping species symbol to species index\n",
    "    custom_continuous_colors: np.array of shape (n_atoms,) with the colors for each atom\n",
    "    symbols: list of symbols for each atom\n",
    "    text: list of text for each atom\n",
    "    colorbar_title: title for the colorbar\n",
    "    title: title for the plot\n",
    "    custom_lines: list of pairs of endpoints for lines to be plotted\n",
    "    custom_lines_colors: np.array of shape (n_lines,) with the colors for each line\n",
    "    custom_lines_text: list of text for each line\n",
    "    '''\n",
    "\n",
    "    colorscale = 'Viridis'\n",
    "    \n",
    "    if symbols is None:\n",
    "        symbols = 'circle'\n",
    "\n",
    "    if text is None:\n",
    "        text = [atom_species_by_index[i] for i in atoms[:, 3]]\n",
    "\n",
    "    if custom_continuous_colors is None:\n",
    "        show_legend = custom_lines is None\n",
    "        fig = plot_atoms_with_default_colors(atoms, atom_species_by_index, symbols, text, show_legend)\n",
    "    else:\n",
    "        fig = plot_atoms_with_custom_colors(atoms, symbols, custom_continuous_colors, colorscale, text, colorbar_title)\n",
    "\n",
    "    if custom_lines is not None:\n",
    "        plot_lines(custom_lines, custom_lines_colors, colorscale, custom_lines_text, colorbar_title, fig)\n",
    "    else:\n",
    "        plot_atom_connections(atoms, atom_species_by_symbol, fig)\n",
    "    \n",
    "    setup_scene(fig, title)\n",
    "    fig.show()\n",
    "\n",
    "\n",
    "def plot_solution_with_walls(walls, solution, atom_species_by_index, atom_species_by_symbol, title=None):\n",
    "    all_atoms = np.concat([solution, *walls])\n",
    "    text = [atom_species_by_index[i] for i in all_atoms[:, 3]]\n",
    "    symbols = ['circle'] * len(solution) + ['diamond'] * (len(all_atoms) - len(solution))\n",
    "\n",
    "    plot_atoms(all_atoms, atom_species_by_index, atom_species_by_symbol, symbols=symbols, text=text, title=title)"
   ]
  },
  {
   "cell_type": "code",
   "execution_count": 12,
   "metadata": {},
   "outputs": [],
   "source": [
    "def split_and_shift_solution(solution, cluster_size, axis):\n",
    "    if solution is None:\n",
    "        return np.empty(shape=(0, 4))\n",
    "\n",
    "    shift_vector = np.array([0, 0, 0, 0])\n",
    "    shift_vector[axis] = cluster_size / 2\n",
    "\n",
    "    minor_half = solution[solution[:, axis] < 0]\n",
    "    major_half = solution[solution[:, axis] >= 0]\n",
    "    \n",
    "    minor_half_shifted = minor_half - shift_vector\n",
    "    major_half_shifted = major_half + shift_vector\n",
    "\n",
    "    return np.concat([minor_half_shifted, major_half_shifted])\n",
    "\n",
    "\n",
    "def export_to_xcrysden(cluster, x_solution, y_solution, z_solution, cluster_size, solution_thickness, atom_species_by_index, filename):\n",
    "    x_solution_shifted = split_and_shift_solution(x_solution, cluster_size, 0)\n",
    "    y_solution_shifted = split_and_shift_solution(y_solution, cluster_size, 1)\n",
    "    z_solution_shifted = split_and_shift_solution(z_solution, cluster_size, 2)\n",
    "\n",
    "    all_atoms = np.concat([cluster, x_solution_shifted, y_solution_shifted, z_solution_shifted])\n",
    "    n_atoms = len(all_atoms)\n",
    "    cell_size = cluster_size + solution_thickness\n",
    "    \n",
    "    preamble = f'''cell \n",
    "&CONTROL\n",
    "  calculation='scf'\n",
    "  restart_mode='from_scratch'\n",
    "  pseudo_dir = './pseudo/',\n",
    "  outdir='./tmp/'\n",
    "  prefix='cell',\n",
    "  wf_collect=.true.\n",
    " /\n",
    " &system\n",
    "  ibrav= 1, nat={n_atoms}, a={cell_size}, ntyp={len(atom_species_by_index)},\n",
    " /\n",
    " &electrons\n",
    "  conv_thr = 0.04  \n",
    "  diagonalization='davidson'\n",
    "  mixing_beta = 0.1\n",
    " /'''\n",
    "    \n",
    "    atom_species_formatted = '\\n'.join(f'{symbol}   1.0   {symbol}.pz-n-nc.UPF' for symbol in atom_species_by_index.values())\n",
    "\n",
    "    atom_species_part = f'''\n",
    "ATOMIC_SPECIES\n",
    "{atom_species_formatted}'''\n",
    "\n",
    "    atom_positions_formatted = '\\n'.join(f'{atom_species_by_index[species_index]}\\t{x:.6f}\\t{y:.6f}\\t{z:.6f}' for x, y, z, species_index in all_atoms)\n",
    "\n",
    "    atom_positions_part = f'''\n",
    "ATOMIC_POSITIONS (angstrom)\n",
    "{atom_positions_formatted}'''\n",
    "\n",
    "    k_points_part = '''\n",
    "K_POINTS {automatic}\n",
    "2 2 2 0 0 0\n",
    "'''\n",
    "\n",
    "    with open(filename, 'w') as file:\n",
    "        file.write(preamble)\n",
    "        file.write(atom_species_part)\n",
    "        file.write(atom_positions_part)\n",
    "        file.write(k_points_part)"
   ]
  },
  {
   "cell_type": "markdown",
   "metadata": {},
   "source": [
    "## Common algorithm components"
   ]
  },
  {
   "cell_type": "markdown",
   "metadata": {},
   "source": [
    "### Fitness function"
   ]
  },
  {
   "cell_type": "markdown",
   "metadata": {},
   "source": [
    "#### Density"
   ]
  },
  {
   "cell_type": "code",
   "execution_count": 13,
   "metadata": {},
   "outputs": [],
   "source": [
    "def cubature(size_x, sizy_y, size_z):\n",
    "    return size_x * sizy_y * size_z\n",
    "    \n",
    "\n",
    "def density_anions(atoms, size_x, sizy_y, size_z, atom_species_by_symbol):\n",
    "    anions = atoms[atoms[:, 3] == atom_species_by_symbol['O']]\n",
    "    return len(anions) / cubature(size_x, sizy_y, size_z)\n",
    "\n",
    "\n",
    "def density_cations(atoms, size_x, sizy_y, size_z, atom_species_by_symbol):\n",
    "    cations = atoms[atoms[:, 3] != atom_species_by_symbol['O']]\n",
    "    return len(cations) / cubature(size_x, sizy_y, size_z)\n",
    "    "
   ]
  },
  {
   "cell_type": "code",
   "execution_count": 14,
   "metadata": {},
   "outputs": [
    {
     "name": "stdout",
     "output_type": "stream",
     "text": [
      "448: 0.039536 anions per Å^3\n",
      "448: 0.023721 cations per Å^3\n",
      "896: 0.039536 anions per Å^3\n",
      "896: 0.023721 cations per Å^3\n",
      "1808: 0.03952 anions per Å^3\n",
      "1808: 0.023768 cations per Å^3\n",
      "3616: 0.03952 anions per Å^3\n",
      "3616: 0.023768 cations per Å^3\n",
      "\n",
      "Average anion density: 0.039528 anions per Å^3\n",
      "Average cation density: 0.023745 cations per Å^3\n"
     ]
    }
   ],
   "source": [
    "# Expected density measurement\n",
    "\n",
    "anion_densities = []\n",
    "cation_densities = []\n",
    "\n",
    "for cell_name in ['448', '896', '1808', '3616']:\n",
    "    _atom_species_by_index, atom_species_by_symbol, cell, cell_size = read_atoms(f'./data/big cells/{cell_name}.in')\n",
    "\n",
    "    d_anions = density_anions(cell, cell_size, cell_size, cell_size, atom_species_by_symbol)\n",
    "    d_cations = density_cations(cell, cell_size, cell_size, cell_size, atom_species_by_symbol)\n",
    "\n",
    "    anion_densities.append(d_anions)\n",
    "    cation_densities.append(d_cations)\n",
    "\n",
    "    print(f'{cell_name}: {d_anions:.5} anions per Å^3')\n",
    "    print(f'{cell_name}: {d_cations:.5} cations per Å^3')\n",
    "\n",
    "avg_d_anions = np.mean(anion_densities)\n",
    "avg_d_cations = np.mean(cation_densities)\n",
    "\n",
    "print()\n",
    "print(f'Average anion density: {avg_d_anions:.5} anions per Å^3')\n",
    "print(f'Average cation density: {avg_d_cations:.5} cations per Å^3')\n"
   ]
  },
  {
   "cell_type": "code",
   "execution_count": 15,
   "metadata": {},
   "outputs": [],
   "source": [
    "def penalty_density(atoms, size_x, size_y, size_z, atom_species_by_symbol):\n",
    "    target_anion_density = 0.0395\n",
    "    target_cation_density = 0.0237\n",
    "\n",
    "    anions = atoms[atoms[:, 3] == atom_species_by_symbol['O']]\n",
    "    cations = atoms[atoms[:, 3] != atom_species_by_symbol['O']]\n",
    "\n",
    "    curr_anion_density = density_anions(anions, size_x, size_y, size_z, atom_species_by_symbol)\n",
    "    curr_cation_density = density_cations(cations, size_x, size_y, size_z, atom_species_by_symbol)\n",
    "\n",
    "    return ((target_anion_density - curr_anion_density) / target_anion_density) ** 2 + ((target_cation_density - curr_cation_density) / target_cation_density) ** 2"
   ]
  },
  {
   "cell_type": "markdown",
   "metadata": {},
   "source": [
    "#### Neighbourhood"
   ]
  },
  {
   "cell_type": "code",
   "execution_count": 16,
   "metadata": {},
   "outputs": [],
   "source": [
    "desired_n_neighs_Si = 4\n",
    "desired_n_neighs_O = 2\n",
    "max_neigh_distance_Si_O = 2.0\n",
    "boundary_zone_size = 1.0\n",
    "\n",
    "\n",
    "def get_neigh_numbers(cations, anions, max_neigh_distance):\n",
    "    distances = np.linalg.norm(cations[:, None, :3] - anions[:, :3], axis=-1)\n",
    "    neighs = distances < max_neigh_distance\n",
    "    n_neighs_cations = np.sum(neighs, axis=1)\n",
    "    n_neighs_anions = np.sum(neighs, axis=0)\n",
    "\n",
    "    return n_neighs_cations, n_neighs_anions\n",
    "\n",
    "\n",
    "def get_violations(n_neighs, desired_n_neighs, exact_neighs):\n",
    "    if exact_neighs:\n",
    "        return np.power(n_neighs - desired_n_neighs, 2)\n",
    "    else:\n",
    "        return np.power(np.minimum(n_neighs - (desired_n_neighs // 2), 0), 2)\n",
    "\n",
    "\n",
    "def get_full_neighs_zone(size_x, size_y, size_z):\n",
    "    return (-size_x/2 + boundary_zone_size, size_x/2 - boundary_zone_size, -size_y/2 + boundary_zone_size, size_y/2 - boundary_zone_size, -size_z/2 + boundary_zone_size, size_z/2 - boundary_zone_size)\n",
    "\n",
    "\n",
    "def get_atom_is_in_zone(atoms, zone):\n",
    "        return (atoms[:, 0] > zone[0]) \\\n",
    "        & (atoms[:, 0] < zone[1]) \\\n",
    "        & (atoms[:, 1] > zone[2]) \\\n",
    "        & (atoms[:, 1] < zone[3]) \\\n",
    "        & (atoms[:, 2] > zone[4]) \\\n",
    "        & (atoms[:, 2] < zone[5])\n",
    "\n",
    "\n",
    "def split_atoms_by_element(atoms, atom_species_by_symbol, desired_elements=['Si', 'O']):\n",
    "    return [atoms[atoms[:, 3] == atom_species_by_symbol[symbol]] for symbol in desired_elements]\n",
    "\n",
    "\n",
    "def neighbourhood_violations(atoms, atom_species_by_symbol, size_x, size_y, size_z):\n",
    "    full_neighs_zone = get_full_neighs_zone(size_x, size_y, size_z)\n",
    "    atoms_Si, atoms_O = split_atoms_by_element(atoms, atom_species_by_symbol)\n",
    "    neigh_numbers_Si, neigh_numbers_O = get_neigh_numbers(atoms_Si, atoms_O, max_neigh_distance_Si_O)\n",
    "\n",
    "    atoms_Si_is_in_full_neighs_zone = get_atom_is_in_zone(atoms_Si, full_neighs_zone)\n",
    "    atoms_O_is_in_full_neighs_zone = get_atom_is_in_zone(atoms_O, full_neighs_zone)\n",
    "\n",
    "    neigh_numbers_Si_in_full_neighs_zone = neigh_numbers_Si[atoms_Si_is_in_full_neighs_zone]\n",
    "    neigh_numbers_Si_in_half_neighs_zones = neigh_numbers_Si[np.logical_not(atoms_Si_is_in_full_neighs_zone)]\n",
    "\n",
    "    neigh_numbers_O_in_full_neighs_zone = neigh_numbers_O[atoms_O_is_in_full_neighs_zone]\n",
    "    neigh_numbers_O_in_half_neighs_zones = neigh_numbers_O[np.logical_not(atoms_O_is_in_full_neighs_zone)]\n",
    "\n",
    "    violations_Si_in_full_neighs_zone = get_violations(neigh_numbers_Si_in_full_neighs_zone, desired_n_neighs_Si, exact_neighs=True)\n",
    "    violations_O_in_full_neighs_zone = get_violations(neigh_numbers_O_in_full_neighs_zone, desired_n_neighs_O, exact_neighs=True)\n",
    "\n",
    "    violations_Si_in_half_neighs_zones = get_violations(neigh_numbers_Si_in_half_neighs_zones, desired_n_neighs_Si, exact_neighs=False)\n",
    "    violations_O_in_half_neighs_zones = get_violations(neigh_numbers_O_in_half_neighs_zones, desired_n_neighs_O, exact_neighs=False)\n",
    "\n",
    "    violations_Si = np.zeros(atoms_Si.shape[0])\n",
    "    violations_Si[atoms_Si_is_in_full_neighs_zone] = violations_Si_in_full_neighs_zone\n",
    "    violations_Si[np.logical_not(atoms_Si_is_in_full_neighs_zone)] = violations_Si_in_half_neighs_zones\n",
    "\n",
    "    violations_O = np.zeros(atoms_O.shape[0])\n",
    "    violations_O[atoms_O_is_in_full_neighs_zone] = violations_O_in_full_neighs_zone\n",
    "    violations_O[np.logical_not(atoms_O_is_in_full_neighs_zone)] = violations_O_in_half_neighs_zones\n",
    "\n",
    "    violations = np.zeros(atoms.shape[0])\n",
    "    violations[atoms[:, 3] == atom_species_by_symbol['Si']] = violations_Si\n",
    "    violations[atoms[:, 3] == atom_species_by_symbol['O']] = violations_O\n",
    "\n",
    "    return violations\n",
    "\n",
    "\n",
    "def penalty_neighbourhood(atoms, atom_species_by_symbol, size_x, size_y, size_z):\n",
    "    violations = neighbourhood_violations(atoms, atom_species_by_symbol, size_x, size_y, size_z)\n",
    "    penalty = np.sum(violations)\n",
    "    return penalty"
   ]
  },
  {
   "cell_type": "code",
   "execution_count": 17,
   "metadata": {},
   "outputs": [],
   "source": [
    "def plot_neighbourhood_penalties(atoms, atom_species_by_index, atom_species_by_symbol, size_x, size_y, size_z):\n",
    "    violations = neighbourhood_violations(atoms, atom_species_by_symbol, size_x, size_y, size_z)\n",
    "    colors = violations\n",
    "    text = [f'{atom_species_by_index[species_idx]}<br>viol.: {penalty}' for species_idx, penalty in zip(atoms[:, 3], violations)]\n",
    "    plot_atoms(atoms, atom_species_by_index, atom_species_by_symbol, colors, text=text, colorbar_title='Penalty', title='Neighbourhood penalties')"
   ]
  },
  {
   "cell_type": "markdown",
   "metadata": {},
   "source": [
    "#### Distances"
   ]
  },
  {
   "cell_type": "code",
   "execution_count": 18,
   "metadata": {},
   "outputs": [],
   "source": [
    "checked_distances = [\n",
    "    ('O', 'O', 2.6),\n",
    "    ('O', 'Si', 1.6),\n",
    "    ('Si', 'Si', 2.9)\n",
    "]\n",
    "\n",
    "\n",
    "def atom_distances(atoms_first, atoms_second):\n",
    "    return np.linalg.norm(atoms_first[:, None] - atoms_second, axis=-1)\n",
    "\n",
    "\n",
    "def violations_by_distance(atoms_first, atoms_second, threshold):\n",
    "    distances = atom_distances(atoms_first, atoms_second)\n",
    "    return distances < threshold if atoms_first is not atoms_second else np.triu(distances < threshold, k=1)\n",
    "\n",
    "\n",
    "def violations_by_distance_for_atom_species(atoms, first_species_index, second_species_index, threshold):\n",
    "    first_atoms = atoms[atoms[:, 3] == first_species_index][:, :3]\n",
    "    second_atoms = atoms[atoms[:, 3] == second_species_index][:, :3]\n",
    "\n",
    "    violations = violations_by_distance(first_atoms, second_atoms, threshold)\n",
    "    return violations\n",
    "\n",
    "\n",
    "def distance_penalty_for_violations(*violation_groups):\n",
    "    return np.sum([np.sum(violations) for violations in violation_groups])\n",
    "\n",
    "\n",
    "def penalty_distances(atoms, atom_species_by_symbol):\n",
    "    violations = [violations_by_distance_for_atom_species(atoms, atom_species_by_symbol[first_species], atom_species_by_symbol[second_species], threshold) for first_species, second_species, threshold in checked_distances]\n",
    "    return distance_penalty_for_violations(*violations)"
   ]
  },
  {
   "cell_type": "code",
   "execution_count": 19,
   "metadata": {},
   "outputs": [],
   "source": [
    "def plot_distances_penalties(atoms, atom_species_by_index, atom_species_by_symbol):\n",
    "    violations = [violations_by_distance_for_atom_species(atoms, atom_species_by_symbol[first_species], atom_species_by_symbol[second_species], threshold) for first_species, second_species, threshold in checked_distances]\n",
    "    violation_indices = [np.argwhere(violations) for violations in violations]\n",
    "\n",
    "    lines = np.concat([np.stack([atoms[atoms[:, 3] == atom_species_by_symbol[first_species]][:, :3][v_indices[:, 0]], atoms[atoms[:, 3] == atom_species_by_symbol[second_species]][:, :3][v_indices[:, 1]]], axis=1) for v_indices, (first_species, second_species, _) in zip(violation_indices, checked_distances)], axis=0)\n",
    "    distances = np.concat([atom_distances(atoms[atoms[:, 3] == atom_species_by_symbol[first_species]][:, :3], atoms[atoms[:, 3] == atom_species_by_symbol[second_species]][:, :3])[v_indices[:, 0], v_indices[:, 1]] for v_indices, (first_species, second_species, _) in zip(violation_indices, checked_distances)], axis=0)\n",
    "\n",
    "    colors = 'red'\n",
    "    texts = [f'dist: {dist:.2f}A' for dist in distances]\n",
    "\n",
    "    plot_atoms(atoms, atom_species_by_index, atom_species_by_symbol, custom_lines=lines, custom_lines_colors=colors, custom_lines_text=texts, colorbar_title='Penalty', title='Distances penalties')"
   ]
  },
  {
   "cell_type": "markdown",
   "metadata": {},
   "source": [
    "#### Angles"
   ]
  },
  {
   "cell_type": "code",
   "execution_count": 20,
   "metadata": {},
   "outputs": [],
   "source": [
    "def angle_penalty_for_atom_species(atoms, anion_index, cation_index, distance_threshold):\n",
    "    angle_hard_lower_threshold_deg = 70\n",
    "    angle_soft_lower_threshold_deg = 100\n",
    "    angle_soft_upper_threshold_deg = 130\n",
    "    angle_hard_upper_threshold_deg = 180\n",
    "\n",
    "    anions = atoms[atoms[:, 3] == anion_index][:, :3]\n",
    "    cations = atoms[atoms[:, 3] == cation_index][:, :3]\n",
    "    \n",
    "    cation_anion_distances = np.linalg.norm(cations[:, None] - anions, axis=-1)\n",
    "    cation_nearest_neighbour_indices = np.argpartition(cation_anion_distances, 2, axis=1)[:, :2]\n",
    "    cation_between_nearest_neighbours = np.concat([anions[cation_nearest_neighbour_indices[:, 0, None]], cations[:, None], anions[cation_nearest_neighbour_indices[:, 1, None]]], axis=1)\n",
    "\n",
    "    vectors = np.diff(cation_between_nearest_neighbours, axis=1)\n",
    "    vectors[:, 0] *= -1\n",
    "    vector_lengths = np.linalg.norm(vectors, axis=-1)\n",
    "\n",
    "    short_vector_indices = np.logical_and(vector_lengths[:, 0] < distance_threshold, vector_lengths[:, 1] < distance_threshold)\n",
    "    short_vectors = vectors[short_vector_indices]\n",
    "    short_vector_lengths = vector_lengths[short_vector_indices]\n",
    "\n",
    "    angles = np.arccos(np.sum(short_vectors[:, 0] * short_vectors[:, 1], axis=-1) / (short_vector_lengths[:, 0] * short_vector_lengths[:, 1]))\n",
    "    angles_deg = np.degrees(angles)\n",
    "\n",
    "    hard_violations = np.logical_or(angles_deg < angle_hard_lower_threshold_deg, angles_deg > angle_hard_upper_threshold_deg)\n",
    "    soft_violations_lower = np.logical_and(angles_deg <= angle_soft_lower_threshold_deg, angles_deg > angle_hard_lower_threshold_deg)\n",
    "    soft_violations_upper = np.logical_and(angles_deg < angle_hard_upper_threshold_deg, angles_deg >= angle_soft_upper_threshold_deg)\n",
    "\n",
    "    hard_violations_penalty = np.sum(np.ones(angles_deg.shape)[hard_violations])\n",
    "    soft_violations_lower_penalty = np.sum((angle_soft_lower_threshold_deg - angles_deg[soft_violations_lower]) / (angle_soft_lower_threshold_deg - angle_hard_lower_threshold_deg))\n",
    "    soft_violations_upper_penalty = np.sum((angles_deg[soft_violations_upper] - angle_soft_upper_threshold_deg) / (angle_hard_upper_threshold_deg - angle_soft_upper_threshold_deg))\n",
    "\n",
    "    return hard_violations_penalty + soft_violations_lower_penalty + soft_violations_upper_penalty\n",
    "\n",
    "\n",
    "def penalty_angles(atoms, atom_species_by_symbol):\n",
    "    # disabled for now\n",
    "    return 0\n",
    "\n",
    "    # checked_angles = [\n",
    "    #     ('O', 'Si', 2.6)\n",
    "    # ]\n",
    "\n",
    "    # return sum([angle_penalty_for_atom_species(atoms, atom_species_by_symbol[anion], atom_species_by_symbol[cation], threshold) for anion, cation, threshold in checked_angles])"
   ]
  },
  {
   "cell_type": "markdown",
   "metadata": {},
   "source": [
    "#### Fitness"
   ]
  },
  {
   "cell_type": "code",
   "execution_count": 21,
   "metadata": {},
   "outputs": [],
   "source": [
    "def fitness_func(atoms, atom_species_by_symbol, size_x, size_y, size_z, alpha, beta, gamma):\n",
    "    return -1 * (\n",
    "        alpha * penalty_neighbourhood(atoms, atom_species_by_symbol, size_x, size_y, size_z) \n",
    "        + beta * penalty_distances(atoms, atom_species_by_symbol) \n",
    "        + gamma * penalty_angles(atoms, atom_species_by_symbol)\n",
    "    )"
   ]
  },
  {
   "cell_type": "code",
   "execution_count": 22,
   "metadata": {},
   "outputs": [],
   "source": [
    "def fitness_x(wall_left, wall_right, solution, atom_species_by_symbol, cluster_size, wall_thickness, solution_thickness, alpha=1.0, beta=1.0, gamma=1.0):\n",
    "    atoms = np.concat([wall_left, wall_right, solution])\n",
    "\n",
    "    size_x = 2 * wall_thickness + solution_thickness\n",
    "    size_y = cluster_size\n",
    "    size_z = cluster_size\n",
    "\n",
    "    return fitness_func(atoms, atom_species_by_symbol, size_x, size_y, size_z, alpha, beta, gamma)\n",
    "\n",
    "\n",
    "def fitness_y(wall_down, wall_up, solution, atom_species_by_symbol, cluster_size, wall_thickness, solution_thickness, alpha=1.0, beta=1.0, gamma=1.0):\n",
    "    periodic_x_left_wall = solution[solution[:, 0] < -cluster_size/2] + np.array([cluster_size + 2 * wall_thickness, 0, 0, 0])\n",
    "    periodic_x_right_wall = solution[solution[:, 0] > cluster_size/2] - np.array([cluster_size + 2 * wall_thickness, 0, 0, 0])\n",
    "\n",
    "    atoms = np.concat([wall_down, wall_up, solution, periodic_x_left_wall, periodic_x_right_wall])\n",
    "\n",
    "    size_x = cluster_size + solution_thickness\n",
    "    size_y = 2 * wall_thickness + solution_thickness\n",
    "    size_z = cluster_size\n",
    "    \n",
    "    return fitness_func(atoms, atom_species_by_symbol, size_x, size_y, size_z, alpha, beta, gamma)\n",
    "\n",
    "\n",
    "def fitness_z(wall_front, wall_back, solution, atom_species_by_symbol, cluster_size, wall_thickness, solution_thickness, alpha=1.0, beta=1.0, gamma=1.0):\n",
    "    periodic_x_left_wall = solution[solution[:, 0] < -cluster_size/2] + np.array([cluster_size + 2 * wall_thickness, 0, 0, 0])\n",
    "    periodic_x_right_wall = solution[solution[:, 0] > cluster_size/2] - np.array([cluster_size + 2 * wall_thickness, 0, 0, 0])\n",
    "    periodic_y_down_wall = solution[solution[:, 1] < -cluster_size/2] + np.array([0, cluster_size + 2 * wall_thickness, 0, 0])\n",
    "    periodic_y_up_wall = solution[solution[:, 1] > cluster_size/2] - np.array([0, cluster_size + 2 * wall_thickness, 0, 0])\n",
    "\n",
    "    atoms = np.concat([wall_front, wall_back, solution, periodic_x_left_wall, periodic_x_right_wall, periodic_y_down_wall, periodic_y_up_wall])\n",
    "\n",
    "    size_x = cluster_size + solution_thickness\n",
    "    size_y = cluster_size + solution_thickness\n",
    "    size_z = 2 * wall_thickness + solution_thickness\n",
    "\n",
    "    return fitness_func(atoms, atom_species_by_symbol, size_x, size_y, size_z, alpha, beta, gamma)"
   ]
  },
  {
   "cell_type": "markdown",
   "metadata": {},
   "source": [
    "## Evolutionary algorithms"
   ]
  },
  {
   "cell_type": "markdown",
   "metadata": {},
   "source": [
    "### Classic evolutionary algorithm"
   ]
  },
  {
   "cell_type": "markdown",
   "metadata": {},
   "source": [
    "#### Genotype and fenotype (currently unused - all operations take place directly on fenotype)"
   ]
  },
  {
   "cell_type": "markdown",
   "metadata": {},
   "source": [
    "**Fenotype** - vector of atoms, i.e. np.array([[x,y,z,Sp], ...]) - shpae (N_atoms, 4).\n",
    "\n",
    "**Genotype** - vector which elements describe space chunks of 1x1x1 A, with genes encoding respectively: \n",
    "\n",
    "    0. (bool) whether any atom is present in the space chunk, \n",
    "    1. (float) atom's X coordinate, \n",
    "    2. (float) atom's Y coordinate\n",
    "    3. (float) atom's Z coordinate\n",
    "    4. (int) atom's species index\n",
    "    \n",
    "i.e. [[IsFilled,x,y,z,Sp], ...] - shape (N_space_chunks, 4).\n",
    "\n",
    "Chunks on the right/upper/front boundaries may be smaller (if space's size in respective dimension is not divisible by chunk size).\n",
    "\n",
    "Chunks are ordered by the smallest X, then smallest Y, then smallest Z."
   ]
  },
  {
   "cell_type": "code",
   "execution_count": 23,
   "metadata": {},
   "outputs": [],
   "source": [
    "chunk_size_Angstr=1.2\n",
    "\n",
    "\n",
    "def genotype_to_fenotype(genotype):\n",
    "    return genotype[genotype[:, 0] == True][:, 1:]\n",
    "\n",
    "\n",
    "def fenotype_to_genotype(fenotype, cluster_size, solution_thickness, axis, atom_species_by_symbol, available_species):\n",
    "    available_species_indices = [atom_species_by_symbol[symbol] for symbol in available_species]\n",
    "    space_size = np.array(get_solution_size(cluster_size, solution_thickness, axis))\n",
    "    space_lower_bounds = -space_size / 2\n",
    "    n_chunks = np.ceil(space_size / chunk_size_Angstr).astype(int)\n",
    "\n",
    "    min_x, min_y, min_z = space_lower_bounds\n",
    "    n_chunks_x, n_chunks_y, n_chunks_z = n_chunks\n",
    "    chunks = np.array([[False, min_x + idx_x * chunk_size_Angstr, min_y + idx_y * chunk_size_Angstr, min_z + idx_z * chunk_size_Angstr, rng.choice(available_species_indices)] for idx_x in range(n_chunks_x) for idx_y in range(n_chunks_y) for idx_z in range(n_chunks_z)])\n",
    "\n",
    "    for atom in fenotype:\n",
    "        chunk_idx_x, chunk_idx_y, chunk_idx_z = ((atom[:3] - space_lower_bounds) // chunk_size_Angstr).astype(int)\n",
    "        chunk_idx = chunk_idx_x * n_chunks_y * n_chunks_z + chunk_idx_y * n_chunks_z + chunk_idx_z\n",
    "        chunks[chunk_idx] = [True, *atom]\n",
    "\n",
    "    return chunks\n",
    "\n",
    "\n",
    "def population_genotypes_to_fenotypes(population_genotypes):\n",
    "    return [genotype_to_fenotype(individual) for individual in population_genotypes]\n",
    "\n",
    "\n",
    "def population_fenotypes_to_genotypes(population_fenotypes, cluster_size, solution_thickness, axis, atom_species_by_symbol, available_species):\n",
    "    return [fenotype_to_genotype(individual, cluster_size, solution_thickness, axis, atom_species_by_symbol, available_species) for individual in population_fenotypes]"
   ]
  },
  {
   "cell_type": "code",
   "execution_count": 24,
   "metadata": {},
   "outputs": [],
   "source": [
    "from itertools import combinations\n",
    "\n",
    "\n",
    "def genotypes_similarity(s1, s2):\n",
    "    return np.sum(s1 == s2) / (s1.shape[0] * s1.shape[1])\n",
    "\n",
    "\n",
    "def avg_population_similarity(population):\n",
    "    return np.mean([genotypes_similarity(s1, s2) for s1, s2 in combinations(population, 2)])\n",
    "\n",
    "\n",
    "def min_population_similarity(population):\n",
    "    return np.min([genotypes_similarity(s1, s2) for s1, s2 in combinations(population, 2)])\n",
    "\n",
    "\n",
    "def max_population_similarity(population):\n",
    "    return np.max([genotypes_similarity(s1, s2) for s1, s2 in combinations(population, 2)])"
   ]
  },
  {
   "cell_type": "markdown",
   "metadata": {},
   "source": [
    "#### Crossover"
   ]
  },
  {
   "cell_type": "code",
   "execution_count": 25,
   "metadata": {},
   "outputs": [],
   "source": [
    "def crossover_n_points(parent_genotypes, n_points=1):\n",
    "    n_parents = len(parent_genotypes)\n",
    "    n_genes = len(parent_genotypes[0])\n",
    "    n_chunks = n_points + 1\n",
    "    chunk_size = n_genes // n_chunks\n",
    "    cross_points = list(range(0, n_genes, chunk_size))[:n_chunks]\n",
    "    \n",
    "    chunks = [parent_genotypes[point_idx % n_parents][cross_points[point_idx] : cross_points[point_idx + 1]] for point_idx in range(n_points)] + [parent_genotypes[n_points % n_parents][cross_points[-1]:]]\n",
    "    offspring_genotype = np.concat(chunks)\n",
    "\n",
    "    return offspring_genotype"
   ]
  },
  {
   "cell_type": "markdown",
   "metadata": {},
   "source": [
    "#### Mutations"
   ]
  },
  {
   "cell_type": "code",
   "execution_count": 26,
   "metadata": {},
   "outputs": [],
   "source": [
    "def mut_toggle_atoms_presence(genes, _cluster_size, _solution_thickness, _axis, _atom_species_by_symbol, _available_species):\n",
    "    genes[:, 0] = np.logical_not(genes[:, 0])\n",
    "    return genes\n",
    "\n",
    "\n",
    "def mut_change_atoms_species(genes, _cluster_size, _solution_thickness, _axis, atom_species_by_symbol, available_species):\n",
    "    available_sp_indices = [atom_species_by_symbol[sp] for sp in available_species]\n",
    "\n",
    "    available_species_for_genes = [[sp_idx for sp_idx in available_sp_indices if sp_idx != gene_atom_sp_idx] for gene_atom_sp_idx in genes[:, 4]]\n",
    "    \n",
    "    new_species = [rng.choice(available_species_for_gene) for available_species_for_gene in available_species_for_genes]\n",
    "    genes[:, 4] = new_species\n",
    "\n",
    "    return genes\n",
    "\n",
    "\n",
    "def mut_shift_single_atom(genes, atom_idx, size_x, size_y, size_z):\n",
    "    n_chunks_y = np.ceil(size_y / chunk_size_Angstr).astype(int)\n",
    "    n_chunks_z = np.ceil(size_z / chunk_size_Angstr).astype(int)\n",
    "\n",
    "    atom_idx_x = atom_idx // (n_chunks_y * n_chunks_z)\n",
    "    atom_idx_y = (atom_idx % (n_chunks_y * n_chunks_z)) // n_chunks_z\n",
    "    atom_idx_z = atom_idx % n_chunks_z\n",
    "    \n",
    "    min_x = -size_x / 2 + chunk_size_Angstr * atom_idx_x\n",
    "    max_x = min(min_x + chunk_size_Angstr, size_x / 2)\n",
    "    min_y = -size_y / 2 + chunk_size_Angstr * atom_idx_y\n",
    "    max_y = min(min_y + chunk_size_Angstr, size_y / 2)\n",
    "    min_z = -size_z / 2 + chunk_size_Angstr * atom_idx_z\n",
    "    max_z = min(min_z + chunk_size_Angstr, size_z / 2)\n",
    "\n",
    "    new_position = rng.uniform([min_x, min_y, min_z], [max_x, max_y, max_z])\n",
    "    genes[atom_idx, 1:4] = new_position\n",
    "\n",
    "    return genes\n",
    "\n",
    "\n",
    "def mut_shift_atoms(genes, cluster_size, solution_thickness, axis, _atom_species_by_symbol, _available_species):\n",
    "    size_x, size_y, size_z = get_solution_size(cluster_size, solution_thickness, axis)\n",
    "\n",
    "    for atom_idx in range(len(genes)):\n",
    "        genes = mut_shift_single_atom(genes, atom_idx, size_x, size_y, size_z)\n",
    "\n",
    "    return genes"
   ]
  },
  {
   "cell_type": "code",
   "execution_count": 27,
   "metadata": {},
   "outputs": [],
   "source": [
    "def apply_all_mutations_independently_to_each_gene(mut_probablities, solution_genotype, cluster_size, solution_thickness, atom_species_by_symbol, available_atom_species, axis):\n",
    "    n_genes = solution_genotype.shape[0]\n",
    "\n",
    "    for mutation, mutation_probability in mut_probablities.items():\n",
    "        mutated_genes = rng.choice([True, False], size=n_genes, p=[mutation_probability, 1 - mutation_probability])\n",
    "        solution_genotype[mutated_genes] = mutation(solution_genotype[mutated_genes], cluster_size, solution_thickness, axis, atom_species_by_symbol, available_atom_species)\n",
    "\n",
    "    return solution_genotype"
   ]
  },
  {
   "cell_type": "markdown",
   "metadata": {},
   "source": [
    "#### Selection"
   ]
  },
  {
   "cell_type": "code",
   "execution_count": 28,
   "metadata": {},
   "outputs": [],
   "source": [
    "from itertools import combinations, permutations\n",
    "\n",
    "\n",
    "def self_cartesian_product(array, n):\n",
    "    shape = (len(array),) * n\n",
    "    ix = np.indices(shape)\n",
    "    return array[ix.reshape(n, -1).T]\n",
    "\n",
    "\n",
    "def get_possible_matings_indices(population, n_parents_per_child):\n",
    "    return [p for c in combinations(range(len(population)), n_parents_per_child) for p in permutations(c)]\n",
    "\n",
    "\n",
    "def selection_proportional(population, fitness_values, n_parents_per_child, n_children, n_elites):\n",
    "    min_fitness_value = np.min(fitness_values)\n",
    "    fitness_values_shifted = fitness_values - min_fitness_value     # accomodate for negative fitness values\n",
    "    total_fitness = np.sum(fitness_values_shifted)\n",
    "    single_parent_probabilities = fitness_values_shifted / total_fitness if np.sum(fitness_values_shifted > 0) >= 2 else np.ones(len(fitness_values)) / len(fitness_values)   # if all fitness values are equal, assign equal probabilities to all individuals\n",
    "\n",
    "    possible_matings_indices = np.array(get_possible_matings_indices(population, n_parents_per_child))\n",
    "    matings_prob_prod = np.prod(single_parent_probabilities[possible_matings_indices], axis=-1)\n",
    "    mating_prob = matings_prob_prod / np.sum(matings_prob_prod)\n",
    "\n",
    "    # remove probabilities so small that they cause numerical difficulties\n",
    "    while np.any(np.isnan(mating_prob)):\n",
    "        print(f'Correcting probabilities due to NaNs. n_matings: {len(mating_prob)}, n_nans: {np.sum(np.isnan(mating_prob))}, non-zero probabilities: {mating_prob[mating_prob > 0]}, total fitness: {total_fitness}, min_sp_prob: {np.min(single_parent_probabilities)}, max_sp_prob: {np.max(single_parent_probabilities)}')\n",
    "        mating_prob[np.isnan(mating_prob)] = 0\n",
    "        prob_sum = np.sum(mating_prob)\n",
    "        mating_prob /= prob_sum\n",
    "\n",
    "    max_n_elites = np.sum(single_parent_probabilities > 0)\n",
    "    if max_n_elites < n_elites:\n",
    "        n_children += n_elites - max_n_elites\n",
    "        n_elites = max_n_elites\n",
    "\n",
    "    use_replace = np.sum(mating_prob > 0) < n_children\n",
    "    chosen_matings_indices = rng.choice(possible_matings_indices, size=n_children, p=mating_prob, replace=use_replace)\n",
    "\n",
    "    # elites = rng.choice(population, n_elites, p=single_parent_probabilities, replace=False)\n",
    "    elites = [population[e_idx] for e_idx in np.argsort(fitness_values)[-n_elites:]]\n",
    "\n",
    "    return [[population[index] for index in mating_indices] for mating_indices in chosen_matings_indices], elites"
   ]
  },
  {
   "cell_type": "markdown",
   "metadata": {},
   "source": [
    "#### Evolutionary algorithm"
   ]
  },
  {
   "cell_type": "code",
   "execution_count": 29,
   "metadata": {},
   "outputs": [],
   "source": [
    "from matplotlib import pyplot as plt\n",
    "\n",
    "\n",
    "class EvolutionaryAlgorithm:\n",
    "    def __init__(self, initial_population, mutation, crossover, selection, fitness, population_genotypes_to_fenotypes, population_fenotypes_to_genotypes):\n",
    "        self.mutation = mutation    # mutation(solution_fenotype)\n",
    "        self.crossover = crossover  # crossover(parents_fenotypes)\n",
    "        self.selection = selection  # selection(population, fitness_func, n_parents_per_child, n_children)\n",
    "        self.fitness = fitness\n",
    "        self.population_genotypes_to_fenotypes = population_genotypes_to_fenotypes\n",
    "        self.population_fenotypes_to_genotypes = population_fenotypes_to_genotypes\n",
    "\n",
    "        self.population_genotypes = population_fenotypes_to_genotypes(initial_population)\n",
    "\n",
    "        self._population_fitness = np.array([self.fitness(solution) for solution in initial_population])\n",
    "        self.avg_fitness_values = [np.mean(self._population_fitness)]\n",
    "        self.max_fitness_values = [np.max(self._population_fitness)]\n",
    "        self.best_solutions = [self.population_genotypes_to_fenotypes(np.array([self.population_genotypes[np.argmax(self._population_fitness)]]))[0]]\n",
    "\n",
    "        self.avg_population_similarity_values = [avg_population_similarity(self.population_genotypes)]\n",
    "        self.min_population_similarity_values = [min_population_similarity(self.population_genotypes)]\n",
    "\n",
    "\n",
    "    def evolve(self, max_n_generations, tolerate_stagnation_for_n_generations, stagnation_epsilon, target_fitness_value=None):\n",
    "        generation_idx = 0\n",
    "        \n",
    "        while not self._stop_condition(generation_idx, max_n_generations, tolerate_stagnation_for_n_generations, stagnation_epsilon, target_fitness_value):\n",
    "            matings, elites = self.selection(self.population_genotypes, self._population_fitness)\n",
    "            children = [self.crossover(parents) for parents in matings]\n",
    "            mutated_children = [self.mutation(child) for child in children]\n",
    "\n",
    "            self.population_genotypes = np.concat([elites, mutated_children])\n",
    "            \n",
    "            population_fenotypes = self.population_genotypes_to_fenotypes(self.population_genotypes)\n",
    "            self._population_fitness = np.array([self.fitness(individual) for individual in population_fenotypes])\n",
    "\n",
    "            self.avg_fitness_values.append(np.mean(self._population_fitness))\n",
    "            self.max_fitness_values.append(np.max(self._population_fitness))\n",
    "            self.best_solutions.append(self.population_genotypes_to_fenotypes(np.array([self.population_genotypes[np.argmax(self._population_fitness)]]))[0])\n",
    "\n",
    "            self.avg_population_similarity_values.append(avg_population_similarity(self.population_genotypes))\n",
    "            self.min_population_similarity_values.append(min_population_similarity(self.population_genotypes))\n",
    "\n",
    "            if True: # generation_idx * 10 % max_n_generations == 0:\n",
    "                print('Generation', generation_idx, 'avg fitness:', self.avg_fitness_values[-1], 'best fitness:', np.max(self.max_fitness_values))\n",
    "\n",
    "            generation_idx += 1\n",
    "\n",
    "        print('Evolution ran for ', generation_idx, 'generations, reached best fitness of ', np.max(self.max_fitness_values))\n",
    "    \n",
    "\n",
    "    def get_best_solution(self):\n",
    "        return self.best_solutions[np.argmax([self.fitness(solution) for solution in self.best_solutions])]\n",
    "    \n",
    "\n",
    "    def get_population(self):\n",
    "        return population_genotypes_to_fenotypes(self.population_genotypes)\n",
    "\n",
    "\n",
    "    def _stop_condition(self, generation_idx, max_n_generations, tolerate_stagnation_for_n_generations, stagnation_epsilon, target_fitness_value):\n",
    "        if generation_idx >= max_n_generations:\n",
    "            print('Reached maximum number of generations')\n",
    "            return True\n",
    "\n",
    "        if target_fitness_value is not None and np.max(self.max_fitness_values) > target_fitness_value:\n",
    "            print('Reached target fitness value')\n",
    "            return True\n",
    "\n",
    "        if generation_idx >= tolerate_stagnation_for_n_generations:\n",
    "            if np.all(self.avg_fitness_values[-tolerate_stagnation_for_n_generations:] - self.avg_fitness_values[-tolerate_stagnation_for_n_generations] < stagnation_epsilon):\n",
    "                print('Reached stagnation')\n",
    "                return True\n",
    "\n",
    "        return False\n",
    "    \n",
    "\n",
    "    def plot_fitness(self):\n",
    "        fig, ax = plt.subplots()\n",
    "        ax.plot(self.avg_fitness_values, label='Average fitness')\n",
    "        ax.plot(self.max_fitness_values, label='Max fitness')\n",
    "        ax.legend()\n",
    "        plt.show()\n",
    "\n",
    "    \n",
    "    def plot_similarity(self):\n",
    "        fig, ax = plt.subplots()\n",
    "        ax.plot(self.avg_population_similarity_values, label='Average similarity')\n",
    "        ax.plot(self.min_population_similarity_values, label='Min similarity')\n",
    "        ax.legend()\n",
    "        plt.show()\n"
   ]
  },
  {
   "cell_type": "markdown",
   "metadata": {},
   "source": [
    "## Experiments"
   ]
  },
  {
   "cell_type": "markdown",
   "metadata": {},
   "source": [
    "#### Setup"
   ]
  },
  {
   "cell_type": "code",
   "execution_count": 73,
   "metadata": {},
   "outputs": [],
   "source": [
    "available_species = ['O', 'Si']\n",
    "\n",
    "max_num_generations = 500\n",
    "tolerate_stagnation_for_n_generations = 50\n",
    "stagnation_epsilon = 5\n",
    "target_fitness_value = 0.0\n",
    "\n",
    "population_size = 300\n",
    "n_parents_per_child = 2\n",
    "n_children = 280\n",
    "n_elites = population_size - n_children\n",
    "\n",
    "n_points_at_crossover = 1\n",
    "\n",
    "mutation_probabilities = {\n",
    "    mut_toggle_atoms_presence: 0.0035,\n",
    "    mut_change_atoms_species: 0.0035,\n",
    "    mut_shift_atoms: 0.0035\n",
    "}\n",
    "\n",
    "alpha = 10.0 \n",
    "beta = 3.0\n",
    "gamma = 1.0"
   ]
  },
  {
   "cell_type": "code",
   "execution_count": 74,
   "metadata": {},
   "outputs": [],
   "source": [
    "cluster_size = 12.0\n",
    "wall_thickness = 3.0\n",
    "solution_thickness = 3.0"
   ]
  },
  {
   "cell_type": "code",
   "execution_count": 75,
   "metadata": {},
   "outputs": [],
   "source": [
    "atom_species_by_index, atom_species_by_symbol, cell, cell_size = read_atoms('data/big cells/448.in')\n",
    "\n",
    "supercell = get_supercell(cell, cell_size)\n",
    "er_clusters = get_Er_clusters(supercell, cluster_size, atom_species_by_symbol)\n",
    "er_cluster = er_clusters[0]"
   ]
  },
  {
   "cell_type": "markdown",
   "metadata": {},
   "source": [
    "#### X-axis"
   ]
  },
  {
   "cell_type": "code",
   "execution_count": 76,
   "metadata": {},
   "outputs": [],
   "source": [
    "wall_left, wall_right = get_positioned_walls_x(er_cluster, cluster_size, wall_thickness, solution_thickness)\n",
    "wall_left, wall_right = replace_cations_with_Si([wall_left, wall_right], atom_species_by_symbol)"
   ]
  },
  {
   "cell_type": "code",
   "execution_count": 77,
   "metadata": {},
   "outputs": [],
   "source": [
    "initial_population = get_n_random_solutions_without_Er(supercell, \n",
    "                                                        cell_size, \n",
    "                                                        atom_species_by_symbol, \n",
    "                                                        cluster_size, \n",
    "                                                        solution_thickness, \n",
    "                                                        axis=0, \n",
    "                                                        n=population_size)\n",
    "\n",
    "initial_population = replace_cations_with_Si(initial_population, atom_species_by_symbol)"
   ]
  },
  {
   "cell_type": "code",
   "execution_count": 78,
   "metadata": {},
   "outputs": [],
   "source": [
    "mutation_type = lambda offspring: apply_all_mutations_independently_to_each_gene(mutation_probabilities, offspring, cluster_size, solution_thickness, atom_species_by_symbol, available_species, axis=0)"
   ]
  },
  {
   "cell_type": "code",
   "execution_count": 79,
   "metadata": {},
   "outputs": [],
   "source": [
    "crossover = lambda parents: crossover_n_points(parents, n_points_at_crossover)"
   ]
  },
  {
   "cell_type": "code",
   "execution_count": 80,
   "metadata": {},
   "outputs": [],
   "source": [
    "selection = lambda population, fitness_values: selection_proportional(population, fitness_values, n_parents_per_child, n_children, n_elites)"
   ]
  },
  {
   "cell_type": "code",
   "execution_count": 81,
   "metadata": {},
   "outputs": [],
   "source": [
    "fitness_function = lambda solution: fitness_x(wall_left, wall_right, solution, atom_species_by_symbol, cluster_size, wall_thickness, solution_thickness, alpha, beta, gamma)"
   ]
  },
  {
   "cell_type": "code",
   "execution_count": 82,
   "metadata": {},
   "outputs": [],
   "source": [
    "population_gen_to_fen = lambda population_genotypes: population_genotypes_to_fenotypes(population_genotypes)"
   ]
  },
  {
   "cell_type": "code",
   "execution_count": 83,
   "metadata": {},
   "outputs": [],
   "source": [
    "population_fen_to_gen = lambda population_fenotypes: population_fenotypes_to_genotypes(population_fenotypes, cluster_size, solution_thickness, axis=0, atom_species_by_symbol=atom_species_by_symbol, available_species=available_species)"
   ]
  },
  {
   "cell_type": "code",
   "execution_count": 84,
   "metadata": {},
   "outputs": [],
   "source": [
    "ea_x = EvolutionaryAlgorithm(initial_population, mutation_type, crossover, selection, fitness_function, population_gen_to_fen, population_fen_to_gen)"
   ]
  },
  {
   "cell_type": "code",
   "execution_count": 87,
   "metadata": {},
   "outputs": [
    {
     "name": "stdout",
     "output_type": "stream",
     "text": [
      "Generation 0 avg fitness: -1185.5033333333333 best fitness: -948.0\n",
      "Generation 1 avg fitness: -1177.2533333333333 best fitness: -948.0\n",
      "Generation 2 avg fitness: -1174.5633333333333 best fitness: -948.0\n",
      "Generation 3 avg fitness: -1189.3733333333332 best fitness: -948.0\n",
      "Generation 4 avg fitness: -1192.5433333333333 best fitness: -948.0\n",
      "Generation 5 avg fitness: -1191.46 best fitness: -948.0\n",
      "Generation 6 avg fitness: -1195.14 best fitness: -948.0\n",
      "Generation 7 avg fitness: -1210.0766666666666 best fitness: -948.0\n",
      "Generation 8 avg fitness: -1215.5066666666667 best fitness: -948.0\n",
      "Generation 9 avg fitness: -1237.14 best fitness: -948.0\n",
      "Generation 10 avg fitness: -1227.7966666666666 best fitness: -948.0\n",
      "Generation 11 avg fitness: -1245.6733333333334 best fitness: -948.0\n",
      "Generation 12 avg fitness: -1242.3266666666666 best fitness: -948.0\n",
      "Generation 13 avg fitness: -1244.3933333333334 best fitness: -948.0\n",
      "Generation 14 avg fitness: -1226.9 best fitness: -948.0\n",
      "Generation 15 avg fitness: -1208.0833333333333 best fitness: -948.0\n",
      "Generation 16 avg fitness: -1218.7733333333333 best fitness: -948.0\n",
      "Generation 17 avg fitness: -1210.1666666666667 best fitness: -948.0\n",
      "Generation 18 avg fitness: -1214.75 best fitness: -948.0\n",
      "Generation 19 avg fitness: -1205.48 best fitness: -948.0\n",
      "Generation 20 avg fitness: -1201.74 best fitness: -948.0\n",
      "Generation 21 avg fitness: -1195.1266666666668 best fitness: -948.0\n",
      "Generation 22 avg fitness: -1190.94 best fitness: -948.0\n",
      "Generation 23 avg fitness: -1194.4366666666667 best fitness: -948.0\n",
      "Generation 24 avg fitness: -1205.47 best fitness: -948.0\n",
      "Generation 25 avg fitness: -1193.3966666666668 best fitness: -948.0\n",
      "Generation 26 avg fitness: -1194.4733333333334 best fitness: -948.0\n",
      "Generation 27 avg fitness: -1158.9266666666667 best fitness: -948.0\n",
      "Generation 28 avg fitness: -1166.29 best fitness: -948.0\n",
      "Generation 29 avg fitness: -1179.7333333333333 best fitness: -948.0\n",
      "Generation 30 avg fitness: -1192.7833333333333 best fitness: -948.0\n",
      "Generation 31 avg fitness: -1197.2166666666667 best fitness: -948.0\n",
      "Generation 32 avg fitness: -1191.1266666666668 best fitness: -948.0\n",
      "Generation 33 avg fitness: -1214.27 best fitness: -948.0\n",
      "Generation 34 avg fitness: -1213.1533333333334 best fitness: -948.0\n",
      "Generation 35 avg fitness: -1201.51 best fitness: -948.0\n",
      "Generation 36 avg fitness: -1203.9833333333333 best fitness: -948.0\n",
      "Generation 37 avg fitness: -1198.2333333333333 best fitness: -948.0\n",
      "Generation 38 avg fitness: -1201.4 best fitness: -948.0\n",
      "Generation 39 avg fitness: -1214.9733333333334 best fitness: -948.0\n",
      "Generation 40 avg fitness: -1211.49 best fitness: -948.0\n",
      "Generation 41 avg fitness: -1224.8266666666666 best fitness: -948.0\n",
      "Generation 42 avg fitness: -1212.8466666666666 best fitness: -948.0\n",
      "Generation 43 avg fitness: -1207.9033333333334 best fitness: -948.0\n",
      "Generation 44 avg fitness: -1210.4766666666667 best fitness: -948.0\n",
      "Generation 45 avg fitness: -1190.5566666666666 best fitness: -948.0\n",
      "Generation 46 avg fitness: -1174.3133333333333 best fitness: -948.0\n",
      "Generation 47 avg fitness: -1170.5666666666666 best fitness: -948.0\n",
      "Generation 48 avg fitness: -1169.0066666666667 best fitness: -948.0\n",
      "Generation 49 avg fitness: -1186.5866666666666 best fitness: -948.0\n",
      "Generation 50 avg fitness: -1172.8 best fitness: -948.0\n",
      "Generation 51 avg fitness: -1164.0633333333333 best fitness: -948.0\n",
      "Generation 52 avg fitness: -1149.5066666666667 best fitness: -948.0\n",
      "Generation 53 avg fitness: -1154.5566666666666 best fitness: -948.0\n",
      "Generation 54 avg fitness: -1176.73 best fitness: -948.0\n",
      "Generation 55 avg fitness: -1193.1066666666666 best fitness: -948.0\n",
      "Generation 56 avg fitness: -1197.5433333333333 best fitness: -948.0\n",
      "Generation 57 avg fitness: -1208.0566666666666 best fitness: -948.0\n",
      "Generation 58 avg fitness: -1202.9766666666667 best fitness: -948.0\n",
      "Generation 59 avg fitness: -1210.2866666666666 best fitness: -948.0\n",
      "Generation 60 avg fitness: -1201.89 best fitness: -948.0\n",
      "Generation 61 avg fitness: -1196.0 best fitness: -948.0\n",
      "Generation 62 avg fitness: -1178.5833333333333 best fitness: -948.0\n",
      "Generation 63 avg fitness: -1169.3733333333332 best fitness: -948.0\n",
      "Generation 64 avg fitness: -1177.33 best fitness: -943.0\n",
      "Generation 65 avg fitness: -1190.84 best fitness: -943.0\n",
      "Generation 66 avg fitness: -1179.11 best fitness: -943.0\n",
      "Generation 67 avg fitness: -1180.5166666666667 best fitness: -943.0\n",
      "Generation 68 avg fitness: -1176.24 best fitness: -943.0\n",
      "Generation 69 avg fitness: -1162.52 best fitness: -943.0\n",
      "Generation 70 avg fitness: -1166.68 best fitness: -943.0\n",
      "Generation 71 avg fitness: -1175.2066666666667 best fitness: -943.0\n",
      "Generation 72 avg fitness: -1179.32 best fitness: -943.0\n",
      "Generation 73 avg fitness: -1186.8666666666666 best fitness: -943.0\n",
      "Generation 74 avg fitness: -1173.5766666666666 best fitness: -943.0\n",
      "Generation 75 avg fitness: -1173.2533333333333 best fitness: -943.0\n",
      "Generation 76 avg fitness: -1187.72 best fitness: -943.0\n",
      "Generation 77 avg fitness: -1205.04 best fitness: -943.0\n",
      "Generation 78 avg fitness: -1220.7366666666667 best fitness: -943.0\n",
      "Generation 79 avg fitness: -1232.25 best fitness: -943.0\n",
      "Generation 80 avg fitness: -1219.5366666666666 best fitness: -943.0\n",
      "Generation 81 avg fitness: -1224.5833333333333 best fitness: -943.0\n",
      "Generation 82 avg fitness: -1204.6066666666666 best fitness: -943.0\n",
      "Generation 83 avg fitness: -1191.1933333333334 best fitness: -943.0\n",
      "Generation 84 avg fitness: -1185.6166666666666 best fitness: -943.0\n",
      "Generation 85 avg fitness: -1189.1233333333332 best fitness: -943.0\n",
      "Generation 86 avg fitness: -1182.6066666666666 best fitness: -943.0\n",
      "Generation 87 avg fitness: -1207.6166666666666 best fitness: -943.0\n",
      "Generation 88 avg fitness: -1222.7533333333333 best fitness: -943.0\n",
      "Generation 89 avg fitness: -1209.9266666666667 best fitness: -943.0\n",
      "Generation 90 avg fitness: -1218.59 best fitness: -943.0\n",
      "Generation 91 avg fitness: -1199.8533333333332 best fitness: -943.0\n",
      "Generation 92 avg fitness: -1174.4066666666668 best fitness: -943.0\n",
      "Generation 93 avg fitness: -1180.6766666666667 best fitness: -943.0\n",
      "Generation 94 avg fitness: -1210.58 best fitness: -943.0\n",
      "Generation 95 avg fitness: -1221.5266666666666 best fitness: -943.0\n",
      "Generation 96 avg fitness: -1205.7966666666666 best fitness: -943.0\n",
      "Generation 97 avg fitness: -1194.6266666666668 best fitness: -943.0\n",
      "Generation 98 avg fitness: -1209.18 best fitness: -943.0\n",
      "Generation 99 avg fitness: -1195.78 best fitness: -943.0\n",
      "Generation 100 avg fitness: -1195.0333333333333 best fitness: -943.0\n",
      "Generation 101 avg fitness: -1183.7866666666666 best fitness: -943.0\n",
      "Reached stagnation\n",
      "Evolution ran for  102 generations, reached best fitness of  -943.0\n"
     ]
    }
   ],
   "source": [
    "new_population = ea_x.evolve(max_num_generations, tolerate_stagnation_for_n_generations, stagnation_epsilon, target_fitness_value)"
   ]
  },
  {
   "cell_type": "code",
   "execution_count": 88,
   "metadata": {},
   "outputs": [
    {
     "data": {
      "image/png": "[encoded data removed]",
      "text/plain": [
       "<Figure size 640x480 with 1 Axes>"
      ]
     },
     "metadata": {},
     "output_type": "display_data"
    },
    {
     "data": {
      "image/png": "[encoded data removed]",
      "text/plain": [
       "<Figure size 640x480 with 1 Axes>"
      ]
     },
     "metadata": {},
     "output_type": "display_data"
    },
    {
     "data": {
      "application/vnd.plotly.v1+json": {
       "config": {
        "plotlyServerURL": "https://plot.ly"
       },
       "data": [
        {
         "customdata": [
          [
           "O"
          ],
          [
           "O"
          ],
          [
           "O"
          ],
          [
           "O"
          ],
          [
           "O"
          ],
          [
           "O"
          ],
          [
           "O"
          ],
          [
           "O"
          ],
          [
           "O"
          ],
          [
           "O"
          ],
          [
           "O"
          ],
          [
           "O"
          ],
          [
           "O"
          ],
          [
           "O"
          ]
         ],
         "hovertemplate": "%{customdata[0]}",
         "legendgroup": "O",
         "marker": {
          "color": "#636efa",
          "opacity": 0.8,
          "size": 5,
          "symbol": "circle"
         },
         "mode": "markers",
         "name": "O",
         "scene": "scene",
         "showlegend": true,
         "text": [
          "O",
          "Si",
          "O",
          "O",
          "O",
          "O",
          "Si",
          "Si",
          "O",
          "O",
          "O",
          "Si",
          "O",
          "Si",
          "Si",
          "O",
          "O",
          "O",
          "O",
          "O"
         ],
         "type": "scatter3d",
         "x": [
          -0.36080013671504574,
          -0.7991211367150477,
          -1.4567881367150477,
          -1.5,
          -0.9035821367150483,
          -1.5,
          -1.2672161367150476,
          -1.5,
          -1.5,
          -0.30000000000000004,
          -0.30137564503045855,
          0.40611041005919457,
          1.4466484100591943,
          0.8999999999999999
         ],
         "y": [
          -5.174890864049835,
          -1.6985858640498348,
          -1.3884918640498345,
          -2.4000000000000004,
          -0.9306468640498347,
          0,
          1.677486135950165,
          1.1999999999999993,
          4.799999999999999,
          -1.2000000000000002,
          -4.9514022336817245,
          5.432147154129909,
          -5.023298845870093,
          -2.4000000000000004
         ],
         "z": [
          1.4437163510409516,
          -1.6856956489590484,
          1.0547723510409517,
          1.1999999999999993,
          -4.358102648959047,
          3.5999999999999996,
          -4.02286764895905,
          -3.6,
          -4.8,
          -4.8,
          -5.591390937423348,
          0.28336969739244644,
          1.7114686973924478,
          2.4000000000000004
         ]
        },
        {
         "customdata": [
          [
           "Si"
          ],
          [
           "Si"
          ],
          [
           "Si"
          ],
          [
           "Si"
          ],
          [
           "Si"
          ],
          [
           "Si"
          ]
         ],
         "hovertemplate": "%{customdata[0]}",
         "legendgroup": "Si",
         "marker": {
          "color": "#EF553B",
          "opacity": 0.8,
          "size": 5,
          "symbol": "circle"
         },
         "mode": "markers",
         "name": "Si",
         "scene": "scene",
         "showlegend": true,
         "text": [
          "O",
          "Si",
          "O",
          "O",
          "O",
          "O",
          "Si",
          "Si",
          "O",
          "O",
          "O",
          "Si",
          "O",
          "Si",
          "Si",
          "O",
          "O",
          "O",
          "O",
          "O"
         ],
         "type": "scatter3d",
         "x": [
          -0.8391401367150486,
          -1.5,
          -0.8303291367150472,
          -1.214202479952364,
          -0.8812011367150454,
          0.46289486328495144
         ],
         "y": [
          -2.236755864049835,
          -1.2000000000000002,
          0.48769513595016534,
          -5.674301703927846,
          5.929789135950164,
          -4.256147864049835
         ],
         "z": [
          -3.33405464895905,
          0,
          -5.098426648959048,
          -4.833674306031745,
          -1.0349606489590486,
          2.491727351040952
         ]
        },
        {
         "hoverinfo": "skip",
         "line": {
          "color": "black",
          "showscale": false,
          "width": 1
         },
         "mode": "lines",
         "showlegend": false,
         "type": "scatter3d",
         "x": [
          -0.36080013671504574,
          1.4466484100591943
         ],
         "y": [
          -5.174890864049835,
          -5.023298845870093
         ],
         "z": [
          1.4437163510409516,
          1.7114686973924478
         ]
        },
        {
         "hoverinfo": "skip",
         "line": {
          "color": "black",
          "showscale": false,
          "width": 1
         },
         "mode": "lines",
         "showlegend": false,
         "type": "scatter3d",
         "x": [
          -1.4567881367150477,
          -1.5
         ],
         "y": [
          -1.3884918640498345,
          -2.4000000000000004
         ],
         "z": [
          1.0547723510409517,
          1.1999999999999993
         ]
        },
        {
         "hoverinfo": "skip",
         "line": {
          "color": "black",
          "showscale": false,
          "width": 1
         },
         "mode": "lines",
         "showlegend": false,
         "type": "scatter3d",
         "x": [
          -1.5,
          -1.4567881367150477
         ],
         "y": [
          -2.4000000000000004,
          -1.3884918640498345
         ],
         "z": [
          1.1999999999999993,
          1.0547723510409517
         ]
        },
        {
         "hoverinfo": "skip",
         "line": {
          "color": "black",
          "showscale": false,
          "width": 1
         },
         "mode": "lines",
         "showlegend": false,
         "type": "scatter3d",
         "x": [
          -0.9035821367150483,
          -1.5
         ],
         "y": [
          -0.9306468640498347,
          1.1999999999999993
         ],
         "z": [
          -4.358102648959047,
          -3.6
         ]
        },
        {
         "hoverinfo": "skip",
         "line": {
          "color": "black",
          "showscale": false,
          "width": 1
         },
         "mode": "lines",
         "showlegend": false,
         "type": "scatter3d",
         "x": [
          -0.9035821367150483,
          -0.30000000000000004
         ],
         "y": [
          -0.9306468640498347,
          -1.2000000000000002
         ],
         "z": [
          -4.358102648959047,
          -4.8
         ]
        },
        {
         "hoverinfo": "skip",
         "line": {
          "color": "black",
          "showscale": false,
          "width": 1
         },
         "mode": "lines",
         "showlegend": false,
         "type": "scatter3d",
         "x": [
          -1.2672161367150476,
          -1.5
         ],
         "y": [
          1.677486135950165,
          1.1999999999999993
         ],
         "z": [
          -4.02286764895905,
          -3.6
         ]
        },
        {
         "hoverinfo": "skip",
         "line": {
          "color": "black",
          "showscale": false,
          "width": 1
         },
         "mode": "lines",
         "showlegend": false,
         "type": "scatter3d",
         "x": [
          -1.5,
          -0.9035821367150483
         ],
         "y": [
          1.1999999999999993,
          -0.9306468640498347
         ],
         "z": [
          -3.6,
          -4.358102648959047
         ]
        },
        {
         "hoverinfo": "skip",
         "line": {
          "color": "black",
          "showscale": false,
          "width": 1
         },
         "mode": "lines",
         "showlegend": false,
         "type": "scatter3d",
         "x": [
          -1.5,
          -1.2672161367150476
         ],
         "y": [
          1.1999999999999993,
          1.677486135950165
         ],
         "z": [
          -3.6,
          -4.02286764895905
         ]
        },
        {
         "hoverinfo": "skip",
         "line": {
          "color": "black",
          "showscale": false,
          "width": 1
         },
         "mode": "lines",
         "showlegend": false,
         "type": "scatter3d",
         "x": [
          -0.30000000000000004,
          -0.9035821367150483
         ],
         "y": [
          -1.2000000000000002,
          -0.9306468640498347
         ],
         "z": [
          -4.8,
          -4.358102648959047
         ]
        },
        {
         "hoverinfo": "skip",
         "line": {
          "color": "black",
          "showscale": false,
          "width": 1
         },
         "mode": "lines",
         "showlegend": false,
         "type": "scatter3d",
         "x": [
          1.4466484100591943,
          -0.36080013671504574
         ],
         "y": [
          -5.023298845870093,
          -5.174890864049835
         ],
         "z": [
          1.7114686973924478,
          1.4437163510409516
         ]
        },
        {
         "hoverinfo": "skip",
         "line": {
          "color": "black",
          "showscale": false,
          "width": 1
         },
         "mode": "lines",
         "showlegend": false,
         "type": "scatter3d",
         "x": [
          -0.8391401367150486,
          -0.7991211367150477
         ],
         "y": [
          -2.236755864049835,
          -1.6985858640498348
         ],
         "z": [
          -3.33405464895905,
          -1.6856956489590484
         ]
        },
        {
         "hoverinfo": "skip",
         "line": {
          "color": "black",
          "showscale": false,
          "width": 1
         },
         "mode": "lines",
         "showlegend": false,
         "type": "scatter3d",
         "x": [
          -0.8391401367150486,
          -0.9035821367150483
         ],
         "y": [
          -2.236755864049835,
          -0.9306468640498347
         ],
         "z": [
          -3.33405464895905,
          -4.358102648959047
         ]
        },
        {
         "hoverinfo": "skip",
         "line": {
          "color": "black",
          "showscale": false,
          "width": 1
         },
         "mode": "lines",
         "showlegend": false,
         "type": "scatter3d",
         "x": [
          -0.8391401367150486,
          -0.30000000000000004
         ],
         "y": [
          -2.236755864049835,
          -1.2000000000000002
         ],
         "z": [
          -3.33405464895905,
          -4.8
         ]
        },
        {
         "hoverinfo": "skip",
         "line": {
          "color": "black",
          "showscale": false,
          "width": 1
         },
         "mode": "lines",
         "showlegend": false,
         "type": "scatter3d",
         "x": [
          -1.5,
          -0.7991211367150477
         ],
         "y": [
          -1.2000000000000002,
          -1.6985858640498348
         ],
         "z": [
          0,
          -1.6856956489590484
         ]
        },
        {
         "hoverinfo": "skip",
         "line": {
          "color": "black",
          "showscale": false,
          "width": 1
         },
         "mode": "lines",
         "showlegend": false,
         "type": "scatter3d",
         "x": [
          -1.5,
          -1.4567881367150477
         ],
         "y": [
          -1.2000000000000002,
          -1.3884918640498345
         ],
         "z": [
          0,
          1.0547723510409517
         ]
        },
        {
         "hoverinfo": "skip",
         "line": {
          "color": "black",
          "showscale": false,
          "width": 1
         },
         "mode": "lines",
         "showlegend": false,
         "type": "scatter3d",
         "x": [
          -1.5,
          -1.5
         ],
         "y": [
          -1.2000000000000002,
          -2.4000000000000004
         ],
         "z": [
          0,
          1.1999999999999993
         ]
        },
        {
         "hoverinfo": "skip",
         "line": {
          "color": "black",
          "showscale": false,
          "width": 1
         },
         "mode": "lines",
         "showlegend": false,
         "type": "scatter3d",
         "x": [
          -0.8303291367150472,
          -0.9035821367150483
         ],
         "y": [
          0.48769513595016534,
          -0.9306468640498347
         ],
         "z": [
          -5.098426648959048,
          -4.358102648959047
         ]
        },
        {
         "hoverinfo": "skip",
         "line": {
          "color": "black",
          "showscale": false,
          "width": 1
         },
         "mode": "lines",
         "showlegend": false,
         "type": "scatter3d",
         "x": [
          -0.8303291367150472,
          -1.2672161367150476
         ],
         "y": [
          0.48769513595016534,
          1.677486135950165
         ],
         "z": [
          -5.098426648959048,
          -4.02286764895905
         ]
        },
        {
         "hoverinfo": "skip",
         "line": {
          "color": "black",
          "showscale": false,
          "width": 1
         },
         "mode": "lines",
         "showlegend": false,
         "type": "scatter3d",
         "x": [
          -0.8303291367150472,
          -1.5
         ],
         "y": [
          0.48769513595016534,
          1.1999999999999993
         ],
         "z": [
          -5.098426648959048,
          -3.6
         ]
        },
        {
         "hoverinfo": "skip",
         "line": {
          "color": "black",
          "showscale": false,
          "width": 1
         },
         "mode": "lines",
         "showlegend": false,
         "type": "scatter3d",
         "x": [
          -0.8303291367150472,
          -0.30000000000000004
         ],
         "y": [
          0.48769513595016534,
          -1.2000000000000002
         ],
         "z": [
          -5.098426648959048,
          -4.8
         ]
        },
        {
         "hoverinfo": "skip",
         "line": {
          "color": "black",
          "showscale": false,
          "width": 1
         },
         "mode": "lines",
         "showlegend": false,
         "type": "scatter3d",
         "x": [
          -1.214202479952364,
          -0.30137564503045855
         ],
         "y": [
          -5.674301703927846,
          -4.9514022336817245
         ],
         "z": [
          -4.833674306031745,
          -5.591390937423348
         ]
        },
        {
         "hoverinfo": "skip",
         "line": {
          "color": "black",
          "showscale": false,
          "width": 1
         },
         "mode": "lines",
         "showlegend": false,
         "type": "scatter3d",
         "x": [
          0.46289486328495144,
          -0.36080013671504574
         ],
         "y": [
          -4.256147864049835,
          -5.174890864049835
         ],
         "z": [
          2.491727351040952,
          1.4437163510409516
         ]
        },
        {
         "hoverinfo": "skip",
         "line": {
          "color": "black",
          "showscale": false,
          "width": 1
         },
         "mode": "lines",
         "showlegend": false,
         "type": "scatter3d",
         "x": [
          0.46289486328495144,
          1.4466484100591943
         ],
         "y": [
          -4.256147864049835,
          -5.023298845870093
         ],
         "z": [
          2.491727351040952,
          1.7114686973924478
         ]
        }
       ],
       "layout": {
        "legend": {
         "title": {
          "text": "Species"
         },
         "tracegroupgap": 0
        },
        "margin": {
         "b": 10,
         "l": 10,
         "r": 20,
         "t": 10
        },
        "scene": {
         "aspectmode": "data",
         "domain": {
          "x": [
           0,
           1
          ],
          "y": [
           0,
           1
          ]
         },
         "xaxis": {
          "title": {
           "text": "X"
          }
         },
         "yaxis": {
          "title": {
           "text": "Y"
          }
         },
         "zaxis": {
          "title": {
           "text": "Z"
          }
         }
        },
        "template": {
         "data": {
          "bar": [
           {
            "error_x": {
             "color": "#2a3f5f"
            },
            "error_y": {
             "color": "#2a3f5f"
            },
            "marker": {
             "line": {
              "color": "#E5ECF6",
              "width": 0.5
             },
             "pattern": {
              "fillmode": "overlay",
              "size": 10,
              "solidity": 0.2
             }
            },
            "type": "bar"
           }
          ],
          "barpolar": [
           {
            "marker": {
             "line": {
              "color": "#E5ECF6",
              "width": 0.5
             },
             "pattern": {
              "fillmode": "overlay",
              "size": 10,
              "solidity": 0.2
             }
            },
            "type": "barpolar"
           }
          ],
          "carpet": [
           {
            "aaxis": {
             "endlinecolor": "#2a3f5f",
             "gridcolor": "white",
             "linecolor": "white",
             "minorgridcolor": "white",
             "startlinecolor": "#2a3f5f"
            },
            "baxis": {
             "endlinecolor": "#2a3f5f",
             "gridcolor": "white",
             "linecolor": "white",
             "minorgridcolor": "white",
             "startlinecolor": "#2a3f5f"
            },
            "type": "carpet"
           }
          ],
          "choropleth": [
           {
            "colorbar": {
             "outlinewidth": 0,
             "ticks": ""
            },
            "type": "choropleth"
           }
          ],
          "contour": [
           {
            "colorbar": {
             "outlinewidth": 0,
             "ticks": ""
            },
            "colorscale": [
             [
              0,
              "#0d0887"
             ],
             [
              0.1111111111111111,
              "#46039f"
             ],
             [
              0.2222222222222222,
              "#7201a8"
             ],
             [
              0.3333333333333333,
              "#9c179e"
             ],
             [
              0.4444444444444444,
              "#bd3786"
             ],
             [
              0.5555555555555556,
              "#d8576b"
             ],
             [
              0.6666666666666666,
              "#ed7953"
             ],
             [
              0.7777777777777778,
              "#fb9f3a"
             ],
             [
              0.8888888888888888,
              "#fdca26"
             ],
             [
              1,
              "#f0f921"
             ]
            ],
            "type": "contour"
           }
          ],
          "contourcarpet": [
           {
            "colorbar": {
             "outlinewidth": 0,
             "ticks": ""
            },
            "type": "contourcarpet"
           }
          ],
          "heatmap": [
           {
            "colorbar": {
             "outlinewidth": 0,
             "ticks": ""
            },
            "colorscale": [
             [
              0,
              "#0d0887"
             ],
             [
              0.1111111111111111,
              "#46039f"
             ],
             [
              0.2222222222222222,
              "#7201a8"
             ],
             [
              0.3333333333333333,
              "#9c179e"
             ],
             [
              0.4444444444444444,
              "#bd3786"
             ],
             [
              0.5555555555555556,
              "#d8576b"
             ],
             [
              0.6666666666666666,
              "#ed7953"
             ],
             [
              0.7777777777777778,
              "#fb9f3a"
             ],
             [
              0.8888888888888888,
              "#fdca26"
             ],
             [
              1,
              "#f0f921"
             ]
            ],
            "type": "heatmap"
           }
          ],
          "heatmapgl": [
           {
            "colorbar": {
             "outlinewidth": 0,
             "ticks": ""
            },
            "colorscale": [
             [
              0,
              "#0d0887"
             ],
             [
              0.1111111111111111,
              "#46039f"
             ],
             [
              0.2222222222222222,
              "#7201a8"
             ],
             [
              0.3333333333333333,
              "#9c179e"
             ],
             [
              0.4444444444444444,
              "#bd3786"
             ],
             [
              0.5555555555555556,
              "#d8576b"
             ],
             [
              0.6666666666666666,
              "#ed7953"
             ],
             [
              0.7777777777777778,
              "#fb9f3a"
             ],
             [
              0.8888888888888888,
              "#fdca26"
             ],
             [
              1,
              "#f0f921"
             ]
            ],
            "type": "heatmapgl"
           }
          ],
          "histogram": [
           {
            "marker": {
             "pattern": {
              "fillmode": "overlay",
              "size": 10,
              "solidity": 0.2
             }
            },
            "type": "histogram"
           }
          ],
          "histogram2d": [
           {
            "colorbar": {
             "outlinewidth": 0,
             "ticks": ""
            },
            "colorscale": [
             [
              0,
              "#0d0887"
             ],
             [
              0.1111111111111111,
              "#46039f"
             ],
             [
              0.2222222222222222,
              "#7201a8"
             ],
             [
              0.3333333333333333,
              "#9c179e"
             ],
             [
              0.4444444444444444,
              "#bd3786"
             ],
             [
              0.5555555555555556,
              "#d8576b"
             ],
             [
              0.6666666666666666,
              "#ed7953"
             ],
             [
              0.7777777777777778,
              "#fb9f3a"
             ],
             [
              0.8888888888888888,
              "#fdca26"
             ],
             [
              1,
              "#f0f921"
             ]
            ],
            "type": "histogram2d"
           }
          ],
          "histogram2dcontour": [
           {
            "colorbar": {
             "outlinewidth": 0,
             "ticks": ""
            },
            "colorscale": [
             [
              0,
              "#0d0887"
             ],
             [
              0.1111111111111111,
              "#46039f"
             ],
             [
              0.2222222222222222,
              "#7201a8"
             ],
             [
              0.3333333333333333,
              "#9c179e"
             ],
             [
              0.4444444444444444,
              "#bd3786"
             ],
             [
              0.5555555555555556,
              "#d8576b"
             ],
             [
              0.6666666666666666,
              "#ed7953"
             ],
             [
              0.7777777777777778,
              "#fb9f3a"
             ],
             [
              0.8888888888888888,
              "#fdca26"
             ],
             [
              1,
              "#f0f921"
             ]
            ],
            "type": "histogram2dcontour"
           }
          ],
          "mesh3d": [
           {
            "colorbar": {
             "outlinewidth": 0,
             "ticks": ""
            },
            "type": "mesh3d"
           }
          ],
          "parcoords": [
           {
            "line": {
             "colorbar": {
              "outlinewidth": 0,
              "ticks": ""
             }
            },
            "type": "parcoords"
           }
          ],
          "pie": [
           {
            "automargin": true,
            "type": "pie"
           }
          ],
          "scatter": [
           {
            "fillpattern": {
             "fillmode": "overlay",
             "size": 10,
             "solidity": 0.2
            },
            "type": "scatter"
           }
          ],
          "scatter3d": [
           {
            "line": {
             "colorbar": {
              "outlinewidth": 0,
              "ticks": ""
             }
            },
            "marker": {
             "colorbar": {
              "outlinewidth": 0,
              "ticks": ""
             }
            },
            "type": "scatter3d"
           }
          ],
          "scattercarpet": [
           {
            "marker": {
             "colorbar": {
              "outlinewidth": 0,
              "ticks": ""
             }
            },
            "type": "scattercarpet"
           }
          ],
          "scattergeo": [
           {
            "marker": {
             "colorbar": {
              "outlinewidth": 0,
              "ticks": ""
             }
            },
            "type": "scattergeo"
           }
          ],
          "scattergl": [
           {
            "marker": {
             "colorbar": {
              "outlinewidth": 0,
              "ticks": ""
             }
            },
            "type": "scattergl"
           }
          ],
          "scattermapbox": [
           {
            "marker": {
             "colorbar": {
              "outlinewidth": 0,
              "ticks": ""
             }
            },
            "type": "scattermapbox"
           }
          ],
          "scatterpolar": [
           {
            "marker": {
             "colorbar": {
              "outlinewidth": 0,
              "ticks": ""
             }
            },
            "type": "scatterpolar"
           }
          ],
          "scatterpolargl": [
           {
            "marker": {
             "colorbar": {
              "outlinewidth": 0,
              "ticks": ""
             }
            },
            "type": "scatterpolargl"
           }
          ],
          "scatterternary": [
           {
            "marker": {
             "colorbar": {
              "outlinewidth": 0,
              "ticks": ""
             }
            },
            "type": "scatterternary"
           }
          ],
          "surface": [
           {
            "colorbar": {
             "outlinewidth": 0,
             "ticks": ""
            },
            "colorscale": [
             [
              0,
              "#0d0887"
             ],
             [
              0.1111111111111111,
              "#46039f"
             ],
             [
              0.2222222222222222,
              "#7201a8"
             ],
             [
              0.3333333333333333,
              "#9c179e"
             ],
             [
              0.4444444444444444,
              "#bd3786"
             ],
             [
              0.5555555555555556,
              "#d8576b"
             ],
             [
              0.6666666666666666,
              "#ed7953"
             ],
             [
              0.7777777777777778,
              "#fb9f3a"
             ],
             [
              0.8888888888888888,
              "#fdca26"
             ],
             [
              1,
              "#f0f921"
             ]
            ],
            "type": "surface"
           }
          ],
          "table": [
           {
            "cells": {
             "fill": {
              "color": "#EBF0F8"
             },
             "line": {
              "color": "white"
             }
            },
            "header": {
             "fill": {
              "color": "#C8D4E3"
             },
             "line": {
              "color": "white"
             }
            },
            "type": "table"
           }
          ]
         },
         "layout": {
          "annotationdefaults": {
           "arrowcolor": "#2a3f5f",
           "arrowhead": 0,
           "arrowwidth": 1
          },
          "autotypenumbers": "strict",
          "coloraxis": {
           "colorbar": {
            "outlinewidth": 0,
            "ticks": ""
           }
          },
          "colorscale": {
           "diverging": [
            [
             0,
             "#8e0152"
            ],
            [
             0.1,
             "#c51b7d"
            ],
            [
             0.2,
             "#de77ae"
            ],
            [
             0.3,
             "#f1b6da"
            ],
            [
             0.4,
             "#fde0ef"
            ],
            [
             0.5,
             "#f7f7f7"
            ],
            [
             0.6,
             "#e6f5d0"
            ],
            [
             0.7,
             "#b8e186"
            ],
            [
             0.8,
             "#7fbc41"
            ],
            [
             0.9,
             "#4d9221"
            ],
            [
             1,
             "#276419"
            ]
           ],
           "sequential": [
            [
             0,
             "#0d0887"
            ],
            [
             0.1111111111111111,
             "#46039f"
            ],
            [
             0.2222222222222222,
             "#7201a8"
            ],
            [
             0.3333333333333333,
             "#9c179e"
            ],
            [
             0.4444444444444444,
             "#bd3786"
            ],
            [
             0.5555555555555556,
             "#d8576b"
            ],
            [
             0.6666666666666666,
             "#ed7953"
            ],
            [
             0.7777777777777778,
             "#fb9f3a"
            ],
            [
             0.8888888888888888,
             "#fdca26"
            ],
            [
             1,
             "#f0f921"
            ]
           ],
           "sequentialminus": [
            [
             0,
             "#0d0887"
            ],
            [
             0.1111111111111111,
             "#46039f"
            ],
            [
             0.2222222222222222,
             "#7201a8"
            ],
            [
             0.3333333333333333,
             "#9c179e"
            ],
            [
             0.4444444444444444,
             "#bd3786"
            ],
            [
             0.5555555555555556,
             "#d8576b"
            ],
            [
             0.6666666666666666,
             "#ed7953"
            ],
            [
             0.7777777777777778,
             "#fb9f3a"
            ],
            [
             0.8888888888888888,
             "#fdca26"
            ],
            [
             1,
             "#f0f921"
            ]
           ]
          },
          "colorway": [
           "#636efa",
           "#EF553B",
           "#00cc96",
           "#ab63fa",
           "#FFA15A",
           "#19d3f3",
           "#FF6692",
           "#B6E880",
           "#FF97FF",
           "#FECB52"
          ],
          "font": {
           "color": "#2a3f5f"
          },
          "geo": {
           "bgcolor": "white",
           "lakecolor": "white",
           "landcolor": "#E5ECF6",
           "showlakes": true,
           "showland": true,
           "subunitcolor": "white"
          },
          "hoverlabel": {
           "align": "left"
          },
          "hovermode": "closest",
          "mapbox": {
           "style": "light"
          },
          "paper_bgcolor": "white",
          "plot_bgcolor": "#E5ECF6",
          "polar": {
           "angularaxis": {
            "gridcolor": "white",
            "linecolor": "white",
            "ticks": ""
           },
           "bgcolor": "#E5ECF6",
           "radialaxis": {
            "gridcolor": "white",
            "linecolor": "white",
            "ticks": ""
           }
          },
          "scene": {
           "xaxis": {
            "backgroundcolor": "#E5ECF6",
            "gridcolor": "white",
            "gridwidth": 2,
            "linecolor": "white",
            "showbackground": true,
            "ticks": "",
            "zerolinecolor": "white"
           },
           "yaxis": {
            "backgroundcolor": "#E5ECF6",
            "gridcolor": "white",
            "gridwidth": 2,
            "linecolor": "white",
            "showbackground": true,
            "ticks": "",
            "zerolinecolor": "white"
           },
           "zaxis": {
            "backgroundcolor": "#E5ECF6",
            "gridcolor": "white",
            "gridwidth": 2,
            "linecolor": "white",
            "showbackground": true,
            "ticks": "",
            "zerolinecolor": "white"
           }
          },
          "shapedefaults": {
           "line": {
            "color": "#2a3f5f"
           }
          },
          "ternary": {
           "aaxis": {
            "gridcolor": "white",
            "linecolor": "white",
            "ticks": ""
           },
           "baxis": {
            "gridcolor": "white",
            "linecolor": "white",
            "ticks": ""
           },
           "bgcolor": "#E5ECF6",
           "caxis": {
            "gridcolor": "white",
            "linecolor": "white",
            "ticks": ""
           }
          },
          "title": {
           "x": 0.05
          },
          "xaxis": {
           "automargin": true,
           "gridcolor": "white",
           "linecolor": "white",
           "ticks": "",
           "title": {
            "standoff": 15
           },
           "zerolinecolor": "white",
           "zerolinewidth": 2
          },
          "yaxis": {
           "automargin": true,
           "gridcolor": "white",
           "linecolor": "white",
           "ticks": "",
           "title": {
            "standoff": 15
           },
           "zerolinecolor": "white",
           "zerolinewidth": 2
          }
         }
        },
        "title": {
         "automargin": true,
         "x": 0.5,
         "xanchor": "center",
         "y": 0.95,
         "yanchor": "top"
        },
        "width": 700
       }
      }
     },
     "metadata": {},
     "output_type": "display_data"
    },
    {
     "data": {
      "application/vnd.plotly.v1+json": {
       "config": {
        "plotlyServerURL": "https://plot.ly"
       },
       "data": [
        {
         "customdata": [
          [
           "O"
          ],
          [
           "O"
          ],
          [
           "O"
          ],
          [
           "O"
          ],
          [
           "O"
          ],
          [
           "O"
          ],
          [
           "O"
          ],
          [
           "O"
          ],
          [
           "O"
          ],
          [
           "O"
          ],
          [
           "O"
          ],
          [
           "O"
          ],
          [
           "O"
          ],
          [
           "O"
          ],
          [
           "O"
          ],
          [
           "O"
          ],
          [
           "O"
          ],
          [
           "O"
          ],
          [
           "O"
          ],
          [
           "O"
          ],
          [
           "O"
          ],
          [
           "O"
          ],
          [
           "O"
          ],
          [
           "O"
          ],
          [
           "O"
          ],
          [
           "O"
          ],
          [
           "O"
          ],
          [
           "O"
          ],
          [
           "O"
          ],
          [
           "O"
          ],
          [
           "O"
          ],
          [
           "O"
          ],
          [
           "O"
          ],
          [
           "O"
          ],
          [
           "O"
          ]
         ],
         "hovertemplate": "%{customdata[0]}",
         "legendgroup": "O",
         "marker": {
          "color": "#636efa",
          "opacity": 0.8,
          "size": 5,
          "symbol": [
           "circle",
           "circle",
           "circle",
           "circle",
           "circle",
           "circle",
           "circle",
           "circle",
           "circle",
           "circle",
           "circle",
           "circle",
           "circle",
           "circle",
           "circle",
           "circle",
           "circle",
           "circle",
           "circle",
           "circle",
           "diamond",
           "diamond",
           "diamond",
           "diamond",
           "diamond",
           "diamond",
           "diamond",
           "diamond",
           "diamond",
           "diamond",
           "diamond",
           "diamond",
           "diamond",
           "diamond",
           "diamond",
           "diamond",
           "diamond",
           "diamond",
           "diamond",
           "diamond",
           "diamond",
           "diamond",
           "diamond",
           "diamond",
           "diamond",
           "diamond",
           "diamond",
           "diamond",
           "diamond",
           "diamond",
           "diamond",
           "diamond",
           "diamond",
           "diamond",
           "diamond"
          ]
         },
         "mode": "markers",
         "name": "O",
         "scene": "scene",
         "showlegend": true,
         "text": [
          "O",
          "Si",
          "O",
          "O",
          "O",
          "O",
          "Si",
          "Si",
          "O",
          "O",
          "O",
          "Si",
          "O",
          "Si",
          "Si",
          "O",
          "O",
          "O",
          "O",
          "O",
          "Si",
          "Si",
          "O",
          "O",
          "O",
          "Si",
          "Si",
          "Si",
          "O",
          "O",
          "O",
          "Si",
          "Si",
          "Si",
          "Si",
          "O",
          "O",
          "O",
          "O",
          "O",
          "O",
          "Si",
          "O",
          "O",
          "O",
          "Si",
          "Si",
          "Si",
          "O",
          "O",
          "O",
          "O",
          "O",
          "Si",
          "O"
         ],
         "type": "scatter3d",
         "x": [
          -0.36080013671504574,
          -0.7991211367150477,
          -1.4567881367150477,
          -1.5,
          -0.9035821367150483,
          -1.5,
          -1.2672161367150476,
          -1.5,
          -1.5,
          -0.30000000000000004,
          -0.30137564503045855,
          0.40611041005919457,
          1.4466484100591943,
          0.8999999999999999,
          4.198772999999999,
          4.112224999999999,
          4.46865,
          4.025485,
          3.9726670000000013,
          3.679558,
          -3.1948380000000007,
          -3.1256400000000006,
          -2.258349000000001,
          -2.7628140000000005,
          -4.108806999999999,
          -2.3234209999999997,
          -3.0988109999999995,
          -2.066502,
          -3.2260089999999995,
          -3.7055670000000003,
          -1.8499400000000001,
          -3.5322949999999995,
          -2.0446790000000004,
          -2.365627,
          -3.84666
         ],
         "y": [
          -5.174890864049835,
          -1.6985858640498348,
          -1.3884918640498345,
          -2.4000000000000004,
          -0.9306468640498347,
          0,
          1.677486135950165,
          1.1999999999999993,
          4.799999999999999,
          -1.2000000000000002,
          -4.9514022336817245,
          5.432147154129909,
          -5.023298845870093,
          -2.4000000000000004,
          0.11856900000000081,
          -0.22287000000000035,
          -3.174268999999999,
          3.4501470000000007,
          4.633879,
          2.060506000000001,
          -2.527085999999999,
          -5.290586999999999,
          -4.765920999999999,
          -0.8007080000000002,
          -1.4535209999999985,
          -3.369076999999999,
          1.1894430000000007,
          -0.45721400000000045,
          -5.765405999999999,
          2.030163000000001,
          3.940156000000001,
          3.8789640000000007,
          4.855818000000001,
          1.768718000000001,
          3.421695000000001
         ],
         "z": [
          1.4437163510409516,
          -1.6856956489590484,
          1.0547723510409517,
          1.1999999999999993,
          -4.358102648959047,
          3.5999999999999996,
          -4.02286764895905,
          -3.6,
          -4.8,
          -4.8,
          -5.591390937423348,
          0.28336969739244644,
          1.7114686973924478,
          2.4000000000000004,
          -2.9687300000000008,
          3.3099690000000006,
          0.8509709999999995,
          3.8831879999999988,
          -3.611614000000001,
          -1.050217,
          -4.913344,
          2.0674100000000006,
          -3.592866000000001,
          -1.4281260000000007,
          2.4953160000000008,
          3.8384349999999987,
          5.7820089999999995,
          4.155599,
          4.712675,
          -0.95214,
          2.6708279999999984,
          -3.662769000000001,
          -0.10802600000000062,
          -5.370734000000001,
          4.655602
         ]
        },
        {
         "customdata": [
          [
           "Si"
          ],
          [
           "Si"
          ],
          [
           "Si"
          ],
          [
           "Si"
          ],
          [
           "Si"
          ],
          [
           "Si"
          ],
          [
           "Si"
          ],
          [
           "Si"
          ],
          [
           "Si"
          ],
          [
           "Si"
          ],
          [
           "Si"
          ],
          [
           "Si"
          ],
          [
           "Si"
          ],
          [
           "Si"
          ],
          [
           "Si"
          ],
          [
           "Si"
          ],
          [
           "Si"
          ],
          [
           "Si"
          ],
          [
           "Si"
          ],
          [
           "Si"
          ]
         ],
         "hovertemplate": "%{customdata[0]}",
         "legendgroup": "Si",
         "marker": {
          "color": "#EF553B",
          "opacity": 0.8,
          "size": 5,
          "symbol": [
           "circle",
           "circle",
           "circle",
           "circle",
           "circle",
           "circle",
           "circle",
           "circle",
           "circle",
           "circle",
           "circle",
           "circle",
           "circle",
           "circle",
           "circle",
           "circle",
           "circle",
           "circle",
           "circle",
           "circle",
           "diamond",
           "diamond",
           "diamond",
           "diamond",
           "diamond",
           "diamond",
           "diamond",
           "diamond",
           "diamond",
           "diamond",
           "diamond",
           "diamond",
           "diamond",
           "diamond",
           "diamond",
           "diamond",
           "diamond",
           "diamond",
           "diamond",
           "diamond",
           "diamond",
           "diamond",
           "diamond",
           "diamond",
           "diamond",
           "diamond",
           "diamond",
           "diamond",
           "diamond",
           "diamond",
           "diamond",
           "diamond",
           "diamond",
           "diamond",
           "diamond"
          ]
         },
         "mode": "markers",
         "name": "Si",
         "scene": "scene",
         "showlegend": true,
         "text": [
          "O",
          "Si",
          "O",
          "O",
          "O",
          "O",
          "Si",
          "Si",
          "O",
          "O",
          "O",
          "Si",
          "O",
          "Si",
          "Si",
          "O",
          "O",
          "O",
          "O",
          "O",
          "Si",
          "Si",
          "O",
          "O",
          "O",
          "Si",
          "Si",
          "Si",
          "O",
          "O",
          "O",
          "Si",
          "Si",
          "Si",
          "Si",
          "O",
          "O",
          "O",
          "O",
          "O",
          "O",
          "Si",
          "O",
          "O",
          "O",
          "Si",
          "Si",
          "Si",
          "O",
          "O",
          "O",
          "O",
          "O",
          "Si",
          "O"
         ],
         "type": "scatter3d",
         "x": [
          -0.8391401367150486,
          -1.5,
          -0.8303291367150472,
          -1.214202479952364,
          -0.8812011367150454,
          0.46289486328495144,
          3.505683000000001,
          4.337536,
          3.400791999999999,
          3.2963629999999995,
          4.288603999999999,
          -3.395403999999999,
          -3.9045710000000007,
          -2.1031150000000007,
          -3.3346160000000005,
          -1.677486,
          -2.2986380000000004,
          -2.8018959999999993,
          -3.542605,
          -4.376805000000001
         ],
         "y": [
          -2.236755864049835,
          -1.2000000000000002,
          0.48769513595016534,
          -5.674301703927846,
          5.929789135950164,
          -4.256147864049835,
          -1.677274999999998,
          -1.9924879999999998,
          -4.923577,
          4.620056000000001,
          1.4117780000000009,
          -4.470077999999999,
          0.17148200000000102,
          -1.5952190000000002,
          -4.618774999999999,
          0.6030180000000023,
          2.3820580000000007,
          5.288629,
          4.373694,
          1.9777850000000008
         ],
         "z": [
          -3.33405464895905,
          0,
          -5.098426648959048,
          -4.833674306031745,
          -1.0349606489590486,
          2.491727351040952,
          -5.43286,
          2.272283,
          4.106719999999999,
          1.5188079999999982,
          -5.295141000000001,
          -5.2492920000000005,
          -0.075094,
          2.627377000000001,
          3.535831,
          5.314871,
          -3.4082419999999995,
          -4.8826529999999995,
          3.179373,
          5.124404999999999
         ]
        },
        {
         "hoverinfo": "skip",
         "line": {
          "color": "black",
          "showscale": false,
          "width": 1
         },
         "mode": "lines",
         "showlegend": false,
         "type": "scatter3d",
         "x": [
          -0.36080013671504574,
          1.4466484100591943
         ],
         "y": [
          -5.174890864049835,
          -5.023298845870093
         ],
         "z": [
          1.4437163510409516,
          1.7114686973924478
         ]
        },
        {
         "hoverinfo": "skip",
         "line": {
          "color": "black",
          "showscale": false,
          "width": 1
         },
         "mode": "lines",
         "showlegend": false,
         "type": "scatter3d",
         "x": [
          -0.7991211367150477,
          -2.7628140000000005
         ],
         "y": [
          -1.6985858640498348,
          -0.8007080000000002
         ],
         "z": [
          -1.6856956489590484,
          -1.4281260000000007
         ]
        },
        {
         "hoverinfo": "skip",
         "line": {
          "color": "black",
          "showscale": false,
          "width": 1
         },
         "mode": "lines",
         "showlegend": false,
         "type": "scatter3d",
         "x": [
          -1.4567881367150477,
          -1.5
         ],
         "y": [
          -1.3884918640498345,
          -2.4000000000000004
         ],
         "z": [
          1.0547723510409517,
          1.1999999999999993
         ]
        },
        {
         "hoverinfo": "skip",
         "line": {
          "color": "black",
          "showscale": false,
          "width": 1
         },
         "mode": "lines",
         "showlegend": false,
         "type": "scatter3d",
         "x": [
          -1.5,
          -1.4567881367150477
         ],
         "y": [
          -2.4000000000000004,
          -1.3884918640498345
         ],
         "z": [
          1.1999999999999993,
          1.0547723510409517
         ]
        },
        {
         "hoverinfo": "skip",
         "line": {
          "color": "black",
          "showscale": false,
          "width": 1
         },
         "mode": "lines",
         "showlegend": false,
         "type": "scatter3d",
         "x": [
          -0.9035821367150483,
          -1.5
         ],
         "y": [
          -0.9306468640498347,
          1.1999999999999993
         ],
         "z": [
          -4.358102648959047,
          -3.6
         ]
        },
        {
         "hoverinfo": "skip",
         "line": {
          "color": "black",
          "showscale": false,
          "width": 1
         },
         "mode": "lines",
         "showlegend": false,
         "type": "scatter3d",
         "x": [
          -0.9035821367150483,
          -0.30000000000000004
         ],
         "y": [
          -0.9306468640498347,
          -1.2000000000000002
         ],
         "z": [
          -4.358102648959047,
          -4.8
         ]
        },
        {
         "hoverinfo": "skip",
         "line": {
          "color": "black",
          "showscale": false,
          "width": 1
         },
         "mode": "lines",
         "showlegend": false,
         "type": "scatter3d",
         "x": [
          -1.5,
          -2.066502
         ],
         "y": [
          0,
          -0.45721400000000045
         ],
         "z": [
          3.5999999999999996,
          4.155599
         ]
        },
        {
         "hoverinfo": "skip",
         "line": {
          "color": "black",
          "showscale": false,
          "width": 1
         },
         "mode": "lines",
         "showlegend": false,
         "type": "scatter3d",
         "x": [
          -1.2672161367150476,
          -1.5
         ],
         "y": [
          1.677486135950165,
          1.1999999999999993
         ],
         "z": [
          -4.02286764895905,
          -3.6
         ]
        },
        {
         "hoverinfo": "skip",
         "line": {
          "color": "black",
          "showscale": false,
          "width": 1
         },
         "mode": "lines",
         "showlegend": false,
         "type": "scatter3d",
         "x": [
          -1.2672161367150476,
          -2.365627
         ],
         "y": [
          1.677486135950165,
          1.768718000000001
         ],
         "z": [
          -4.02286764895905,
          -5.370734000000001
         ]
        },
        {
         "hoverinfo": "skip",
         "line": {
          "color": "black",
          "showscale": false,
          "width": 1
         },
         "mode": "lines",
         "showlegend": false,
         "type": "scatter3d",
         "x": [
          -1.5,
          -0.9035821367150483
         ],
         "y": [
          1.1999999999999993,
          -0.9306468640498347
         ],
         "z": [
          -3.6,
          -4.358102648959047
         ]
        },
        {
         "hoverinfo": "skip",
         "line": {
          "color": "black",
          "showscale": false,
          "width": 1
         },
         "mode": "lines",
         "showlegend": false,
         "type": "scatter3d",
         "x": [
          -1.5,
          -1.2672161367150476
         ],
         "y": [
          1.1999999999999993,
          1.677486135950165
         ],
         "z": [
          -3.6,
          -4.02286764895905
         ]
        },
        {
         "hoverinfo": "skip",
         "line": {
          "color": "black",
          "showscale": false,
          "width": 1
         },
         "mode": "lines",
         "showlegend": false,
         "type": "scatter3d",
         "x": [
          -1.5,
          -2.365627
         ],
         "y": [
          1.1999999999999993,
          1.768718000000001
         ],
         "z": [
          -3.6,
          -5.370734000000001
         ]
        },
        {
         "hoverinfo": "skip",
         "line": {
          "color": "black",
          "showscale": false,
          "width": 1
         },
         "mode": "lines",
         "showlegend": false,
         "type": "scatter3d",
         "x": [
          -0.30000000000000004,
          -0.9035821367150483
         ],
         "y": [
          -1.2000000000000002,
          -0.9306468640498347
         ],
         "z": [
          -4.8,
          -4.358102648959047
         ]
        },
        {
         "hoverinfo": "skip",
         "line": {
          "color": "black",
          "showscale": false,
          "width": 1
         },
         "mode": "lines",
         "showlegend": false,
         "type": "scatter3d",
         "x": [
          1.4466484100591943,
          -0.36080013671504574
         ],
         "y": [
          -5.023298845870093,
          -5.174890864049835
         ],
         "z": [
          1.7114686973924478,
          1.4437163510409516
         ]
        },
        {
         "hoverinfo": "skip",
         "line": {
          "color": "black",
          "showscale": false,
          "width": 1
         },
         "mode": "lines",
         "showlegend": false,
         "type": "scatter3d",
         "x": [
          -2.7628140000000005,
          -0.7991211367150477
         ],
         "y": [
          -0.8007080000000002,
          -1.6985858640498348
         ],
         "z": [
          -1.4281260000000007,
          -1.6856956489590484
         ]
        },
        {
         "hoverinfo": "skip",
         "line": {
          "color": "black",
          "showscale": false,
          "width": 1
         },
         "mode": "lines",
         "showlegend": false,
         "type": "scatter3d",
         "x": [
          -2.066502,
          -1.5
         ],
         "y": [
          -0.45721400000000045,
          0
         ],
         "z": [
          4.155599,
          3.5999999999999996
         ]
        },
        {
         "hoverinfo": "skip",
         "line": {
          "color": "black",
          "showscale": false,
          "width": 1
         },
         "mode": "lines",
         "showlegend": false,
         "type": "scatter3d",
         "x": [
          -2.365627,
          -1.2672161367150476
         ],
         "y": [
          1.768718000000001,
          1.677486135950165
         ],
         "z": [
          -5.370734000000001,
          -4.02286764895905
         ]
        },
        {
         "hoverinfo": "skip",
         "line": {
          "color": "black",
          "showscale": false,
          "width": 1
         },
         "mode": "lines",
         "showlegend": false,
         "type": "scatter3d",
         "x": [
          -2.365627,
          -1.5
         ],
         "y": [
          1.768718000000001,
          1.1999999999999993
         ],
         "z": [
          -5.370734000000001,
          -3.6
         ]
        },
        {
         "hoverinfo": "skip",
         "line": {
          "color": "black",
          "showscale": false,
          "width": 1
         },
         "mode": "lines",
         "showlegend": false,
         "type": "scatter3d",
         "x": [
          -1.5,
          -3.9045710000000007
         ],
         "y": [
          -1.2000000000000002,
          0.17148200000000102
         ],
         "z": [
          0,
          -0.075094
         ]
        },
        {
         "hoverinfo": "skip",
         "line": {
          "color": "black",
          "showscale": false,
          "width": 1
         },
         "mode": "lines",
         "showlegend": false,
         "type": "scatter3d",
         "x": [
          -1.5,
          -2.1031150000000007
         ],
         "y": [
          -1.2000000000000002,
          -1.5952190000000002
         ],
         "z": [
          0,
          2.627377000000001
         ]
        },
        {
         "hoverinfo": "skip",
         "line": {
          "color": "black",
          "showscale": false,
          "width": 1
         },
         "mode": "lines",
         "showlegend": false,
         "type": "scatter3d",
         "x": [
          -1.214202479952364,
          -3.395403999999999
         ],
         "y": [
          -5.674301703927846,
          -4.470077999999999
         ],
         "z": [
          -4.833674306031745,
          -5.2492920000000005
         ]
        },
        {
         "hoverinfo": "skip",
         "line": {
          "color": "black",
          "showscale": false,
          "width": 1
         },
         "mode": "lines",
         "showlegend": false,
         "type": "scatter3d",
         "x": [
          -3.395403999999999,
          -1.214202479952364
         ],
         "y": [
          -4.470077999999999,
          -5.674301703927846
         ],
         "z": [
          -5.2492920000000005,
          -4.833674306031745
         ]
        },
        {
         "hoverinfo": "skip",
         "line": {
          "color": "black",
          "showscale": false,
          "width": 1
         },
         "mode": "lines",
         "showlegend": false,
         "type": "scatter3d",
         "x": [
          -3.9045710000000007,
          -1.5
         ],
         "y": [
          0.17148200000000102,
          -1.2000000000000002
         ],
         "z": [
          -0.075094,
          0
         ]
        },
        {
         "hoverinfo": "skip",
         "line": {
          "color": "black",
          "showscale": false,
          "width": 1
         },
         "mode": "lines",
         "showlegend": false,
         "type": "scatter3d",
         "x": [
          -2.1031150000000007,
          -1.5
         ],
         "y": [
          -1.5952190000000002,
          -1.2000000000000002
         ],
         "z": [
          2.627377000000001,
          0
         ]
        },
        {
         "hoverinfo": "skip",
         "line": {
          "color": "black",
          "showscale": false,
          "width": 1
         },
         "mode": "lines",
         "showlegend": false,
         "type": "scatter3d",
         "x": [
          -0.8391401367150486,
          -0.7991211367150477
         ],
         "y": [
          -2.236755864049835,
          -1.6985858640498348
         ],
         "z": [
          -3.33405464895905,
          -1.6856956489590484
         ]
        },
        {
         "hoverinfo": "skip",
         "line": {
          "color": "black",
          "showscale": false,
          "width": 1
         },
         "mode": "lines",
         "showlegend": false,
         "type": "scatter3d",
         "x": [
          -0.8391401367150486,
          -0.9035821367150483
         ],
         "y": [
          -2.236755864049835,
          -0.9306468640498347
         ],
         "z": [
          -3.33405464895905,
          -4.358102648959047
         ]
        },
        {
         "hoverinfo": "skip",
         "line": {
          "color": "black",
          "showscale": false,
          "width": 1
         },
         "mode": "lines",
         "showlegend": false,
         "type": "scatter3d",
         "x": [
          -0.8391401367150486,
          -0.30000000000000004
         ],
         "y": [
          -2.236755864049835,
          -1.2000000000000002
         ],
         "z": [
          -3.33405464895905,
          -4.8
         ]
        },
        {
         "hoverinfo": "skip",
         "line": {
          "color": "black",
          "showscale": false,
          "width": 1
         },
         "mode": "lines",
         "showlegend": false,
         "type": "scatter3d",
         "x": [
          -1.5,
          -0.7991211367150477
         ],
         "y": [
          -1.2000000000000002,
          -1.6985858640498348
         ],
         "z": [
          0,
          -1.6856956489590484
         ]
        },
        {
         "hoverinfo": "skip",
         "line": {
          "color": "black",
          "showscale": false,
          "width": 1
         },
         "mode": "lines",
         "showlegend": false,
         "type": "scatter3d",
         "x": [
          -1.5,
          -1.4567881367150477
         ],
         "y": [
          -1.2000000000000002,
          -1.3884918640498345
         ],
         "z": [
          0,
          1.0547723510409517
         ]
        },
        {
         "hoverinfo": "skip",
         "line": {
          "color": "black",
          "showscale": false,
          "width": 1
         },
         "mode": "lines",
         "showlegend": false,
         "type": "scatter3d",
         "x": [
          -1.5,
          -1.5
         ],
         "y": [
          -1.2000000000000002,
          -2.4000000000000004
         ],
         "z": [
          0,
          1.1999999999999993
         ]
        },
        {
         "hoverinfo": "skip",
         "line": {
          "color": "black",
          "showscale": false,
          "width": 1
         },
         "mode": "lines",
         "showlegend": false,
         "type": "scatter3d",
         "x": [
          -0.8303291367150472,
          -0.9035821367150483
         ],
         "y": [
          0.48769513595016534,
          -0.9306468640498347
         ],
         "z": [
          -5.098426648959048,
          -4.358102648959047
         ]
        },
        {
         "hoverinfo": "skip",
         "line": {
          "color": "black",
          "showscale": false,
          "width": 1
         },
         "mode": "lines",
         "showlegend": false,
         "type": "scatter3d",
         "x": [
          -0.8303291367150472,
          -1.2672161367150476
         ],
         "y": [
          0.48769513595016534,
          1.677486135950165
         ],
         "z": [
          -5.098426648959048,
          -4.02286764895905
         ]
        },
        {
         "hoverinfo": "skip",
         "line": {
          "color": "black",
          "showscale": false,
          "width": 1
         },
         "mode": "lines",
         "showlegend": false,
         "type": "scatter3d",
         "x": [
          -0.8303291367150472,
          -1.5
         ],
         "y": [
          0.48769513595016534,
          1.1999999999999993
         ],
         "z": [
          -5.098426648959048,
          -3.6
         ]
        },
        {
         "hoverinfo": "skip",
         "line": {
          "color": "black",
          "showscale": false,
          "width": 1
         },
         "mode": "lines",
         "showlegend": false,
         "type": "scatter3d",
         "x": [
          -0.8303291367150472,
          -0.30000000000000004
         ],
         "y": [
          0.48769513595016534,
          -1.2000000000000002
         ],
         "z": [
          -5.098426648959048,
          -4.8
         ]
        },
        {
         "hoverinfo": "skip",
         "line": {
          "color": "black",
          "showscale": false,
          "width": 1
         },
         "mode": "lines",
         "showlegend": false,
         "type": "scatter3d",
         "x": [
          -1.214202479952364,
          -0.30137564503045855
         ],
         "y": [
          -5.674301703927846,
          -4.9514022336817245
         ],
         "z": [
          -4.833674306031745,
          -5.591390937423348
         ]
        },
        {
         "hoverinfo": "skip",
         "line": {
          "color": "black",
          "showscale": false,
          "width": 1
         },
         "mode": "lines",
         "showlegend": false,
         "type": "scatter3d",
         "x": [
          -1.214202479952364,
          -2.258349000000001
         ],
         "y": [
          -5.674301703927846,
          -4.765920999999999
         ],
         "z": [
          -4.833674306031745,
          -3.592866000000001
         ]
        },
        {
         "hoverinfo": "skip",
         "line": {
          "color": "black",
          "showscale": false,
          "width": 1
         },
         "mode": "lines",
         "showlegend": false,
         "type": "scatter3d",
         "x": [
          -0.8812011367150454,
          -2.0446790000000004
         ],
         "y": [
          5.929789135950164,
          4.855818000000001
         ],
         "z": [
          -1.0349606489590486,
          -0.10802600000000062
         ]
        },
        {
         "hoverinfo": "skip",
         "line": {
          "color": "black",
          "showscale": false,
          "width": 1
         },
         "mode": "lines",
         "showlegend": false,
         "type": "scatter3d",
         "x": [
          0.46289486328495144,
          -0.36080013671504574
         ],
         "y": [
          -4.256147864049835,
          -5.174890864049835
         ],
         "z": [
          2.491727351040952,
          1.4437163510409516
         ]
        },
        {
         "hoverinfo": "skip",
         "line": {
          "color": "black",
          "showscale": false,
          "width": 1
         },
         "mode": "lines",
         "showlegend": false,
         "type": "scatter3d",
         "x": [
          0.46289486328495144,
          1.4466484100591943
         ],
         "y": [
          -4.256147864049835,
          -5.023298845870093
         ],
         "z": [
          2.491727351040952,
          1.7114686973924478
         ]
        },
        {
         "hoverinfo": "skip",
         "line": {
          "color": "black",
          "showscale": false,
          "width": 1
         },
         "mode": "lines",
         "showlegend": false,
         "type": "scatter3d",
         "x": [
          4.337536,
          4.46865
         ],
         "y": [
          -1.9924879999999998,
          -3.174268999999999
         ],
         "z": [
          2.272283,
          0.8509709999999995
         ]
        },
        {
         "hoverinfo": "skip",
         "line": {
          "color": "black",
          "showscale": false,
          "width": 1
         },
         "mode": "lines",
         "showlegend": false,
         "type": "scatter3d",
         "x": [
          -2.1031150000000007,
          -1.4567881367150477
         ],
         "y": [
          -1.5952190000000002,
          -1.3884918640498345
         ],
         "z": [
          2.627377000000001,
          1.0547723510409517
         ]
        },
        {
         "hoverinfo": "skip",
         "line": {
          "color": "black",
          "showscale": false,
          "width": 1
         },
         "mode": "lines",
         "showlegend": false,
         "type": "scatter3d",
         "x": [
          -2.1031150000000007,
          -1.5
         ],
         "y": [
          -1.5952190000000002,
          -2.4000000000000004
         ],
         "z": [
          2.627377000000001,
          1.1999999999999993
         ]
        },
        {
         "hoverinfo": "skip",
         "line": {
          "color": "black",
          "showscale": false,
          "width": 1
         },
         "mode": "lines",
         "showlegend": false,
         "type": "scatter3d",
         "x": [
          -3.3346160000000005,
          -3.1256400000000006
         ],
         "y": [
          -4.618774999999999,
          -5.290586999999999
         ],
         "z": [
          3.535831,
          2.0674100000000006
         ]
        },
        {
         "hoverinfo": "skip",
         "line": {
          "color": "black",
          "showscale": false,
          "width": 1
         },
         "mode": "lines",
         "showlegend": false,
         "type": "scatter3d",
         "x": [
          -3.3346160000000005,
          -2.3234209999999997
         ],
         "y": [
          -4.618774999999999,
          -3.369076999999999
         ],
         "z": [
          3.535831,
          3.8384349999999987
         ]
        },
        {
         "hoverinfo": "skip",
         "line": {
          "color": "black",
          "showscale": false,
          "width": 1
         },
         "mode": "lines",
         "showlegend": false,
         "type": "scatter3d",
         "x": [
          -3.3346160000000005,
          -3.2260089999999995
         ],
         "y": [
          -4.618774999999999,
          -5.765405999999999
         ],
         "z": [
          3.535831,
          4.712675
         ]
        },
        {
         "hoverinfo": "skip",
         "line": {
          "color": "black",
          "showscale": false,
          "width": 1
         },
         "mode": "lines",
         "showlegend": false,
         "type": "scatter3d",
         "x": [
          -1.677486,
          -1.5
         ],
         "y": [
          0.6030180000000023,
          0
         ],
         "z": [
          5.314871,
          3.5999999999999996
         ]
        },
        {
         "hoverinfo": "skip",
         "line": {
          "color": "black",
          "showscale": false,
          "width": 1
         },
         "mode": "lines",
         "showlegend": false,
         "type": "scatter3d",
         "x": [
          -1.677486,
          -3.0988109999999995
         ],
         "y": [
          0.6030180000000023,
          1.1894430000000007
         ],
         "z": [
          5.314871,
          5.7820089999999995
         ]
        },
        {
         "hoverinfo": "skip",
         "line": {
          "color": "black",
          "showscale": false,
          "width": 1
         },
         "mode": "lines",
         "showlegend": false,
         "type": "scatter3d",
         "x": [
          -1.677486,
          -2.066502
         ],
         "y": [
          0.6030180000000023,
          -0.45721400000000045
         ],
         "z": [
          5.314871,
          4.155599
         ]
        },
        {
         "hoverinfo": "skip",
         "line": {
          "color": "black",
          "showscale": false,
          "width": 1
         },
         "mode": "lines",
         "showlegend": false,
         "type": "scatter3d",
         "x": [
          -2.2986380000000004,
          -1.2672161367150476
         ],
         "y": [
          2.3820580000000007,
          1.677486135950165
         ],
         "z": [
          -3.4082419999999995,
          -4.02286764895905
         ]
        },
        {
         "hoverinfo": "skip",
         "line": {
          "color": "black",
          "showscale": false,
          "width": 1
         },
         "mode": "lines",
         "showlegend": false,
         "type": "scatter3d",
         "x": [
          -2.2986380000000004,
          -1.5
         ],
         "y": [
          2.3820580000000007,
          1.1999999999999993
         ],
         "z": [
          -3.4082419999999995,
          -3.6
         ]
        },
        {
         "hoverinfo": "skip",
         "line": {
          "color": "black",
          "showscale": false,
          "width": 1
         },
         "mode": "lines",
         "showlegend": false,
         "type": "scatter3d",
         "x": [
          -2.8018959999999993,
          -1.5
         ],
         "y": [
          5.288629,
          4.799999999999999
         ],
         "z": [
          -4.8826529999999995,
          -4.8
         ]
        },
        {
         "hoverinfo": "skip",
         "line": {
          "color": "black",
          "showscale": false,
          "width": 1
         },
         "mode": "lines",
         "showlegend": false,
         "type": "scatter3d",
         "x": [
          -3.542605,
          -1.8499400000000001
         ],
         "y": [
          4.373694,
          3.940156000000001
         ],
         "z": [
          3.179373,
          2.6708279999999984
         ]
        },
        {
         "hoverinfo": "skip",
         "line": {
          "color": "black",
          "showscale": false,
          "width": 1
         },
         "mode": "lines",
         "showlegend": false,
         "type": "scatter3d",
         "x": [
          -3.542605,
          -3.84666
         ],
         "y": [
          4.373694,
          3.421695000000001
         ],
         "z": [
          3.179373,
          4.655602
         ]
        },
        {
         "hoverinfo": "skip",
         "line": {
          "color": "black",
          "showscale": false,
          "width": 1
         },
         "mode": "lines",
         "showlegend": false,
         "type": "scatter3d",
         "x": [
          -4.376805000000001,
          -3.0988109999999995
         ],
         "y": [
          1.9777850000000008,
          1.1894430000000007
         ],
         "z": [
          5.124404999999999,
          5.7820089999999995
         ]
        },
        {
         "hoverinfo": "skip",
         "line": {
          "color": "black",
          "showscale": false,
          "width": 1
         },
         "mode": "lines",
         "showlegend": false,
         "type": "scatter3d",
         "x": [
          -4.376805000000001,
          -3.84666
         ],
         "y": [
          1.9777850000000008,
          3.421695000000001
         ],
         "z": [
          5.124404999999999,
          4.655602
         ]
        }
       ],
       "layout": {
        "legend": {
         "title": {
          "text": "Species"
         },
         "tracegroupgap": 0
        },
        "margin": {
         "b": 10,
         "l": 10,
         "r": 20,
         "t": 10
        },
        "scene": {
         "aspectmode": "data",
         "domain": {
          "x": [
           0,
           1
          ],
          "y": [
           0,
           1
          ]
         },
         "xaxis": {
          "title": {
           "text": "X"
          }
         },
         "yaxis": {
          "title": {
           "text": "Y"
          }
         },
         "zaxis": {
          "title": {
           "text": "Z"
          }
         }
        },
        "template": {
         "data": {
          "bar": [
           {
            "error_x": {
             "color": "#2a3f5f"
            },
            "error_y": {
             "color": "#2a3f5f"
            },
            "marker": {
             "line": {
              "color": "#E5ECF6",
              "width": 0.5
             },
             "pattern": {
              "fillmode": "overlay",
              "size": 10,
              "solidity": 0.2
             }
            },
            "type": "bar"
           }
          ],
          "barpolar": [
           {
            "marker": {
             "line": {
              "color": "#E5ECF6",
              "width": 0.5
             },
             "pattern": {
              "fillmode": "overlay",
              "size": 10,
              "solidity": 0.2
             }
            },
            "type": "barpolar"
           }
          ],
          "carpet": [
           {
            "aaxis": {
             "endlinecolor": "#2a3f5f",
             "gridcolor": "white",
             "linecolor": "white",
             "minorgridcolor": "white",
             "startlinecolor": "#2a3f5f"
            },
            "baxis": {
             "endlinecolor": "#2a3f5f",
             "gridcolor": "white",
             "linecolor": "white",
             "minorgridcolor": "white",
             "startlinecolor": "#2a3f5f"
            },
            "type": "carpet"
           }
          ],
          "choropleth": [
           {
            "colorbar": {
             "outlinewidth": 0,
             "ticks": ""
            },
            "type": "choropleth"
           }
          ],
          "contour": [
           {
            "colorbar": {
             "outlinewidth": 0,
             "ticks": ""
            },
            "colorscale": [
             [
              0,
              "#0d0887"
             ],
             [
              0.1111111111111111,
              "#46039f"
             ],
             [
              0.2222222222222222,
              "#7201a8"
             ],
             [
              0.3333333333333333,
              "#9c179e"
             ],
             [
              0.4444444444444444,
              "#bd3786"
             ],
             [
              0.5555555555555556,
              "#d8576b"
             ],
             [
              0.6666666666666666,
              "#ed7953"
             ],
             [
              0.7777777777777778,
              "#fb9f3a"
             ],
             [
              0.8888888888888888,
              "#fdca26"
             ],
             [
              1,
              "#f0f921"
             ]
            ],
            "type": "contour"
           }
          ],
          "contourcarpet": [
           {
            "colorbar": {
             "outlinewidth": 0,
             "ticks": ""
            },
            "type": "contourcarpet"
           }
          ],
          "heatmap": [
           {
            "colorbar": {
             "outlinewidth": 0,
             "ticks": ""
            },
            "colorscale": [
             [
              0,
              "#0d0887"
             ],
             [
              0.1111111111111111,
              "#46039f"
             ],
             [
              0.2222222222222222,
              "#7201a8"
             ],
             [
              0.3333333333333333,
              "#9c179e"
             ],
             [
              0.4444444444444444,
              "#bd3786"
             ],
             [
              0.5555555555555556,
              "#d8576b"
             ],
             [
              0.6666666666666666,
              "#ed7953"
             ],
             [
              0.7777777777777778,
              "#fb9f3a"
             ],
             [
              0.8888888888888888,
              "#fdca26"
             ],
             [
              1,
              "#f0f921"
             ]
            ],
            "type": "heatmap"
           }
          ],
          "heatmapgl": [
           {
            "colorbar": {
             "outlinewidth": 0,
             "ticks": ""
            },
            "colorscale": [
             [
              0,
              "#0d0887"
             ],
             [
              0.1111111111111111,
              "#46039f"
             ],
             [
              0.2222222222222222,
              "#7201a8"
             ],
             [
              0.3333333333333333,
              "#9c179e"
             ],
             [
              0.4444444444444444,
              "#bd3786"
             ],
             [
              0.5555555555555556,
              "#d8576b"
             ],
             [
              0.6666666666666666,
              "#ed7953"
             ],
             [
              0.7777777777777778,
              "#fb9f3a"
             ],
             [
              0.8888888888888888,
              "#fdca26"
             ],
             [
              1,
              "#f0f921"
             ]
            ],
            "type": "heatmapgl"
           }
          ],
          "histogram": [
           {
            "marker": {
             "pattern": {
              "fillmode": "overlay",
              "size": 10,
              "solidity": 0.2
             }
            },
            "type": "histogram"
           }
          ],
          "histogram2d": [
           {
            "colorbar": {
             "outlinewidth": 0,
             "ticks": ""
            },
            "colorscale": [
             [
              0,
              "#0d0887"
             ],
             [
              0.1111111111111111,
              "#46039f"
             ],
             [
              0.2222222222222222,
              "#7201a8"
             ],
             [
              0.3333333333333333,
              "#9c179e"
             ],
             [
              0.4444444444444444,
              "#bd3786"
             ],
             [
              0.5555555555555556,
              "#d8576b"
             ],
             [
              0.6666666666666666,
              "#ed7953"
             ],
             [
              0.7777777777777778,
              "#fb9f3a"
             ],
             [
              0.8888888888888888,
              "#fdca26"
             ],
             [
              1,
              "#f0f921"
             ]
            ],
            "type": "histogram2d"
           }
          ],
          "histogram2dcontour": [
           {
            "colorbar": {
             "outlinewidth": 0,
             "ticks": ""
            },
            "colorscale": [
             [
              0,
              "#0d0887"
             ],
             [
              0.1111111111111111,
              "#46039f"
             ],
             [
              0.2222222222222222,
              "#7201a8"
             ],
             [
              0.3333333333333333,
              "#9c179e"
             ],
             [
              0.4444444444444444,
              "#bd3786"
             ],
             [
              0.5555555555555556,
              "#d8576b"
             ],
             [
              0.6666666666666666,
              "#ed7953"
             ],
             [
              0.7777777777777778,
              "#fb9f3a"
             ],
             [
              0.8888888888888888,
              "#fdca26"
             ],
             [
              1,
              "#f0f921"
             ]
            ],
            "type": "histogram2dcontour"
           }
          ],
          "mesh3d": [
           {
            "colorbar": {
             "outlinewidth": 0,
             "ticks": ""
            },
            "type": "mesh3d"
           }
          ],
          "parcoords": [
           {
            "line": {
             "colorbar": {
              "outlinewidth": 0,
              "ticks": ""
             }
            },
            "type": "parcoords"
           }
          ],
          "pie": [
           {
            "automargin": true,
            "type": "pie"
           }
          ],
          "scatter": [
           {
            "fillpattern": {
             "fillmode": "overlay",
             "size": 10,
             "solidity": 0.2
            },
            "type": "scatter"
           }
          ],
          "scatter3d": [
           {
            "line": {
             "colorbar": {
              "outlinewidth": 0,
              "ticks": ""
             }
            },
            "marker": {
             "colorbar": {
              "outlinewidth": 0,
              "ticks": ""
             }
            },
            "type": "scatter3d"
           }
          ],
          "scattercarpet": [
           {
            "marker": {
             "colorbar": {
              "outlinewidth": 0,
              "ticks": ""
             }
            },
            "type": "scattercarpet"
           }
          ],
          "scattergeo": [
           {
            "marker": {
             "colorbar": {
              "outlinewidth": 0,
              "ticks": ""
             }
            },
            "type": "scattergeo"
           }
          ],
          "scattergl": [
           {
            "marker": {
             "colorbar": {
              "outlinewidth": 0,
              "ticks": ""
             }
            },
            "type": "scattergl"
           }
          ],
          "scattermapbox": [
           {
            "marker": {
             "colorbar": {
              "outlinewidth": 0,
              "ticks": ""
             }
            },
            "type": "scattermapbox"
           }
          ],
          "scatterpolar": [
           {
            "marker": {
             "colorbar": {
              "outlinewidth": 0,
              "ticks": ""
             }
            },
            "type": "scatterpolar"
           }
          ],
          "scatterpolargl": [
           {
            "marker": {
             "colorbar": {
              "outlinewidth": 0,
              "ticks": ""
             }
            },
            "type": "scatterpolargl"
           }
          ],
          "scatterternary": [
           {
            "marker": {
             "colorbar": {
              "outlinewidth": 0,
              "ticks": ""
             }
            },
            "type": "scatterternary"
           }
          ],
          "surface": [
           {
            "colorbar": {
             "outlinewidth": 0,
             "ticks": ""
            },
            "colorscale": [
             [
              0,
              "#0d0887"
             ],
             [
              0.1111111111111111,
              "#46039f"
             ],
             [
              0.2222222222222222,
              "#7201a8"
             ],
             [
              0.3333333333333333,
              "#9c179e"
             ],
             [
              0.4444444444444444,
              "#bd3786"
             ],
             [
              0.5555555555555556,
              "#d8576b"
             ],
             [
              0.6666666666666666,
              "#ed7953"
             ],
             [
              0.7777777777777778,
              "#fb9f3a"
             ],
             [
              0.8888888888888888,
              "#fdca26"
             ],
             [
              1,
              "#f0f921"
             ]
            ],
            "type": "surface"
           }
          ],
          "table": [
           {
            "cells": {
             "fill": {
              "color": "#EBF0F8"
             },
             "line": {
              "color": "white"
             }
            },
            "header": {
             "fill": {
              "color": "#C8D4E3"
             },
             "line": {
              "color": "white"
             }
            },
            "type": "table"
           }
          ]
         },
         "layout": {
          "annotationdefaults": {
           "arrowcolor": "#2a3f5f",
           "arrowhead": 0,
           "arrowwidth": 1
          },
          "autotypenumbers": "strict",
          "coloraxis": {
           "colorbar": {
            "outlinewidth": 0,
            "ticks": ""
           }
          },
          "colorscale": {
           "diverging": [
            [
             0,
             "#8e0152"
            ],
            [
             0.1,
             "#c51b7d"
            ],
            [
             0.2,
             "#de77ae"
            ],
            [
             0.3,
             "#f1b6da"
            ],
            [
             0.4,
             "#fde0ef"
            ],
            [
             0.5,
             "#f7f7f7"
            ],
            [
             0.6,
             "#e6f5d0"
            ],
            [
             0.7,
             "#b8e186"
            ],
            [
             0.8,
             "#7fbc41"
            ],
            [
             0.9,
             "#4d9221"
            ],
            [
             1,
             "#276419"
            ]
           ],
           "sequential": [
            [
             0,
             "#0d0887"
            ],
            [
             0.1111111111111111,
             "#46039f"
            ],
            [
             0.2222222222222222,
             "#7201a8"
            ],
            [
             0.3333333333333333,
             "#9c179e"
            ],
            [
             0.4444444444444444,
             "#bd3786"
            ],
            [
             0.5555555555555556,
             "#d8576b"
            ],
            [
             0.6666666666666666,
             "#ed7953"
            ],
            [
             0.7777777777777778,
             "#fb9f3a"
            ],
            [
             0.8888888888888888,
             "#fdca26"
            ],
            [
             1,
             "#f0f921"
            ]
           ],
           "sequentialminus": [
            [
             0,
             "#0d0887"
            ],
            [
             0.1111111111111111,
             "#46039f"
            ],
            [
             0.2222222222222222,
             "#7201a8"
            ],
            [
             0.3333333333333333,
             "#9c179e"
            ],
            [
             0.4444444444444444,
             "#bd3786"
            ],
            [
             0.5555555555555556,
             "#d8576b"
            ],
            [
             0.6666666666666666,
             "#ed7953"
            ],
            [
             0.7777777777777778,
             "#fb9f3a"
            ],
            [
             0.8888888888888888,
             "#fdca26"
            ],
            [
             1,
             "#f0f921"
            ]
           ]
          },
          "colorway": [
           "#636efa",
           "#EF553B",
           "#00cc96",
           "#ab63fa",
           "#FFA15A",
           "#19d3f3",
           "#FF6692",
           "#B6E880",
           "#FF97FF",
           "#FECB52"
          ],
          "font": {
           "color": "#2a3f5f"
          },
          "geo": {
           "bgcolor": "white",
           "lakecolor": "white",
           "landcolor": "#E5ECF6",
           "showlakes": true,
           "showland": true,
           "subunitcolor": "white"
          },
          "hoverlabel": {
           "align": "left"
          },
          "hovermode": "closest",
          "mapbox": {
           "style": "light"
          },
          "paper_bgcolor": "white",
          "plot_bgcolor": "#E5ECF6",
          "polar": {
           "angularaxis": {
            "gridcolor": "white",
            "linecolor": "white",
            "ticks": ""
           },
           "bgcolor": "#E5ECF6",
           "radialaxis": {
            "gridcolor": "white",
            "linecolor": "white",
            "ticks": ""
           }
          },
          "scene": {
           "xaxis": {
            "backgroundcolor": "#E5ECF6",
            "gridcolor": "white",
            "gridwidth": 2,
            "linecolor": "white",
            "showbackground": true,
            "ticks": "",
            "zerolinecolor": "white"
           },
           "yaxis": {
            "backgroundcolor": "#E5ECF6",
            "gridcolor": "white",
            "gridwidth": 2,
            "linecolor": "white",
            "showbackground": true,
            "ticks": "",
            "zerolinecolor": "white"
           },
           "zaxis": {
            "backgroundcolor": "#E5ECF6",
            "gridcolor": "white",
            "gridwidth": 2,
            "linecolor": "white",
            "showbackground": true,
            "ticks": "",
            "zerolinecolor": "white"
           }
          },
          "shapedefaults": {
           "line": {
            "color": "#2a3f5f"
           }
          },
          "ternary": {
           "aaxis": {
            "gridcolor": "white",
            "linecolor": "white",
            "ticks": ""
           },
           "baxis": {
            "gridcolor": "white",
            "linecolor": "white",
            "ticks": ""
           },
           "bgcolor": "#E5ECF6",
           "caxis": {
            "gridcolor": "white",
            "linecolor": "white",
            "ticks": ""
           }
          },
          "title": {
           "x": 0.05
          },
          "xaxis": {
           "automargin": true,
           "gridcolor": "white",
           "linecolor": "white",
           "ticks": "",
           "title": {
            "standoff": 15
           },
           "zerolinecolor": "white",
           "zerolinewidth": 2
          },
          "yaxis": {
           "automargin": true,
           "gridcolor": "white",
           "linecolor": "white",
           "ticks": "",
           "title": {
            "standoff": 15
           },
           "zerolinecolor": "white",
           "zerolinewidth": 2
          }
         }
        },
        "title": {
         "automargin": true,
         "x": 0.5,
         "xanchor": "center",
         "y": 0.95,
         "yanchor": "top"
        },
        "width": 700
       }
      }
     },
     "metadata": {},
     "output_type": "display_data"
    },
    {
     "data": {
      "application/vnd.plotly.v1+json": {
       "config": {
        "plotlyServerURL": "https://plot.ly"
       },
       "data": [
        {
         "hoverinfo": "text",
         "marker": {
          "color": [
           4,
           9,
           4,
           4,
           1,
           16,
           16,
           4,
           4,
           4,
           4,
           1,
           16,
           0,
           1,
           1,
           0,
           1,
           1,
           4,
           1,
           0,
           0,
           0,
           0,
           1,
           1,
           4,
           4,
           1,
           1,
           1,
           1,
           0,
           0,
           0,
           1,
           0,
           0,
           0,
           0,
           0,
           0,
           0,
           0,
           0,
           0,
           1,
           0,
           1,
           0,
           0,
           0,
           0,
           1
          ],
          "colorbar": {
           "title": {
            "text": "Penalty"
           }
          },
          "colorscale": [
           [
            0,
            "#440154"
           ],
           [
            0.1111111111111111,
            "#482878"
           ],
           [
            0.2222222222222222,
            "#3e4989"
           ],
           [
            0.3333333333333333,
            "#31688e"
           ],
           [
            0.4444444444444444,
            "#26828e"
           ],
           [
            0.5555555555555556,
            "#1f9e89"
           ],
           [
            0.6666666666666666,
            "#35b779"
           ],
           [
            0.7777777777777778,
            "#6ece58"
           ],
           [
            0.8888888888888888,
            "#b5de2b"
           ],
           [
            1,
            "#fde725"
           ]
          ],
          "opacity": 0.8,
          "showscale": true,
          "size": 5,
          "symbol": "circle"
         },
         "mode": "markers",
         "showlegend": false,
         "text": [
          "Si<br>viol.: 4.0",
          "Si<br>viol.: 9.0",
          "O<br>viol.: 4.0",
          "O<br>viol.: 4.0",
          "O<br>viol.: 1.0",
          "Si<br>viol.: 16.0",
          "Si<br>viol.: 16.0",
          "Si<br>viol.: 4.0",
          "O<br>viol.: 4.0",
          "O<br>viol.: 4.0",
          "O<br>viol.: 4.0",
          "Si<br>viol.: 1.0",
          "Si<br>viol.: 16.0",
          "Si<br>viol.: 0.0",
          "Si<br>viol.: 1.0",
          "O<br>viol.: 1.0",
          "O<br>viol.: 0.0",
          "O<br>viol.: 1.0",
          "O<br>viol.: 1.0",
          "O<br>viol.: 4.0",
          "O<br>viol.: 1.0",
          "Si<br>viol.: 0.0",
          "O<br>viol.: 0.0",
          "O<br>viol.: 0.0",
          "O<br>viol.: 0.0",
          "Si<br>viol.: 1.0",
          "Si<br>viol.: 1.0",
          "Si<br>viol.: 4.0",
          "O<br>viol.: 4.0",
          "O<br>viol.: 1.0",
          "O<br>viol.: 1.0",
          "O<br>viol.: 1.0",
          "O<br>viol.: 1.0",
          "Si<br>viol.: 0.0",
          "O<br>viol.: 0.0",
          "O<br>viol.: 0.0",
          "Si<br>viol.: 1.0",
          "O<br>viol.: 0.0",
          "O<br>viol.: 0.0",
          "O<br>viol.: 0.0",
          "O<br>viol.: 0.0",
          "Si<br>viol.: 0.0",
          "Si<br>viol.: 0.0",
          "O<br>viol.: 0.0",
          "O<br>viol.: 0.0",
          "O<br>viol.: 0.0",
          "Si<br>viol.: 0.0",
          "O<br>viol.: 1.0",
          "Si<br>viol.: 0.0",
          "Si<br>viol.: 1.0",
          "O<br>viol.: 0.0",
          "O<br>viol.: 0.0",
          "O<br>viol.: 0.0",
          "O<br>viol.: 0.0",
          "O<br>viol.: 1.0"
         ],
         "type": "scatter3d",
         "x": [
          3.505683000000001,
          4.337536,
          4.198772999999999,
          4.112224999999999,
          4.46865,
          3.400791999999999,
          3.2963629999999995,
          4.288603999999999,
          4.025485,
          3.9726670000000013,
          3.679558,
          -3.395403999999999,
          -3.9045710000000007,
          -2.1031150000000007,
          -3.3346160000000005,
          -3.1948380000000007,
          -3.1256400000000006,
          -2.258349000000001,
          -2.7628140000000005,
          -4.108806999999999,
          -2.3234209999999997,
          -1.677486,
          -3.0988109999999995,
          -2.066502,
          -3.2260089999999995,
          -2.2986380000000004,
          -2.8018959999999993,
          -3.542605,
          -3.7055670000000003,
          -1.8499400000000001,
          -3.5322949999999995,
          -2.0446790000000004,
          -2.365627,
          -4.376805000000001,
          -3.84666,
          -0.36080013671504574,
          -0.8391401367150486,
          -0.7991211367150477,
          -1.4567881367150477,
          -1.5,
          -0.9035821367150483,
          -1.5,
          -0.8303291367150472,
          -1.5,
          -1.2672161367150476,
          -1.5,
          -1.214202479952364,
          -1.5,
          -0.8812011367150454,
          0.46289486328495144,
          -0.30000000000000004,
          -0.30137564503045855,
          0.40611041005919457,
          1.4466484100591943,
          0.8999999999999999
         ],
         "y": [
          -1.677274999999998,
          -1.9924879999999998,
          0.11856900000000081,
          -0.22287000000000035,
          -3.174268999999999,
          -4.923577,
          4.620056000000001,
          1.4117780000000009,
          3.4501470000000007,
          4.633879,
          2.060506000000001,
          -4.470077999999999,
          0.17148200000000102,
          -1.5952190000000002,
          -4.618774999999999,
          -2.527085999999999,
          -5.290586999999999,
          -4.765920999999999,
          -0.8007080000000002,
          -1.4535209999999985,
          -3.369076999999999,
          0.6030180000000023,
          1.1894430000000007,
          -0.45721400000000045,
          -5.765405999999999,
          2.3820580000000007,
          5.288629,
          4.373694,
          2.030163000000001,
          3.940156000000001,
          3.8789640000000007,
          4.855818000000001,
          1.768718000000001,
          1.9777850000000008,
          3.421695000000001,
          -5.174890864049835,
          -2.236755864049835,
          -1.6985858640498348,
          -1.3884918640498345,
          -2.4000000000000004,
          -0.9306468640498347,
          -1.2000000000000002,
          0.48769513595016534,
          0,
          1.677486135950165,
          1.1999999999999993,
          -5.674301703927846,
          4.799999999999999,
          5.929789135950164,
          -4.256147864049835,
          -1.2000000000000002,
          -4.9514022336817245,
          5.432147154129909,
          -5.023298845870093,
          -2.4000000000000004
         ],
         "z": [
          -5.43286,
          2.272283,
          -2.9687300000000008,
          3.3099690000000006,
          0.8509709999999995,
          4.106719999999999,
          1.5188079999999982,
          -5.295141000000001,
          3.8831879999999988,
          -3.611614000000001,
          -1.050217,
          -5.2492920000000005,
          -0.075094,
          2.627377000000001,
          3.535831,
          -4.913344,
          2.0674100000000006,
          -3.592866000000001,
          -1.4281260000000007,
          2.4953160000000008,
          3.8384349999999987,
          5.314871,
          5.7820089999999995,
          4.155599,
          4.712675,
          -3.4082419999999995,
          -4.8826529999999995,
          3.179373,
          -0.95214,
          2.6708279999999984,
          -3.662769000000001,
          -0.10802600000000062,
          -5.370734000000001,
          5.124404999999999,
          4.655602,
          1.4437163510409516,
          -3.33405464895905,
          -1.6856956489590484,
          1.0547723510409517,
          1.1999999999999993,
          -4.358102648959047,
          0,
          -5.098426648959048,
          3.5999999999999996,
          -4.02286764895905,
          -3.6,
          -4.833674306031745,
          -4.8,
          -1.0349606489590486,
          2.491727351040952,
          -4.8,
          -5.591390937423348,
          0.28336969739244644,
          1.7114686973924478,
          2.4000000000000004
         ]
        },
        {
         "hoverinfo": "skip",
         "line": {
          "color": "black",
          "showscale": false,
          "width": 1
         },
         "mode": "lines",
         "showlegend": false,
         "type": "scatter3d",
         "x": [
          -2.7628140000000005,
          -0.7991211367150477
         ],
         "y": [
          -0.8007080000000002,
          -1.6985858640498348
         ],
         "z": [
          -1.4281260000000007,
          -1.6856956489590484
         ]
        },
        {
         "hoverinfo": "skip",
         "line": {
          "color": "black",
          "showscale": false,
          "width": 1
         },
         "mode": "lines",
         "showlegend": false,
         "type": "scatter3d",
         "x": [
          -2.066502,
          -1.5
         ],
         "y": [
          -0.45721400000000045,
          0
         ],
         "z": [
          4.155599,
          3.5999999999999996
         ]
        },
        {
         "hoverinfo": "skip",
         "line": {
          "color": "black",
          "showscale": false,
          "width": 1
         },
         "mode": "lines",
         "showlegend": false,
         "type": "scatter3d",
         "x": [
          -2.365627,
          -1.2672161367150476
         ],
         "y": [
          1.768718000000001,
          1.677486135950165
         ],
         "z": [
          -5.370734000000001,
          -4.02286764895905
         ]
        },
        {
         "hoverinfo": "skip",
         "line": {
          "color": "black",
          "showscale": false,
          "width": 1
         },
         "mode": "lines",
         "showlegend": false,
         "type": "scatter3d",
         "x": [
          -2.365627,
          -1.5
         ],
         "y": [
          1.768718000000001,
          1.1999999999999993
         ],
         "z": [
          -5.370734000000001,
          -3.6
         ]
        },
        {
         "hoverinfo": "skip",
         "line": {
          "color": "black",
          "showscale": false,
          "width": 1
         },
         "mode": "lines",
         "showlegend": false,
         "type": "scatter3d",
         "x": [
          -0.36080013671504574,
          1.4466484100591943
         ],
         "y": [
          -5.174890864049835,
          -5.023298845870093
         ],
         "z": [
          1.4437163510409516,
          1.7114686973924478
         ]
        },
        {
         "hoverinfo": "skip",
         "line": {
          "color": "black",
          "showscale": false,
          "width": 1
         },
         "mode": "lines",
         "showlegend": false,
         "type": "scatter3d",
         "x": [
          -0.7991211367150477,
          -2.7628140000000005
         ],
         "y": [
          -1.6985858640498348,
          -0.8007080000000002
         ],
         "z": [
          -1.6856956489590484,
          -1.4281260000000007
         ]
        },
        {
         "hoverinfo": "skip",
         "line": {
          "color": "black",
          "showscale": false,
          "width": 1
         },
         "mode": "lines",
         "showlegend": false,
         "type": "scatter3d",
         "x": [
          -1.4567881367150477,
          -1.5
         ],
         "y": [
          -1.3884918640498345,
          -2.4000000000000004
         ],
         "z": [
          1.0547723510409517,
          1.1999999999999993
         ]
        },
        {
         "hoverinfo": "skip",
         "line": {
          "color": "black",
          "showscale": false,
          "width": 1
         },
         "mode": "lines",
         "showlegend": false,
         "type": "scatter3d",
         "x": [
          -1.5,
          -1.4567881367150477
         ],
         "y": [
          -2.4000000000000004,
          -1.3884918640498345
         ],
         "z": [
          1.1999999999999993,
          1.0547723510409517
         ]
        },
        {
         "hoverinfo": "skip",
         "line": {
          "color": "black",
          "showscale": false,
          "width": 1
         },
         "mode": "lines",
         "showlegend": false,
         "type": "scatter3d",
         "x": [
          -0.9035821367150483,
          -1.5
         ],
         "y": [
          -0.9306468640498347,
          1.1999999999999993
         ],
         "z": [
          -4.358102648959047,
          -3.6
         ]
        },
        {
         "hoverinfo": "skip",
         "line": {
          "color": "black",
          "showscale": false,
          "width": 1
         },
         "mode": "lines",
         "showlegend": false,
         "type": "scatter3d",
         "x": [
          -0.9035821367150483,
          -0.30000000000000004
         ],
         "y": [
          -0.9306468640498347,
          -1.2000000000000002
         ],
         "z": [
          -4.358102648959047,
          -4.8
         ]
        },
        {
         "hoverinfo": "skip",
         "line": {
          "color": "black",
          "showscale": false,
          "width": 1
         },
         "mode": "lines",
         "showlegend": false,
         "type": "scatter3d",
         "x": [
          -1.5,
          -2.066502
         ],
         "y": [
          0,
          -0.45721400000000045
         ],
         "z": [
          3.5999999999999996,
          4.155599
         ]
        },
        {
         "hoverinfo": "skip",
         "line": {
          "color": "black",
          "showscale": false,
          "width": 1
         },
         "mode": "lines",
         "showlegend": false,
         "type": "scatter3d",
         "x": [
          -1.2672161367150476,
          -2.365627
         ],
         "y": [
          1.677486135950165,
          1.768718000000001
         ],
         "z": [
          -4.02286764895905,
          -5.370734000000001
         ]
        },
        {
         "hoverinfo": "skip",
         "line": {
          "color": "black",
          "showscale": false,
          "width": 1
         },
         "mode": "lines",
         "showlegend": false,
         "type": "scatter3d",
         "x": [
          -1.2672161367150476,
          -1.5
         ],
         "y": [
          1.677486135950165,
          1.1999999999999993
         ],
         "z": [
          -4.02286764895905,
          -3.6
         ]
        },
        {
         "hoverinfo": "skip",
         "line": {
          "color": "black",
          "showscale": false,
          "width": 1
         },
         "mode": "lines",
         "showlegend": false,
         "type": "scatter3d",
         "x": [
          -1.5,
          -2.365627
         ],
         "y": [
          1.1999999999999993,
          1.768718000000001
         ],
         "z": [
          -3.6,
          -5.370734000000001
         ]
        },
        {
         "hoverinfo": "skip",
         "line": {
          "color": "black",
          "showscale": false,
          "width": 1
         },
         "mode": "lines",
         "showlegend": false,
         "type": "scatter3d",
         "x": [
          -1.5,
          -0.9035821367150483
         ],
         "y": [
          1.1999999999999993,
          -0.9306468640498347
         ],
         "z": [
          -3.6,
          -4.358102648959047
         ]
        },
        {
         "hoverinfo": "skip",
         "line": {
          "color": "black",
          "showscale": false,
          "width": 1
         },
         "mode": "lines",
         "showlegend": false,
         "type": "scatter3d",
         "x": [
          -1.5,
          -1.2672161367150476
         ],
         "y": [
          1.1999999999999993,
          1.677486135950165
         ],
         "z": [
          -3.6,
          -4.02286764895905
         ]
        },
        {
         "hoverinfo": "skip",
         "line": {
          "color": "black",
          "showscale": false,
          "width": 1
         },
         "mode": "lines",
         "showlegend": false,
         "type": "scatter3d",
         "x": [
          -0.30000000000000004,
          -0.9035821367150483
         ],
         "y": [
          -1.2000000000000002,
          -0.9306468640498347
         ],
         "z": [
          -4.8,
          -4.358102648959047
         ]
        },
        {
         "hoverinfo": "skip",
         "line": {
          "color": "black",
          "showscale": false,
          "width": 1
         },
         "mode": "lines",
         "showlegend": false,
         "type": "scatter3d",
         "x": [
          1.4466484100591943,
          -0.36080013671504574
         ],
         "y": [
          -5.023298845870093,
          -5.174890864049835
         ],
         "z": [
          1.7114686973924478,
          1.4437163510409516
         ]
        },
        {
         "hoverinfo": "skip",
         "line": {
          "color": "black",
          "showscale": false,
          "width": 1
         },
         "mode": "lines",
         "showlegend": false,
         "type": "scatter3d",
         "x": [
          -3.395403999999999,
          -1.214202479952364
         ],
         "y": [
          -4.470077999999999,
          -5.674301703927846
         ],
         "z": [
          -5.2492920000000005,
          -4.833674306031745
         ]
        },
        {
         "hoverinfo": "skip",
         "line": {
          "color": "black",
          "showscale": false,
          "width": 1
         },
         "mode": "lines",
         "showlegend": false,
         "type": "scatter3d",
         "x": [
          -3.9045710000000007,
          -1.5
         ],
         "y": [
          0.17148200000000102,
          -1.2000000000000002
         ],
         "z": [
          -0.075094,
          0
         ]
        },
        {
         "hoverinfo": "skip",
         "line": {
          "color": "black",
          "showscale": false,
          "width": 1
         },
         "mode": "lines",
         "showlegend": false,
         "type": "scatter3d",
         "x": [
          -2.1031150000000007,
          -1.5
         ],
         "y": [
          -1.5952190000000002,
          -1.2000000000000002
         ],
         "z": [
          2.627377000000001,
          0
         ]
        },
        {
         "hoverinfo": "skip",
         "line": {
          "color": "black",
          "showscale": false,
          "width": 1
         },
         "mode": "lines",
         "showlegend": false,
         "type": "scatter3d",
         "x": [
          -1.5,
          -3.9045710000000007
         ],
         "y": [
          -1.2000000000000002,
          0.17148200000000102
         ],
         "z": [
          0,
          -0.075094
         ]
        },
        {
         "hoverinfo": "skip",
         "line": {
          "color": "black",
          "showscale": false,
          "width": 1
         },
         "mode": "lines",
         "showlegend": false,
         "type": "scatter3d",
         "x": [
          -1.5,
          -2.1031150000000007
         ],
         "y": [
          -1.2000000000000002,
          -1.5952190000000002
         ],
         "z": [
          0,
          2.627377000000001
         ]
        },
        {
         "hoverinfo": "skip",
         "line": {
          "color": "black",
          "showscale": false,
          "width": 1
         },
         "mode": "lines",
         "showlegend": false,
         "type": "scatter3d",
         "x": [
          -1.214202479952364,
          -3.395403999999999
         ],
         "y": [
          -5.674301703927846,
          -4.470077999999999
         ],
         "z": [
          -4.833674306031745,
          -5.2492920000000005
         ]
        },
        {
         "hoverinfo": "skip",
         "line": {
          "color": "black",
          "showscale": false,
          "width": 1
         },
         "mode": "lines",
         "showlegend": false,
         "type": "scatter3d",
         "x": [
          4.337536,
          4.46865
         ],
         "y": [
          -1.9924879999999998,
          -3.174268999999999
         ],
         "z": [
          2.272283,
          0.8509709999999995
         ]
        },
        {
         "hoverinfo": "skip",
         "line": {
          "color": "black",
          "showscale": false,
          "width": 1
         },
         "mode": "lines",
         "showlegend": false,
         "type": "scatter3d",
         "x": [
          -2.1031150000000007,
          -1.4567881367150477
         ],
         "y": [
          -1.5952190000000002,
          -1.3884918640498345
         ],
         "z": [
          2.627377000000001,
          1.0547723510409517
         ]
        },
        {
         "hoverinfo": "skip",
         "line": {
          "color": "black",
          "showscale": false,
          "width": 1
         },
         "mode": "lines",
         "showlegend": false,
         "type": "scatter3d",
         "x": [
          -2.1031150000000007,
          -1.5
         ],
         "y": [
          -1.5952190000000002,
          -2.4000000000000004
         ],
         "z": [
          2.627377000000001,
          1.1999999999999993
         ]
        },
        {
         "hoverinfo": "skip",
         "line": {
          "color": "black",
          "showscale": false,
          "width": 1
         },
         "mode": "lines",
         "showlegend": false,
         "type": "scatter3d",
         "x": [
          -3.3346160000000005,
          -3.1256400000000006
         ],
         "y": [
          -4.618774999999999,
          -5.290586999999999
         ],
         "z": [
          3.535831,
          2.0674100000000006
         ]
        },
        {
         "hoverinfo": "skip",
         "line": {
          "color": "black",
          "showscale": false,
          "width": 1
         },
         "mode": "lines",
         "showlegend": false,
         "type": "scatter3d",
         "x": [
          -3.3346160000000005,
          -2.3234209999999997
         ],
         "y": [
          -4.618774999999999,
          -3.369076999999999
         ],
         "z": [
          3.535831,
          3.8384349999999987
         ]
        },
        {
         "hoverinfo": "skip",
         "line": {
          "color": "black",
          "showscale": false,
          "width": 1
         },
         "mode": "lines",
         "showlegend": false,
         "type": "scatter3d",
         "x": [
          -3.3346160000000005,
          -3.2260089999999995
         ],
         "y": [
          -4.618774999999999,
          -5.765405999999999
         ],
         "z": [
          3.535831,
          4.712675
         ]
        },
        {
         "hoverinfo": "skip",
         "line": {
          "color": "black",
          "showscale": false,
          "width": 1
         },
         "mode": "lines",
         "showlegend": false,
         "type": "scatter3d",
         "x": [
          -1.677486,
          -3.0988109999999995
         ],
         "y": [
          0.6030180000000023,
          1.1894430000000007
         ],
         "z": [
          5.314871,
          5.7820089999999995
         ]
        },
        {
         "hoverinfo": "skip",
         "line": {
          "color": "black",
          "showscale": false,
          "width": 1
         },
         "mode": "lines",
         "showlegend": false,
         "type": "scatter3d",
         "x": [
          -1.677486,
          -2.066502
         ],
         "y": [
          0.6030180000000023,
          -0.45721400000000045
         ],
         "z": [
          5.314871,
          4.155599
         ]
        },
        {
         "hoverinfo": "skip",
         "line": {
          "color": "black",
          "showscale": false,
          "width": 1
         },
         "mode": "lines",
         "showlegend": false,
         "type": "scatter3d",
         "x": [
          -1.677486,
          -1.5
         ],
         "y": [
          0.6030180000000023,
          0
         ],
         "z": [
          5.314871,
          3.5999999999999996
         ]
        },
        {
         "hoverinfo": "skip",
         "line": {
          "color": "black",
          "showscale": false,
          "width": 1
         },
         "mode": "lines",
         "showlegend": false,
         "type": "scatter3d",
         "x": [
          -2.2986380000000004,
          -1.2672161367150476
         ],
         "y": [
          2.3820580000000007,
          1.677486135950165
         ],
         "z": [
          -3.4082419999999995,
          -4.02286764895905
         ]
        },
        {
         "hoverinfo": "skip",
         "line": {
          "color": "black",
          "showscale": false,
          "width": 1
         },
         "mode": "lines",
         "showlegend": false,
         "type": "scatter3d",
         "x": [
          -2.2986380000000004,
          -1.5
         ],
         "y": [
          2.3820580000000007,
          1.1999999999999993
         ],
         "z": [
          -3.4082419999999995,
          -3.6
         ]
        },
        {
         "hoverinfo": "skip",
         "line": {
          "color": "black",
          "showscale": false,
          "width": 1
         },
         "mode": "lines",
         "showlegend": false,
         "type": "scatter3d",
         "x": [
          -2.8018959999999993,
          -1.5
         ],
         "y": [
          5.288629,
          4.799999999999999
         ],
         "z": [
          -4.8826529999999995,
          -4.8
         ]
        },
        {
         "hoverinfo": "skip",
         "line": {
          "color": "black",
          "showscale": false,
          "width": 1
         },
         "mode": "lines",
         "showlegend": false,
         "type": "scatter3d",
         "x": [
          -3.542605,
          -1.8499400000000001
         ],
         "y": [
          4.373694,
          3.940156000000001
         ],
         "z": [
          3.179373,
          2.6708279999999984
         ]
        },
        {
         "hoverinfo": "skip",
         "line": {
          "color": "black",
          "showscale": false,
          "width": 1
         },
         "mode": "lines",
         "showlegend": false,
         "type": "scatter3d",
         "x": [
          -3.542605,
          -3.84666
         ],
         "y": [
          4.373694,
          3.421695000000001
         ],
         "z": [
          3.179373,
          4.655602
         ]
        },
        {
         "hoverinfo": "skip",
         "line": {
          "color": "black",
          "showscale": false,
          "width": 1
         },
         "mode": "lines",
         "showlegend": false,
         "type": "scatter3d",
         "x": [
          -4.376805000000001,
          -3.0988109999999995
         ],
         "y": [
          1.9777850000000008,
          1.1894430000000007
         ],
         "z": [
          5.124404999999999,
          5.7820089999999995
         ]
        },
        {
         "hoverinfo": "skip",
         "line": {
          "color": "black",
          "showscale": false,
          "width": 1
         },
         "mode": "lines",
         "showlegend": false,
         "type": "scatter3d",
         "x": [
          -4.376805000000001,
          -3.84666
         ],
         "y": [
          1.9777850000000008,
          3.421695000000001
         ],
         "z": [
          5.124404999999999,
          4.655602
         ]
        },
        {
         "hoverinfo": "skip",
         "line": {
          "color": "black",
          "showscale": false,
          "width": 1
         },
         "mode": "lines",
         "showlegend": false,
         "type": "scatter3d",
         "x": [
          -0.8391401367150486,
          -0.7991211367150477
         ],
         "y": [
          -2.236755864049835,
          -1.6985858640498348
         ],
         "z": [
          -3.33405464895905,
          -1.6856956489590484
         ]
        },
        {
         "hoverinfo": "skip",
         "line": {
          "color": "black",
          "showscale": false,
          "width": 1
         },
         "mode": "lines",
         "showlegend": false,
         "type": "scatter3d",
         "x": [
          -0.8391401367150486,
          -0.9035821367150483
         ],
         "y": [
          -2.236755864049835,
          -0.9306468640498347
         ],
         "z": [
          -3.33405464895905,
          -4.358102648959047
         ]
        },
        {
         "hoverinfo": "skip",
         "line": {
          "color": "black",
          "showscale": false,
          "width": 1
         },
         "mode": "lines",
         "showlegend": false,
         "type": "scatter3d",
         "x": [
          -0.8391401367150486,
          -0.30000000000000004
         ],
         "y": [
          -2.236755864049835,
          -1.2000000000000002
         ],
         "z": [
          -3.33405464895905,
          -4.8
         ]
        },
        {
         "hoverinfo": "skip",
         "line": {
          "color": "black",
          "showscale": false,
          "width": 1
         },
         "mode": "lines",
         "showlegend": false,
         "type": "scatter3d",
         "x": [
          -1.5,
          -0.7991211367150477
         ],
         "y": [
          -1.2000000000000002,
          -1.6985858640498348
         ],
         "z": [
          0,
          -1.6856956489590484
         ]
        },
        {
         "hoverinfo": "skip",
         "line": {
          "color": "black",
          "showscale": false,
          "width": 1
         },
         "mode": "lines",
         "showlegend": false,
         "type": "scatter3d",
         "x": [
          -1.5,
          -1.4567881367150477
         ],
         "y": [
          -1.2000000000000002,
          -1.3884918640498345
         ],
         "z": [
          0,
          1.0547723510409517
         ]
        },
        {
         "hoverinfo": "skip",
         "line": {
          "color": "black",
          "showscale": false,
          "width": 1
         },
         "mode": "lines",
         "showlegend": false,
         "type": "scatter3d",
         "x": [
          -1.5,
          -1.5
         ],
         "y": [
          -1.2000000000000002,
          -2.4000000000000004
         ],
         "z": [
          0,
          1.1999999999999993
         ]
        },
        {
         "hoverinfo": "skip",
         "line": {
          "color": "black",
          "showscale": false,
          "width": 1
         },
         "mode": "lines",
         "showlegend": false,
         "type": "scatter3d",
         "x": [
          -0.8303291367150472,
          -0.9035821367150483
         ],
         "y": [
          0.48769513595016534,
          -0.9306468640498347
         ],
         "z": [
          -5.098426648959048,
          -4.358102648959047
         ]
        },
        {
         "hoverinfo": "skip",
         "line": {
          "color": "black",
          "showscale": false,
          "width": 1
         },
         "mode": "lines",
         "showlegend": false,
         "type": "scatter3d",
         "x": [
          -0.8303291367150472,
          -1.2672161367150476
         ],
         "y": [
          0.48769513595016534,
          1.677486135950165
         ],
         "z": [
          -5.098426648959048,
          -4.02286764895905
         ]
        },
        {
         "hoverinfo": "skip",
         "line": {
          "color": "black",
          "showscale": false,
          "width": 1
         },
         "mode": "lines",
         "showlegend": false,
         "type": "scatter3d",
         "x": [
          -0.8303291367150472,
          -1.5
         ],
         "y": [
          0.48769513595016534,
          1.1999999999999993
         ],
         "z": [
          -5.098426648959048,
          -3.6
         ]
        },
        {
         "hoverinfo": "skip",
         "line": {
          "color": "black",
          "showscale": false,
          "width": 1
         },
         "mode": "lines",
         "showlegend": false,
         "type": "scatter3d",
         "x": [
          -0.8303291367150472,
          -0.30000000000000004
         ],
         "y": [
          0.48769513595016534,
          -1.2000000000000002
         ],
         "z": [
          -5.098426648959048,
          -4.8
         ]
        },
        {
         "hoverinfo": "skip",
         "line": {
          "color": "black",
          "showscale": false,
          "width": 1
         },
         "mode": "lines",
         "showlegend": false,
         "type": "scatter3d",
         "x": [
          -1.214202479952364,
          -2.258349000000001
         ],
         "y": [
          -5.674301703927846,
          -4.765920999999999
         ],
         "z": [
          -4.833674306031745,
          -3.592866000000001
         ]
        },
        {
         "hoverinfo": "skip",
         "line": {
          "color": "black",
          "showscale": false,
          "width": 1
         },
         "mode": "lines",
         "showlegend": false,
         "type": "scatter3d",
         "x": [
          -1.214202479952364,
          -0.30137564503045855
         ],
         "y": [
          -5.674301703927846,
          -4.9514022336817245
         ],
         "z": [
          -4.833674306031745,
          -5.591390937423348
         ]
        },
        {
         "hoverinfo": "skip",
         "line": {
          "color": "black",
          "showscale": false,
          "width": 1
         },
         "mode": "lines",
         "showlegend": false,
         "type": "scatter3d",
         "x": [
          -0.8812011367150454,
          -2.0446790000000004
         ],
         "y": [
          5.929789135950164,
          4.855818000000001
         ],
         "z": [
          -1.0349606489590486,
          -0.10802600000000062
         ]
        },
        {
         "hoverinfo": "skip",
         "line": {
          "color": "black",
          "showscale": false,
          "width": 1
         },
         "mode": "lines",
         "showlegend": false,
         "type": "scatter3d",
         "x": [
          0.46289486328495144,
          -0.36080013671504574
         ],
         "y": [
          -4.256147864049835,
          -5.174890864049835
         ],
         "z": [
          2.491727351040952,
          1.4437163510409516
         ]
        },
        {
         "hoverinfo": "skip",
         "line": {
          "color": "black",
          "showscale": false,
          "width": 1
         },
         "mode": "lines",
         "showlegend": false,
         "type": "scatter3d",
         "x": [
          0.46289486328495144,
          1.4466484100591943
         ],
         "y": [
          -4.256147864049835,
          -5.023298845870093
         ],
         "z": [
          2.491727351040952,
          1.7114686973924478
         ]
        }
       ],
       "layout": {
        "margin": {
         "b": 10,
         "l": 10,
         "r": 20,
         "t": 10
        },
        "scene": {
         "aspectmode": "data",
         "xaxis": {
          "title": {
           "text": "X"
          }
         },
         "yaxis": {
          "title": {
           "text": "Y"
          }
         },
         "zaxis": {
          "title": {
           "text": "Z"
          }
         }
        },
        "template": {
         "data": {
          "bar": [
           {
            "error_x": {
             "color": "#2a3f5f"
            },
            "error_y": {
             "color": "#2a3f5f"
            },
            "marker": {
             "line": {
              "color": "#E5ECF6",
              "width": 0.5
             },
             "pattern": {
              "fillmode": "overlay",
              "size": 10,
              "solidity": 0.2
             }
            },
            "type": "bar"
           }
          ],
          "barpolar": [
           {
            "marker": {
             "line": {
              "color": "#E5ECF6",
              "width": 0.5
             },
             "pattern": {
              "fillmode": "overlay",
              "size": 10,
              "solidity": 0.2
             }
            },
            "type": "barpolar"
           }
          ],
          "carpet": [
           {
            "aaxis": {
             "endlinecolor": "#2a3f5f",
             "gridcolor": "white",
             "linecolor": "white",
             "minorgridcolor": "white",
             "startlinecolor": "#2a3f5f"
            },
            "baxis": {
             "endlinecolor": "#2a3f5f",
             "gridcolor": "white",
             "linecolor": "white",
             "minorgridcolor": "white",
             "startlinecolor": "#2a3f5f"
            },
            "type": "carpet"
           }
          ],
          "choropleth": [
           {
            "colorbar": {
             "outlinewidth": 0,
             "ticks": ""
            },
            "type": "choropleth"
           }
          ],
          "contour": [
           {
            "colorbar": {
             "outlinewidth": 0,
             "ticks": ""
            },
            "colorscale": [
             [
              0,
              "#0d0887"
             ],
             [
              0.1111111111111111,
              "#46039f"
             ],
             [
              0.2222222222222222,
              "#7201a8"
             ],
             [
              0.3333333333333333,
              "#9c179e"
             ],
             [
              0.4444444444444444,
              "#bd3786"
             ],
             [
              0.5555555555555556,
              "#d8576b"
             ],
             [
              0.6666666666666666,
              "#ed7953"
             ],
             [
              0.7777777777777778,
              "#fb9f3a"
             ],
             [
              0.8888888888888888,
              "#fdca26"
             ],
             [
              1,
              "#f0f921"
             ]
            ],
            "type": "contour"
           }
          ],
          "contourcarpet": [
           {
            "colorbar": {
             "outlinewidth": 0,
             "ticks": ""
            },
            "type": "contourcarpet"
           }
          ],
          "heatmap": [
           {
            "colorbar": {
             "outlinewidth": 0,
             "ticks": ""
            },
            "colorscale": [
             [
              0,
              "#0d0887"
             ],
             [
              0.1111111111111111,
              "#46039f"
             ],
             [
              0.2222222222222222,
              "#7201a8"
             ],
             [
              0.3333333333333333,
              "#9c179e"
             ],
             [
              0.4444444444444444,
              "#bd3786"
             ],
             [
              0.5555555555555556,
              "#d8576b"
             ],
             [
              0.6666666666666666,
              "#ed7953"
             ],
             [
              0.7777777777777778,
              "#fb9f3a"
             ],
             [
              0.8888888888888888,
              "#fdca26"
             ],
             [
              1,
              "#f0f921"
             ]
            ],
            "type": "heatmap"
           }
          ],
          "heatmapgl": [
           {
            "colorbar": {
             "outlinewidth": 0,
             "ticks": ""
            },
            "colorscale": [
             [
              0,
              "#0d0887"
             ],
             [
              0.1111111111111111,
              "#46039f"
             ],
             [
              0.2222222222222222,
              "#7201a8"
             ],
             [
              0.3333333333333333,
              "#9c179e"
             ],
             [
              0.4444444444444444,
              "#bd3786"
             ],
             [
              0.5555555555555556,
              "#d8576b"
             ],
             [
              0.6666666666666666,
              "#ed7953"
             ],
             [
              0.7777777777777778,
              "#fb9f3a"
             ],
             [
              0.8888888888888888,
              "#fdca26"
             ],
             [
              1,
              "#f0f921"
             ]
            ],
            "type": "heatmapgl"
           }
          ],
          "histogram": [
           {
            "marker": {
             "pattern": {
              "fillmode": "overlay",
              "size": 10,
              "solidity": 0.2
             }
            },
            "type": "histogram"
           }
          ],
          "histogram2d": [
           {
            "colorbar": {
             "outlinewidth": 0,
             "ticks": ""
            },
            "colorscale": [
             [
              0,
              "#0d0887"
             ],
             [
              0.1111111111111111,
              "#46039f"
             ],
             [
              0.2222222222222222,
              "#7201a8"
             ],
             [
              0.3333333333333333,
              "#9c179e"
             ],
             [
              0.4444444444444444,
              "#bd3786"
             ],
             [
              0.5555555555555556,
              "#d8576b"
             ],
             [
              0.6666666666666666,
              "#ed7953"
             ],
             [
              0.7777777777777778,
              "#fb9f3a"
             ],
             [
              0.8888888888888888,
              "#fdca26"
             ],
             [
              1,
              "#f0f921"
             ]
            ],
            "type": "histogram2d"
           }
          ],
          "histogram2dcontour": [
           {
            "colorbar": {
             "outlinewidth": 0,
             "ticks": ""
            },
            "colorscale": [
             [
              0,
              "#0d0887"
             ],
             [
              0.1111111111111111,
              "#46039f"
             ],
             [
              0.2222222222222222,
              "#7201a8"
             ],
             [
              0.3333333333333333,
              "#9c179e"
             ],
             [
              0.4444444444444444,
              "#bd3786"
             ],
             [
              0.5555555555555556,
              "#d8576b"
             ],
             [
              0.6666666666666666,
              "#ed7953"
             ],
             [
              0.7777777777777778,
              "#fb9f3a"
             ],
             [
              0.8888888888888888,
              "#fdca26"
             ],
             [
              1,
              "#f0f921"
             ]
            ],
            "type": "histogram2dcontour"
           }
          ],
          "mesh3d": [
           {
            "colorbar": {
             "outlinewidth": 0,
             "ticks": ""
            },
            "type": "mesh3d"
           }
          ],
          "parcoords": [
           {
            "line": {
             "colorbar": {
              "outlinewidth": 0,
              "ticks": ""
             }
            },
            "type": "parcoords"
           }
          ],
          "pie": [
           {
            "automargin": true,
            "type": "pie"
           }
          ],
          "scatter": [
           {
            "fillpattern": {
             "fillmode": "overlay",
             "size": 10,
             "solidity": 0.2
            },
            "type": "scatter"
           }
          ],
          "scatter3d": [
           {
            "line": {
             "colorbar": {
              "outlinewidth": 0,
              "ticks": ""
             }
            },
            "marker": {
             "colorbar": {
              "outlinewidth": 0,
              "ticks": ""
             }
            },
            "type": "scatter3d"
           }
          ],
          "scattercarpet": [
           {
            "marker": {
             "colorbar": {
              "outlinewidth": 0,
              "ticks": ""
             }
            },
            "type": "scattercarpet"
           }
          ],
          "scattergeo": [
           {
            "marker": {
             "colorbar": {
              "outlinewidth": 0,
              "ticks": ""
             }
            },
            "type": "scattergeo"
           }
          ],
          "scattergl": [
           {
            "marker": {
             "colorbar": {
              "outlinewidth": 0,
              "ticks": ""
             }
            },
            "type": "scattergl"
           }
          ],
          "scattermapbox": [
           {
            "marker": {
             "colorbar": {
              "outlinewidth": 0,
              "ticks": ""
             }
            },
            "type": "scattermapbox"
           }
          ],
          "scatterpolar": [
           {
            "marker": {
             "colorbar": {
              "outlinewidth": 0,
              "ticks": ""
             }
            },
            "type": "scatterpolar"
           }
          ],
          "scatterpolargl": [
           {
            "marker": {
             "colorbar": {
              "outlinewidth": 0,
              "ticks": ""
             }
            },
            "type": "scatterpolargl"
           }
          ],
          "scatterternary": [
           {
            "marker": {
             "colorbar": {
              "outlinewidth": 0,
              "ticks": ""
             }
            },
            "type": "scatterternary"
           }
          ],
          "surface": [
           {
            "colorbar": {
             "outlinewidth": 0,
             "ticks": ""
            },
            "colorscale": [
             [
              0,
              "#0d0887"
             ],
             [
              0.1111111111111111,
              "#46039f"
             ],
             [
              0.2222222222222222,
              "#7201a8"
             ],
             [
              0.3333333333333333,
              "#9c179e"
             ],
             [
              0.4444444444444444,
              "#bd3786"
             ],
             [
              0.5555555555555556,
              "#d8576b"
             ],
             [
              0.6666666666666666,
              "#ed7953"
             ],
             [
              0.7777777777777778,
              "#fb9f3a"
             ],
             [
              0.8888888888888888,
              "#fdca26"
             ],
             [
              1,
              "#f0f921"
             ]
            ],
            "type": "surface"
           }
          ],
          "table": [
           {
            "cells": {
             "fill": {
              "color": "#EBF0F8"
             },
             "line": {
              "color": "white"
             }
            },
            "header": {
             "fill": {
              "color": "#C8D4E3"
             },
             "line": {
              "color": "white"
             }
            },
            "type": "table"
           }
          ]
         },
         "layout": {
          "annotationdefaults": {
           "arrowcolor": "#2a3f5f",
           "arrowhead": 0,
           "arrowwidth": 1
          },
          "autotypenumbers": "strict",
          "coloraxis": {
           "colorbar": {
            "outlinewidth": 0,
            "ticks": ""
           }
          },
          "colorscale": {
           "diverging": [
            [
             0,
             "#8e0152"
            ],
            [
             0.1,
             "#c51b7d"
            ],
            [
             0.2,
             "#de77ae"
            ],
            [
             0.3,
             "#f1b6da"
            ],
            [
             0.4,
             "#fde0ef"
            ],
            [
             0.5,
             "#f7f7f7"
            ],
            [
             0.6,
             "#e6f5d0"
            ],
            [
             0.7,
             "#b8e186"
            ],
            [
             0.8,
             "#7fbc41"
            ],
            [
             0.9,
             "#4d9221"
            ],
            [
             1,
             "#276419"
            ]
           ],
           "sequential": [
            [
             0,
             "#0d0887"
            ],
            [
             0.1111111111111111,
             "#46039f"
            ],
            [
             0.2222222222222222,
             "#7201a8"
            ],
            [
             0.3333333333333333,
             "#9c179e"
            ],
            [
             0.4444444444444444,
             "#bd3786"
            ],
            [
             0.5555555555555556,
             "#d8576b"
            ],
            [
             0.6666666666666666,
             "#ed7953"
            ],
            [
             0.7777777777777778,
             "#fb9f3a"
            ],
            [
             0.8888888888888888,
             "#fdca26"
            ],
            [
             1,
             "#f0f921"
            ]
           ],
           "sequentialminus": [
            [
             0,
             "#0d0887"
            ],
            [
             0.1111111111111111,
             "#46039f"
            ],
            [
             0.2222222222222222,
             "#7201a8"
            ],
            [
             0.3333333333333333,
             "#9c179e"
            ],
            [
             0.4444444444444444,
             "#bd3786"
            ],
            [
             0.5555555555555556,
             "#d8576b"
            ],
            [
             0.6666666666666666,
             "#ed7953"
            ],
            [
             0.7777777777777778,
             "#fb9f3a"
            ],
            [
             0.8888888888888888,
             "#fdca26"
            ],
            [
             1,
             "#f0f921"
            ]
           ]
          },
          "colorway": [
           "#636efa",
           "#EF553B",
           "#00cc96",
           "#ab63fa",
           "#FFA15A",
           "#19d3f3",
           "#FF6692",
           "#B6E880",
           "#FF97FF",
           "#FECB52"
          ],
          "font": {
           "color": "#2a3f5f"
          },
          "geo": {
           "bgcolor": "white",
           "lakecolor": "white",
           "landcolor": "#E5ECF6",
           "showlakes": true,
           "showland": true,
           "subunitcolor": "white"
          },
          "hoverlabel": {
           "align": "left"
          },
          "hovermode": "closest",
          "mapbox": {
           "style": "light"
          },
          "paper_bgcolor": "white",
          "plot_bgcolor": "#E5ECF6",
          "polar": {
           "angularaxis": {
            "gridcolor": "white",
            "linecolor": "white",
            "ticks": ""
           },
           "bgcolor": "#E5ECF6",
           "radialaxis": {
            "gridcolor": "white",
            "linecolor": "white",
            "ticks": ""
           }
          },
          "scene": {
           "xaxis": {
            "backgroundcolor": "#E5ECF6",
            "gridcolor": "white",
            "gridwidth": 2,
            "linecolor": "white",
            "showbackground": true,
            "ticks": "",
            "zerolinecolor": "white"
           },
           "yaxis": {
            "backgroundcolor": "#E5ECF6",
            "gridcolor": "white",
            "gridwidth": 2,
            "linecolor": "white",
            "showbackground": true,
            "ticks": "",
            "zerolinecolor": "white"
           },
           "zaxis": {
            "backgroundcolor": "#E5ECF6",
            "gridcolor": "white",
            "gridwidth": 2,
            "linecolor": "white",
            "showbackground": true,
            "ticks": "",
            "zerolinecolor": "white"
           }
          },
          "shapedefaults": {
           "line": {
            "color": "#2a3f5f"
           }
          },
          "ternary": {
           "aaxis": {
            "gridcolor": "white",
            "linecolor": "white",
            "ticks": ""
           },
           "baxis": {
            "gridcolor": "white",
            "linecolor": "white",
            "ticks": ""
           },
           "bgcolor": "#E5ECF6",
           "caxis": {
            "gridcolor": "white",
            "linecolor": "white",
            "ticks": ""
           }
          },
          "title": {
           "x": 0.05
          },
          "xaxis": {
           "automargin": true,
           "gridcolor": "white",
           "linecolor": "white",
           "ticks": "",
           "title": {
            "standoff": 15
           },
           "zerolinecolor": "white",
           "zerolinewidth": 2
          },
          "yaxis": {
           "automargin": true,
           "gridcolor": "white",
           "linecolor": "white",
           "ticks": "",
           "title": {
            "standoff": 15
           },
           "zerolinecolor": "white",
           "zerolinewidth": 2
          }
         }
        },
        "title": {
         "automargin": true,
         "text": "Neighbourhood penalties",
         "x": 0.5,
         "xanchor": "center",
         "y": 0.95,
         "yanchor": "top"
        },
        "width": 700
       }
      }
     },
     "metadata": {},
     "output_type": "display_data"
    },
    {
     "data": {
      "application/vnd.plotly.v1+json": {
       "config": {
        "plotlyServerURL": "https://plot.ly"
       },
       "data": [
        {
         "customdata": [
          [
           "Si"
          ],
          [
           "Si"
          ],
          [
           "Si"
          ],
          [
           "Si"
          ],
          [
           "Si"
          ],
          [
           "Si"
          ],
          [
           "Si"
          ],
          [
           "Si"
          ],
          [
           "Si"
          ],
          [
           "Si"
          ],
          [
           "Si"
          ],
          [
           "Si"
          ],
          [
           "Si"
          ],
          [
           "Si"
          ],
          [
           "Si"
          ],
          [
           "Si"
          ],
          [
           "Si"
          ],
          [
           "Si"
          ],
          [
           "Si"
          ],
          [
           "Si"
          ]
         ],
         "hovertemplate": "%{customdata[0]}",
         "legendgroup": "Si",
         "marker": {
          "color": "#636efa",
          "opacity": 0.8,
          "size": 5,
          "symbol": "circle"
         },
         "mode": "markers",
         "name": "Si",
         "scene": "scene",
         "showlegend": false,
         "text": [
          "Si",
          "Si",
          "O",
          "O",
          "O",
          "Si",
          "Si",
          "Si",
          "O",
          "O",
          "O",
          "Si",
          "Si",
          "Si",
          "Si",
          "O",
          "O",
          "O",
          "O",
          "O",
          "O",
          "Si",
          "O",
          "O",
          "O",
          "Si",
          "Si",
          "Si",
          "O",
          "O",
          "O",
          "O",
          "O",
          "Si",
          "O",
          "O",
          "Si",
          "O",
          "O",
          "O",
          "O",
          "Si",
          "Si",
          "O",
          "O",
          "O",
          "Si",
          "O",
          "Si",
          "Si",
          "O",
          "O",
          "O",
          "O",
          "O"
         ],
         "type": "scatter3d",
         "x": [
          3.505683000000001,
          4.337536,
          3.400791999999999,
          3.2963629999999995,
          4.288603999999999,
          -3.395403999999999,
          -3.9045710000000007,
          -2.1031150000000007,
          -3.3346160000000005,
          -1.677486,
          -2.2986380000000004,
          -2.8018959999999993,
          -3.542605,
          -4.376805000000001,
          -0.8391401367150486,
          -1.5,
          -0.8303291367150472,
          -1.214202479952364,
          -0.8812011367150454,
          0.46289486328495144
         ],
         "y": [
          -1.677274999999998,
          -1.9924879999999998,
          -4.923577,
          4.620056000000001,
          1.4117780000000009,
          -4.470077999999999,
          0.17148200000000102,
          -1.5952190000000002,
          -4.618774999999999,
          0.6030180000000023,
          2.3820580000000007,
          5.288629,
          4.373694,
          1.9777850000000008,
          -2.236755864049835,
          -1.2000000000000002,
          0.48769513595016534,
          -5.674301703927846,
          5.929789135950164,
          -4.256147864049835
         ],
         "z": [
          -5.43286,
          2.272283,
          4.106719999999999,
          1.5188079999999982,
          -5.295141000000001,
          -5.2492920000000005,
          -0.075094,
          2.627377000000001,
          3.535831,
          5.314871,
          -3.4082419999999995,
          -4.8826529999999995,
          3.179373,
          5.124404999999999,
          -3.33405464895905,
          0,
          -5.098426648959048,
          -4.833674306031745,
          -1.0349606489590486,
          2.491727351040952
         ]
        },
        {
         "customdata": [
          [
           "O"
          ],
          [
           "O"
          ],
          [
           "O"
          ],
          [
           "O"
          ],
          [
           "O"
          ],
          [
           "O"
          ],
          [
           "O"
          ],
          [
           "O"
          ],
          [
           "O"
          ],
          [
           "O"
          ],
          [
           "O"
          ],
          [
           "O"
          ],
          [
           "O"
          ],
          [
           "O"
          ],
          [
           "O"
          ],
          [
           "O"
          ],
          [
           "O"
          ],
          [
           "O"
          ],
          [
           "O"
          ],
          [
           "O"
          ],
          [
           "O"
          ],
          [
           "O"
          ],
          [
           "O"
          ],
          [
           "O"
          ],
          [
           "O"
          ],
          [
           "O"
          ],
          [
           "O"
          ],
          [
           "O"
          ],
          [
           "O"
          ],
          [
           "O"
          ],
          [
           "O"
          ],
          [
           "O"
          ],
          [
           "O"
          ],
          [
           "O"
          ],
          [
           "O"
          ]
         ],
         "hovertemplate": "%{customdata[0]}",
         "legendgroup": "O",
         "marker": {
          "color": "#EF553B",
          "opacity": 0.8,
          "size": 5,
          "symbol": "circle"
         },
         "mode": "markers",
         "name": "O",
         "scene": "scene",
         "showlegend": false,
         "text": [
          "Si",
          "Si",
          "O",
          "O",
          "O",
          "Si",
          "Si",
          "Si",
          "O",
          "O",
          "O",
          "Si",
          "Si",
          "Si",
          "Si",
          "O",
          "O",
          "O",
          "O",
          "O",
          "O",
          "Si",
          "O",
          "O",
          "O",
          "Si",
          "Si",
          "Si",
          "O",
          "O",
          "O",
          "O",
          "O",
          "Si",
          "O",
          "O",
          "Si",
          "O",
          "O",
          "O",
          "O",
          "Si",
          "Si",
          "O",
          "O",
          "O",
          "Si",
          "O",
          "Si",
          "Si",
          "O",
          "O",
          "O",
          "O",
          "O"
         ],
         "type": "scatter3d",
         "x": [
          4.198772999999999,
          4.112224999999999,
          4.46865,
          4.025485,
          3.9726670000000013,
          3.679558,
          -3.1948380000000007,
          -3.1256400000000006,
          -2.258349000000001,
          -2.7628140000000005,
          -4.108806999999999,
          -2.3234209999999997,
          -3.0988109999999995,
          -2.066502,
          -3.2260089999999995,
          -3.7055670000000003,
          -1.8499400000000001,
          -3.5322949999999995,
          -2.0446790000000004,
          -2.365627,
          -3.84666,
          -0.36080013671504574,
          -0.7991211367150477,
          -1.4567881367150477,
          -1.5,
          -0.9035821367150483,
          -1.5,
          -1.2672161367150476,
          -1.5,
          -1.5,
          -0.30000000000000004,
          -0.30137564503045855,
          0.40611041005919457,
          1.4466484100591943,
          0.8999999999999999
         ],
         "y": [
          0.11856900000000081,
          -0.22287000000000035,
          -3.174268999999999,
          3.4501470000000007,
          4.633879,
          2.060506000000001,
          -2.527085999999999,
          -5.290586999999999,
          -4.765920999999999,
          -0.8007080000000002,
          -1.4535209999999985,
          -3.369076999999999,
          1.1894430000000007,
          -0.45721400000000045,
          -5.765405999999999,
          2.030163000000001,
          3.940156000000001,
          3.8789640000000007,
          4.855818000000001,
          1.768718000000001,
          3.421695000000001,
          -5.174890864049835,
          -1.6985858640498348,
          -1.3884918640498345,
          -2.4000000000000004,
          -0.9306468640498347,
          0,
          1.677486135950165,
          1.1999999999999993,
          4.799999999999999,
          -1.2000000000000002,
          -4.9514022336817245,
          5.432147154129909,
          -5.023298845870093,
          -2.4000000000000004
         ],
         "z": [
          -2.9687300000000008,
          3.3099690000000006,
          0.8509709999999995,
          3.8831879999999988,
          -3.611614000000001,
          -1.050217,
          -4.913344,
          2.0674100000000006,
          -3.592866000000001,
          -1.4281260000000007,
          2.4953160000000008,
          3.8384349999999987,
          5.7820089999999995,
          4.155599,
          4.712675,
          -0.95214,
          2.6708279999999984,
          -3.662769000000001,
          -0.10802600000000062,
          -5.370734000000001,
          4.655602,
          1.4437163510409516,
          -1.6856956489590484,
          1.0547723510409517,
          1.1999999999999993,
          -4.358102648959047,
          3.5999999999999996,
          -4.02286764895905,
          -3.6,
          -4.8,
          -4.8,
          -5.591390937423348,
          0.28336969739244644,
          1.7114686973924478,
          2.4000000000000004
         ]
        },
        {
         "hoverinfo": "text",
         "line": {
          "color": "red",
          "width": 3
         },
         "mode": "lines",
         "showlegend": false,
         "text": "dist: 0.00A",
         "type": "scatter3d",
         "x": [
          4.198772999999999,
          4.198772999999999
         ],
         "y": [
          0.11856900000000081,
          0.11856900000000081
         ],
         "z": [
          -2.9687300000000008,
          -2.9687300000000008
         ]
        },
        {
         "hoverinfo": "text",
         "line": {
          "color": "red",
          "width": 3
         },
         "mode": "lines",
         "showlegend": false,
         "text": "dist: 0.00A",
         "type": "scatter3d",
         "x": [
          4.112224999999999,
          4.112224999999999
         ],
         "y": [
          -0.22287000000000035,
          -0.22287000000000035
         ],
         "z": [
          3.3099690000000006,
          3.3099690000000006
         ]
        },
        {
         "hoverinfo": "text",
         "line": {
          "color": "red",
          "width": 3
         },
         "mode": "lines",
         "showlegend": false,
         "text": "dist: 0.00A",
         "type": "scatter3d",
         "x": [
          4.46865,
          4.46865
         ],
         "y": [
          -3.174268999999999,
          -3.174268999999999
         ],
         "z": [
          0.8509709999999995,
          0.8509709999999995
         ]
        },
        {
         "hoverinfo": "text",
         "line": {
          "color": "red",
          "width": 3
         },
         "mode": "lines",
         "showlegend": false,
         "text": "dist: 0.00A",
         "type": "scatter3d",
         "x": [
          4.025485,
          4.025485
         ],
         "y": [
          3.4501470000000007,
          3.4501470000000007
         ],
         "z": [
          3.8831879999999988,
          3.8831879999999988
         ]
        },
        {
         "hoverinfo": "text",
         "line": {
          "color": "red",
          "width": 3
         },
         "mode": "lines",
         "showlegend": false,
         "text": "dist: 0.00A",
         "type": "scatter3d",
         "x": [
          3.9726670000000013,
          3.9726670000000013
         ],
         "y": [
          4.633879,
          4.633879
         ],
         "z": [
          -3.611614000000001,
          -3.611614000000001
         ]
        },
        {
         "hoverinfo": "text",
         "line": {
          "color": "red",
          "width": 3
         },
         "mode": "lines",
         "showlegend": false,
         "text": "dist: 0.00A",
         "type": "scatter3d",
         "x": [
          3.679558,
          3.679558
         ],
         "y": [
          2.060506000000001,
          2.060506000000001
         ],
         "z": [
          -1.050217,
          -1.050217
         ]
        },
        {
         "hoverinfo": "text",
         "line": {
          "color": "red",
          "width": 3
         },
         "mode": "lines",
         "showlegend": false,
         "text": "dist: 0.00A",
         "type": "scatter3d",
         "x": [
          -3.1948380000000007,
          -3.1948380000000007
         ],
         "y": [
          -2.527085999999999,
          -2.527085999999999
         ],
         "z": [
          -4.913344,
          -4.913344
         ]
        },
        {
         "hoverinfo": "text",
         "line": {
          "color": "red",
          "width": 3
         },
         "mode": "lines",
         "showlegend": false,
         "text": "dist: 0.00A",
         "type": "scatter3d",
         "x": [
          -3.1256400000000006,
          -3.1256400000000006
         ],
         "y": [
          -5.290586999999999,
          -5.290586999999999
         ],
         "z": [
          2.0674100000000006,
          2.0674100000000006
         ]
        },
        {
         "hoverinfo": "text",
         "line": {
          "color": "red",
          "width": 3
         },
         "mode": "lines",
         "showlegend": false,
         "text": "dist: 0.00A",
         "type": "scatter3d",
         "x": [
          -2.258349000000001,
          -2.258349000000001
         ],
         "y": [
          -4.765920999999999,
          -4.765920999999999
         ],
         "z": [
          -3.592866000000001,
          -3.592866000000001
         ]
        },
        {
         "hoverinfo": "text",
         "line": {
          "color": "red",
          "width": 3
         },
         "mode": "lines",
         "showlegend": false,
         "text": "dist: 0.00A",
         "type": "scatter3d",
         "x": [
          -2.7628140000000005,
          -2.7628140000000005
         ],
         "y": [
          -0.8007080000000002,
          -0.8007080000000002
         ],
         "z": [
          -1.4281260000000007,
          -1.4281260000000007
         ]
        },
        {
         "hoverinfo": "text",
         "line": {
          "color": "red",
          "width": 3
         },
         "mode": "lines",
         "showlegend": false,
         "text": "dist: 2.17A",
         "type": "scatter3d",
         "x": [
          -2.7628140000000005,
          -0.7991211367150477
         ],
         "y": [
          -0.8007080000000002,
          -1.6985858640498348
         ],
         "z": [
          -1.4281260000000007,
          -1.6856956489590484
         ]
        },
        {
         "hoverinfo": "text",
         "line": {
          "color": "red",
          "width": 3
         },
         "mode": "lines",
         "showlegend": false,
         "text": "dist: 0.00A",
         "type": "scatter3d",
         "x": [
          -4.108806999999999,
          -4.108806999999999
         ],
         "y": [
          -1.4535209999999985,
          -1.4535209999999985
         ],
         "z": [
          2.4953160000000008,
          2.4953160000000008
         ]
        },
        {
         "hoverinfo": "text",
         "line": {
          "color": "red",
          "width": 3
         },
         "mode": "lines",
         "showlegend": false,
         "text": "dist: 0.00A",
         "type": "scatter3d",
         "x": [
          -2.3234209999999997,
          -2.3234209999999997
         ],
         "y": [
          -3.369076999999999,
          -3.369076999999999
         ],
         "z": [
          3.8384349999999987,
          3.8384349999999987
         ]
        },
        {
         "hoverinfo": "text",
         "line": {
          "color": "red",
          "width": 3
         },
         "mode": "lines",
         "showlegend": false,
         "text": "dist: 0.00A",
         "type": "scatter3d",
         "x": [
          -3.0988109999999995,
          -3.0988109999999995
         ],
         "y": [
          1.1894430000000007,
          1.1894430000000007
         ],
         "z": [
          5.7820089999999995,
          5.7820089999999995
         ]
        },
        {
         "hoverinfo": "text",
         "line": {
          "color": "red",
          "width": 3
         },
         "mode": "lines",
         "showlegend": false,
         "text": "dist: 2.53A",
         "type": "scatter3d",
         "x": [
          -3.0988109999999995,
          -2.066502
         ],
         "y": [
          1.1894430000000007,
          -0.45721400000000045
         ],
         "z": [
          5.7820089999999995,
          4.155599
         ]
        },
        {
         "hoverinfo": "text",
         "line": {
          "color": "red",
          "width": 3
         },
         "mode": "lines",
         "showlegend": false,
         "text": "dist: 2.53A",
         "type": "scatter3d",
         "x": [
          -2.066502,
          -3.0988109999999995
         ],
         "y": [
          -0.45721400000000045,
          1.1894430000000007
         ],
         "z": [
          4.155599,
          5.7820089999999995
         ]
        },
        {
         "hoverinfo": "text",
         "line": {
          "color": "red",
          "width": 3
         },
         "mode": "lines",
         "showlegend": false,
         "text": "dist: 0.00A",
         "type": "scatter3d",
         "x": [
          -2.066502,
          -2.066502
         ],
         "y": [
          -0.45721400000000045,
          -0.45721400000000045
         ],
         "z": [
          4.155599,
          4.155599
         ]
        },
        {
         "hoverinfo": "text",
         "line": {
          "color": "red",
          "width": 3
         },
         "mode": "lines",
         "showlegend": false,
         "text": "dist: 0.92A",
         "type": "scatter3d",
         "x": [
          -2.066502,
          -1.5
         ],
         "y": [
          -0.45721400000000045,
          0
         ],
         "z": [
          4.155599,
          3.5999999999999996
         ]
        },
        {
         "hoverinfo": "text",
         "line": {
          "color": "red",
          "width": 3
         },
         "mode": "lines",
         "showlegend": false,
         "text": "dist: 0.00A",
         "type": "scatter3d",
         "x": [
          -3.2260089999999995,
          -3.2260089999999995
         ],
         "y": [
          -5.765405999999999,
          -5.765405999999999
         ],
         "z": [
          4.712675,
          4.712675
         ]
        },
        {
         "hoverinfo": "text",
         "line": {
          "color": "red",
          "width": 3
         },
         "mode": "lines",
         "showlegend": false,
         "text": "dist: 0.00A",
         "type": "scatter3d",
         "x": [
          -3.7055670000000003,
          -3.7055670000000003
         ],
         "y": [
          2.030163000000001,
          2.030163000000001
         ],
         "z": [
          -0.95214,
          -0.95214
         ]
        },
        {
         "hoverinfo": "text",
         "line": {
          "color": "red",
          "width": 3
         },
         "mode": "lines",
         "showlegend": false,
         "text": "dist: 0.00A",
         "type": "scatter3d",
         "x": [
          -1.8499400000000001,
          -1.8499400000000001
         ],
         "y": [
          3.940156000000001,
          3.940156000000001
         ],
         "z": [
          2.6708279999999984,
          2.6708279999999984
         ]
        },
        {
         "hoverinfo": "text",
         "line": {
          "color": "red",
          "width": 3
         },
         "mode": "lines",
         "showlegend": false,
         "text": "dist: 0.00A",
         "type": "scatter3d",
         "x": [
          -3.5322949999999995,
          -3.5322949999999995
         ],
         "y": [
          3.8789640000000007,
          3.8789640000000007
         ],
         "z": [
          -3.662769000000001,
          -3.662769000000001
         ]
        },
        {
         "hoverinfo": "text",
         "line": {
          "color": "red",
          "width": 3
         },
         "mode": "lines",
         "showlegend": false,
         "text": "dist: 2.50A",
         "type": "scatter3d",
         "x": [
          -3.5322949999999995,
          -1.5
         ],
         "y": [
          3.8789640000000007,
          4.799999999999999
         ],
         "z": [
          -3.662769000000001,
          -4.8
         ]
        },
        {
         "hoverinfo": "text",
         "line": {
          "color": "red",
          "width": 3
         },
         "mode": "lines",
         "showlegend": false,
         "text": "dist: 0.00A",
         "type": "scatter3d",
         "x": [
          -2.0446790000000004,
          -2.0446790000000004
         ],
         "y": [
          4.855818000000001,
          4.855818000000001
         ],
         "z": [
          -0.10802600000000062,
          -0.10802600000000062
         ]
        },
        {
         "hoverinfo": "text",
         "line": {
          "color": "red",
          "width": 3
         },
         "mode": "lines",
         "showlegend": false,
         "text": "dist: 2.55A",
         "type": "scatter3d",
         "x": [
          -2.0446790000000004,
          0.40611041005919457
         ],
         "y": [
          4.855818000000001,
          5.432147154129909
         ],
         "z": [
          -0.10802600000000062,
          0.28336969739244644
         ]
        },
        {
         "hoverinfo": "text",
         "line": {
          "color": "red",
          "width": 3
         },
         "mode": "lines",
         "showlegend": false,
         "text": "dist: 0.00A",
         "type": "scatter3d",
         "x": [
          -2.365627,
          -2.365627
         ],
         "y": [
          1.768718000000001,
          1.768718000000001
         ],
         "z": [
          -5.370734000000001,
          -5.370734000000001
         ]
        },
        {
         "hoverinfo": "text",
         "line": {
          "color": "red",
          "width": 3
         },
         "mode": "lines",
         "showlegend": false,
         "text": "dist: 1.74A",
         "type": "scatter3d",
         "x": [
          -2.365627,
          -1.2672161367150476
         ],
         "y": [
          1.768718000000001,
          1.677486135950165
         ],
         "z": [
          -5.370734000000001,
          -4.02286764895905
         ]
        },
        {
         "hoverinfo": "text",
         "line": {
          "color": "red",
          "width": 3
         },
         "mode": "lines",
         "showlegend": false,
         "text": "dist: 2.05A",
         "type": "scatter3d",
         "x": [
          -2.365627,
          -1.5
         ],
         "y": [
          1.768718000000001,
          1.1999999999999993
         ],
         "z": [
          -5.370734000000001,
          -3.6
         ]
        },
        {
         "hoverinfo": "text",
         "line": {
          "color": "red",
          "width": 3
         },
         "mode": "lines",
         "showlegend": false,
         "text": "dist: 0.00A",
         "type": "scatter3d",
         "x": [
          -3.84666,
          -3.84666
         ],
         "y": [
          3.421695000000001,
          3.421695000000001
         ],
         "z": [
          4.655602,
          4.655602
         ]
        },
        {
         "hoverinfo": "text",
         "line": {
          "color": "red",
          "width": 3
         },
         "mode": "lines",
         "showlegend": false,
         "text": "dist: 0.00A",
         "type": "scatter3d",
         "x": [
          -0.36080013671504574,
          -0.36080013671504574
         ],
         "y": [
          -5.174890864049835,
          -5.174890864049835
         ],
         "z": [
          1.4437163510409516,
          1.4437163510409516
         ]
        },
        {
         "hoverinfo": "text",
         "line": {
          "color": "red",
          "width": 3
         },
         "mode": "lines",
         "showlegend": false,
         "text": "dist: 1.83A",
         "type": "scatter3d",
         "x": [
          -0.36080013671504574,
          1.4466484100591943
         ],
         "y": [
          -5.174890864049835,
          -5.023298845870093
         ],
         "z": [
          1.4437163510409516,
          1.7114686973924478
         ]
        },
        {
         "hoverinfo": "text",
         "line": {
          "color": "red",
          "width": 3
         },
         "mode": "lines",
         "showlegend": false,
         "text": "dist: 2.17A",
         "type": "scatter3d",
         "x": [
          -0.7991211367150477,
          -2.7628140000000005
         ],
         "y": [
          -1.6985858640498348,
          -0.8007080000000002
         ],
         "z": [
          -1.6856956489590484,
          -1.4281260000000007
         ]
        },
        {
         "hoverinfo": "text",
         "line": {
          "color": "red",
          "width": 3
         },
         "mode": "lines",
         "showlegend": false,
         "text": "dist: 0.00A",
         "type": "scatter3d",
         "x": [
          -0.7991211367150477,
          -0.7991211367150477
         ],
         "y": [
          -1.6985858640498348,
          -1.6985858640498348
         ],
         "z": [
          -1.6856956489590484,
          -1.6856956489590484
         ]
        },
        {
         "hoverinfo": "text",
         "line": {
          "color": "red",
          "width": 3
         },
         "mode": "lines",
         "showlegend": false,
         "text": "dist: 0.00A",
         "type": "scatter3d",
         "x": [
          -1.4567881367150477,
          -1.4567881367150477
         ],
         "y": [
          -1.3884918640498345,
          -1.3884918640498345
         ],
         "z": [
          1.0547723510409517,
          1.0547723510409517
         ]
        },
        {
         "hoverinfo": "text",
         "line": {
          "color": "red",
          "width": 3
         },
         "mode": "lines",
         "showlegend": false,
         "text": "dist: 1.02A",
         "type": "scatter3d",
         "x": [
          -1.4567881367150477,
          -1.5
         ],
         "y": [
          -1.3884918640498345,
          -2.4000000000000004
         ],
         "z": [
          1.0547723510409517,
          1.1999999999999993
         ]
        },
        {
         "hoverinfo": "text",
         "line": {
          "color": "red",
          "width": 3
         },
         "mode": "lines",
         "showlegend": false,
         "text": "dist: 1.02A",
         "type": "scatter3d",
         "x": [
          -1.5,
          -1.4567881367150477
         ],
         "y": [
          -2.4000000000000004,
          -1.3884918640498345
         ],
         "z": [
          1.1999999999999993,
          1.0547723510409517
         ]
        },
        {
         "hoverinfo": "text",
         "line": {
          "color": "red",
          "width": 3
         },
         "mode": "lines",
         "showlegend": false,
         "text": "dist: 0.00A",
         "type": "scatter3d",
         "x": [
          -1.5,
          -1.5
         ],
         "y": [
          -2.4000000000000004,
          -2.4000000000000004
         ],
         "z": [
          1.1999999999999993,
          1.1999999999999993
         ]
        },
        {
         "hoverinfo": "text",
         "line": {
          "color": "red",
          "width": 3
         },
         "mode": "lines",
         "showlegend": false,
         "text": "dist: 0.00A",
         "type": "scatter3d",
         "x": [
          -0.9035821367150483,
          -0.9035821367150483
         ],
         "y": [
          -0.9306468640498347,
          -0.9306468640498347
         ],
         "z": [
          -4.358102648959047,
          -4.358102648959047
         ]
        },
        {
         "hoverinfo": "text",
         "line": {
          "color": "red",
          "width": 3
         },
         "mode": "lines",
         "showlegend": false,
         "text": "dist: 2.34A",
         "type": "scatter3d",
         "x": [
          -0.9035821367150483,
          -1.5
         ],
         "y": [
          -0.9306468640498347,
          1.1999999999999993
         ],
         "z": [
          -4.358102648959047,
          -3.6
         ]
        },
        {
         "hoverinfo": "text",
         "line": {
          "color": "red",
          "width": 3
         },
         "mode": "lines",
         "showlegend": false,
         "text": "dist: 0.80A",
         "type": "scatter3d",
         "x": [
          -0.9035821367150483,
          -0.30000000000000004
         ],
         "y": [
          -0.9306468640498347,
          -1.2000000000000002
         ],
         "z": [
          -4.358102648959047,
          -4.8
         ]
        },
        {
         "hoverinfo": "text",
         "line": {
          "color": "red",
          "width": 3
         },
         "mode": "lines",
         "showlegend": false,
         "text": "dist: 0.92A",
         "type": "scatter3d",
         "x": [
          -1.5,
          -2.066502
         ],
         "y": [
          0,
          -0.45721400000000045
         ],
         "z": [
          3.5999999999999996,
          4.155599
         ]
        },
        {
         "hoverinfo": "text",
         "line": {
          "color": "red",
          "width": 3
         },
         "mode": "lines",
         "showlegend": false,
         "text": "dist: 0.00A",
         "type": "scatter3d",
         "x": [
          -1.5,
          -1.5
         ],
         "y": [
          0,
          0
         ],
         "z": [
          3.5999999999999996,
          3.5999999999999996
         ]
        },
        {
         "hoverinfo": "text",
         "line": {
          "color": "red",
          "width": 3
         },
         "mode": "lines",
         "showlegend": false,
         "text": "dist: 1.74A",
         "type": "scatter3d",
         "x": [
          -1.2672161367150476,
          -2.365627
         ],
         "y": [
          1.677486135950165,
          1.768718000000001
         ],
         "z": [
          -4.02286764895905,
          -5.370734000000001
         ]
        },
        {
         "hoverinfo": "text",
         "line": {
          "color": "red",
          "width": 3
         },
         "mode": "lines",
         "showlegend": false,
         "text": "dist: 0.00A",
         "type": "scatter3d",
         "x": [
          -1.2672161367150476,
          -1.2672161367150476
         ],
         "y": [
          1.677486135950165,
          1.677486135950165
         ],
         "z": [
          -4.02286764895905,
          -4.02286764895905
         ]
        },
        {
         "hoverinfo": "text",
         "line": {
          "color": "red",
          "width": 3
         },
         "mode": "lines",
         "showlegend": false,
         "text": "dist: 0.68A",
         "type": "scatter3d",
         "x": [
          -1.2672161367150476,
          -1.5
         ],
         "y": [
          1.677486135950165,
          1.1999999999999993
         ],
         "z": [
          -4.02286764895905,
          -3.6
         ]
        },
        {
         "hoverinfo": "text",
         "line": {
          "color": "red",
          "width": 3
         },
         "mode": "lines",
         "showlegend": false,
         "text": "dist: 2.05A",
         "type": "scatter3d",
         "x": [
          -1.5,
          -2.365627
         ],
         "y": [
          1.1999999999999993,
          1.768718000000001
         ],
         "z": [
          -3.6,
          -5.370734000000001
         ]
        },
        {
         "hoverinfo": "text",
         "line": {
          "color": "red",
          "width": 3
         },
         "mode": "lines",
         "showlegend": false,
         "text": "dist: 2.34A",
         "type": "scatter3d",
         "x": [
          -1.5,
          -0.9035821367150483
         ],
         "y": [
          1.1999999999999993,
          -0.9306468640498347
         ],
         "z": [
          -3.6,
          -4.358102648959047
         ]
        },
        {
         "hoverinfo": "text",
         "line": {
          "color": "red",
          "width": 3
         },
         "mode": "lines",
         "showlegend": false,
         "text": "dist: 0.68A",
         "type": "scatter3d",
         "x": [
          -1.5,
          -1.2672161367150476
         ],
         "y": [
          1.1999999999999993,
          1.677486135950165
         ],
         "z": [
          -3.6,
          -4.02286764895905
         ]
        },
        {
         "hoverinfo": "text",
         "line": {
          "color": "red",
          "width": 3
         },
         "mode": "lines",
         "showlegend": false,
         "text": "dist: 0.00A",
         "type": "scatter3d",
         "x": [
          -1.5,
          -1.5
         ],
         "y": [
          1.1999999999999993,
          1.1999999999999993
         ],
         "z": [
          -3.6,
          -3.6
         ]
        },
        {
         "hoverinfo": "text",
         "line": {
          "color": "red",
          "width": 3
         },
         "mode": "lines",
         "showlegend": false,
         "text": "dist: 2.50A",
         "type": "scatter3d",
         "x": [
          -1.5,
          -3.5322949999999995
         ],
         "y": [
          4.799999999999999,
          3.8789640000000007
         ],
         "z": [
          -4.8,
          -3.662769000000001
         ]
        },
        {
         "hoverinfo": "text",
         "line": {
          "color": "red",
          "width": 3
         },
         "mode": "lines",
         "showlegend": false,
         "text": "dist: 0.00A",
         "type": "scatter3d",
         "x": [
          -1.5,
          -1.5
         ],
         "y": [
          4.799999999999999,
          4.799999999999999
         ],
         "z": [
          -4.8,
          -4.8
         ]
        },
        {
         "hoverinfo": "text",
         "line": {
          "color": "red",
          "width": 3
         },
         "mode": "lines",
         "showlegend": false,
         "text": "dist: 0.80A",
         "type": "scatter3d",
         "x": [
          -0.30000000000000004,
          -0.9035821367150483
         ],
         "y": [
          -1.2000000000000002,
          -0.9306468640498347
         ],
         "z": [
          -4.8,
          -4.358102648959047
         ]
        },
        {
         "hoverinfo": "text",
         "line": {
          "color": "red",
          "width": 3
         },
         "mode": "lines",
         "showlegend": false,
         "text": "dist: 0.00A",
         "type": "scatter3d",
         "x": [
          -0.30000000000000004,
          -0.30000000000000004
         ],
         "y": [
          -1.2000000000000002,
          -1.2000000000000002
         ],
         "z": [
          -4.8,
          -4.8
         ]
        },
        {
         "hoverinfo": "text",
         "line": {
          "color": "red",
          "width": 3
         },
         "mode": "lines",
         "showlegend": false,
         "text": "dist: 0.00A",
         "type": "scatter3d",
         "x": [
          -0.30137564503045855,
          -0.30137564503045855
         ],
         "y": [
          -4.9514022336817245,
          -4.9514022336817245
         ],
         "z": [
          -5.591390937423348,
          -5.591390937423348
         ]
        },
        {
         "hoverinfo": "text",
         "line": {
          "color": "red",
          "width": 3
         },
         "mode": "lines",
         "showlegend": false,
         "text": "dist: 2.55A",
         "type": "scatter3d",
         "x": [
          0.40611041005919457,
          -2.0446790000000004
         ],
         "y": [
          5.432147154129909,
          4.855818000000001
         ],
         "z": [
          0.28336969739244644,
          -0.10802600000000062
         ]
        },
        {
         "hoverinfo": "text",
         "line": {
          "color": "red",
          "width": 3
         },
         "mode": "lines",
         "showlegend": false,
         "text": "dist: 0.00A",
         "type": "scatter3d",
         "x": [
          0.40611041005919457,
          0.40611041005919457
         ],
         "y": [
          5.432147154129909,
          5.432147154129909
         ],
         "z": [
          0.28336969739244644,
          0.28336969739244644
         ]
        },
        {
         "hoverinfo": "text",
         "line": {
          "color": "red",
          "width": 3
         },
         "mode": "lines",
         "showlegend": false,
         "text": "dist: 1.83A",
         "type": "scatter3d",
         "x": [
          1.4466484100591943,
          -0.36080013671504574
         ],
         "y": [
          -5.023298845870093,
          -5.174890864049835
         ],
         "z": [
          1.7114686973924478,
          1.4437163510409516
         ]
        },
        {
         "hoverinfo": "text",
         "line": {
          "color": "red",
          "width": 3
         },
         "mode": "lines",
         "showlegend": false,
         "text": "dist: 0.00A",
         "type": "scatter3d",
         "x": [
          1.4466484100591943,
          1.4466484100591943
         ],
         "y": [
          -5.023298845870093,
          -5.023298845870093
         ],
         "z": [
          1.7114686973924478,
          1.7114686973924478
         ]
        },
        {
         "hoverinfo": "text",
         "line": {
          "color": "red",
          "width": 3
         },
         "mode": "lines",
         "showlegend": false,
         "text": "dist: 0.00A",
         "type": "scatter3d",
         "x": [
          0.8999999999999999,
          0.8999999999999999
         ],
         "y": [
          -2.4000000000000004,
          -2.4000000000000004
         ],
         "z": [
          2.4000000000000004,
          2.4000000000000004
         ]
        },
        {
         "hoverinfo": "text",
         "line": {
          "color": "red",
          "width": 3
         },
         "mode": "lines",
         "showlegend": false,
         "text": "dist: 1.07A",
         "type": "scatter3d",
         "x": [
          -1.4567881367150477,
          -1.5
         ],
         "y": [
          -1.3884918640498345,
          -1.2000000000000002
         ],
         "z": [
          1.0547723510409517,
          0
         ]
        },
        {
         "hoverinfo": "text",
         "line": {
          "color": "red",
          "width": 3
         },
         "mode": "lines",
         "showlegend": false,
         "text": "dist: 1.39A",
         "type": "scatter3d",
         "x": [
          -1.2672161367150476,
          -2.2986380000000004
         ],
         "y": [
          1.677486135950165,
          2.3820580000000007
         ],
         "z": [
          -4.02286764895905,
          -3.4082419999999995
         ]
        },
        {
         "hoverinfo": "text",
         "line": {
          "color": "red",
          "width": 3
         },
         "mode": "lines",
         "showlegend": false,
         "text": "dist: 1.44A",
         "type": "scatter3d",
         "x": [
          -1.5,
          -2.2986380000000004
         ],
         "y": [
          1.1999999999999993,
          2.3820580000000007
         ],
         "z": [
          -3.6,
          -3.4082419999999995
         ]
        },
        {
         "hoverinfo": "text",
         "line": {
          "color": "red",
          "width": 3
         },
         "mode": "lines",
         "showlegend": false,
         "text": "dist: 1.39A",
         "type": "scatter3d",
         "x": [
          -1.5,
          -2.8018959999999993
         ],
         "y": [
          4.799999999999999,
          5.288629
         ],
         "z": [
          -4.8,
          -4.8826529999999995
         ]
        },
        {
         "hoverinfo": "text",
         "line": {
          "color": "red",
          "width": 3
         },
         "mode": "lines",
         "showlegend": false,
         "text": "dist: 1.39A",
         "type": "scatter3d",
         "x": [
          -0.30137564503045855,
          -1.214202479952364
         ],
         "y": [
          -4.9514022336817245,
          -5.674301703927846
         ],
         "z": [
          -5.591390937423348,
          -4.833674306031745
         ]
        },
        {
         "hoverinfo": "text",
         "line": {
          "color": "red",
          "width": 3
         },
         "mode": "lines",
         "showlegend": false,
         "text": "dist: 1.47A",
         "type": "scatter3d",
         "x": [
          1.4466484100591943,
          0.46289486328495144
         ],
         "y": [
          -5.023298845870093,
          -4.256147864049835
         ],
         "z": [
          1.7114686973924478,
          2.491727351040952
         ]
        },
        {
         "hoverinfo": "text",
         "line": {
          "color": "red",
          "width": 3
         },
         "mode": "lines",
         "showlegend": false,
         "text": "dist: 0.00A",
         "type": "scatter3d",
         "x": [
          3.505683000000001,
          3.505683000000001
         ],
         "y": [
          -1.677274999999998,
          -1.677274999999998
         ],
         "z": [
          -5.43286,
          -5.43286
         ]
        },
        {
         "hoverinfo": "text",
         "line": {
          "color": "red",
          "width": 3
         },
         "mode": "lines",
         "showlegend": false,
         "text": "dist: 0.00A",
         "type": "scatter3d",
         "x": [
          4.337536,
          4.337536
         ],
         "y": [
          -1.9924879999999998,
          -1.9924879999999998
         ],
         "z": [
          2.272283,
          2.272283
         ]
        },
        {
         "hoverinfo": "text",
         "line": {
          "color": "red",
          "width": 3
         },
         "mode": "lines",
         "showlegend": false,
         "text": "dist: 0.00A",
         "type": "scatter3d",
         "x": [
          3.400791999999999,
          3.400791999999999
         ],
         "y": [
          -4.923577,
          -4.923577
         ],
         "z": [
          4.106719999999999,
          4.106719999999999
         ]
        },
        {
         "hoverinfo": "text",
         "line": {
          "color": "red",
          "width": 3
         },
         "mode": "lines",
         "showlegend": false,
         "text": "dist: 0.00A",
         "type": "scatter3d",
         "x": [
          3.2963629999999995,
          3.2963629999999995
         ],
         "y": [
          4.620056000000001,
          4.620056000000001
         ],
         "z": [
          1.5188079999999982,
          1.5188079999999982
         ]
        },
        {
         "hoverinfo": "text",
         "line": {
          "color": "red",
          "width": 3
         },
         "mode": "lines",
         "showlegend": false,
         "text": "dist: 0.00A",
         "type": "scatter3d",
         "x": [
          4.288603999999999,
          4.288603999999999
         ],
         "y": [
          1.4117780000000009,
          1.4117780000000009
         ],
         "z": [
          -5.295141000000001,
          -5.295141000000001
         ]
        },
        {
         "hoverinfo": "text",
         "line": {
          "color": "red",
          "width": 3
         },
         "mode": "lines",
         "showlegend": false,
         "text": "dist: 0.00A",
         "type": "scatter3d",
         "x": [
          -3.395403999999999,
          -3.395403999999999
         ],
         "y": [
          -4.470077999999999,
          -4.470077999999999
         ],
         "z": [
          -5.2492920000000005,
          -5.2492920000000005
         ]
        },
        {
         "hoverinfo": "text",
         "line": {
          "color": "red",
          "width": 3
         },
         "mode": "lines",
         "showlegend": false,
         "text": "dist: 2.53A",
         "type": "scatter3d",
         "x": [
          -3.395403999999999,
          -1.214202479952364
         ],
         "y": [
          -4.470077999999999,
          -5.674301703927846
         ],
         "z": [
          -5.2492920000000005,
          -4.833674306031745
         ]
        },
        {
         "hoverinfo": "text",
         "line": {
          "color": "red",
          "width": 3
         },
         "mode": "lines",
         "showlegend": false,
         "text": "dist: 0.00A",
         "type": "scatter3d",
         "x": [
          -3.9045710000000007,
          -3.9045710000000007
         ],
         "y": [
          0.17148200000000102,
          0.17148200000000102
         ],
         "z": [
          -0.075094,
          -0.075094
         ]
        },
        {
         "hoverinfo": "text",
         "line": {
          "color": "red",
          "width": 3
         },
         "mode": "lines",
         "showlegend": false,
         "text": "dist: 2.77A",
         "type": "scatter3d",
         "x": [
          -3.9045710000000007,
          -1.5
         ],
         "y": [
          0.17148200000000102,
          -1.2000000000000002
         ],
         "z": [
          -0.075094,
          0
         ]
        },
        {
         "hoverinfo": "text",
         "line": {
          "color": "red",
          "width": 3
         },
         "mode": "lines",
         "showlegend": false,
         "text": "dist: 0.00A",
         "type": "scatter3d",
         "x": [
          -2.1031150000000007,
          -2.1031150000000007
         ],
         "y": [
          -1.5952190000000002,
          -1.5952190000000002
         ],
         "z": [
          2.627377000000001,
          2.627377000000001
         ]
        },
        {
         "hoverinfo": "text",
         "line": {
          "color": "red",
          "width": 3
         },
         "mode": "lines",
         "showlegend": false,
         "text": "dist: 2.72A",
         "type": "scatter3d",
         "x": [
          -2.1031150000000007,
          -1.5
         ],
         "y": [
          -1.5952190000000002,
          -1.2000000000000002
         ],
         "z": [
          2.627377000000001,
          0
         ]
        },
        {
         "hoverinfo": "text",
         "line": {
          "color": "red",
          "width": 3
         },
         "mode": "lines",
         "showlegend": false,
         "text": "dist: 0.00A",
         "type": "scatter3d",
         "x": [
          -3.3346160000000005,
          -3.3346160000000005
         ],
         "y": [
          -4.618774999999999,
          -4.618774999999999
         ],
         "z": [
          3.535831,
          3.535831
         ]
        },
        {
         "hoverinfo": "text",
         "line": {
          "color": "red",
          "width": 3
         },
         "mode": "lines",
         "showlegend": false,
         "text": "dist: 0.00A",
         "type": "scatter3d",
         "x": [
          -1.677486,
          -1.677486
         ],
         "y": [
          0.6030180000000023,
          0.6030180000000023
         ],
         "z": [
          5.314871,
          5.314871
         ]
        },
        {
         "hoverinfo": "text",
         "line": {
          "color": "red",
          "width": 3
         },
         "mode": "lines",
         "showlegend": false,
         "text": "dist: 0.00A",
         "type": "scatter3d",
         "x": [
          -2.2986380000000004,
          -2.2986380000000004
         ],
         "y": [
          2.3820580000000007,
          2.3820580000000007
         ],
         "z": [
          -3.4082419999999995,
          -3.4082419999999995
         ]
        },
        {
         "hoverinfo": "text",
         "line": {
          "color": "red",
          "width": 3
         },
         "mode": "lines",
         "showlegend": false,
         "text": "dist: 0.00A",
         "type": "scatter3d",
         "x": [
          -2.8018959999999993,
          -2.8018959999999993
         ],
         "y": [
          5.288629,
          5.288629
         ],
         "z": [
          -4.8826529999999995,
          -4.8826529999999995
         ]
        },
        {
         "hoverinfo": "text",
         "line": {
          "color": "red",
          "width": 3
         },
         "mode": "lines",
         "showlegend": false,
         "text": "dist: 0.00A",
         "type": "scatter3d",
         "x": [
          -3.542605,
          -3.542605
         ],
         "y": [
          4.373694,
          4.373694
         ],
         "z": [
          3.179373,
          3.179373
         ]
        },
        {
         "hoverinfo": "text",
         "line": {
          "color": "red",
          "width": 3
         },
         "mode": "lines",
         "showlegend": false,
         "text": "dist: 0.00A",
         "type": "scatter3d",
         "x": [
          -4.376805000000001,
          -4.376805000000001
         ],
         "y": [
          1.9777850000000008,
          1.9777850000000008
         ],
         "z": [
          5.124404999999999,
          5.124404999999999
         ]
        },
        {
         "hoverinfo": "text",
         "line": {
          "color": "red",
          "width": 3
         },
         "mode": "lines",
         "showlegend": false,
         "text": "dist: 0.00A",
         "type": "scatter3d",
         "x": [
          -0.8391401367150486,
          -0.8391401367150486
         ],
         "y": [
          -2.236755864049835,
          -2.236755864049835
         ],
         "z": [
          -3.33405464895905,
          -3.33405464895905
         ]
        },
        {
         "hoverinfo": "text",
         "line": {
          "color": "red",
          "width": 3
         },
         "mode": "lines",
         "showlegend": false,
         "text": "dist: 2.77A",
         "type": "scatter3d",
         "x": [
          -1.5,
          -3.9045710000000007
         ],
         "y": [
          -1.2000000000000002,
          0.17148200000000102
         ],
         "z": [
          0,
          -0.075094
         ]
        },
        {
         "hoverinfo": "text",
         "line": {
          "color": "red",
          "width": 3
         },
         "mode": "lines",
         "showlegend": false,
         "text": "dist: 2.72A",
         "type": "scatter3d",
         "x": [
          -1.5,
          -2.1031150000000007
         ],
         "y": [
          -1.2000000000000002,
          -1.5952190000000002
         ],
         "z": [
          0,
          2.627377000000001
         ]
        },
        {
         "hoverinfo": "text",
         "line": {
          "color": "red",
          "width": 3
         },
         "mode": "lines",
         "showlegend": false,
         "text": "dist: 0.00A",
         "type": "scatter3d",
         "x": [
          -1.5,
          -1.5
         ],
         "y": [
          -1.2000000000000002,
          -1.2000000000000002
         ],
         "z": [
          0,
          0
         ]
        },
        {
         "hoverinfo": "text",
         "line": {
          "color": "red",
          "width": 3
         },
         "mode": "lines",
         "showlegend": false,
         "text": "dist: 0.00A",
         "type": "scatter3d",
         "x": [
          -0.8303291367150472,
          -0.8303291367150472
         ],
         "y": [
          0.48769513595016534,
          0.48769513595016534
         ],
         "z": [
          -5.098426648959048,
          -5.098426648959048
         ]
        },
        {
         "hoverinfo": "text",
         "line": {
          "color": "red",
          "width": 3
         },
         "mode": "lines",
         "showlegend": false,
         "text": "dist: 2.53A",
         "type": "scatter3d",
         "x": [
          -1.214202479952364,
          -3.395403999999999
         ],
         "y": [
          -5.674301703927846,
          -4.470077999999999
         ],
         "z": [
          -4.833674306031745,
          -5.2492920000000005
         ]
        },
        {
         "hoverinfo": "text",
         "line": {
          "color": "red",
          "width": 3
         },
         "mode": "lines",
         "showlegend": false,
         "text": "dist: 0.00A",
         "type": "scatter3d",
         "x": [
          -1.214202479952364,
          -1.214202479952364
         ],
         "y": [
          -5.674301703927846,
          -5.674301703927846
         ],
         "z": [
          -4.833674306031745,
          -4.833674306031745
         ]
        },
        {
         "hoverinfo": "text",
         "line": {
          "color": "red",
          "width": 3
         },
         "mode": "lines",
         "showlegend": false,
         "text": "dist: 0.00A",
         "type": "scatter3d",
         "x": [
          -0.8812011367150454,
          -0.8812011367150454
         ],
         "y": [
          5.929789135950164,
          5.929789135950164
         ],
         "z": [
          -1.0349606489590486,
          -1.0349606489590486
         ]
        },
        {
         "hoverinfo": "text",
         "line": {
          "color": "red",
          "width": 3
         },
         "mode": "lines",
         "showlegend": false,
         "text": "dist: 0.00A",
         "type": "scatter3d",
         "x": [
          0.46289486328495144,
          0.46289486328495144
         ],
         "y": [
          -4.256147864049835,
          -4.256147864049835
         ],
         "z": [
          2.491727351040952,
          2.491727351040952
         ]
        },
        {
         "hoverinfo": "skip",
         "marker": {
          "showscale": false
         },
         "mode": "markers",
         "showlegend": false,
         "type": "scatter3d",
         "x": [
          null
         ],
         "y": [
          null
         ],
         "z": [
          null
         ]
        }
       ],
       "layout": {
        "legend": {
         "title": {
          "text": "Species"
         },
         "tracegroupgap": 0
        },
        "margin": {
         "b": 10,
         "l": 10,
         "r": 20,
         "t": 10
        },
        "scene": {
         "aspectmode": "data",
         "domain": {
          "x": [
           0,
           1
          ],
          "y": [
           0,
           1
          ]
         },
         "xaxis": {
          "title": {
           "text": "X"
          }
         },
         "yaxis": {
          "title": {
           "text": "Y"
          }
         },
         "zaxis": {
          "title": {
           "text": "Z"
          }
         }
        },
        "template": {
         "data": {
          "bar": [
           {
            "error_x": {
             "color": "#2a3f5f"
            },
            "error_y": {
             "color": "#2a3f5f"
            },
            "marker": {
             "line": {
              "color": "#E5ECF6",
              "width": 0.5
             },
             "pattern": {
              "fillmode": "overlay",
              "size": 10,
              "solidity": 0.2
             }
            },
            "type": "bar"
           }
          ],
          "barpolar": [
           {
            "marker": {
             "line": {
              "color": "#E5ECF6",
              "width": 0.5
             },
             "pattern": {
              "fillmode": "overlay",
              "size": 10,
              "solidity": 0.2
             }
            },
            "type": "barpolar"
           }
          ],
          "carpet": [
           {
            "aaxis": {
             "endlinecolor": "#2a3f5f",
             "gridcolor": "white",
             "linecolor": "white",
             "minorgridcolor": "white",
             "startlinecolor": "#2a3f5f"
            },
            "baxis": {
             "endlinecolor": "#2a3f5f",
             "gridcolor": "white",
             "linecolor": "white",
             "minorgridcolor": "white",
             "startlinecolor": "#2a3f5f"
            },
            "type": "carpet"
           }
          ],
          "choropleth": [
           {
            "colorbar": {
             "outlinewidth": 0,
             "ticks": ""
            },
            "type": "choropleth"
           }
          ],
          "contour": [
           {
            "colorbar": {
             "outlinewidth": 0,
             "ticks": ""
            },
            "colorscale": [
             [
              0,
              "#0d0887"
             ],
             [
              0.1111111111111111,
              "#46039f"
             ],
             [
              0.2222222222222222,
              "#7201a8"
             ],
             [
              0.3333333333333333,
              "#9c179e"
             ],
             [
              0.4444444444444444,
              "#bd3786"
             ],
             [
              0.5555555555555556,
              "#d8576b"
             ],
             [
              0.6666666666666666,
              "#ed7953"
             ],
             [
              0.7777777777777778,
              "#fb9f3a"
             ],
             [
              0.8888888888888888,
              "#fdca26"
             ],
             [
              1,
              "#f0f921"
             ]
            ],
            "type": "contour"
           }
          ],
          "contourcarpet": [
           {
            "colorbar": {
             "outlinewidth": 0,
             "ticks": ""
            },
            "type": "contourcarpet"
           }
          ],
          "heatmap": [
           {
            "colorbar": {
             "outlinewidth": 0,
             "ticks": ""
            },
            "colorscale": [
             [
              0,
              "#0d0887"
             ],
             [
              0.1111111111111111,
              "#46039f"
             ],
             [
              0.2222222222222222,
              "#7201a8"
             ],
             [
              0.3333333333333333,
              "#9c179e"
             ],
             [
              0.4444444444444444,
              "#bd3786"
             ],
             [
              0.5555555555555556,
              "#d8576b"
             ],
             [
              0.6666666666666666,
              "#ed7953"
             ],
             [
              0.7777777777777778,
              "#fb9f3a"
             ],
             [
              0.8888888888888888,
              "#fdca26"
             ],
             [
              1,
              "#f0f921"
             ]
            ],
            "type": "heatmap"
           }
          ],
          "heatmapgl": [
           {
            "colorbar": {
             "outlinewidth": 0,
             "ticks": ""
            },
            "colorscale": [
             [
              0,
              "#0d0887"
             ],
             [
              0.1111111111111111,
              "#46039f"
             ],
             [
              0.2222222222222222,
              "#7201a8"
             ],
             [
              0.3333333333333333,
              "#9c179e"
             ],
             [
              0.4444444444444444,
              "#bd3786"
             ],
             [
              0.5555555555555556,
              "#d8576b"
             ],
             [
              0.6666666666666666,
              "#ed7953"
             ],
             [
              0.7777777777777778,
              "#fb9f3a"
             ],
             [
              0.8888888888888888,
              "#fdca26"
             ],
             [
              1,
              "#f0f921"
             ]
            ],
            "type": "heatmapgl"
           }
          ],
          "histogram": [
           {
            "marker": {
             "pattern": {
              "fillmode": "overlay",
              "size": 10,
              "solidity": 0.2
             }
            },
            "type": "histogram"
           }
          ],
          "histogram2d": [
           {
            "colorbar": {
             "outlinewidth": 0,
             "ticks": ""
            },
            "colorscale": [
             [
              0,
              "#0d0887"
             ],
             [
              0.1111111111111111,
              "#46039f"
             ],
             [
              0.2222222222222222,
              "#7201a8"
             ],
             [
              0.3333333333333333,
              "#9c179e"
             ],
             [
              0.4444444444444444,
              "#bd3786"
             ],
             [
              0.5555555555555556,
              "#d8576b"
             ],
             [
              0.6666666666666666,
              "#ed7953"
             ],
             [
              0.7777777777777778,
              "#fb9f3a"
             ],
             [
              0.8888888888888888,
              "#fdca26"
             ],
             [
              1,
              "#f0f921"
             ]
            ],
            "type": "histogram2d"
           }
          ],
          "histogram2dcontour": [
           {
            "colorbar": {
             "outlinewidth": 0,
             "ticks": ""
            },
            "colorscale": [
             [
              0,
              "#0d0887"
             ],
             [
              0.1111111111111111,
              "#46039f"
             ],
             [
              0.2222222222222222,
              "#7201a8"
             ],
             [
              0.3333333333333333,
              "#9c179e"
             ],
             [
              0.4444444444444444,
              "#bd3786"
             ],
             [
              0.5555555555555556,
              "#d8576b"
             ],
             [
              0.6666666666666666,
              "#ed7953"
             ],
             [
              0.7777777777777778,
              "#fb9f3a"
             ],
             [
              0.8888888888888888,
              "#fdca26"
             ],
             [
              1,
              "#f0f921"
             ]
            ],
            "type": "histogram2dcontour"
           }
          ],
          "mesh3d": [
           {
            "colorbar": {
             "outlinewidth": 0,
             "ticks": ""
            },
            "type": "mesh3d"
           }
          ],
          "parcoords": [
           {
            "line": {
             "colorbar": {
              "outlinewidth": 0,
              "ticks": ""
             }
            },
            "type": "parcoords"
           }
          ],
          "pie": [
           {
            "automargin": true,
            "type": "pie"
           }
          ],
          "scatter": [
           {
            "fillpattern": {
             "fillmode": "overlay",
             "size": 10,
             "solidity": 0.2
            },
            "type": "scatter"
           }
          ],
          "scatter3d": [
           {
            "line": {
             "colorbar": {
              "outlinewidth": 0,
              "ticks": ""
             }
            },
            "marker": {
             "colorbar": {
              "outlinewidth": 0,
              "ticks": ""
             }
            },
            "type": "scatter3d"
           }
          ],
          "scattercarpet": [
           {
            "marker": {
             "colorbar": {
              "outlinewidth": 0,
              "ticks": ""
             }
            },
            "type": "scattercarpet"
           }
          ],
          "scattergeo": [
           {
            "marker": {
             "colorbar": {
              "outlinewidth": 0,
              "ticks": ""
             }
            },
            "type": "scattergeo"
           }
          ],
          "scattergl": [
           {
            "marker": {
             "colorbar": {
              "outlinewidth": 0,
              "ticks": ""
             }
            },
            "type": "scattergl"
           }
          ],
          "scattermapbox": [
           {
            "marker": {
             "colorbar": {
              "outlinewidth": 0,
              "ticks": ""
             }
            },
            "type": "scattermapbox"
           }
          ],
          "scatterpolar": [
           {
            "marker": {
             "colorbar": {
              "outlinewidth": 0,
              "ticks": ""
             }
            },
            "type": "scatterpolar"
           }
          ],
          "scatterpolargl": [
           {
            "marker": {
             "colorbar": {
              "outlinewidth": 0,
              "ticks": ""
             }
            },
            "type": "scatterpolargl"
           }
          ],
          "scatterternary": [
           {
            "marker": {
             "colorbar": {
              "outlinewidth": 0,
              "ticks": ""
             }
            },
            "type": "scatterternary"
           }
          ],
          "surface": [
           {
            "colorbar": {
             "outlinewidth": 0,
             "ticks": ""
            },
            "colorscale": [
             [
              0,
              "#0d0887"
             ],
             [
              0.1111111111111111,
              "#46039f"
             ],
             [
              0.2222222222222222,
              "#7201a8"
             ],
             [
              0.3333333333333333,
              "#9c179e"
             ],
             [
              0.4444444444444444,
              "#bd3786"
             ],
             [
              0.5555555555555556,
              "#d8576b"
             ],
             [
              0.6666666666666666,
              "#ed7953"
             ],
             [
              0.7777777777777778,
              "#fb9f3a"
             ],
             [
              0.8888888888888888,
              "#fdca26"
             ],
             [
              1,
              "#f0f921"
             ]
            ],
            "type": "surface"
           }
          ],
          "table": [
           {
            "cells": {
             "fill": {
              "color": "#EBF0F8"
             },
             "line": {
              "color": "white"
             }
            },
            "header": {
             "fill": {
              "color": "#C8D4E3"
             },
             "line": {
              "color": "white"
             }
            },
            "type": "table"
           }
          ]
         },
         "layout": {
          "annotationdefaults": {
           "arrowcolor": "#2a3f5f",
           "arrowhead": 0,
           "arrowwidth": 1
          },
          "autotypenumbers": "strict",
          "coloraxis": {
           "colorbar": {
            "outlinewidth": 0,
            "ticks": ""
           }
          },
          "colorscale": {
           "diverging": [
            [
             0,
             "#8e0152"
            ],
            [
             0.1,
             "#c51b7d"
            ],
            [
             0.2,
             "#de77ae"
            ],
            [
             0.3,
             "#f1b6da"
            ],
            [
             0.4,
             "#fde0ef"
            ],
            [
             0.5,
             "#f7f7f7"
            ],
            [
             0.6,
             "#e6f5d0"
            ],
            [
             0.7,
             "#b8e186"
            ],
            [
             0.8,
             "#7fbc41"
            ],
            [
             0.9,
             "#4d9221"
            ],
            [
             1,
             "#276419"
            ]
           ],
           "sequential": [
            [
             0,
             "#0d0887"
            ],
            [
             0.1111111111111111,
             "#46039f"
            ],
            [
             0.2222222222222222,
             "#7201a8"
            ],
            [
             0.3333333333333333,
             "#9c179e"
            ],
            [
             0.4444444444444444,
             "#bd3786"
            ],
            [
             0.5555555555555556,
             "#d8576b"
            ],
            [
             0.6666666666666666,
             "#ed7953"
            ],
            [
             0.7777777777777778,
             "#fb9f3a"
            ],
            [
             0.8888888888888888,
             "#fdca26"
            ],
            [
             1,
             "#f0f921"
            ]
           ],
           "sequentialminus": [
            [
             0,
             "#0d0887"
            ],
            [
             0.1111111111111111,
             "#46039f"
            ],
            [
             0.2222222222222222,
             "#7201a8"
            ],
            [
             0.3333333333333333,
             "#9c179e"
            ],
            [
             0.4444444444444444,
             "#bd3786"
            ],
            [
             0.5555555555555556,
             "#d8576b"
            ],
            [
             0.6666666666666666,
             "#ed7953"
            ],
            [
             0.7777777777777778,
             "#fb9f3a"
            ],
            [
             0.8888888888888888,
             "#fdca26"
            ],
            [
             1,
             "#f0f921"
            ]
           ]
          },
          "colorway": [
           "#636efa",
           "#EF553B",
           "#00cc96",
           "#ab63fa",
           "#FFA15A",
           "#19d3f3",
           "#FF6692",
           "#B6E880",
           "#FF97FF",
           "#FECB52"
          ],
          "font": {
           "color": "#2a3f5f"
          },
          "geo": {
           "bgcolor": "white",
           "lakecolor": "white",
           "landcolor": "#E5ECF6",
           "showlakes": true,
           "showland": true,
           "subunitcolor": "white"
          },
          "hoverlabel": {
           "align": "left"
          },
          "hovermode": "closest",
          "mapbox": {
           "style": "light"
          },
          "paper_bgcolor": "white",
          "plot_bgcolor": "#E5ECF6",
          "polar": {
           "angularaxis": {
            "gridcolor": "white",
            "linecolor": "white",
            "ticks": ""
           },
           "bgcolor": "#E5ECF6",
           "radialaxis": {
            "gridcolor": "white",
            "linecolor": "white",
            "ticks": ""
           }
          },
          "scene": {
           "xaxis": {
            "backgroundcolor": "#E5ECF6",
            "gridcolor": "white",
            "gridwidth": 2,
            "linecolor": "white",
            "showbackground": true,
            "ticks": "",
            "zerolinecolor": "white"
           },
           "yaxis": {
            "backgroundcolor": "#E5ECF6",
            "gridcolor": "white",
            "gridwidth": 2,
            "linecolor": "white",
            "showbackground": true,
            "ticks": "",
            "zerolinecolor": "white"
           },
           "zaxis": {
            "backgroundcolor": "#E5ECF6",
            "gridcolor": "white",
            "gridwidth": 2,
            "linecolor": "white",
            "showbackground": true,
            "ticks": "",
            "zerolinecolor": "white"
           }
          },
          "shapedefaults": {
           "line": {
            "color": "#2a3f5f"
           }
          },
          "ternary": {
           "aaxis": {
            "gridcolor": "white",
            "linecolor": "white",
            "ticks": ""
           },
           "baxis": {
            "gridcolor": "white",
            "linecolor": "white",
            "ticks": ""
           },
           "bgcolor": "#E5ECF6",
           "caxis": {
            "gridcolor": "white",
            "linecolor": "white",
            "ticks": ""
           }
          },
          "title": {
           "x": 0.05
          },
          "xaxis": {
           "automargin": true,
           "gridcolor": "white",
           "linecolor": "white",
           "ticks": "",
           "title": {
            "standoff": 15
           },
           "zerolinecolor": "white",
           "zerolinewidth": 2
          },
          "yaxis": {
           "automargin": true,
           "gridcolor": "white",
           "linecolor": "white",
           "ticks": "",
           "title": {
            "standoff": 15
           },
           "zerolinecolor": "white",
           "zerolinewidth": 2
          }
         }
        },
        "title": {
         "automargin": true,
         "text": "Distances penalties",
         "x": 0.5,
         "xanchor": "center",
         "y": 0.95,
         "yanchor": "top"
        },
        "width": 700
       }
      }
     },
     "metadata": {},
     "output_type": "display_data"
    }
   ],
   "source": [
    "ea_x.plot_fitness()\n",
    "ea_x.plot_similarity()\n",
    "\n",
    "best_solution_x = ea_x.get_best_solution()\n",
    "\n",
    "plot_atoms(best_solution_x, atom_species_by_index, atom_species_by_symbol)\n",
    "plot_solution_with_walls((wall_left, wall_right), best_solution_x, atom_species_by_index, atom_species_by_symbol)\n",
    "plot_neighbourhood_penalties(np.concat([wall_left, wall_right, best_solution_x]), atom_species_by_index, atom_species_by_symbol, cluster_size, cluster_size, cluster_size)\n",
    "plot_distances_penalties(np.concat([wall_left, wall_right, best_solution_x]), atom_species_by_index, atom_species_by_symbol)"
   ]
  },
  {
   "cell_type": "code",
   "execution_count": 235,
   "metadata": {},
   "outputs": [
    {
     "data": {
      "application/vnd.plotly.v1+json": {
       "config": {
        "plotlyServerURL": "https://plot.ly"
       },
       "data": [
        {
         "customdata": [
          [
           "O"
          ],
          [
           "O"
          ],
          [
           "O"
          ],
          [
           "O"
          ],
          [
           "O"
          ],
          [
           "O"
          ],
          [
           "O"
          ],
          [
           "O"
          ],
          [
           "O"
          ],
          [
           "O"
          ],
          [
           "O"
          ],
          [
           "O"
          ],
          [
           "O"
          ],
          [
           "O"
          ]
         ],
         "hovertemplate": "%{customdata[0]}",
         "legendgroup": "O",
         "marker": {
          "color": "#636efa",
          "opacity": 0.8,
          "size": 5,
          "symbol": "circle"
         },
         "mode": "markers",
         "name": "O",
         "scene": "scene",
         "showlegend": true,
         "text": [
          "O",
          "O",
          "O",
          "Si",
          "O",
          "Si",
          "O",
          "O",
          "O",
          "O",
          "O",
          "Si",
          "O",
          "Si",
          "Si",
          "O",
          "O",
          "O",
          "O",
          "Si"
         ],
         "type": "scatter3d",
         "x": [
          -1.5,
          -0.8256637402108513,
          -0.6775187402108518,
          -1.5,
          -1.5,
          -1.2128737402108527,
          -1.5,
          -1.5,
          0.12099025978914746,
          0.16978574942754587,
          0.4642837494275458,
          0.6815067494275464,
          1.2335337494275462,
          1.0246427494275459
         ],
         "y": [
          -5,
          -4.042589438577931,
          -2.4993154385779306,
          -2,
          2,
          2.8439085614220687,
          4,
          5,
          -5.0293394385779315,
          0.9497191935445004,
          5.920034193544501,
          0.8464761935445013,
          3.253994193544501,
          5.708970193544501
         ],
         "z": [
          -5,
          1.5140890216859288,
          3.6800030216859296,
          1,
          -5,
          -2.0575069783140725,
          -5,
          0,
          3.6639910216859297,
          -1.861423884833755,
          -1.698743884833755,
          0.7575751151662438,
          -0.5221928848337551,
          -4.408548884833755
         ]
        },
        {
         "customdata": [
          [
           "Si"
          ],
          [
           "Si"
          ],
          [
           "Si"
          ],
          [
           "Si"
          ],
          [
           "Si"
          ],
          [
           "Si"
          ]
         ],
         "hovertemplate": "%{customdata[0]}",
         "legendgroup": "Si",
         "marker": {
          "color": "#EF553B",
          "opacity": 0.8,
          "size": 5,
          "symbol": "circle"
         },
         "mode": "markers",
         "name": "Si",
         "scene": "scene",
         "showlegend": true,
         "text": [
          "O",
          "O",
          "O",
          "Si",
          "O",
          "Si",
          "O",
          "O",
          "O",
          "O",
          "O",
          "Si",
          "O",
          "Si",
          "Si",
          "O",
          "O",
          "O",
          "O",
          "Si"
         ],
         "type": "scatter3d",
         "x": [
          -1.406068602935271,
          -0.630047740210852,
          0.022226259789148273,
          0.28563274942754635,
          -0.5,
          1.150856749427546
         ],
         "y": [
          -5.49320811138614,
          1.0489625614220692,
          -3.6081874385779322,
          1.8713621935445,
          4,
          5.039972193544501
         ],
         "z": [
          -5.135852667551358,
          -5.826727978314072,
          2.7494130216859274,
          -0.422862884833755,
          -1,
          -2.924418884833756
         ]
        },
        {
         "hoverinfo": "skip",
         "line": {
          "color": "black",
          "showscale": false,
          "width": 1
         },
         "mode": "lines",
         "showlegend": false,
         "type": "scatter3d",
         "x": [
          -0.8256637402108513,
          -1.5
         ],
         "y": [
          -4.042589438577931,
          -2
         ],
         "z": [
          1.5140890216859288,
          1
         ]
        },
        {
         "hoverinfo": "skip",
         "line": {
          "color": "black",
          "showscale": false,
          "width": 1
         },
         "mode": "lines",
         "showlegend": false,
         "type": "scatter3d",
         "x": [
          -1.5,
          -0.8256637402108513
         ],
         "y": [
          -2,
          -4.042589438577931
         ],
         "z": [
          1,
          1.5140890216859288
         ]
        },
        {
         "hoverinfo": "skip",
         "line": {
          "color": "black",
          "showscale": false,
          "width": 1
         },
         "mode": "lines",
         "showlegend": false,
         "type": "scatter3d",
         "x": [
          -1.5,
          -1.5
         ],
         "y": [
          2,
          4
         ],
         "z": [
          -5,
          -5
         ]
        },
        {
         "hoverinfo": "skip",
         "line": {
          "color": "black",
          "showscale": false,
          "width": 1
         },
         "mode": "lines",
         "showlegend": false,
         "type": "scatter3d",
         "x": [
          -1.2128737402108527,
          0.16978574942754587
         ],
         "y": [
          2.8439085614220687,
          0.9497191935445004
         ],
         "z": [
          -2.0575069783140725,
          -1.861423884833755
         ]
        },
        {
         "hoverinfo": "skip",
         "line": {
          "color": "black",
          "showscale": false,
          "width": 1
         },
         "mode": "lines",
         "showlegend": false,
         "type": "scatter3d",
         "x": [
          -1.5,
          -1.5
         ],
         "y": [
          4,
          2
         ],
         "z": [
          -5,
          -5
         ]
        },
        {
         "hoverinfo": "skip",
         "line": {
          "color": "black",
          "showscale": false,
          "width": 1
         },
         "mode": "lines",
         "showlegend": false,
         "type": "scatter3d",
         "x": [
          0.16978574942754587,
          -1.2128737402108527
         ],
         "y": [
          0.9497191935445004,
          2.8439085614220687
         ],
         "z": [
          -1.861423884833755,
          -2.0575069783140725
         ]
        },
        {
         "hoverinfo": "skip",
         "line": {
          "color": "black",
          "showscale": false,
          "width": 1
         },
         "mode": "lines",
         "showlegend": false,
         "type": "scatter3d",
         "x": [
          0.28563274942754635,
          -0.5
         ],
         "y": [
          1.8713621935445,
          4
         ],
         "z": [
          -0.422862884833755,
          -1
         ]
        },
        {
         "hoverinfo": "skip",
         "line": {
          "color": "black",
          "showscale": false,
          "width": 1
         },
         "mode": "lines",
         "showlegend": false,
         "type": "scatter3d",
         "x": [
          -0.5,
          0.28563274942754635
         ],
         "y": [
          4,
          1.8713621935445
         ],
         "z": [
          -1,
          -0.422862884833755
         ]
        },
        {
         "hoverinfo": "skip",
         "line": {
          "color": "black",
          "showscale": false,
          "width": 1
         },
         "mode": "lines",
         "showlegend": false,
         "type": "scatter3d",
         "x": [
          -0.5,
          1.150856749427546
         ],
         "y": [
          4,
          5.039972193544501
         ],
         "z": [
          -1,
          -2.924418884833756
         ]
        },
        {
         "hoverinfo": "skip",
         "line": {
          "color": "black",
          "showscale": false,
          "width": 1
         },
         "mode": "lines",
         "showlegend": false,
         "type": "scatter3d",
         "x": [
          1.150856749427546,
          -0.5
         ],
         "y": [
          5.039972193544501,
          4
         ],
         "z": [
          -2.924418884833756,
          -1
         ]
        },
        {
         "hoverinfo": "skip",
         "line": {
          "color": "black",
          "showscale": false,
          "width": 1
         },
         "mode": "lines",
         "showlegend": false,
         "type": "scatter3d",
         "x": [
          -1.406068602935271,
          -1.5
         ],
         "y": [
          -5.49320811138614,
          -5
         ],
         "z": [
          -5.135852667551358,
          -5
         ]
        },
        {
         "hoverinfo": "skip",
         "line": {
          "color": "black",
          "showscale": false,
          "width": 1
         },
         "mode": "lines",
         "showlegend": false,
         "type": "scatter3d",
         "x": [
          -0.630047740210852,
          -1.5
         ],
         "y": [
          1.0489625614220692,
          2
         ],
         "z": [
          -5.826727978314072,
          -5
         ]
        },
        {
         "hoverinfo": "skip",
         "line": {
          "color": "black",
          "showscale": false,
          "width": 1
         },
         "mode": "lines",
         "showlegend": false,
         "type": "scatter3d",
         "x": [
          0.022226259789148273,
          -0.8256637402108513
         ],
         "y": [
          -3.6081874385779322,
          -4.042589438577931
         ],
         "z": [
          2.7494130216859274,
          1.5140890216859288
         ]
        },
        {
         "hoverinfo": "skip",
         "line": {
          "color": "black",
          "showscale": false,
          "width": 1
         },
         "mode": "lines",
         "showlegend": false,
         "type": "scatter3d",
         "x": [
          0.022226259789148273,
          -0.6775187402108518
         ],
         "y": [
          -3.6081874385779322,
          -2.4993154385779306
         ],
         "z": [
          2.7494130216859274,
          3.6800030216859296
         ]
        },
        {
         "hoverinfo": "skip",
         "line": {
          "color": "black",
          "showscale": false,
          "width": 1
         },
         "mode": "lines",
         "showlegend": false,
         "type": "scatter3d",
         "x": [
          0.022226259789148273,
          0.12099025978914746
         ],
         "y": [
          -3.6081874385779322,
          -5.0293394385779315
         ],
         "z": [
          2.7494130216859274,
          3.6639910216859297
         ]
        },
        {
         "hoverinfo": "skip",
         "line": {
          "color": "black",
          "showscale": false,
          "width": 1
         },
         "mode": "lines",
         "showlegend": false,
         "type": "scatter3d",
         "x": [
          0.28563274942754635,
          0.16978574942754587
         ],
         "y": [
          1.8713621935445,
          0.9497191935445004
         ],
         "z": [
          -0.422862884833755,
          -1.861423884833755
         ]
        },
        {
         "hoverinfo": "skip",
         "line": {
          "color": "black",
          "showscale": false,
          "width": 1
         },
         "mode": "lines",
         "showlegend": false,
         "type": "scatter3d",
         "x": [
          0.28563274942754635,
          0.6815067494275464
         ],
         "y": [
          1.8713621935445,
          0.8464761935445013
         ],
         "z": [
          -0.422862884833755,
          0.7575751151662438
         ]
        },
        {
         "hoverinfo": "skip",
         "line": {
          "color": "black",
          "showscale": false,
          "width": 1
         },
         "mode": "lines",
         "showlegend": false,
         "type": "scatter3d",
         "x": [
          0.28563274942754635,
          1.2335337494275462
         ],
         "y": [
          1.8713621935445,
          3.253994193544501
         ],
         "z": [
          -0.422862884833755,
          -0.5221928848337551
         ]
        },
        {
         "hoverinfo": "skip",
         "line": {
          "color": "black",
          "showscale": false,
          "width": 1
         },
         "mode": "lines",
         "showlegend": false,
         "type": "scatter3d",
         "x": [
          -0.5,
          -1.2128737402108527
         ],
         "y": [
          4,
          2.8439085614220687
         ],
         "z": [
          -1,
          -2.0575069783140725
         ]
        },
        {
         "hoverinfo": "skip",
         "line": {
          "color": "black",
          "showscale": false,
          "width": 1
         },
         "mode": "lines",
         "showlegend": false,
         "type": "scatter3d",
         "x": [
          -0.5,
          -1.5
         ],
         "y": [
          4,
          5
         ],
         "z": [
          -1,
          0
         ]
        },
        {
         "hoverinfo": "skip",
         "line": {
          "color": "black",
          "showscale": false,
          "width": 1
         },
         "mode": "lines",
         "showlegend": false,
         "type": "scatter3d",
         "x": [
          1.150856749427546,
          0.4642837494275458
         ],
         "y": [
          5.039972193544501,
          5.920034193544501
         ],
         "z": [
          -2.924418884833756,
          -1.698743884833755
         ]
        },
        {
         "hoverinfo": "skip",
         "line": {
          "color": "black",
          "showscale": false,
          "width": 1
         },
         "mode": "lines",
         "showlegend": false,
         "type": "scatter3d",
         "x": [
          1.150856749427546,
          1.0246427494275459
         ],
         "y": [
          5.039972193544501,
          5.708970193544501
         ],
         "z": [
          -2.924418884833756,
          -4.408548884833755
         ]
        }
       ],
       "layout": {
        "legend": {
         "title": {
          "text": "Species"
         },
         "tracegroupgap": 0
        },
        "margin": {
         "b": 10,
         "l": 10,
         "r": 20,
         "t": 10
        },
        "scene": {
         "aspectmode": "data",
         "domain": {
          "x": [
           0,
           1
          ],
          "y": [
           0,
           1
          ]
         },
         "xaxis": {
          "title": {
           "text": "X"
          }
         },
         "yaxis": {
          "title": {
           "text": "Y"
          }
         },
         "zaxis": {
          "title": {
           "text": "Z"
          }
         }
        },
        "template": {
         "data": {
          "bar": [
           {
            "error_x": {
             "color": "#2a3f5f"
            },
            "error_y": {
             "color": "#2a3f5f"
            },
            "marker": {
             "line": {
              "color": "#E5ECF6",
              "width": 0.5
             },
             "pattern": {
              "fillmode": "overlay",
              "size": 10,
              "solidity": 0.2
             }
            },
            "type": "bar"
           }
          ],
          "barpolar": [
           {
            "marker": {
             "line": {
              "color": "#E5ECF6",
              "width": 0.5
             },
             "pattern": {
              "fillmode": "overlay",
              "size": 10,
              "solidity": 0.2
             }
            },
            "type": "barpolar"
           }
          ],
          "carpet": [
           {
            "aaxis": {
             "endlinecolor": "#2a3f5f",
             "gridcolor": "white",
             "linecolor": "white",
             "minorgridcolor": "white",
             "startlinecolor": "#2a3f5f"
            },
            "baxis": {
             "endlinecolor": "#2a3f5f",
             "gridcolor": "white",
             "linecolor": "white",
             "minorgridcolor": "white",
             "startlinecolor": "#2a3f5f"
            },
            "type": "carpet"
           }
          ],
          "choropleth": [
           {
            "colorbar": {
             "outlinewidth": 0,
             "ticks": ""
            },
            "type": "choropleth"
           }
          ],
          "contour": [
           {
            "colorbar": {
             "outlinewidth": 0,
             "ticks": ""
            },
            "colorscale": [
             [
              0,
              "#0d0887"
             ],
             [
              0.1111111111111111,
              "#46039f"
             ],
             [
              0.2222222222222222,
              "#7201a8"
             ],
             [
              0.3333333333333333,
              "#9c179e"
             ],
             [
              0.4444444444444444,
              "#bd3786"
             ],
             [
              0.5555555555555556,
              "#d8576b"
             ],
             [
              0.6666666666666666,
              "#ed7953"
             ],
             [
              0.7777777777777778,
              "#fb9f3a"
             ],
             [
              0.8888888888888888,
              "#fdca26"
             ],
             [
              1,
              "#f0f921"
             ]
            ],
            "type": "contour"
           }
          ],
          "contourcarpet": [
           {
            "colorbar": {
             "outlinewidth": 0,
             "ticks": ""
            },
            "type": "contourcarpet"
           }
          ],
          "heatmap": [
           {
            "colorbar": {
             "outlinewidth": 0,
             "ticks": ""
            },
            "colorscale": [
             [
              0,
              "#0d0887"
             ],
             [
              0.1111111111111111,
              "#46039f"
             ],
             [
              0.2222222222222222,
              "#7201a8"
             ],
             [
              0.3333333333333333,
              "#9c179e"
             ],
             [
              0.4444444444444444,
              "#bd3786"
             ],
             [
              0.5555555555555556,
              "#d8576b"
             ],
             [
              0.6666666666666666,
              "#ed7953"
             ],
             [
              0.7777777777777778,
              "#fb9f3a"
             ],
             [
              0.8888888888888888,
              "#fdca26"
             ],
             [
              1,
              "#f0f921"
             ]
            ],
            "type": "heatmap"
           }
          ],
          "heatmapgl": [
           {
            "colorbar": {
             "outlinewidth": 0,
             "ticks": ""
            },
            "colorscale": [
             [
              0,
              "#0d0887"
             ],
             [
              0.1111111111111111,
              "#46039f"
             ],
             [
              0.2222222222222222,
              "#7201a8"
             ],
             [
              0.3333333333333333,
              "#9c179e"
             ],
             [
              0.4444444444444444,
              "#bd3786"
             ],
             [
              0.5555555555555556,
              "#d8576b"
             ],
             [
              0.6666666666666666,
              "#ed7953"
             ],
             [
              0.7777777777777778,
              "#fb9f3a"
             ],
             [
              0.8888888888888888,
              "#fdca26"
             ],
             [
              1,
              "#f0f921"
             ]
            ],
            "type": "heatmapgl"
           }
          ],
          "histogram": [
           {
            "marker": {
             "pattern": {
              "fillmode": "overlay",
              "size": 10,
              "solidity": 0.2
             }
            },
            "type": "histogram"
           }
          ],
          "histogram2d": [
           {
            "colorbar": {
             "outlinewidth": 0,
             "ticks": ""
            },
            "colorscale": [
             [
              0,
              "#0d0887"
             ],
             [
              0.1111111111111111,
              "#46039f"
             ],
             [
              0.2222222222222222,
              "#7201a8"
             ],
             [
              0.3333333333333333,
              "#9c179e"
             ],
             [
              0.4444444444444444,
              "#bd3786"
             ],
             [
              0.5555555555555556,
              "#d8576b"
             ],
             [
              0.6666666666666666,
              "#ed7953"
             ],
             [
              0.7777777777777778,
              "#fb9f3a"
             ],
             [
              0.8888888888888888,
              "#fdca26"
             ],
             [
              1,
              "#f0f921"
             ]
            ],
            "type": "histogram2d"
           }
          ],
          "histogram2dcontour": [
           {
            "colorbar": {
             "outlinewidth": 0,
             "ticks": ""
            },
            "colorscale": [
             [
              0,
              "#0d0887"
             ],
             [
              0.1111111111111111,
              "#46039f"
             ],
             [
              0.2222222222222222,
              "#7201a8"
             ],
             [
              0.3333333333333333,
              "#9c179e"
             ],
             [
              0.4444444444444444,
              "#bd3786"
             ],
             [
              0.5555555555555556,
              "#d8576b"
             ],
             [
              0.6666666666666666,
              "#ed7953"
             ],
             [
              0.7777777777777778,
              "#fb9f3a"
             ],
             [
              0.8888888888888888,
              "#fdca26"
             ],
             [
              1,
              "#f0f921"
             ]
            ],
            "type": "histogram2dcontour"
           }
          ],
          "mesh3d": [
           {
            "colorbar": {
             "outlinewidth": 0,
             "ticks": ""
            },
            "type": "mesh3d"
           }
          ],
          "parcoords": [
           {
            "line": {
             "colorbar": {
              "outlinewidth": 0,
              "ticks": ""
             }
            },
            "type": "parcoords"
           }
          ],
          "pie": [
           {
            "automargin": true,
            "type": "pie"
           }
          ],
          "scatter": [
           {
            "fillpattern": {
             "fillmode": "overlay",
             "size": 10,
             "solidity": 0.2
            },
            "type": "scatter"
           }
          ],
          "scatter3d": [
           {
            "line": {
             "colorbar": {
              "outlinewidth": 0,
              "ticks": ""
             }
            },
            "marker": {
             "colorbar": {
              "outlinewidth": 0,
              "ticks": ""
             }
            },
            "type": "scatter3d"
           }
          ],
          "scattercarpet": [
           {
            "marker": {
             "colorbar": {
              "outlinewidth": 0,
              "ticks": ""
             }
            },
            "type": "scattercarpet"
           }
          ],
          "scattergeo": [
           {
            "marker": {
             "colorbar": {
              "outlinewidth": 0,
              "ticks": ""
             }
            },
            "type": "scattergeo"
           }
          ],
          "scattergl": [
           {
            "marker": {
             "colorbar": {
              "outlinewidth": 0,
              "ticks": ""
             }
            },
            "type": "scattergl"
           }
          ],
          "scattermapbox": [
           {
            "marker": {
             "colorbar": {
              "outlinewidth": 0,
              "ticks": ""
             }
            },
            "type": "scattermapbox"
           }
          ],
          "scatterpolar": [
           {
            "marker": {
             "colorbar": {
              "outlinewidth": 0,
              "ticks": ""
             }
            },
            "type": "scatterpolar"
           }
          ],
          "scatterpolargl": [
           {
            "marker": {
             "colorbar": {
              "outlinewidth": 0,
              "ticks": ""
             }
            },
            "type": "scatterpolargl"
           }
          ],
          "scatterternary": [
           {
            "marker": {
             "colorbar": {
              "outlinewidth": 0,
              "ticks": ""
             }
            },
            "type": "scatterternary"
           }
          ],
          "surface": [
           {
            "colorbar": {
             "outlinewidth": 0,
             "ticks": ""
            },
            "colorscale": [
             [
              0,
              "#0d0887"
             ],
             [
              0.1111111111111111,
              "#46039f"
             ],
             [
              0.2222222222222222,
              "#7201a8"
             ],
             [
              0.3333333333333333,
              "#9c179e"
             ],
             [
              0.4444444444444444,
              "#bd3786"
             ],
             [
              0.5555555555555556,
              "#d8576b"
             ],
             [
              0.6666666666666666,
              "#ed7953"
             ],
             [
              0.7777777777777778,
              "#fb9f3a"
             ],
             [
              0.8888888888888888,
              "#fdca26"
             ],
             [
              1,
              "#f0f921"
             ]
            ],
            "type": "surface"
           }
          ],
          "table": [
           {
            "cells": {
             "fill": {
              "color": "#EBF0F8"
             },
             "line": {
              "color": "white"
             }
            },
            "header": {
             "fill": {
              "color": "#C8D4E3"
             },
             "line": {
              "color": "white"
             }
            },
            "type": "table"
           }
          ]
         },
         "layout": {
          "annotationdefaults": {
           "arrowcolor": "#2a3f5f",
           "arrowhead": 0,
           "arrowwidth": 1
          },
          "autotypenumbers": "strict",
          "coloraxis": {
           "colorbar": {
            "outlinewidth": 0,
            "ticks": ""
           }
          },
          "colorscale": {
           "diverging": [
            [
             0,
             "#8e0152"
            ],
            [
             0.1,
             "#c51b7d"
            ],
            [
             0.2,
             "#de77ae"
            ],
            [
             0.3,
             "#f1b6da"
            ],
            [
             0.4,
             "#fde0ef"
            ],
            [
             0.5,
             "#f7f7f7"
            ],
            [
             0.6,
             "#e6f5d0"
            ],
            [
             0.7,
             "#b8e186"
            ],
            [
             0.8,
             "#7fbc41"
            ],
            [
             0.9,
             "#4d9221"
            ],
            [
             1,
             "#276419"
            ]
           ],
           "sequential": [
            [
             0,
             "#0d0887"
            ],
            [
             0.1111111111111111,
             "#46039f"
            ],
            [
             0.2222222222222222,
             "#7201a8"
            ],
            [
             0.3333333333333333,
             "#9c179e"
            ],
            [
             0.4444444444444444,
             "#bd3786"
            ],
            [
             0.5555555555555556,
             "#d8576b"
            ],
            [
             0.6666666666666666,
             "#ed7953"
            ],
            [
             0.7777777777777778,
             "#fb9f3a"
            ],
            [
             0.8888888888888888,
             "#fdca26"
            ],
            [
             1,
             "#f0f921"
            ]
           ],
           "sequentialminus": [
            [
             0,
             "#0d0887"
            ],
            [
             0.1111111111111111,
             "#46039f"
            ],
            [
             0.2222222222222222,
             "#7201a8"
            ],
            [
             0.3333333333333333,
             "#9c179e"
            ],
            [
             0.4444444444444444,
             "#bd3786"
            ],
            [
             0.5555555555555556,
             "#d8576b"
            ],
            [
             0.6666666666666666,
             "#ed7953"
            ],
            [
             0.7777777777777778,
             "#fb9f3a"
            ],
            [
             0.8888888888888888,
             "#fdca26"
            ],
            [
             1,
             "#f0f921"
            ]
           ]
          },
          "colorway": [
           "#636efa",
           "#EF553B",
           "#00cc96",
           "#ab63fa",
           "#FFA15A",
           "#19d3f3",
           "#FF6692",
           "#B6E880",
           "#FF97FF",
           "#FECB52"
          ],
          "font": {
           "color": "#2a3f5f"
          },
          "geo": {
           "bgcolor": "white",
           "lakecolor": "white",
           "landcolor": "#E5ECF6",
           "showlakes": true,
           "showland": true,
           "subunitcolor": "white"
          },
          "hoverlabel": {
           "align": "left"
          },
          "hovermode": "closest",
          "mapbox": {
           "style": "light"
          },
          "paper_bgcolor": "white",
          "plot_bgcolor": "#E5ECF6",
          "polar": {
           "angularaxis": {
            "gridcolor": "white",
            "linecolor": "white",
            "ticks": ""
           },
           "bgcolor": "#E5ECF6",
           "radialaxis": {
            "gridcolor": "white",
            "linecolor": "white",
            "ticks": ""
           }
          },
          "scene": {
           "xaxis": {
            "backgroundcolor": "#E5ECF6",
            "gridcolor": "white",
            "gridwidth": 2,
            "linecolor": "white",
            "showbackground": true,
            "ticks": "",
            "zerolinecolor": "white"
           },
           "yaxis": {
            "backgroundcolor": "#E5ECF6",
            "gridcolor": "white",
            "gridwidth": 2,
            "linecolor": "white",
            "showbackground": true,
            "ticks": "",
            "zerolinecolor": "white"
           },
           "zaxis": {
            "backgroundcolor": "#E5ECF6",
            "gridcolor": "white",
            "gridwidth": 2,
            "linecolor": "white",
            "showbackground": true,
            "ticks": "",
            "zerolinecolor": "white"
           }
          },
          "shapedefaults": {
           "line": {
            "color": "#2a3f5f"
           }
          },
          "ternary": {
           "aaxis": {
            "gridcolor": "white",
            "linecolor": "white",
            "ticks": ""
           },
           "baxis": {
            "gridcolor": "white",
            "linecolor": "white",
            "ticks": ""
           },
           "bgcolor": "#E5ECF6",
           "caxis": {
            "gridcolor": "white",
            "linecolor": "white",
            "ticks": ""
           }
          },
          "title": {
           "x": 0.05
          },
          "xaxis": {
           "automargin": true,
           "gridcolor": "white",
           "linecolor": "white",
           "ticks": "",
           "title": {
            "standoff": 15
           },
           "zerolinecolor": "white",
           "zerolinewidth": 2
          },
          "yaxis": {
           "automargin": true,
           "gridcolor": "white",
           "linecolor": "white",
           "ticks": "",
           "title": {
            "standoff": 15
           },
           "zerolinecolor": "white",
           "zerolinewidth": 2
          }
         }
        },
        "title": {
         "automargin": true,
         "x": 0.5,
         "xanchor": "center",
         "y": 0.95,
         "yanchor": "top"
        },
        "width": 700
       }
      }
     },
     "metadata": {},
     "output_type": "display_data"
    },
    {
     "data": {
      "application/vnd.plotly.v1+json": {
       "config": {
        "plotlyServerURL": "https://plot.ly"
       },
       "data": [
        {
         "customdata": [
          [
           "O"
          ],
          [
           "O"
          ],
          [
           "O"
          ],
          [
           "O"
          ],
          [
           "O"
          ],
          [
           "O"
          ],
          [
           "O"
          ],
          [
           "O"
          ],
          [
           "O"
          ],
          [
           "O"
          ],
          [
           "O"
          ],
          [
           "O"
          ],
          [
           "O"
          ],
          [
           "O"
          ],
          [
           "O"
          ],
          [
           "O"
          ],
          [
           "O"
          ],
          [
           "O"
          ],
          [
           "O"
          ],
          [
           "O"
          ],
          [
           "O"
          ],
          [
           "O"
          ],
          [
           "O"
          ],
          [
           "O"
          ],
          [
           "O"
          ],
          [
           "O"
          ],
          [
           "O"
          ],
          [
           "O"
          ],
          [
           "O"
          ],
          [
           "O"
          ],
          [
           "O"
          ],
          [
           "O"
          ],
          [
           "O"
          ],
          [
           "O"
          ],
          [
           "O"
          ]
         ],
         "hovertemplate": "%{customdata[0]}",
         "legendgroup": "O",
         "marker": {
          "color": "#636efa",
          "opacity": 0.8,
          "size": 5,
          "symbol": [
           "circle",
           "circle",
           "circle",
           "circle",
           "circle",
           "circle",
           "circle",
           "circle",
           "circle",
           "circle",
           "circle",
           "circle",
           "circle",
           "circle",
           "circle",
           "circle",
           "circle",
           "circle",
           "circle",
           "circle",
           "diamond",
           "diamond",
           "diamond",
           "diamond",
           "diamond",
           "diamond",
           "diamond",
           "diamond",
           "diamond",
           "diamond",
           "diamond",
           "diamond",
           "diamond",
           "diamond",
           "diamond",
           "diamond",
           "diamond",
           "diamond",
           "diamond",
           "diamond",
           "diamond",
           "diamond",
           "diamond",
           "diamond",
           "diamond",
           "diamond",
           "diamond",
           "diamond",
           "diamond",
           "diamond",
           "diamond",
           "diamond",
           "diamond",
           "diamond",
           "diamond"
          ]
         },
         "mode": "markers",
         "name": "O",
         "scene": "scene",
         "showlegend": true,
         "text": [
          "O",
          "O",
          "O",
          "Si",
          "O",
          "Si",
          "O",
          "O",
          "O",
          "O",
          "O",
          "Si",
          "O",
          "Si",
          "Si",
          "O",
          "O",
          "O",
          "O",
          "Si",
          "Si",
          "Si",
          "O",
          "O",
          "O",
          "Si",
          "Si",
          "Si",
          "O",
          "O",
          "O",
          "Si",
          "Si",
          "Si",
          "Si",
          "O",
          "O",
          "O",
          "O",
          "O",
          "O",
          "Si",
          "O",
          "O",
          "O",
          "Si",
          "Si",
          "Si",
          "O",
          "O",
          "O",
          "O",
          "O",
          "Si",
          "O"
         ],
         "type": "scatter3d",
         "x": [
          -1.5,
          -0.8256637402108513,
          -0.6775187402108518,
          -1.5,
          -1.5,
          -1.2128737402108527,
          -1.5,
          -1.5,
          0.12099025978914746,
          0.16978574942754587,
          0.4642837494275458,
          0.6815067494275464,
          1.2335337494275462,
          1.0246427494275459,
          4.198772999999999,
          4.112224999999999,
          4.46865,
          4.025485,
          3.9726670000000013,
          3.679558,
          -3.1948380000000007,
          -3.1256400000000006,
          -2.258349000000001,
          -2.7628140000000005,
          -4.108806999999999,
          -2.3234209999999997,
          -3.0988109999999995,
          -2.066502,
          -3.2260089999999995,
          -3.7055670000000003,
          -1.8499400000000001,
          -3.5322949999999995,
          -2.0446790000000004,
          -2.365627,
          -3.84666
         ],
         "y": [
          -5,
          -4.042589438577931,
          -2.4993154385779306,
          -2,
          2,
          2.8439085614220687,
          4,
          5,
          -5.0293394385779315,
          0.9497191935445004,
          5.920034193544501,
          0.8464761935445013,
          3.253994193544501,
          5.708970193544501,
          0.11856900000000081,
          -0.22287000000000035,
          -3.174268999999999,
          3.4501470000000007,
          4.633879,
          2.060506000000001,
          -2.527085999999999,
          -5.290586999999999,
          -4.765920999999999,
          -0.8007080000000002,
          -1.4535209999999985,
          -3.369076999999999,
          1.1894430000000007,
          -0.45721400000000045,
          -5.765405999999999,
          2.030163000000001,
          3.940156000000001,
          3.8789640000000007,
          4.855818000000001,
          1.768718000000001,
          3.421695000000001
         ],
         "z": [
          -5,
          1.5140890216859288,
          3.6800030216859296,
          1,
          -5,
          -2.0575069783140725,
          -5,
          0,
          3.6639910216859297,
          -1.861423884833755,
          -1.698743884833755,
          0.7575751151662438,
          -0.5221928848337551,
          -4.408548884833755,
          -2.9687300000000008,
          3.3099690000000006,
          0.8509709999999995,
          3.8831879999999988,
          -3.611614000000001,
          -1.050217,
          -4.913344,
          2.0674100000000006,
          -3.592866000000001,
          -1.4281260000000007,
          2.4953160000000008,
          3.8384349999999987,
          5.7820089999999995,
          4.155599,
          4.712675,
          -0.95214,
          2.6708279999999984,
          -3.662769000000001,
          -0.10802600000000062,
          -5.370734000000001,
          4.655602
         ]
        },
        {
         "customdata": [
          [
           "Si"
          ],
          [
           "Si"
          ],
          [
           "Si"
          ],
          [
           "Si"
          ],
          [
           "Si"
          ],
          [
           "Si"
          ],
          [
           "Si"
          ],
          [
           "Si"
          ],
          [
           "Si"
          ],
          [
           "Si"
          ],
          [
           "Si"
          ],
          [
           "Si"
          ],
          [
           "Si"
          ],
          [
           "Si"
          ],
          [
           "Si"
          ],
          [
           "Si"
          ],
          [
           "Si"
          ],
          [
           "Si"
          ],
          [
           "Si"
          ],
          [
           "Si"
          ]
         ],
         "hovertemplate": "%{customdata[0]}",
         "legendgroup": "Si",
         "marker": {
          "color": "#EF553B",
          "opacity": 0.8,
          "size": 5,
          "symbol": [
           "circle",
           "circle",
           "circle",
           "circle",
           "circle",
           "circle",
           "circle",
           "circle",
           "circle",
           "circle",
           "circle",
           "circle",
           "circle",
           "circle",
           "circle",
           "circle",
           "circle",
           "circle",
           "circle",
           "circle",
           "diamond",
           "diamond",
           "diamond",
           "diamond",
           "diamond",
           "diamond",
           "diamond",
           "diamond",
           "diamond",
           "diamond",
           "diamond",
           "diamond",
           "diamond",
           "diamond",
           "diamond",
           "diamond",
           "diamond",
           "diamond",
           "diamond",
           "diamond",
           "diamond",
           "diamond",
           "diamond",
           "diamond",
           "diamond",
           "diamond",
           "diamond",
           "diamond",
           "diamond",
           "diamond",
           "diamond",
           "diamond",
           "diamond",
           "diamond",
           "diamond"
          ]
         },
         "mode": "markers",
         "name": "Si",
         "scene": "scene",
         "showlegend": true,
         "text": [
          "O",
          "O",
          "O",
          "Si",
          "O",
          "Si",
          "O",
          "O",
          "O",
          "O",
          "O",
          "Si",
          "O",
          "Si",
          "Si",
          "O",
          "O",
          "O",
          "O",
          "Si",
          "Si",
          "Si",
          "O",
          "O",
          "O",
          "Si",
          "Si",
          "Si",
          "O",
          "O",
          "O",
          "Si",
          "Si",
          "Si",
          "Si",
          "O",
          "O",
          "O",
          "O",
          "O",
          "O",
          "Si",
          "O",
          "O",
          "O",
          "Si",
          "Si",
          "Si",
          "O",
          "O",
          "O",
          "O",
          "O",
          "Si",
          "O"
         ],
         "type": "scatter3d",
         "x": [
          -1.406068602935271,
          -0.630047740210852,
          0.022226259789148273,
          0.28563274942754635,
          -0.5,
          1.150856749427546,
          3.505683000000001,
          4.337536,
          3.400791999999999,
          3.2963629999999995,
          4.288603999999999,
          -3.395403999999999,
          -3.9045710000000007,
          -2.1031150000000007,
          -3.3346160000000005,
          -1.677486,
          -2.2986380000000004,
          -2.8018959999999993,
          -3.542605,
          -4.376805000000001
         ],
         "y": [
          -5.49320811138614,
          1.0489625614220692,
          -3.6081874385779322,
          1.8713621935445,
          4,
          5.039972193544501,
          -1.677274999999998,
          -1.9924879999999998,
          -4.923577,
          4.620056000000001,
          1.4117780000000009,
          -4.470077999999999,
          0.17148200000000102,
          -1.5952190000000002,
          -4.618774999999999,
          0.6030180000000023,
          2.3820580000000007,
          5.288629,
          4.373694,
          1.9777850000000008
         ],
         "z": [
          -5.135852667551358,
          -5.826727978314072,
          2.7494130216859274,
          -0.422862884833755,
          -1,
          -2.924418884833756,
          -5.43286,
          2.272283,
          4.106719999999999,
          1.5188079999999982,
          -5.295141000000001,
          -5.2492920000000005,
          -0.075094,
          2.627377000000001,
          3.535831,
          5.314871,
          -3.4082419999999995,
          -4.8826529999999995,
          3.179373,
          5.124404999999999
         ]
        },
        {
         "hoverinfo": "skip",
         "line": {
          "color": "black",
          "showscale": false,
          "width": 1
         },
         "mode": "lines",
         "showlegend": false,
         "type": "scatter3d",
         "x": [
          -1.5,
          -2.258349000000001
         ],
         "y": [
          -5,
          -4.765920999999999
         ],
         "z": [
          -5,
          -3.592866000000001
         ]
        },
        {
         "hoverinfo": "skip",
         "line": {
          "color": "black",
          "showscale": false,
          "width": 1
         },
         "mode": "lines",
         "showlegend": false,
         "type": "scatter3d",
         "x": [
          -0.8256637402108513,
          -1.5
         ],
         "y": [
          -4.042589438577931,
          -2
         ],
         "z": [
          1.5140890216859288,
          1
         ]
        },
        {
         "hoverinfo": "skip",
         "line": {
          "color": "black",
          "showscale": false,
          "width": 1
         },
         "mode": "lines",
         "showlegend": false,
         "type": "scatter3d",
         "x": [
          -0.6775187402108518,
          -2.3234209999999997
         ],
         "y": [
          -2.4993154385779306,
          -3.369076999999999
         ],
         "z": [
          3.6800030216859296,
          3.8384349999999987
         ]
        },
        {
         "hoverinfo": "skip",
         "line": {
          "color": "black",
          "showscale": false,
          "width": 1
         },
         "mode": "lines",
         "showlegend": false,
         "type": "scatter3d",
         "x": [
          -1.5,
          -0.8256637402108513
         ],
         "y": [
          -2,
          -4.042589438577931
         ],
         "z": [
          1,
          1.5140890216859288
         ]
        },
        {
         "hoverinfo": "skip",
         "line": {
          "color": "black",
          "showscale": false,
          "width": 1
         },
         "mode": "lines",
         "showlegend": false,
         "type": "scatter3d",
         "x": [
          -1.5,
          -1.5
         ],
         "y": [
          2,
          4
         ],
         "z": [
          -5,
          -5
         ]
        },
        {
         "hoverinfo": "skip",
         "line": {
          "color": "black",
          "showscale": false,
          "width": 1
         },
         "mode": "lines",
         "showlegend": false,
         "type": "scatter3d",
         "x": [
          -1.5,
          -2.365627
         ],
         "y": [
          2,
          1.768718000000001
         ],
         "z": [
          -5,
          -5.370734000000001
         ]
        },
        {
         "hoverinfo": "skip",
         "line": {
          "color": "black",
          "showscale": false,
          "width": 1
         },
         "mode": "lines",
         "showlegend": false,
         "type": "scatter3d",
         "x": [
          -1.2128737402108527,
          0.16978574942754587
         ],
         "y": [
          2.8439085614220687,
          0.9497191935445004
         ],
         "z": [
          -2.0575069783140725,
          -1.861423884833755
         ]
        },
        {
         "hoverinfo": "skip",
         "line": {
          "color": "black",
          "showscale": false,
          "width": 1
         },
         "mode": "lines",
         "showlegend": false,
         "type": "scatter3d",
         "x": [
          -1.5,
          -1.5
         ],
         "y": [
          4,
          2
         ],
         "z": [
          -5,
          -5
         ]
        },
        {
         "hoverinfo": "skip",
         "line": {
          "color": "black",
          "showscale": false,
          "width": 1
         },
         "mode": "lines",
         "showlegend": false,
         "type": "scatter3d",
         "x": [
          -1.5,
          -3.5322949999999995
         ],
         "y": [
          4,
          3.8789640000000007
         ],
         "z": [
          -5,
          -3.662769000000001
         ]
        },
        {
         "hoverinfo": "skip",
         "line": {
          "color": "black",
          "showscale": false,
          "width": 1
         },
         "mode": "lines",
         "showlegend": false,
         "type": "scatter3d",
         "x": [
          -1.5,
          -2.365627
         ],
         "y": [
          4,
          1.768718000000001
         ],
         "z": [
          -5,
          -5.370734000000001
         ]
        },
        {
         "hoverinfo": "skip",
         "line": {
          "color": "black",
          "showscale": false,
          "width": 1
         },
         "mode": "lines",
         "showlegend": false,
         "type": "scatter3d",
         "x": [
          -1.5,
          -2.0446790000000004
         ],
         "y": [
          5,
          4.855818000000001
         ],
         "z": [
          0,
          -0.10802600000000062
         ]
        },
        {
         "hoverinfo": "skip",
         "line": {
          "color": "black",
          "showscale": false,
          "width": 1
         },
         "mode": "lines",
         "showlegend": false,
         "type": "scatter3d",
         "x": [
          0.16978574942754587,
          -1.2128737402108527
         ],
         "y": [
          0.9497191935445004,
          2.8439085614220687
         ],
         "z": [
          -1.861423884833755,
          -2.0575069783140725
         ]
        },
        {
         "hoverinfo": "skip",
         "line": {
          "color": "black",
          "showscale": false,
          "width": 1
         },
         "mode": "lines",
         "showlegend": false,
         "type": "scatter3d",
         "x": [
          -2.258349000000001,
          -1.5
         ],
         "y": [
          -4.765920999999999,
          -5
         ],
         "z": [
          -3.592866000000001,
          -5
         ]
        },
        {
         "hoverinfo": "skip",
         "line": {
          "color": "black",
          "showscale": false,
          "width": 1
         },
         "mode": "lines",
         "showlegend": false,
         "type": "scatter3d",
         "x": [
          -2.3234209999999997,
          -0.6775187402108518
         ],
         "y": [
          -3.369076999999999,
          -2.4993154385779306
         ],
         "z": [
          3.8384349999999987,
          3.6800030216859296
         ]
        },
        {
         "hoverinfo": "skip",
         "line": {
          "color": "black",
          "showscale": false,
          "width": 1
         },
         "mode": "lines",
         "showlegend": false,
         "type": "scatter3d",
         "x": [
          -3.5322949999999995,
          -1.5
         ],
         "y": [
          3.8789640000000007,
          4
         ],
         "z": [
          -3.662769000000001,
          -5
         ]
        },
        {
         "hoverinfo": "skip",
         "line": {
          "color": "black",
          "showscale": false,
          "width": 1
         },
         "mode": "lines",
         "showlegend": false,
         "type": "scatter3d",
         "x": [
          -2.0446790000000004,
          -1.5
         ],
         "y": [
          4.855818000000001,
          5
         ],
         "z": [
          -0.10802600000000062,
          0
         ]
        },
        {
         "hoverinfo": "skip",
         "line": {
          "color": "black",
          "showscale": false,
          "width": 1
         },
         "mode": "lines",
         "showlegend": false,
         "type": "scatter3d",
         "x": [
          -2.365627,
          -1.5
         ],
         "y": [
          1.768718000000001,
          2
         ],
         "z": [
          -5.370734000000001,
          -5
         ]
        },
        {
         "hoverinfo": "skip",
         "line": {
          "color": "black",
          "showscale": false,
          "width": 1
         },
         "mode": "lines",
         "showlegend": false,
         "type": "scatter3d",
         "x": [
          -2.365627,
          -1.5
         ],
         "y": [
          1.768718000000001,
          4
         ],
         "z": [
          -5.370734000000001,
          -5
         ]
        },
        {
         "hoverinfo": "skip",
         "line": {
          "color": "black",
          "showscale": false,
          "width": 1
         },
         "mode": "lines",
         "showlegend": false,
         "type": "scatter3d",
         "x": [
          -1.406068602935271,
          -3.395403999999999
         ],
         "y": [
          -5.49320811138614,
          -4.470077999999999
         ],
         "z": [
          -5.135852667551358,
          -5.2492920000000005
         ]
        },
        {
         "hoverinfo": "skip",
         "line": {
          "color": "black",
          "showscale": false,
          "width": 1
         },
         "mode": "lines",
         "showlegend": false,
         "type": "scatter3d",
         "x": [
          0.28563274942754635,
          -0.5
         ],
         "y": [
          1.8713621935445,
          4
         ],
         "z": [
          -0.422862884833755,
          -1
         ]
        },
        {
         "hoverinfo": "skip",
         "line": {
          "color": "black",
          "showscale": false,
          "width": 1
         },
         "mode": "lines",
         "showlegend": false,
         "type": "scatter3d",
         "x": [
          -0.5,
          0.28563274942754635
         ],
         "y": [
          4,
          1.8713621935445
         ],
         "z": [
          -1,
          -0.422862884833755
         ]
        },
        {
         "hoverinfo": "skip",
         "line": {
          "color": "black",
          "showscale": false,
          "width": 1
         },
         "mode": "lines",
         "showlegend": false,
         "type": "scatter3d",
         "x": [
          -0.5,
          1.150856749427546
         ],
         "y": [
          4,
          5.039972193544501
         ],
         "z": [
          -1,
          -2.924418884833756
         ]
        },
        {
         "hoverinfo": "skip",
         "line": {
          "color": "black",
          "showscale": false,
          "width": 1
         },
         "mode": "lines",
         "showlegend": false,
         "type": "scatter3d",
         "x": [
          1.150856749427546,
          -0.5
         ],
         "y": [
          5.039972193544501,
          4
         ],
         "z": [
          -2.924418884833756,
          -1
         ]
        },
        {
         "hoverinfo": "skip",
         "line": {
          "color": "black",
          "showscale": false,
          "width": 1
         },
         "mode": "lines",
         "showlegend": false,
         "type": "scatter3d",
         "x": [
          -3.395403999999999,
          -1.406068602935271
         ],
         "y": [
          -4.470077999999999,
          -5.49320811138614
         ],
         "z": [
          -5.2492920000000005,
          -5.135852667551358
         ]
        },
        {
         "hoverinfo": "skip",
         "line": {
          "color": "black",
          "showscale": false,
          "width": 1
         },
         "mode": "lines",
         "showlegend": false,
         "type": "scatter3d",
         "x": [
          -1.406068602935271,
          -1.5
         ],
         "y": [
          -5.49320811138614,
          -5
         ],
         "z": [
          -5.135852667551358,
          -5
         ]
        },
        {
         "hoverinfo": "skip",
         "line": {
          "color": "black",
          "showscale": false,
          "width": 1
         },
         "mode": "lines",
         "showlegend": false,
         "type": "scatter3d",
         "x": [
          -0.630047740210852,
          -1.5
         ],
         "y": [
          1.0489625614220692,
          2
         ],
         "z": [
          -5.826727978314072,
          -5
         ]
        },
        {
         "hoverinfo": "skip",
         "line": {
          "color": "black",
          "showscale": false,
          "width": 1
         },
         "mode": "lines",
         "showlegend": false,
         "type": "scatter3d",
         "x": [
          0.022226259789148273,
          -0.8256637402108513
         ],
         "y": [
          -3.6081874385779322,
          -4.042589438577931
         ],
         "z": [
          2.7494130216859274,
          1.5140890216859288
         ]
        },
        {
         "hoverinfo": "skip",
         "line": {
          "color": "black",
          "showscale": false,
          "width": 1
         },
         "mode": "lines",
         "showlegend": false,
         "type": "scatter3d",
         "x": [
          0.022226259789148273,
          -0.6775187402108518
         ],
         "y": [
          -3.6081874385779322,
          -2.4993154385779306
         ],
         "z": [
          2.7494130216859274,
          3.6800030216859296
         ]
        },
        {
         "hoverinfo": "skip",
         "line": {
          "color": "black",
          "showscale": false,
          "width": 1
         },
         "mode": "lines",
         "showlegend": false,
         "type": "scatter3d",
         "x": [
          0.022226259789148273,
          0.12099025978914746
         ],
         "y": [
          -3.6081874385779322,
          -5.0293394385779315
         ],
         "z": [
          2.7494130216859274,
          3.6639910216859297
         ]
        },
        {
         "hoverinfo": "skip",
         "line": {
          "color": "black",
          "showscale": false,
          "width": 1
         },
         "mode": "lines",
         "showlegend": false,
         "type": "scatter3d",
         "x": [
          0.28563274942754635,
          0.16978574942754587
         ],
         "y": [
          1.8713621935445,
          0.9497191935445004
         ],
         "z": [
          -0.422862884833755,
          -1.861423884833755
         ]
        },
        {
         "hoverinfo": "skip",
         "line": {
          "color": "black",
          "showscale": false,
          "width": 1
         },
         "mode": "lines",
         "showlegend": false,
         "type": "scatter3d",
         "x": [
          0.28563274942754635,
          0.6815067494275464
         ],
         "y": [
          1.8713621935445,
          0.8464761935445013
         ],
         "z": [
          -0.422862884833755,
          0.7575751151662438
         ]
        },
        {
         "hoverinfo": "skip",
         "line": {
          "color": "black",
          "showscale": false,
          "width": 1
         },
         "mode": "lines",
         "showlegend": false,
         "type": "scatter3d",
         "x": [
          0.28563274942754635,
          1.2335337494275462
         ],
         "y": [
          1.8713621935445,
          3.253994193544501
         ],
         "z": [
          -0.422862884833755,
          -0.5221928848337551
         ]
        },
        {
         "hoverinfo": "skip",
         "line": {
          "color": "black",
          "showscale": false,
          "width": 1
         },
         "mode": "lines",
         "showlegend": false,
         "type": "scatter3d",
         "x": [
          -0.5,
          -1.2128737402108527
         ],
         "y": [
          4,
          2.8439085614220687
         ],
         "z": [
          -1,
          -2.0575069783140725
         ]
        },
        {
         "hoverinfo": "skip",
         "line": {
          "color": "black",
          "showscale": false,
          "width": 1
         },
         "mode": "lines",
         "showlegend": false,
         "type": "scatter3d",
         "x": [
          -0.5,
          -1.5
         ],
         "y": [
          4,
          5
         ],
         "z": [
          -1,
          0
         ]
        },
        {
         "hoverinfo": "skip",
         "line": {
          "color": "black",
          "showscale": false,
          "width": 1
         },
         "mode": "lines",
         "showlegend": false,
         "type": "scatter3d",
         "x": [
          1.150856749427546,
          0.4642837494275458
         ],
         "y": [
          5.039972193544501,
          5.920034193544501
         ],
         "z": [
          -2.924418884833756,
          -1.698743884833755
         ]
        },
        {
         "hoverinfo": "skip",
         "line": {
          "color": "black",
          "showscale": false,
          "width": 1
         },
         "mode": "lines",
         "showlegend": false,
         "type": "scatter3d",
         "x": [
          1.150856749427546,
          1.0246427494275459
         ],
         "y": [
          5.039972193544501,
          5.708970193544501
         ],
         "z": [
          -2.924418884833756,
          -4.408548884833755
         ]
        },
        {
         "hoverinfo": "skip",
         "line": {
          "color": "black",
          "showscale": false,
          "width": 1
         },
         "mode": "lines",
         "showlegend": false,
         "type": "scatter3d",
         "x": [
          4.337536,
          4.46865
         ],
         "y": [
          -1.9924879999999998,
          -3.174268999999999
         ],
         "z": [
          2.272283,
          0.8509709999999995
         ]
        },
        {
         "hoverinfo": "skip",
         "line": {
          "color": "black",
          "showscale": false,
          "width": 1
         },
         "mode": "lines",
         "showlegend": false,
         "type": "scatter3d",
         "x": [
          -2.1031150000000007,
          -1.5
         ],
         "y": [
          -1.5952190000000002,
          -2
         ],
         "z": [
          2.627377000000001,
          1
         ]
        },
        {
         "hoverinfo": "skip",
         "line": {
          "color": "black",
          "showscale": false,
          "width": 1
         },
         "mode": "lines",
         "showlegend": false,
         "type": "scatter3d",
         "x": [
          -3.3346160000000005,
          -3.1256400000000006
         ],
         "y": [
          -4.618774999999999,
          -5.290586999999999
         ],
         "z": [
          3.535831,
          2.0674100000000006
         ]
        },
        {
         "hoverinfo": "skip",
         "line": {
          "color": "black",
          "showscale": false,
          "width": 1
         },
         "mode": "lines",
         "showlegend": false,
         "type": "scatter3d",
         "x": [
          -3.3346160000000005,
          -2.3234209999999997
         ],
         "y": [
          -4.618774999999999,
          -3.369076999999999
         ],
         "z": [
          3.535831,
          3.8384349999999987
         ]
        },
        {
         "hoverinfo": "skip",
         "line": {
          "color": "black",
          "showscale": false,
          "width": 1
         },
         "mode": "lines",
         "showlegend": false,
         "type": "scatter3d",
         "x": [
          -3.3346160000000005,
          -3.2260089999999995
         ],
         "y": [
          -4.618774999999999,
          -5.765405999999999
         ],
         "z": [
          3.535831,
          4.712675
         ]
        },
        {
         "hoverinfo": "skip",
         "line": {
          "color": "black",
          "showscale": false,
          "width": 1
         },
         "mode": "lines",
         "showlegend": false,
         "type": "scatter3d",
         "x": [
          -1.677486,
          -3.0988109999999995
         ],
         "y": [
          0.6030180000000023,
          1.1894430000000007
         ],
         "z": [
          5.314871,
          5.7820089999999995
         ]
        },
        {
         "hoverinfo": "skip",
         "line": {
          "color": "black",
          "showscale": false,
          "width": 1
         },
         "mode": "lines",
         "showlegend": false,
         "type": "scatter3d",
         "x": [
          -1.677486,
          -2.066502
         ],
         "y": [
          0.6030180000000023,
          -0.45721400000000045
         ],
         "z": [
          5.314871,
          4.155599
         ]
        },
        {
         "hoverinfo": "skip",
         "line": {
          "color": "black",
          "showscale": false,
          "width": 1
         },
         "mode": "lines",
         "showlegend": false,
         "type": "scatter3d",
         "x": [
          -2.2986380000000004,
          -1.5
         ],
         "y": [
          2.3820580000000007,
          2
         ],
         "z": [
          -3.4082419999999995,
          -5
         ]
        },
        {
         "hoverinfo": "skip",
         "line": {
          "color": "black",
          "showscale": false,
          "width": 1
         },
         "mode": "lines",
         "showlegend": false,
         "type": "scatter3d",
         "x": [
          -2.2986380000000004,
          -1.2128737402108527
         ],
         "y": [
          2.3820580000000007,
          2.8439085614220687
         ],
         "z": [
          -3.4082419999999995,
          -2.0575069783140725
         ]
        },
        {
         "hoverinfo": "skip",
         "line": {
          "color": "black",
          "showscale": false,
          "width": 1
         },
         "mode": "lines",
         "showlegend": false,
         "type": "scatter3d",
         "x": [
          -2.8018959999999993,
          -1.5
         ],
         "y": [
          5.288629,
          4
         ],
         "z": [
          -4.8826529999999995,
          -5
         ]
        },
        {
         "hoverinfo": "skip",
         "line": {
          "color": "black",
          "showscale": false,
          "width": 1
         },
         "mode": "lines",
         "showlegend": false,
         "type": "scatter3d",
         "x": [
          -3.542605,
          -1.8499400000000001
         ],
         "y": [
          4.373694,
          3.940156000000001
         ],
         "z": [
          3.179373,
          2.6708279999999984
         ]
        },
        {
         "hoverinfo": "skip",
         "line": {
          "color": "black",
          "showscale": false,
          "width": 1
         },
         "mode": "lines",
         "showlegend": false,
         "type": "scatter3d",
         "x": [
          -3.542605,
          -3.84666
         ],
         "y": [
          4.373694,
          3.421695000000001
         ],
         "z": [
          3.179373,
          4.655602
         ]
        },
        {
         "hoverinfo": "skip",
         "line": {
          "color": "black",
          "showscale": false,
          "width": 1
         },
         "mode": "lines",
         "showlegend": false,
         "type": "scatter3d",
         "x": [
          -4.376805000000001,
          -3.0988109999999995
         ],
         "y": [
          1.9777850000000008,
          1.1894430000000007
         ],
         "z": [
          5.124404999999999,
          5.7820089999999995
         ]
        },
        {
         "hoverinfo": "skip",
         "line": {
          "color": "black",
          "showscale": false,
          "width": 1
         },
         "mode": "lines",
         "showlegend": false,
         "type": "scatter3d",
         "x": [
          -4.376805000000001,
          -3.84666
         ],
         "y": [
          1.9777850000000008,
          3.421695000000001
         ],
         "z": [
          5.124404999999999,
          4.655602
         ]
        }
       ],
       "layout": {
        "legend": {
         "title": {
          "text": "Species"
         },
         "tracegroupgap": 0
        },
        "margin": {
         "b": 10,
         "l": 10,
         "r": 20,
         "t": 10
        },
        "scene": {
         "aspectmode": "data",
         "domain": {
          "x": [
           0,
           1
          ],
          "y": [
           0,
           1
          ]
         },
         "xaxis": {
          "title": {
           "text": "X"
          }
         },
         "yaxis": {
          "title": {
           "text": "Y"
          }
         },
         "zaxis": {
          "title": {
           "text": "Z"
          }
         }
        },
        "template": {
         "data": {
          "bar": [
           {
            "error_x": {
             "color": "#2a3f5f"
            },
            "error_y": {
             "color": "#2a3f5f"
            },
            "marker": {
             "line": {
              "color": "#E5ECF6",
              "width": 0.5
             },
             "pattern": {
              "fillmode": "overlay",
              "size": 10,
              "solidity": 0.2
             }
            },
            "type": "bar"
           }
          ],
          "barpolar": [
           {
            "marker": {
             "line": {
              "color": "#E5ECF6",
              "width": 0.5
             },
             "pattern": {
              "fillmode": "overlay",
              "size": 10,
              "solidity": 0.2
             }
            },
            "type": "barpolar"
           }
          ],
          "carpet": [
           {
            "aaxis": {
             "endlinecolor": "#2a3f5f",
             "gridcolor": "white",
             "linecolor": "white",
             "minorgridcolor": "white",
             "startlinecolor": "#2a3f5f"
            },
            "baxis": {
             "endlinecolor": "#2a3f5f",
             "gridcolor": "white",
             "linecolor": "white",
             "minorgridcolor": "white",
             "startlinecolor": "#2a3f5f"
            },
            "type": "carpet"
           }
          ],
          "choropleth": [
           {
            "colorbar": {
             "outlinewidth": 0,
             "ticks": ""
            },
            "type": "choropleth"
           }
          ],
          "contour": [
           {
            "colorbar": {
             "outlinewidth": 0,
             "ticks": ""
            },
            "colorscale": [
             [
              0,
              "#0d0887"
             ],
             [
              0.1111111111111111,
              "#46039f"
             ],
             [
              0.2222222222222222,
              "#7201a8"
             ],
             [
              0.3333333333333333,
              "#9c179e"
             ],
             [
              0.4444444444444444,
              "#bd3786"
             ],
             [
              0.5555555555555556,
              "#d8576b"
             ],
             [
              0.6666666666666666,
              "#ed7953"
             ],
             [
              0.7777777777777778,
              "#fb9f3a"
             ],
             [
              0.8888888888888888,
              "#fdca26"
             ],
             [
              1,
              "#f0f921"
             ]
            ],
            "type": "contour"
           }
          ],
          "contourcarpet": [
           {
            "colorbar": {
             "outlinewidth": 0,
             "ticks": ""
            },
            "type": "contourcarpet"
           }
          ],
          "heatmap": [
           {
            "colorbar": {
             "outlinewidth": 0,
             "ticks": ""
            },
            "colorscale": [
             [
              0,
              "#0d0887"
             ],
             [
              0.1111111111111111,
              "#46039f"
             ],
             [
              0.2222222222222222,
              "#7201a8"
             ],
             [
              0.3333333333333333,
              "#9c179e"
             ],
             [
              0.4444444444444444,
              "#bd3786"
             ],
             [
              0.5555555555555556,
              "#d8576b"
             ],
             [
              0.6666666666666666,
              "#ed7953"
             ],
             [
              0.7777777777777778,
              "#fb9f3a"
             ],
             [
              0.8888888888888888,
              "#fdca26"
             ],
             [
              1,
              "#f0f921"
             ]
            ],
            "type": "heatmap"
           }
          ],
          "heatmapgl": [
           {
            "colorbar": {
             "outlinewidth": 0,
             "ticks": ""
            },
            "colorscale": [
             [
              0,
              "#0d0887"
             ],
             [
              0.1111111111111111,
              "#46039f"
             ],
             [
              0.2222222222222222,
              "#7201a8"
             ],
             [
              0.3333333333333333,
              "#9c179e"
             ],
             [
              0.4444444444444444,
              "#bd3786"
             ],
             [
              0.5555555555555556,
              "#d8576b"
             ],
             [
              0.6666666666666666,
              "#ed7953"
             ],
             [
              0.7777777777777778,
              "#fb9f3a"
             ],
             [
              0.8888888888888888,
              "#fdca26"
             ],
             [
              1,
              "#f0f921"
             ]
            ],
            "type": "heatmapgl"
           }
          ],
          "histogram": [
           {
            "marker": {
             "pattern": {
              "fillmode": "overlay",
              "size": 10,
              "solidity": 0.2
             }
            },
            "type": "histogram"
           }
          ],
          "histogram2d": [
           {
            "colorbar": {
             "outlinewidth": 0,
             "ticks": ""
            },
            "colorscale": [
             [
              0,
              "#0d0887"
             ],
             [
              0.1111111111111111,
              "#46039f"
             ],
             [
              0.2222222222222222,
              "#7201a8"
             ],
             [
              0.3333333333333333,
              "#9c179e"
             ],
             [
              0.4444444444444444,
              "#bd3786"
             ],
             [
              0.5555555555555556,
              "#d8576b"
             ],
             [
              0.6666666666666666,
              "#ed7953"
             ],
             [
              0.7777777777777778,
              "#fb9f3a"
             ],
             [
              0.8888888888888888,
              "#fdca26"
             ],
             [
              1,
              "#f0f921"
             ]
            ],
            "type": "histogram2d"
           }
          ],
          "histogram2dcontour": [
           {
            "colorbar": {
             "outlinewidth": 0,
             "ticks": ""
            },
            "colorscale": [
             [
              0,
              "#0d0887"
             ],
             [
              0.1111111111111111,
              "#46039f"
             ],
             [
              0.2222222222222222,
              "#7201a8"
             ],
             [
              0.3333333333333333,
              "#9c179e"
             ],
             [
              0.4444444444444444,
              "#bd3786"
             ],
             [
              0.5555555555555556,
              "#d8576b"
             ],
             [
              0.6666666666666666,
              "#ed7953"
             ],
             [
              0.7777777777777778,
              "#fb9f3a"
             ],
             [
              0.8888888888888888,
              "#fdca26"
             ],
             [
              1,
              "#f0f921"
             ]
            ],
            "type": "histogram2dcontour"
           }
          ],
          "mesh3d": [
           {
            "colorbar": {
             "outlinewidth": 0,
             "ticks": ""
            },
            "type": "mesh3d"
           }
          ],
          "parcoords": [
           {
            "line": {
             "colorbar": {
              "outlinewidth": 0,
              "ticks": ""
             }
            },
            "type": "parcoords"
           }
          ],
          "pie": [
           {
            "automargin": true,
            "type": "pie"
           }
          ],
          "scatter": [
           {
            "fillpattern": {
             "fillmode": "overlay",
             "size": 10,
             "solidity": 0.2
            },
            "type": "scatter"
           }
          ],
          "scatter3d": [
           {
            "line": {
             "colorbar": {
              "outlinewidth": 0,
              "ticks": ""
             }
            },
            "marker": {
             "colorbar": {
              "outlinewidth": 0,
              "ticks": ""
             }
            },
            "type": "scatter3d"
           }
          ],
          "scattercarpet": [
           {
            "marker": {
             "colorbar": {
              "outlinewidth": 0,
              "ticks": ""
             }
            },
            "type": "scattercarpet"
           }
          ],
          "scattergeo": [
           {
            "marker": {
             "colorbar": {
              "outlinewidth": 0,
              "ticks": ""
             }
            },
            "type": "scattergeo"
           }
          ],
          "scattergl": [
           {
            "marker": {
             "colorbar": {
              "outlinewidth": 0,
              "ticks": ""
             }
            },
            "type": "scattergl"
           }
          ],
          "scattermapbox": [
           {
            "marker": {
             "colorbar": {
              "outlinewidth": 0,
              "ticks": ""
             }
            },
            "type": "scattermapbox"
           }
          ],
          "scatterpolar": [
           {
            "marker": {
             "colorbar": {
              "outlinewidth": 0,
              "ticks": ""
             }
            },
            "type": "scatterpolar"
           }
          ],
          "scatterpolargl": [
           {
            "marker": {
             "colorbar": {
              "outlinewidth": 0,
              "ticks": ""
             }
            },
            "type": "scatterpolargl"
           }
          ],
          "scatterternary": [
           {
            "marker": {
             "colorbar": {
              "outlinewidth": 0,
              "ticks": ""
             }
            },
            "type": "scatterternary"
           }
          ],
          "surface": [
           {
            "colorbar": {
             "outlinewidth": 0,
             "ticks": ""
            },
            "colorscale": [
             [
              0,
              "#0d0887"
             ],
             [
              0.1111111111111111,
              "#46039f"
             ],
             [
              0.2222222222222222,
              "#7201a8"
             ],
             [
              0.3333333333333333,
              "#9c179e"
             ],
             [
              0.4444444444444444,
              "#bd3786"
             ],
             [
              0.5555555555555556,
              "#d8576b"
             ],
             [
              0.6666666666666666,
              "#ed7953"
             ],
             [
              0.7777777777777778,
              "#fb9f3a"
             ],
             [
              0.8888888888888888,
              "#fdca26"
             ],
             [
              1,
              "#f0f921"
             ]
            ],
            "type": "surface"
           }
          ],
          "table": [
           {
            "cells": {
             "fill": {
              "color": "#EBF0F8"
             },
             "line": {
              "color": "white"
             }
            },
            "header": {
             "fill": {
              "color": "#C8D4E3"
             },
             "line": {
              "color": "white"
             }
            },
            "type": "table"
           }
          ]
         },
         "layout": {
          "annotationdefaults": {
           "arrowcolor": "#2a3f5f",
           "arrowhead": 0,
           "arrowwidth": 1
          },
          "autotypenumbers": "strict",
          "coloraxis": {
           "colorbar": {
            "outlinewidth": 0,
            "ticks": ""
           }
          },
          "colorscale": {
           "diverging": [
            [
             0,
             "#8e0152"
            ],
            [
             0.1,
             "#c51b7d"
            ],
            [
             0.2,
             "#de77ae"
            ],
            [
             0.3,
             "#f1b6da"
            ],
            [
             0.4,
             "#fde0ef"
            ],
            [
             0.5,
             "#f7f7f7"
            ],
            [
             0.6,
             "#e6f5d0"
            ],
            [
             0.7,
             "#b8e186"
            ],
            [
             0.8,
             "#7fbc41"
            ],
            [
             0.9,
             "#4d9221"
            ],
            [
             1,
             "#276419"
            ]
           ],
           "sequential": [
            [
             0,
             "#0d0887"
            ],
            [
             0.1111111111111111,
             "#46039f"
            ],
            [
             0.2222222222222222,
             "#7201a8"
            ],
            [
             0.3333333333333333,
             "#9c179e"
            ],
            [
             0.4444444444444444,
             "#bd3786"
            ],
            [
             0.5555555555555556,
             "#d8576b"
            ],
            [
             0.6666666666666666,
             "#ed7953"
            ],
            [
             0.7777777777777778,
             "#fb9f3a"
            ],
            [
             0.8888888888888888,
             "#fdca26"
            ],
            [
             1,
             "#f0f921"
            ]
           ],
           "sequentialminus": [
            [
             0,
             "#0d0887"
            ],
            [
             0.1111111111111111,
             "#46039f"
            ],
            [
             0.2222222222222222,
             "#7201a8"
            ],
            [
             0.3333333333333333,
             "#9c179e"
            ],
            [
             0.4444444444444444,
             "#bd3786"
            ],
            [
             0.5555555555555556,
             "#d8576b"
            ],
            [
             0.6666666666666666,
             "#ed7953"
            ],
            [
             0.7777777777777778,
             "#fb9f3a"
            ],
            [
             0.8888888888888888,
             "#fdca26"
            ],
            [
             1,
             "#f0f921"
            ]
           ]
          },
          "colorway": [
           "#636efa",
           "#EF553B",
           "#00cc96",
           "#ab63fa",
           "#FFA15A",
           "#19d3f3",
           "#FF6692",
           "#B6E880",
           "#FF97FF",
           "#FECB52"
          ],
          "font": {
           "color": "#2a3f5f"
          },
          "geo": {
           "bgcolor": "white",
           "lakecolor": "white",
           "landcolor": "#E5ECF6",
           "showlakes": true,
           "showland": true,
           "subunitcolor": "white"
          },
          "hoverlabel": {
           "align": "left"
          },
          "hovermode": "closest",
          "mapbox": {
           "style": "light"
          },
          "paper_bgcolor": "white",
          "plot_bgcolor": "#E5ECF6",
          "polar": {
           "angularaxis": {
            "gridcolor": "white",
            "linecolor": "white",
            "ticks": ""
           },
           "bgcolor": "#E5ECF6",
           "radialaxis": {
            "gridcolor": "white",
            "linecolor": "white",
            "ticks": ""
           }
          },
          "scene": {
           "xaxis": {
            "backgroundcolor": "#E5ECF6",
            "gridcolor": "white",
            "gridwidth": 2,
            "linecolor": "white",
            "showbackground": true,
            "ticks": "",
            "zerolinecolor": "white"
           },
           "yaxis": {
            "backgroundcolor": "#E5ECF6",
            "gridcolor": "white",
            "gridwidth": 2,
            "linecolor": "white",
            "showbackground": true,
            "ticks": "",
            "zerolinecolor": "white"
           },
           "zaxis": {
            "backgroundcolor": "#E5ECF6",
            "gridcolor": "white",
            "gridwidth": 2,
            "linecolor": "white",
            "showbackground": true,
            "ticks": "",
            "zerolinecolor": "white"
           }
          },
          "shapedefaults": {
           "line": {
            "color": "#2a3f5f"
           }
          },
          "ternary": {
           "aaxis": {
            "gridcolor": "white",
            "linecolor": "white",
            "ticks": ""
           },
           "baxis": {
            "gridcolor": "white",
            "linecolor": "white",
            "ticks": ""
           },
           "bgcolor": "#E5ECF6",
           "caxis": {
            "gridcolor": "white",
            "linecolor": "white",
            "ticks": ""
           }
          },
          "title": {
           "x": 0.05
          },
          "xaxis": {
           "automargin": true,
           "gridcolor": "white",
           "linecolor": "white",
           "ticks": "",
           "title": {
            "standoff": 15
           },
           "zerolinecolor": "white",
           "zerolinewidth": 2
          },
          "yaxis": {
           "automargin": true,
           "gridcolor": "white",
           "linecolor": "white",
           "ticks": "",
           "title": {
            "standoff": 15
           },
           "zerolinecolor": "white",
           "zerolinewidth": 2
          }
         }
        },
        "title": {
         "automargin": true,
         "x": 0.5,
         "xanchor": "center",
         "y": 0.95,
         "yanchor": "top"
        },
        "width": 700
       }
      }
     },
     "metadata": {},
     "output_type": "display_data"
    },
    {
     "data": {
      "application/vnd.plotly.v1+json": {
       "config": {
        "plotlyServerURL": "https://plot.ly"
       },
       "data": [
        {
         "hoverinfo": "text",
         "marker": {
          "color": [
           4,
           9,
           4,
           4,
           1,
           16,
           16,
           4,
           4,
           4,
           4,
           0,
           16,
           1,
           1,
           1,
           0,
           1,
           4,
           4,
           1,
           0,
           0,
           0,
           0,
           1,
           1,
           4,
           4,
           1,
           1,
           1,
           0,
           0,
           0,
           0,
           1,
           0,
           0,
           1,
           0,
           0,
           0,
           0,
           0,
           0,
           1,
           1,
           1,
           0,
           0,
           1,
           0,
           0,
           0
          ],
          "colorbar": {
           "title": {
            "text": "Penalty"
           }
          },
          "colorscale": [
           [
            0,
            "#440154"
           ],
           [
            0.1111111111111111,
            "#482878"
           ],
           [
            0.2222222222222222,
            "#3e4989"
           ],
           [
            0.3333333333333333,
            "#31688e"
           ],
           [
            0.4444444444444444,
            "#26828e"
           ],
           [
            0.5555555555555556,
            "#1f9e89"
           ],
           [
            0.6666666666666666,
            "#35b779"
           ],
           [
            0.7777777777777778,
            "#6ece58"
           ],
           [
            0.8888888888888888,
            "#b5de2b"
           ],
           [
            1,
            "#fde725"
           ]
          ],
          "opacity": 0.8,
          "showscale": true,
          "size": 5,
          "symbol": "circle"
         },
         "mode": "markers",
         "showlegend": false,
         "text": [
          "Si<br>viol.: 4.0",
          "Si<br>viol.: 9.0",
          "O<br>viol.: 4.0",
          "O<br>viol.: 4.0",
          "O<br>viol.: 1.0",
          "Si<br>viol.: 16.0",
          "Si<br>viol.: 16.0",
          "Si<br>viol.: 4.0",
          "O<br>viol.: 4.0",
          "O<br>viol.: 4.0",
          "O<br>viol.: 4.0",
          "Si<br>viol.: 0.0",
          "Si<br>viol.: 16.0",
          "Si<br>viol.: 1.0",
          "Si<br>viol.: 1.0",
          "O<br>viol.: 1.0",
          "O<br>viol.: 0.0",
          "O<br>viol.: 1.0",
          "O<br>viol.: 4.0",
          "O<br>viol.: 4.0",
          "O<br>viol.: 1.0",
          "Si<br>viol.: 0.0",
          "O<br>viol.: 0.0",
          "O<br>viol.: 0.0",
          "O<br>viol.: 0.0",
          "Si<br>viol.: 1.0",
          "Si<br>viol.: 1.0",
          "Si<br>viol.: 4.0",
          "O<br>viol.: 4.0",
          "O<br>viol.: 1.0",
          "O<br>viol.: 1.0",
          "O<br>viol.: 1.0",
          "O<br>viol.: 0.0",
          "Si<br>viol.: 0.0",
          "O<br>viol.: 0.0",
          "O<br>viol.: 0.0",
          "O<br>viol.: 1.0",
          "O<br>viol.: 0.0",
          "Si<br>viol.: 0.0",
          "O<br>viol.: 1.0",
          "Si<br>viol.: 0.0",
          "O<br>viol.: 0.0",
          "O<br>viol.: 0.0",
          "O<br>viol.: 0.0",
          "O<br>viol.: 0.0",
          "O<br>viol.: 0.0",
          "Si<br>viol.: 1.0",
          "O<br>viol.: 1.0",
          "Si<br>viol.: 1.0",
          "Si<br>viol.: 0.0",
          "O<br>viol.: 0.0",
          "O<br>viol.: 1.0",
          "O<br>viol.: 0.0",
          "O<br>viol.: 0.0",
          "Si<br>viol.: 0.0"
         ],
         "type": "scatter3d",
         "x": [
          3.505683000000001,
          4.337536,
          4.198772999999999,
          4.112224999999999,
          4.46865,
          3.400791999999999,
          3.2963629999999995,
          4.288603999999999,
          4.025485,
          3.9726670000000013,
          3.679558,
          -3.395403999999999,
          -3.9045710000000007,
          -2.1031150000000007,
          -3.3346160000000005,
          -3.1948380000000007,
          -3.1256400000000006,
          -2.258349000000001,
          -2.7628140000000005,
          -4.108806999999999,
          -2.3234209999999997,
          -1.677486,
          -3.0988109999999995,
          -2.066502,
          -3.2260089999999995,
          -2.2986380000000004,
          -2.8018959999999993,
          -3.542605,
          -3.7055670000000003,
          -1.8499400000000001,
          -3.5322949999999995,
          -2.0446790000000004,
          -2.365627,
          -4.376805000000001,
          -3.84666,
          -1.5,
          -0.8256637402108513,
          -0.6775187402108518,
          -1.406068602935271,
          -1.5,
          -0.630047740210852,
          -1.5,
          -1.2128737402108527,
          -1.5,
          -1.5,
          0.12099025978914746,
          0.022226259789148273,
          0.16978574942754587,
          0.28563274942754635,
          -0.5,
          0.4642837494275458,
          0.6815067494275464,
          1.2335337494275462,
          1.0246427494275459,
          1.150856749427546
         ],
         "y": [
          -1.677274999999998,
          -1.9924879999999998,
          0.11856900000000081,
          -0.22287000000000035,
          -3.174268999999999,
          -4.923577,
          4.620056000000001,
          1.4117780000000009,
          3.4501470000000007,
          4.633879,
          2.060506000000001,
          -4.470077999999999,
          0.17148200000000102,
          -1.5952190000000002,
          -4.618774999999999,
          -2.527085999999999,
          -5.290586999999999,
          -4.765920999999999,
          -0.8007080000000002,
          -1.4535209999999985,
          -3.369076999999999,
          0.6030180000000023,
          1.1894430000000007,
          -0.45721400000000045,
          -5.765405999999999,
          2.3820580000000007,
          5.288629,
          4.373694,
          2.030163000000001,
          3.940156000000001,
          3.8789640000000007,
          4.855818000000001,
          1.768718000000001,
          1.9777850000000008,
          3.421695000000001,
          -5,
          -4.042589438577931,
          -2.4993154385779306,
          -5.49320811138614,
          -2,
          1.0489625614220692,
          2,
          2.8439085614220687,
          4,
          5,
          -5.0293394385779315,
          -3.6081874385779322,
          0.9497191935445004,
          1.8713621935445,
          4,
          5.920034193544501,
          0.8464761935445013,
          3.253994193544501,
          5.708970193544501,
          5.039972193544501
         ],
         "z": [
          -5.43286,
          2.272283,
          -2.9687300000000008,
          3.3099690000000006,
          0.8509709999999995,
          4.106719999999999,
          1.5188079999999982,
          -5.295141000000001,
          3.8831879999999988,
          -3.611614000000001,
          -1.050217,
          -5.2492920000000005,
          -0.075094,
          2.627377000000001,
          3.535831,
          -4.913344,
          2.0674100000000006,
          -3.592866000000001,
          -1.4281260000000007,
          2.4953160000000008,
          3.8384349999999987,
          5.314871,
          5.7820089999999995,
          4.155599,
          4.712675,
          -3.4082419999999995,
          -4.8826529999999995,
          3.179373,
          -0.95214,
          2.6708279999999984,
          -3.662769000000001,
          -0.10802600000000062,
          -5.370734000000001,
          5.124404999999999,
          4.655602,
          -5,
          1.5140890216859288,
          3.6800030216859296,
          -5.135852667551358,
          1,
          -5.826727978314072,
          -5,
          -2.0575069783140725,
          -5,
          0,
          3.6639910216859297,
          2.7494130216859274,
          -1.861423884833755,
          -0.422862884833755,
          -1,
          -1.698743884833755,
          0.7575751151662438,
          -0.5221928848337551,
          -4.408548884833755,
          -2.924418884833756
         ]
        },
        {
         "hoverinfo": "skip",
         "line": {
          "color": "black",
          "showscale": false,
          "width": 1
         },
         "mode": "lines",
         "showlegend": false,
         "type": "scatter3d",
         "x": [
          -2.258349000000001,
          -1.5
         ],
         "y": [
          -4.765920999999999,
          -5
         ],
         "z": [
          -3.592866000000001,
          -5
         ]
        },
        {
         "hoverinfo": "skip",
         "line": {
          "color": "black",
          "showscale": false,
          "width": 1
         },
         "mode": "lines",
         "showlegend": false,
         "type": "scatter3d",
         "x": [
          -2.3234209999999997,
          -0.6775187402108518
         ],
         "y": [
          -3.369076999999999,
          -2.4993154385779306
         ],
         "z": [
          3.8384349999999987,
          3.6800030216859296
         ]
        },
        {
         "hoverinfo": "skip",
         "line": {
          "color": "black",
          "showscale": false,
          "width": 1
         },
         "mode": "lines",
         "showlegend": false,
         "type": "scatter3d",
         "x": [
          -3.5322949999999995,
          -1.5
         ],
         "y": [
          3.8789640000000007,
          4
         ],
         "z": [
          -3.662769000000001,
          -5
         ]
        },
        {
         "hoverinfo": "skip",
         "line": {
          "color": "black",
          "showscale": false,
          "width": 1
         },
         "mode": "lines",
         "showlegend": false,
         "type": "scatter3d",
         "x": [
          -2.0446790000000004,
          -1.5
         ],
         "y": [
          4.855818000000001,
          5
         ],
         "z": [
          -0.10802600000000062,
          0
         ]
        },
        {
         "hoverinfo": "skip",
         "line": {
          "color": "black",
          "showscale": false,
          "width": 1
         },
         "mode": "lines",
         "showlegend": false,
         "type": "scatter3d",
         "x": [
          -2.365627,
          -1.5
         ],
         "y": [
          1.768718000000001,
          2
         ],
         "z": [
          -5.370734000000001,
          -5
         ]
        },
        {
         "hoverinfo": "skip",
         "line": {
          "color": "black",
          "showscale": false,
          "width": 1
         },
         "mode": "lines",
         "showlegend": false,
         "type": "scatter3d",
         "x": [
          -2.365627,
          -1.5
         ],
         "y": [
          1.768718000000001,
          4
         ],
         "z": [
          -5.370734000000001,
          -5
         ]
        },
        {
         "hoverinfo": "skip",
         "line": {
          "color": "black",
          "showscale": false,
          "width": 1
         },
         "mode": "lines",
         "showlegend": false,
         "type": "scatter3d",
         "x": [
          -1.5,
          -2.258349000000001
         ],
         "y": [
          -5,
          -4.765920999999999
         ],
         "z": [
          -5,
          -3.592866000000001
         ]
        },
        {
         "hoverinfo": "skip",
         "line": {
          "color": "black",
          "showscale": false,
          "width": 1
         },
         "mode": "lines",
         "showlegend": false,
         "type": "scatter3d",
         "x": [
          -0.8256637402108513,
          -1.5
         ],
         "y": [
          -4.042589438577931,
          -2
         ],
         "z": [
          1.5140890216859288,
          1
         ]
        },
        {
         "hoverinfo": "skip",
         "line": {
          "color": "black",
          "showscale": false,
          "width": 1
         },
         "mode": "lines",
         "showlegend": false,
         "type": "scatter3d",
         "x": [
          -0.6775187402108518,
          -2.3234209999999997
         ],
         "y": [
          -2.4993154385779306,
          -3.369076999999999
         ],
         "z": [
          3.6800030216859296,
          3.8384349999999987
         ]
        },
        {
         "hoverinfo": "skip",
         "line": {
          "color": "black",
          "showscale": false,
          "width": 1
         },
         "mode": "lines",
         "showlegend": false,
         "type": "scatter3d",
         "x": [
          -1.5,
          -0.8256637402108513
         ],
         "y": [
          -2,
          -4.042589438577931
         ],
         "z": [
          1,
          1.5140890216859288
         ]
        },
        {
         "hoverinfo": "skip",
         "line": {
          "color": "black",
          "showscale": false,
          "width": 1
         },
         "mode": "lines",
         "showlegend": false,
         "type": "scatter3d",
         "x": [
          -1.5,
          -2.365627
         ],
         "y": [
          2,
          1.768718000000001
         ],
         "z": [
          -5,
          -5.370734000000001
         ]
        },
        {
         "hoverinfo": "skip",
         "line": {
          "color": "black",
          "showscale": false,
          "width": 1
         },
         "mode": "lines",
         "showlegend": false,
         "type": "scatter3d",
         "x": [
          -1.5,
          -1.5
         ],
         "y": [
          2,
          4
         ],
         "z": [
          -5,
          -5
         ]
        },
        {
         "hoverinfo": "skip",
         "line": {
          "color": "black",
          "showscale": false,
          "width": 1
         },
         "mode": "lines",
         "showlegend": false,
         "type": "scatter3d",
         "x": [
          -1.2128737402108527,
          0.16978574942754587
         ],
         "y": [
          2.8439085614220687,
          0.9497191935445004
         ],
         "z": [
          -2.0575069783140725,
          -1.861423884833755
         ]
        },
        {
         "hoverinfo": "skip",
         "line": {
          "color": "black",
          "showscale": false,
          "width": 1
         },
         "mode": "lines",
         "showlegend": false,
         "type": "scatter3d",
         "x": [
          -1.5,
          -3.5322949999999995
         ],
         "y": [
          4,
          3.8789640000000007
         ],
         "z": [
          -5,
          -3.662769000000001
         ]
        },
        {
         "hoverinfo": "skip",
         "line": {
          "color": "black",
          "showscale": false,
          "width": 1
         },
         "mode": "lines",
         "showlegend": false,
         "type": "scatter3d",
         "x": [
          -1.5,
          -2.365627
         ],
         "y": [
          4,
          1.768718000000001
         ],
         "z": [
          -5,
          -5.370734000000001
         ]
        },
        {
         "hoverinfo": "skip",
         "line": {
          "color": "black",
          "showscale": false,
          "width": 1
         },
         "mode": "lines",
         "showlegend": false,
         "type": "scatter3d",
         "x": [
          -1.5,
          -1.5
         ],
         "y": [
          4,
          2
         ],
         "z": [
          -5,
          -5
         ]
        },
        {
         "hoverinfo": "skip",
         "line": {
          "color": "black",
          "showscale": false,
          "width": 1
         },
         "mode": "lines",
         "showlegend": false,
         "type": "scatter3d",
         "x": [
          -1.5,
          -2.0446790000000004
         ],
         "y": [
          5,
          4.855818000000001
         ],
         "z": [
          0,
          -0.10802600000000062
         ]
        },
        {
         "hoverinfo": "skip",
         "line": {
          "color": "black",
          "showscale": false,
          "width": 1
         },
         "mode": "lines",
         "showlegend": false,
         "type": "scatter3d",
         "x": [
          0.16978574942754587,
          -1.2128737402108527
         ],
         "y": [
          0.9497191935445004,
          2.8439085614220687
         ],
         "z": [
          -1.861423884833755,
          -2.0575069783140725
         ]
        },
        {
         "hoverinfo": "skip",
         "line": {
          "color": "black",
          "showscale": false,
          "width": 1
         },
         "mode": "lines",
         "showlegend": false,
         "type": "scatter3d",
         "x": [
          -3.395403999999999,
          -1.406068602935271
         ],
         "y": [
          -4.470077999999999,
          -5.49320811138614
         ],
         "z": [
          -5.2492920000000005,
          -5.135852667551358
         ]
        },
        {
         "hoverinfo": "skip",
         "line": {
          "color": "black",
          "showscale": false,
          "width": 1
         },
         "mode": "lines",
         "showlegend": false,
         "type": "scatter3d",
         "x": [
          -1.406068602935271,
          -3.395403999999999
         ],
         "y": [
          -5.49320811138614,
          -4.470077999999999
         ],
         "z": [
          -5.135852667551358,
          -5.2492920000000005
         ]
        },
        {
         "hoverinfo": "skip",
         "line": {
          "color": "black",
          "showscale": false,
          "width": 1
         },
         "mode": "lines",
         "showlegend": false,
         "type": "scatter3d",
         "x": [
          0.28563274942754635,
          -0.5
         ],
         "y": [
          1.8713621935445,
          4
         ],
         "z": [
          -0.422862884833755,
          -1
         ]
        },
        {
         "hoverinfo": "skip",
         "line": {
          "color": "black",
          "showscale": false,
          "width": 1
         },
         "mode": "lines",
         "showlegend": false,
         "type": "scatter3d",
         "x": [
          -0.5,
          0.28563274942754635
         ],
         "y": [
          4,
          1.8713621935445
         ],
         "z": [
          -1,
          -0.422862884833755
         ]
        },
        {
         "hoverinfo": "skip",
         "line": {
          "color": "black",
          "showscale": false,
          "width": 1
         },
         "mode": "lines",
         "showlegend": false,
         "type": "scatter3d",
         "x": [
          -0.5,
          1.150856749427546
         ],
         "y": [
          4,
          5.039972193544501
         ],
         "z": [
          -1,
          -2.924418884833756
         ]
        },
        {
         "hoverinfo": "skip",
         "line": {
          "color": "black",
          "showscale": false,
          "width": 1
         },
         "mode": "lines",
         "showlegend": false,
         "type": "scatter3d",
         "x": [
          1.150856749427546,
          -0.5
         ],
         "y": [
          5.039972193544501,
          4
         ],
         "z": [
          -2.924418884833756,
          -1
         ]
        },
        {
         "hoverinfo": "skip",
         "line": {
          "color": "black",
          "showscale": false,
          "width": 1
         },
         "mode": "lines",
         "showlegend": false,
         "type": "scatter3d",
         "x": [
          4.337536,
          4.46865
         ],
         "y": [
          -1.9924879999999998,
          -3.174268999999999
         ],
         "z": [
          2.272283,
          0.8509709999999995
         ]
        },
        {
         "hoverinfo": "skip",
         "line": {
          "color": "black",
          "showscale": false,
          "width": 1
         },
         "mode": "lines",
         "showlegend": false,
         "type": "scatter3d",
         "x": [
          -2.1031150000000007,
          -1.5
         ],
         "y": [
          -1.5952190000000002,
          -2
         ],
         "z": [
          2.627377000000001,
          1
         ]
        },
        {
         "hoverinfo": "skip",
         "line": {
          "color": "black",
          "showscale": false,
          "width": 1
         },
         "mode": "lines",
         "showlegend": false,
         "type": "scatter3d",
         "x": [
          -3.3346160000000005,
          -3.1256400000000006
         ],
         "y": [
          -4.618774999999999,
          -5.290586999999999
         ],
         "z": [
          3.535831,
          2.0674100000000006
         ]
        },
        {
         "hoverinfo": "skip",
         "line": {
          "color": "black",
          "showscale": false,
          "width": 1
         },
         "mode": "lines",
         "showlegend": false,
         "type": "scatter3d",
         "x": [
          -3.3346160000000005,
          -2.3234209999999997
         ],
         "y": [
          -4.618774999999999,
          -3.369076999999999
         ],
         "z": [
          3.535831,
          3.8384349999999987
         ]
        },
        {
         "hoverinfo": "skip",
         "line": {
          "color": "black",
          "showscale": false,
          "width": 1
         },
         "mode": "lines",
         "showlegend": false,
         "type": "scatter3d",
         "x": [
          -3.3346160000000005,
          -3.2260089999999995
         ],
         "y": [
          -4.618774999999999,
          -5.765405999999999
         ],
         "z": [
          3.535831,
          4.712675
         ]
        },
        {
         "hoverinfo": "skip",
         "line": {
          "color": "black",
          "showscale": false,
          "width": 1
         },
         "mode": "lines",
         "showlegend": false,
         "type": "scatter3d",
         "x": [
          -1.677486,
          -3.0988109999999995
         ],
         "y": [
          0.6030180000000023,
          1.1894430000000007
         ],
         "z": [
          5.314871,
          5.7820089999999995
         ]
        },
        {
         "hoverinfo": "skip",
         "line": {
          "color": "black",
          "showscale": false,
          "width": 1
         },
         "mode": "lines",
         "showlegend": false,
         "type": "scatter3d",
         "x": [
          -1.677486,
          -2.066502
         ],
         "y": [
          0.6030180000000023,
          -0.45721400000000045
         ],
         "z": [
          5.314871,
          4.155599
         ]
        },
        {
         "hoverinfo": "skip",
         "line": {
          "color": "black",
          "showscale": false,
          "width": 1
         },
         "mode": "lines",
         "showlegend": false,
         "type": "scatter3d",
         "x": [
          -2.2986380000000004,
          -1.5
         ],
         "y": [
          2.3820580000000007,
          2
         ],
         "z": [
          -3.4082419999999995,
          -5
         ]
        },
        {
         "hoverinfo": "skip",
         "line": {
          "color": "black",
          "showscale": false,
          "width": 1
         },
         "mode": "lines",
         "showlegend": false,
         "type": "scatter3d",
         "x": [
          -2.2986380000000004,
          -1.2128737402108527
         ],
         "y": [
          2.3820580000000007,
          2.8439085614220687
         ],
         "z": [
          -3.4082419999999995,
          -2.0575069783140725
         ]
        },
        {
         "hoverinfo": "skip",
         "line": {
          "color": "black",
          "showscale": false,
          "width": 1
         },
         "mode": "lines",
         "showlegend": false,
         "type": "scatter3d",
         "x": [
          -2.8018959999999993,
          -1.5
         ],
         "y": [
          5.288629,
          4
         ],
         "z": [
          -4.8826529999999995,
          -5
         ]
        },
        {
         "hoverinfo": "skip",
         "line": {
          "color": "black",
          "showscale": false,
          "width": 1
         },
         "mode": "lines",
         "showlegend": false,
         "type": "scatter3d",
         "x": [
          -3.542605,
          -1.8499400000000001
         ],
         "y": [
          4.373694,
          3.940156000000001
         ],
         "z": [
          3.179373,
          2.6708279999999984
         ]
        },
        {
         "hoverinfo": "skip",
         "line": {
          "color": "black",
          "showscale": false,
          "width": 1
         },
         "mode": "lines",
         "showlegend": false,
         "type": "scatter3d",
         "x": [
          -3.542605,
          -3.84666
         ],
         "y": [
          4.373694,
          3.421695000000001
         ],
         "z": [
          3.179373,
          4.655602
         ]
        },
        {
         "hoverinfo": "skip",
         "line": {
          "color": "black",
          "showscale": false,
          "width": 1
         },
         "mode": "lines",
         "showlegend": false,
         "type": "scatter3d",
         "x": [
          -4.376805000000001,
          -3.0988109999999995
         ],
         "y": [
          1.9777850000000008,
          1.1894430000000007
         ],
         "z": [
          5.124404999999999,
          5.7820089999999995
         ]
        },
        {
         "hoverinfo": "skip",
         "line": {
          "color": "black",
          "showscale": false,
          "width": 1
         },
         "mode": "lines",
         "showlegend": false,
         "type": "scatter3d",
         "x": [
          -4.376805000000001,
          -3.84666
         ],
         "y": [
          1.9777850000000008,
          3.421695000000001
         ],
         "z": [
          5.124404999999999,
          4.655602
         ]
        },
        {
         "hoverinfo": "skip",
         "line": {
          "color": "black",
          "showscale": false,
          "width": 1
         },
         "mode": "lines",
         "showlegend": false,
         "type": "scatter3d",
         "x": [
          -1.406068602935271,
          -1.5
         ],
         "y": [
          -5.49320811138614,
          -5
         ],
         "z": [
          -5.135852667551358,
          -5
         ]
        },
        {
         "hoverinfo": "skip",
         "line": {
          "color": "black",
          "showscale": false,
          "width": 1
         },
         "mode": "lines",
         "showlegend": false,
         "type": "scatter3d",
         "x": [
          -0.630047740210852,
          -1.5
         ],
         "y": [
          1.0489625614220692,
          2
         ],
         "z": [
          -5.826727978314072,
          -5
         ]
        },
        {
         "hoverinfo": "skip",
         "line": {
          "color": "black",
          "showscale": false,
          "width": 1
         },
         "mode": "lines",
         "showlegend": false,
         "type": "scatter3d",
         "x": [
          0.022226259789148273,
          -0.8256637402108513
         ],
         "y": [
          -3.6081874385779322,
          -4.042589438577931
         ],
         "z": [
          2.7494130216859274,
          1.5140890216859288
         ]
        },
        {
         "hoverinfo": "skip",
         "line": {
          "color": "black",
          "showscale": false,
          "width": 1
         },
         "mode": "lines",
         "showlegend": false,
         "type": "scatter3d",
         "x": [
          0.022226259789148273,
          -0.6775187402108518
         ],
         "y": [
          -3.6081874385779322,
          -2.4993154385779306
         ],
         "z": [
          2.7494130216859274,
          3.6800030216859296
         ]
        },
        {
         "hoverinfo": "skip",
         "line": {
          "color": "black",
          "showscale": false,
          "width": 1
         },
         "mode": "lines",
         "showlegend": false,
         "type": "scatter3d",
         "x": [
          0.022226259789148273,
          0.12099025978914746
         ],
         "y": [
          -3.6081874385779322,
          -5.0293394385779315
         ],
         "z": [
          2.7494130216859274,
          3.6639910216859297
         ]
        },
        {
         "hoverinfo": "skip",
         "line": {
          "color": "black",
          "showscale": false,
          "width": 1
         },
         "mode": "lines",
         "showlegend": false,
         "type": "scatter3d",
         "x": [
          0.28563274942754635,
          0.16978574942754587
         ],
         "y": [
          1.8713621935445,
          0.9497191935445004
         ],
         "z": [
          -0.422862884833755,
          -1.861423884833755
         ]
        },
        {
         "hoverinfo": "skip",
         "line": {
          "color": "black",
          "showscale": false,
          "width": 1
         },
         "mode": "lines",
         "showlegend": false,
         "type": "scatter3d",
         "x": [
          0.28563274942754635,
          0.6815067494275464
         ],
         "y": [
          1.8713621935445,
          0.8464761935445013
         ],
         "z": [
          -0.422862884833755,
          0.7575751151662438
         ]
        },
        {
         "hoverinfo": "skip",
         "line": {
          "color": "black",
          "showscale": false,
          "width": 1
         },
         "mode": "lines",
         "showlegend": false,
         "type": "scatter3d",
         "x": [
          0.28563274942754635,
          1.2335337494275462
         ],
         "y": [
          1.8713621935445,
          3.253994193544501
         ],
         "z": [
          -0.422862884833755,
          -0.5221928848337551
         ]
        },
        {
         "hoverinfo": "skip",
         "line": {
          "color": "black",
          "showscale": false,
          "width": 1
         },
         "mode": "lines",
         "showlegend": false,
         "type": "scatter3d",
         "x": [
          -0.5,
          -1.2128737402108527
         ],
         "y": [
          4,
          2.8439085614220687
         ],
         "z": [
          -1,
          -2.0575069783140725
         ]
        },
        {
         "hoverinfo": "skip",
         "line": {
          "color": "black",
          "showscale": false,
          "width": 1
         },
         "mode": "lines",
         "showlegend": false,
         "type": "scatter3d",
         "x": [
          -0.5,
          -1.5
         ],
         "y": [
          4,
          5
         ],
         "z": [
          -1,
          0
         ]
        },
        {
         "hoverinfo": "skip",
         "line": {
          "color": "black",
          "showscale": false,
          "width": 1
         },
         "mode": "lines",
         "showlegend": false,
         "type": "scatter3d",
         "x": [
          1.150856749427546,
          0.4642837494275458
         ],
         "y": [
          5.039972193544501,
          5.920034193544501
         ],
         "z": [
          -2.924418884833756,
          -1.698743884833755
         ]
        },
        {
         "hoverinfo": "skip",
         "line": {
          "color": "black",
          "showscale": false,
          "width": 1
         },
         "mode": "lines",
         "showlegend": false,
         "type": "scatter3d",
         "x": [
          1.150856749427546,
          1.0246427494275459
         ],
         "y": [
          5.039972193544501,
          5.708970193544501
         ],
         "z": [
          -2.924418884833756,
          -4.408548884833755
         ]
        }
       ],
       "layout": {
        "margin": {
         "b": 10,
         "l": 10,
         "r": 20,
         "t": 10
        },
        "scene": {
         "aspectmode": "data",
         "xaxis": {
          "title": {
           "text": "X"
          }
         },
         "yaxis": {
          "title": {
           "text": "Y"
          }
         },
         "zaxis": {
          "title": {
           "text": "Z"
          }
         }
        },
        "template": {
         "data": {
          "bar": [
           {
            "error_x": {
             "color": "#2a3f5f"
            },
            "error_y": {
             "color": "#2a3f5f"
            },
            "marker": {
             "line": {
              "color": "#E5ECF6",
              "width": 0.5
             },
             "pattern": {
              "fillmode": "overlay",
              "size": 10,
              "solidity": 0.2
             }
            },
            "type": "bar"
           }
          ],
          "barpolar": [
           {
            "marker": {
             "line": {
              "color": "#E5ECF6",
              "width": 0.5
             },
             "pattern": {
              "fillmode": "overlay",
              "size": 10,
              "solidity": 0.2
             }
            },
            "type": "barpolar"
           }
          ],
          "carpet": [
           {
            "aaxis": {
             "endlinecolor": "#2a3f5f",
             "gridcolor": "white",
             "linecolor": "white",
             "minorgridcolor": "white",
             "startlinecolor": "#2a3f5f"
            },
            "baxis": {
             "endlinecolor": "#2a3f5f",
             "gridcolor": "white",
             "linecolor": "white",
             "minorgridcolor": "white",
             "startlinecolor": "#2a3f5f"
            },
            "type": "carpet"
           }
          ],
          "choropleth": [
           {
            "colorbar": {
             "outlinewidth": 0,
             "ticks": ""
            },
            "type": "choropleth"
           }
          ],
          "contour": [
           {
            "colorbar": {
             "outlinewidth": 0,
             "ticks": ""
            },
            "colorscale": [
             [
              0,
              "#0d0887"
             ],
             [
              0.1111111111111111,
              "#46039f"
             ],
             [
              0.2222222222222222,
              "#7201a8"
             ],
             [
              0.3333333333333333,
              "#9c179e"
             ],
             [
              0.4444444444444444,
              "#bd3786"
             ],
             [
              0.5555555555555556,
              "#d8576b"
             ],
             [
              0.6666666666666666,
              "#ed7953"
             ],
             [
              0.7777777777777778,
              "#fb9f3a"
             ],
             [
              0.8888888888888888,
              "#fdca26"
             ],
             [
              1,
              "#f0f921"
             ]
            ],
            "type": "contour"
           }
          ],
          "contourcarpet": [
           {
            "colorbar": {
             "outlinewidth": 0,
             "ticks": ""
            },
            "type": "contourcarpet"
           }
          ],
          "heatmap": [
           {
            "colorbar": {
             "outlinewidth": 0,
             "ticks": ""
            },
            "colorscale": [
             [
              0,
              "#0d0887"
             ],
             [
              0.1111111111111111,
              "#46039f"
             ],
             [
              0.2222222222222222,
              "#7201a8"
             ],
             [
              0.3333333333333333,
              "#9c179e"
             ],
             [
              0.4444444444444444,
              "#bd3786"
             ],
             [
              0.5555555555555556,
              "#d8576b"
             ],
             [
              0.6666666666666666,
              "#ed7953"
             ],
             [
              0.7777777777777778,
              "#fb9f3a"
             ],
             [
              0.8888888888888888,
              "#fdca26"
             ],
             [
              1,
              "#f0f921"
             ]
            ],
            "type": "heatmap"
           }
          ],
          "heatmapgl": [
           {
            "colorbar": {
             "outlinewidth": 0,
             "ticks": ""
            },
            "colorscale": [
             [
              0,
              "#0d0887"
             ],
             [
              0.1111111111111111,
              "#46039f"
             ],
             [
              0.2222222222222222,
              "#7201a8"
             ],
             [
              0.3333333333333333,
              "#9c179e"
             ],
             [
              0.4444444444444444,
              "#bd3786"
             ],
             [
              0.5555555555555556,
              "#d8576b"
             ],
             [
              0.6666666666666666,
              "#ed7953"
             ],
             [
              0.7777777777777778,
              "#fb9f3a"
             ],
             [
              0.8888888888888888,
              "#fdca26"
             ],
             [
              1,
              "#f0f921"
             ]
            ],
            "type": "heatmapgl"
           }
          ],
          "histogram": [
           {
            "marker": {
             "pattern": {
              "fillmode": "overlay",
              "size": 10,
              "solidity": 0.2
             }
            },
            "type": "histogram"
           }
          ],
          "histogram2d": [
           {
            "colorbar": {
             "outlinewidth": 0,
             "ticks": ""
            },
            "colorscale": [
             [
              0,
              "#0d0887"
             ],
             [
              0.1111111111111111,
              "#46039f"
             ],
             [
              0.2222222222222222,
              "#7201a8"
             ],
             [
              0.3333333333333333,
              "#9c179e"
             ],
             [
              0.4444444444444444,
              "#bd3786"
             ],
             [
              0.5555555555555556,
              "#d8576b"
             ],
             [
              0.6666666666666666,
              "#ed7953"
             ],
             [
              0.7777777777777778,
              "#fb9f3a"
             ],
             [
              0.8888888888888888,
              "#fdca26"
             ],
             [
              1,
              "#f0f921"
             ]
            ],
            "type": "histogram2d"
           }
          ],
          "histogram2dcontour": [
           {
            "colorbar": {
             "outlinewidth": 0,
             "ticks": ""
            },
            "colorscale": [
             [
              0,
              "#0d0887"
             ],
             [
              0.1111111111111111,
              "#46039f"
             ],
             [
              0.2222222222222222,
              "#7201a8"
             ],
             [
              0.3333333333333333,
              "#9c179e"
             ],
             [
              0.4444444444444444,
              "#bd3786"
             ],
             [
              0.5555555555555556,
              "#d8576b"
             ],
             [
              0.6666666666666666,
              "#ed7953"
             ],
             [
              0.7777777777777778,
              "#fb9f3a"
             ],
             [
              0.8888888888888888,
              "#fdca26"
             ],
             [
              1,
              "#f0f921"
             ]
            ],
            "type": "histogram2dcontour"
           }
          ],
          "mesh3d": [
           {
            "colorbar": {
             "outlinewidth": 0,
             "ticks": ""
            },
            "type": "mesh3d"
           }
          ],
          "parcoords": [
           {
            "line": {
             "colorbar": {
              "outlinewidth": 0,
              "ticks": ""
             }
            },
            "type": "parcoords"
           }
          ],
          "pie": [
           {
            "automargin": true,
            "type": "pie"
           }
          ],
          "scatter": [
           {
            "fillpattern": {
             "fillmode": "overlay",
             "size": 10,
             "solidity": 0.2
            },
            "type": "scatter"
           }
          ],
          "scatter3d": [
           {
            "line": {
             "colorbar": {
              "outlinewidth": 0,
              "ticks": ""
             }
            },
            "marker": {
             "colorbar": {
              "outlinewidth": 0,
              "ticks": ""
             }
            },
            "type": "scatter3d"
           }
          ],
          "scattercarpet": [
           {
            "marker": {
             "colorbar": {
              "outlinewidth": 0,
              "ticks": ""
             }
            },
            "type": "scattercarpet"
           }
          ],
          "scattergeo": [
           {
            "marker": {
             "colorbar": {
              "outlinewidth": 0,
              "ticks": ""
             }
            },
            "type": "scattergeo"
           }
          ],
          "scattergl": [
           {
            "marker": {
             "colorbar": {
              "outlinewidth": 0,
              "ticks": ""
             }
            },
            "type": "scattergl"
           }
          ],
          "scattermapbox": [
           {
            "marker": {
             "colorbar": {
              "outlinewidth": 0,
              "ticks": ""
             }
            },
            "type": "scattermapbox"
           }
          ],
          "scatterpolar": [
           {
            "marker": {
             "colorbar": {
              "outlinewidth": 0,
              "ticks": ""
             }
            },
            "type": "scatterpolar"
           }
          ],
          "scatterpolargl": [
           {
            "marker": {
             "colorbar": {
              "outlinewidth": 0,
              "ticks": ""
             }
            },
            "type": "scatterpolargl"
           }
          ],
          "scatterternary": [
           {
            "marker": {
             "colorbar": {
              "outlinewidth": 0,
              "ticks": ""
             }
            },
            "type": "scatterternary"
           }
          ],
          "surface": [
           {
            "colorbar": {
             "outlinewidth": 0,
             "ticks": ""
            },
            "colorscale": [
             [
              0,
              "#0d0887"
             ],
             [
              0.1111111111111111,
              "#46039f"
             ],
             [
              0.2222222222222222,
              "#7201a8"
             ],
             [
              0.3333333333333333,
              "#9c179e"
             ],
             [
              0.4444444444444444,
              "#bd3786"
             ],
             [
              0.5555555555555556,
              "#d8576b"
             ],
             [
              0.6666666666666666,
              "#ed7953"
             ],
             [
              0.7777777777777778,
              "#fb9f3a"
             ],
             [
              0.8888888888888888,
              "#fdca26"
             ],
             [
              1,
              "#f0f921"
             ]
            ],
            "type": "surface"
           }
          ],
          "table": [
           {
            "cells": {
             "fill": {
              "color": "#EBF0F8"
             },
             "line": {
              "color": "white"
             }
            },
            "header": {
             "fill": {
              "color": "#C8D4E3"
             },
             "line": {
              "color": "white"
             }
            },
            "type": "table"
           }
          ]
         },
         "layout": {
          "annotationdefaults": {
           "arrowcolor": "#2a3f5f",
           "arrowhead": 0,
           "arrowwidth": 1
          },
          "autotypenumbers": "strict",
          "coloraxis": {
           "colorbar": {
            "outlinewidth": 0,
            "ticks": ""
           }
          },
          "colorscale": {
           "diverging": [
            [
             0,
             "#8e0152"
            ],
            [
             0.1,
             "#c51b7d"
            ],
            [
             0.2,
             "#de77ae"
            ],
            [
             0.3,
             "#f1b6da"
            ],
            [
             0.4,
             "#fde0ef"
            ],
            [
             0.5,
             "#f7f7f7"
            ],
            [
             0.6,
             "#e6f5d0"
            ],
            [
             0.7,
             "#b8e186"
            ],
            [
             0.8,
             "#7fbc41"
            ],
            [
             0.9,
             "#4d9221"
            ],
            [
             1,
             "#276419"
            ]
           ],
           "sequential": [
            [
             0,
             "#0d0887"
            ],
            [
             0.1111111111111111,
             "#46039f"
            ],
            [
             0.2222222222222222,
             "#7201a8"
            ],
            [
             0.3333333333333333,
             "#9c179e"
            ],
            [
             0.4444444444444444,
             "#bd3786"
            ],
            [
             0.5555555555555556,
             "#d8576b"
            ],
            [
             0.6666666666666666,
             "#ed7953"
            ],
            [
             0.7777777777777778,
             "#fb9f3a"
            ],
            [
             0.8888888888888888,
             "#fdca26"
            ],
            [
             1,
             "#f0f921"
            ]
           ],
           "sequentialminus": [
            [
             0,
             "#0d0887"
            ],
            [
             0.1111111111111111,
             "#46039f"
            ],
            [
             0.2222222222222222,
             "#7201a8"
            ],
            [
             0.3333333333333333,
             "#9c179e"
            ],
            [
             0.4444444444444444,
             "#bd3786"
            ],
            [
             0.5555555555555556,
             "#d8576b"
            ],
            [
             0.6666666666666666,
             "#ed7953"
            ],
            [
             0.7777777777777778,
             "#fb9f3a"
            ],
            [
             0.8888888888888888,
             "#fdca26"
            ],
            [
             1,
             "#f0f921"
            ]
           ]
          },
          "colorway": [
           "#636efa",
           "#EF553B",
           "#00cc96",
           "#ab63fa",
           "#FFA15A",
           "#19d3f3",
           "#FF6692",
           "#B6E880",
           "#FF97FF",
           "#FECB52"
          ],
          "font": {
           "color": "#2a3f5f"
          },
          "geo": {
           "bgcolor": "white",
           "lakecolor": "white",
           "landcolor": "#E5ECF6",
           "showlakes": true,
           "showland": true,
           "subunitcolor": "white"
          },
          "hoverlabel": {
           "align": "left"
          },
          "hovermode": "closest",
          "mapbox": {
           "style": "light"
          },
          "paper_bgcolor": "white",
          "plot_bgcolor": "#E5ECF6",
          "polar": {
           "angularaxis": {
            "gridcolor": "white",
            "linecolor": "white",
            "ticks": ""
           },
           "bgcolor": "#E5ECF6",
           "radialaxis": {
            "gridcolor": "white",
            "linecolor": "white",
            "ticks": ""
           }
          },
          "scene": {
           "xaxis": {
            "backgroundcolor": "#E5ECF6",
            "gridcolor": "white",
            "gridwidth": 2,
            "linecolor": "white",
            "showbackground": true,
            "ticks": "",
            "zerolinecolor": "white"
           },
           "yaxis": {
            "backgroundcolor": "#E5ECF6",
            "gridcolor": "white",
            "gridwidth": 2,
            "linecolor": "white",
            "showbackground": true,
            "ticks": "",
            "zerolinecolor": "white"
           },
           "zaxis": {
            "backgroundcolor": "#E5ECF6",
            "gridcolor": "white",
            "gridwidth": 2,
            "linecolor": "white",
            "showbackground": true,
            "ticks": "",
            "zerolinecolor": "white"
           }
          },
          "shapedefaults": {
           "line": {
            "color": "#2a3f5f"
           }
          },
          "ternary": {
           "aaxis": {
            "gridcolor": "white",
            "linecolor": "white",
            "ticks": ""
           },
           "baxis": {
            "gridcolor": "white",
            "linecolor": "white",
            "ticks": ""
           },
           "bgcolor": "#E5ECF6",
           "caxis": {
            "gridcolor": "white",
            "linecolor": "white",
            "ticks": ""
           }
          },
          "title": {
           "x": 0.05
          },
          "xaxis": {
           "automargin": true,
           "gridcolor": "white",
           "linecolor": "white",
           "ticks": "",
           "title": {
            "standoff": 15
           },
           "zerolinecolor": "white",
           "zerolinewidth": 2
          },
          "yaxis": {
           "automargin": true,
           "gridcolor": "white",
           "linecolor": "white",
           "ticks": "",
           "title": {
            "standoff": 15
           },
           "zerolinecolor": "white",
           "zerolinewidth": 2
          }
         }
        },
        "title": {
         "automargin": true,
         "text": "Neighbourhood penalties",
         "x": 0.5,
         "xanchor": "center",
         "y": 0.95,
         "yanchor": "top"
        },
        "width": 700
       }
      }
     },
     "metadata": {},
     "output_type": "display_data"
    },
    {
     "data": {
      "application/vnd.plotly.v1+json": {
       "config": {
        "plotlyServerURL": "https://plot.ly"
       },
       "data": [
        {
         "customdata": [
          [
           "Si"
          ],
          [
           "Si"
          ],
          [
           "Si"
          ],
          [
           "Si"
          ],
          [
           "Si"
          ],
          [
           "Si"
          ],
          [
           "Si"
          ],
          [
           "Si"
          ],
          [
           "Si"
          ],
          [
           "Si"
          ],
          [
           "Si"
          ],
          [
           "Si"
          ],
          [
           "Si"
          ],
          [
           "Si"
          ],
          [
           "Si"
          ],
          [
           "Si"
          ],
          [
           "Si"
          ],
          [
           "Si"
          ],
          [
           "Si"
          ],
          [
           "Si"
          ]
         ],
         "hovertemplate": "%{customdata[0]}",
         "legendgroup": "Si",
         "marker": {
          "color": "#636efa",
          "opacity": 0.8,
          "size": 5,
          "symbol": "circle"
         },
         "mode": "markers",
         "name": "Si",
         "scene": "scene",
         "showlegend": false,
         "text": [
          "Si",
          "Si",
          "O",
          "O",
          "O",
          "Si",
          "Si",
          "Si",
          "O",
          "O",
          "O",
          "Si",
          "Si",
          "Si",
          "Si",
          "O",
          "O",
          "O",
          "O",
          "O",
          "O",
          "Si",
          "O",
          "O",
          "O",
          "Si",
          "Si",
          "Si",
          "O",
          "O",
          "O",
          "O",
          "O",
          "Si",
          "O",
          "O",
          "O",
          "O",
          "Si",
          "O",
          "Si",
          "O",
          "O",
          "O",
          "O",
          "O",
          "Si",
          "O",
          "Si",
          "Si",
          "O",
          "O",
          "O",
          "O",
          "Si"
         ],
         "type": "scatter3d",
         "x": [
          3.505683000000001,
          4.337536,
          3.400791999999999,
          3.2963629999999995,
          4.288603999999999,
          -3.395403999999999,
          -3.9045710000000007,
          -2.1031150000000007,
          -3.3346160000000005,
          -1.677486,
          -2.2986380000000004,
          -2.8018959999999993,
          -3.542605,
          -4.376805000000001,
          -1.406068602935271,
          -0.630047740210852,
          0.022226259789148273,
          0.28563274942754635,
          -0.5,
          1.150856749427546
         ],
         "y": [
          -1.677274999999998,
          -1.9924879999999998,
          -4.923577,
          4.620056000000001,
          1.4117780000000009,
          -4.470077999999999,
          0.17148200000000102,
          -1.5952190000000002,
          -4.618774999999999,
          0.6030180000000023,
          2.3820580000000007,
          5.288629,
          4.373694,
          1.9777850000000008,
          -5.49320811138614,
          1.0489625614220692,
          -3.6081874385779322,
          1.8713621935445,
          4,
          5.039972193544501
         ],
         "z": [
          -5.43286,
          2.272283,
          4.106719999999999,
          1.5188079999999982,
          -5.295141000000001,
          -5.2492920000000005,
          -0.075094,
          2.627377000000001,
          3.535831,
          5.314871,
          -3.4082419999999995,
          -4.8826529999999995,
          3.179373,
          5.124404999999999,
          -5.135852667551358,
          -5.826727978314072,
          2.7494130216859274,
          -0.422862884833755,
          -1,
          -2.924418884833756
         ]
        },
        {
         "customdata": [
          [
           "O"
          ],
          [
           "O"
          ],
          [
           "O"
          ],
          [
           "O"
          ],
          [
           "O"
          ],
          [
           "O"
          ],
          [
           "O"
          ],
          [
           "O"
          ],
          [
           "O"
          ],
          [
           "O"
          ],
          [
           "O"
          ],
          [
           "O"
          ],
          [
           "O"
          ],
          [
           "O"
          ],
          [
           "O"
          ],
          [
           "O"
          ],
          [
           "O"
          ],
          [
           "O"
          ],
          [
           "O"
          ],
          [
           "O"
          ],
          [
           "O"
          ],
          [
           "O"
          ],
          [
           "O"
          ],
          [
           "O"
          ],
          [
           "O"
          ],
          [
           "O"
          ],
          [
           "O"
          ],
          [
           "O"
          ],
          [
           "O"
          ],
          [
           "O"
          ],
          [
           "O"
          ],
          [
           "O"
          ],
          [
           "O"
          ],
          [
           "O"
          ],
          [
           "O"
          ]
         ],
         "hovertemplate": "%{customdata[0]}",
         "legendgroup": "O",
         "marker": {
          "color": "#EF553B",
          "opacity": 0.8,
          "size": 5,
          "symbol": "circle"
         },
         "mode": "markers",
         "name": "O",
         "scene": "scene",
         "showlegend": false,
         "text": [
          "Si",
          "Si",
          "O",
          "O",
          "O",
          "Si",
          "Si",
          "Si",
          "O",
          "O",
          "O",
          "Si",
          "Si",
          "Si",
          "Si",
          "O",
          "O",
          "O",
          "O",
          "O",
          "O",
          "Si",
          "O",
          "O",
          "O",
          "Si",
          "Si",
          "Si",
          "O",
          "O",
          "O",
          "O",
          "O",
          "Si",
          "O",
          "O",
          "O",
          "O",
          "Si",
          "O",
          "Si",
          "O",
          "O",
          "O",
          "O",
          "O",
          "Si",
          "O",
          "Si",
          "Si",
          "O",
          "O",
          "O",
          "O",
          "Si"
         ],
         "type": "scatter3d",
         "x": [
          4.198772999999999,
          4.112224999999999,
          4.46865,
          4.025485,
          3.9726670000000013,
          3.679558,
          -3.1948380000000007,
          -3.1256400000000006,
          -2.258349000000001,
          -2.7628140000000005,
          -4.108806999999999,
          -2.3234209999999997,
          -3.0988109999999995,
          -2.066502,
          -3.2260089999999995,
          -3.7055670000000003,
          -1.8499400000000001,
          -3.5322949999999995,
          -2.0446790000000004,
          -2.365627,
          -3.84666,
          -1.5,
          -0.8256637402108513,
          -0.6775187402108518,
          -1.5,
          -1.5,
          -1.2128737402108527,
          -1.5,
          -1.5,
          0.12099025978914746,
          0.16978574942754587,
          0.4642837494275458,
          0.6815067494275464,
          1.2335337494275462,
          1.0246427494275459
         ],
         "y": [
          0.11856900000000081,
          -0.22287000000000035,
          -3.174268999999999,
          3.4501470000000007,
          4.633879,
          2.060506000000001,
          -2.527085999999999,
          -5.290586999999999,
          -4.765920999999999,
          -0.8007080000000002,
          -1.4535209999999985,
          -3.369076999999999,
          1.1894430000000007,
          -0.45721400000000045,
          -5.765405999999999,
          2.030163000000001,
          3.940156000000001,
          3.8789640000000007,
          4.855818000000001,
          1.768718000000001,
          3.421695000000001,
          -5,
          -4.042589438577931,
          -2.4993154385779306,
          -2,
          2,
          2.8439085614220687,
          4,
          5,
          -5.0293394385779315,
          0.9497191935445004,
          5.920034193544501,
          0.8464761935445013,
          3.253994193544501,
          5.708970193544501
         ],
         "z": [
          -2.9687300000000008,
          3.3099690000000006,
          0.8509709999999995,
          3.8831879999999988,
          -3.611614000000001,
          -1.050217,
          -4.913344,
          2.0674100000000006,
          -3.592866000000001,
          -1.4281260000000007,
          2.4953160000000008,
          3.8384349999999987,
          5.7820089999999995,
          4.155599,
          4.712675,
          -0.95214,
          2.6708279999999984,
          -3.662769000000001,
          -0.10802600000000062,
          -5.370734000000001,
          4.655602,
          -5,
          1.5140890216859288,
          3.6800030216859296,
          1,
          -5,
          -2.0575069783140725,
          -5,
          0,
          3.6639910216859297,
          -1.861423884833755,
          -1.698743884833755,
          0.7575751151662438,
          -0.5221928848337551,
          -4.408548884833755
         ]
        },
        {
         "hoverinfo": "text",
         "line": {
          "color": "red",
          "width": 3
         },
         "mode": "lines",
         "showlegend": false,
         "text": "dist: 0.00A",
         "type": "scatter3d",
         "x": [
          4.198772999999999,
          4.198772999999999
         ],
         "y": [
          0.11856900000000081,
          0.11856900000000081
         ],
         "z": [
          -2.9687300000000008,
          -2.9687300000000008
         ]
        },
        {
         "hoverinfo": "text",
         "line": {
          "color": "red",
          "width": 3
         },
         "mode": "lines",
         "showlegend": false,
         "text": "dist: 0.00A",
         "type": "scatter3d",
         "x": [
          4.112224999999999,
          4.112224999999999
         ],
         "y": [
          -0.22287000000000035,
          -0.22287000000000035
         ],
         "z": [
          3.3099690000000006,
          3.3099690000000006
         ]
        },
        {
         "hoverinfo": "text",
         "line": {
          "color": "red",
          "width": 3
         },
         "mode": "lines",
         "showlegend": false,
         "text": "dist: 0.00A",
         "type": "scatter3d",
         "x": [
          4.46865,
          4.46865
         ],
         "y": [
          -3.174268999999999,
          -3.174268999999999
         ],
         "z": [
          0.8509709999999995,
          0.8509709999999995
         ]
        },
        {
         "hoverinfo": "text",
         "line": {
          "color": "red",
          "width": 3
         },
         "mode": "lines",
         "showlegend": false,
         "text": "dist: 0.00A",
         "type": "scatter3d",
         "x": [
          4.025485,
          4.025485
         ],
         "y": [
          3.4501470000000007,
          3.4501470000000007
         ],
         "z": [
          3.8831879999999988,
          3.8831879999999988
         ]
        },
        {
         "hoverinfo": "text",
         "line": {
          "color": "red",
          "width": 3
         },
         "mode": "lines",
         "showlegend": false,
         "text": "dist: 0.00A",
         "type": "scatter3d",
         "x": [
          3.9726670000000013,
          3.9726670000000013
         ],
         "y": [
          4.633879,
          4.633879
         ],
         "z": [
          -3.611614000000001,
          -3.611614000000001
         ]
        },
        {
         "hoverinfo": "text",
         "line": {
          "color": "red",
          "width": 3
         },
         "mode": "lines",
         "showlegend": false,
         "text": "dist: 0.00A",
         "type": "scatter3d",
         "x": [
          3.679558,
          3.679558
         ],
         "y": [
          2.060506000000001,
          2.060506000000001
         ],
         "z": [
          -1.050217,
          -1.050217
         ]
        },
        {
         "hoverinfo": "text",
         "line": {
          "color": "red",
          "width": 3
         },
         "mode": "lines",
         "showlegend": false,
         "text": "dist: 0.00A",
         "type": "scatter3d",
         "x": [
          -3.1948380000000007,
          -3.1948380000000007
         ],
         "y": [
          -2.527085999999999,
          -2.527085999999999
         ],
         "z": [
          -4.913344,
          -4.913344
         ]
        },
        {
         "hoverinfo": "text",
         "line": {
          "color": "red",
          "width": 3
         },
         "mode": "lines",
         "showlegend": false,
         "text": "dist: 0.00A",
         "type": "scatter3d",
         "x": [
          -3.1256400000000006,
          -3.1256400000000006
         ],
         "y": [
          -5.290586999999999,
          -5.290586999999999
         ],
         "z": [
          2.0674100000000006,
          2.0674100000000006
         ]
        },
        {
         "hoverinfo": "text",
         "line": {
          "color": "red",
          "width": 3
         },
         "mode": "lines",
         "showlegend": false,
         "text": "dist: 0.00A",
         "type": "scatter3d",
         "x": [
          -2.258349000000001,
          -2.258349000000001
         ],
         "y": [
          -4.765920999999999,
          -4.765920999999999
         ],
         "z": [
          -3.592866000000001,
          -3.592866000000001
         ]
        },
        {
         "hoverinfo": "text",
         "line": {
          "color": "red",
          "width": 3
         },
         "mode": "lines",
         "showlegend": false,
         "text": "dist: 1.62A",
         "type": "scatter3d",
         "x": [
          -2.258349000000001,
          -1.5
         ],
         "y": [
          -4.765920999999999,
          -5
         ],
         "z": [
          -3.592866000000001,
          -5
         ]
        },
        {
         "hoverinfo": "text",
         "line": {
          "color": "red",
          "width": 3
         },
         "mode": "lines",
         "showlegend": false,
         "text": "dist: 0.00A",
         "type": "scatter3d",
         "x": [
          -2.7628140000000005,
          -2.7628140000000005
         ],
         "y": [
          -0.8007080000000002,
          -0.8007080000000002
         ],
         "z": [
          -1.4281260000000007,
          -1.4281260000000007
         ]
        },
        {
         "hoverinfo": "text",
         "line": {
          "color": "red",
          "width": 3
         },
         "mode": "lines",
         "showlegend": false,
         "text": "dist: 0.00A",
         "type": "scatter3d",
         "x": [
          -4.108806999999999,
          -4.108806999999999
         ],
         "y": [
          -1.4535209999999985,
          -1.4535209999999985
         ],
         "z": [
          2.4953160000000008,
          2.4953160000000008
         ]
        },
        {
         "hoverinfo": "text",
         "line": {
          "color": "red",
          "width": 3
         },
         "mode": "lines",
         "showlegend": false,
         "text": "dist: 0.00A",
         "type": "scatter3d",
         "x": [
          -2.3234209999999997,
          -2.3234209999999997
         ],
         "y": [
          -3.369076999999999,
          -3.369076999999999
         ],
         "z": [
          3.8384349999999987,
          3.8384349999999987
         ]
        },
        {
         "hoverinfo": "text",
         "line": {
          "color": "red",
          "width": 3
         },
         "mode": "lines",
         "showlegend": false,
         "text": "dist: 1.87A",
         "type": "scatter3d",
         "x": [
          -2.3234209999999997,
          -0.6775187402108518
         ],
         "y": [
          -3.369076999999999,
          -2.4993154385779306
         ],
         "z": [
          3.8384349999999987,
          3.6800030216859296
         ]
        },
        {
         "hoverinfo": "text",
         "line": {
          "color": "red",
          "width": 3
         },
         "mode": "lines",
         "showlegend": false,
         "text": "dist: 0.00A",
         "type": "scatter3d",
         "x": [
          -3.0988109999999995,
          -3.0988109999999995
         ],
         "y": [
          1.1894430000000007,
          1.1894430000000007
         ],
         "z": [
          5.7820089999999995,
          5.7820089999999995
         ]
        },
        {
         "hoverinfo": "text",
         "line": {
          "color": "red",
          "width": 3
         },
         "mode": "lines",
         "showlegend": false,
         "text": "dist: 2.53A",
         "type": "scatter3d",
         "x": [
          -3.0988109999999995,
          -2.066502
         ],
         "y": [
          1.1894430000000007,
          -0.45721400000000045
         ],
         "z": [
          5.7820089999999995,
          4.155599
         ]
        },
        {
         "hoverinfo": "text",
         "line": {
          "color": "red",
          "width": 3
         },
         "mode": "lines",
         "showlegend": false,
         "text": "dist: 2.53A",
         "type": "scatter3d",
         "x": [
          -2.066502,
          -3.0988109999999995
         ],
         "y": [
          -0.45721400000000045,
          1.1894430000000007
         ],
         "z": [
          4.155599,
          5.7820089999999995
         ]
        },
        {
         "hoverinfo": "text",
         "line": {
          "color": "red",
          "width": 3
         },
         "mode": "lines",
         "showlegend": false,
         "text": "dist: 0.00A",
         "type": "scatter3d",
         "x": [
          -2.066502,
          -2.066502
         ],
         "y": [
          -0.45721400000000045,
          -0.45721400000000045
         ],
         "z": [
          4.155599,
          4.155599
         ]
        },
        {
         "hoverinfo": "text",
         "line": {
          "color": "red",
          "width": 3
         },
         "mode": "lines",
         "showlegend": false,
         "text": "dist: 2.52A",
         "type": "scatter3d",
         "x": [
          -2.066502,
          -0.6775187402108518
         ],
         "y": [
          -0.45721400000000045,
          -2.4993154385779306
         ],
         "z": [
          4.155599,
          3.6800030216859296
         ]
        },
        {
         "hoverinfo": "text",
         "line": {
          "color": "red",
          "width": 3
         },
         "mode": "lines",
         "showlegend": false,
         "text": "dist: 0.00A",
         "type": "scatter3d",
         "x": [
          -3.2260089999999995,
          -3.2260089999999995
         ],
         "y": [
          -5.765405999999999,
          -5.765405999999999
         ],
         "z": [
          4.712675,
          4.712675
         ]
        },
        {
         "hoverinfo": "text",
         "line": {
          "color": "red",
          "width": 3
         },
         "mode": "lines",
         "showlegend": false,
         "text": "dist: 0.00A",
         "type": "scatter3d",
         "x": [
          -3.7055670000000003,
          -3.7055670000000003
         ],
         "y": [
          2.030163000000001,
          2.030163000000001
         ],
         "z": [
          -0.95214,
          -0.95214
         ]
        },
        {
         "hoverinfo": "text",
         "line": {
          "color": "red",
          "width": 3
         },
         "mode": "lines",
         "showlegend": false,
         "text": "dist: 0.00A",
         "type": "scatter3d",
         "x": [
          -1.8499400000000001,
          -1.8499400000000001
         ],
         "y": [
          3.940156000000001,
          3.940156000000001
         ],
         "z": [
          2.6708279999999984,
          2.6708279999999984
         ]
        },
        {
         "hoverinfo": "text",
         "line": {
          "color": "red",
          "width": 3
         },
         "mode": "lines",
         "showlegend": false,
         "text": "dist: 0.00A",
         "type": "scatter3d",
         "x": [
          -3.5322949999999995,
          -3.5322949999999995
         ],
         "y": [
          3.8789640000000007,
          3.8789640000000007
         ],
         "z": [
          -3.662769000000001,
          -3.662769000000001
         ]
        },
        {
         "hoverinfo": "text",
         "line": {
          "color": "red",
          "width": 3
         },
         "mode": "lines",
         "showlegend": false,
         "text": "dist: 2.44A",
         "type": "scatter3d",
         "x": [
          -3.5322949999999995,
          -1.5
         ],
         "y": [
          3.8789640000000007,
          4
         ],
         "z": [
          -3.662769000000001,
          -5
         ]
        },
        {
         "hoverinfo": "text",
         "line": {
          "color": "red",
          "width": 3
         },
         "mode": "lines",
         "showlegend": false,
         "text": "dist: 0.00A",
         "type": "scatter3d",
         "x": [
          -2.0446790000000004,
          -2.0446790000000004
         ],
         "y": [
          4.855818000000001,
          4.855818000000001
         ],
         "z": [
          -0.10802600000000062,
          -0.10802600000000062
         ]
        },
        {
         "hoverinfo": "text",
         "line": {
          "color": "red",
          "width": 3
         },
         "mode": "lines",
         "showlegend": false,
         "text": "dist: 0.57A",
         "type": "scatter3d",
         "x": [
          -2.0446790000000004,
          -1.5
         ],
         "y": [
          4.855818000000001,
          5
         ],
         "z": [
          -0.10802600000000062,
          0
         ]
        },
        {
         "hoverinfo": "text",
         "line": {
          "color": "red",
          "width": 3
         },
         "mode": "lines",
         "showlegend": false,
         "text": "dist: 0.00A",
         "type": "scatter3d",
         "x": [
          -2.365627,
          -2.365627
         ],
         "y": [
          1.768718000000001,
          1.768718000000001
         ],
         "z": [
          -5.370734000000001,
          -5.370734000000001
         ]
        },
        {
         "hoverinfo": "text",
         "line": {
          "color": "red",
          "width": 3
         },
         "mode": "lines",
         "showlegend": false,
         "text": "dist: 0.97A",
         "type": "scatter3d",
         "x": [
          -2.365627,
          -1.5
         ],
         "y": [
          1.768718000000001,
          2
         ],
         "z": [
          -5.370734000000001,
          -5
         ]
        },
        {
         "hoverinfo": "text",
         "line": {
          "color": "red",
          "width": 3
         },
         "mode": "lines",
         "showlegend": false,
         "text": "dist: 2.42A",
         "type": "scatter3d",
         "x": [
          -2.365627,
          -1.5
         ],
         "y": [
          1.768718000000001,
          4
         ],
         "z": [
          -5.370734000000001,
          -5
         ]
        },
        {
         "hoverinfo": "text",
         "line": {
          "color": "red",
          "width": 3
         },
         "mode": "lines",
         "showlegend": false,
         "text": "dist: 0.00A",
         "type": "scatter3d",
         "x": [
          -3.84666,
          -3.84666
         ],
         "y": [
          3.421695000000001,
          3.421695000000001
         ],
         "z": [
          4.655602,
          4.655602
         ]
        },
        {
         "hoverinfo": "text",
         "line": {
          "color": "red",
          "width": 3
         },
         "mode": "lines",
         "showlegend": false,
         "text": "dist: 1.62A",
         "type": "scatter3d",
         "x": [
          -1.5,
          -2.258349000000001
         ],
         "y": [
          -5,
          -4.765920999999999
         ],
         "z": [
          -5,
          -3.592866000000001
         ]
        },
        {
         "hoverinfo": "text",
         "line": {
          "color": "red",
          "width": 3
         },
         "mode": "lines",
         "showlegend": false,
         "text": "dist: 0.00A",
         "type": "scatter3d",
         "x": [
          -1.5,
          -1.5
         ],
         "y": [
          -5,
          -5
         ],
         "z": [
          -5,
          -5
         ]
        },
        {
         "hoverinfo": "text",
         "line": {
          "color": "red",
          "width": 3
         },
         "mode": "lines",
         "showlegend": false,
         "text": "dist: 0.00A",
         "type": "scatter3d",
         "x": [
          -0.8256637402108513,
          -0.8256637402108513
         ],
         "y": [
          -4.042589438577931,
          -4.042589438577931
         ],
         "z": [
          1.5140890216859288,
          1.5140890216859288
         ]
        },
        {
         "hoverinfo": "text",
         "line": {
          "color": "red",
          "width": 3
         },
         "mode": "lines",
         "showlegend": false,
         "text": "dist: 2.21A",
         "type": "scatter3d",
         "x": [
          -0.8256637402108513,
          -1.5
         ],
         "y": [
          -4.042589438577931,
          -2
         ],
         "z": [
          1.5140890216859288,
          1
         ]
        },
        {
         "hoverinfo": "text",
         "line": {
          "color": "red",
          "width": 3
         },
         "mode": "lines",
         "showlegend": false,
         "text": "dist: 2.55A",
         "type": "scatter3d",
         "x": [
          -0.8256637402108513,
          0.12099025978914746
         ],
         "y": [
          -4.042589438577931,
          -5.0293394385779315
         ],
         "z": [
          1.5140890216859288,
          3.6639910216859297
         ]
        },
        {
         "hoverinfo": "text",
         "line": {
          "color": "red",
          "width": 3
         },
         "mode": "lines",
         "showlegend": false,
         "text": "dist: 1.87A",
         "type": "scatter3d",
         "x": [
          -0.6775187402108518,
          -2.3234209999999997
         ],
         "y": [
          -2.4993154385779306,
          -3.369076999999999
         ],
         "z": [
          3.6800030216859296,
          3.8384349999999987
         ]
        },
        {
         "hoverinfo": "text",
         "line": {
          "color": "red",
          "width": 3
         },
         "mode": "lines",
         "showlegend": false,
         "text": "dist: 2.52A",
         "type": "scatter3d",
         "x": [
          -0.6775187402108518,
          -2.066502
         ],
         "y": [
          -2.4993154385779306,
          -0.45721400000000045
         ],
         "z": [
          3.6800030216859296,
          4.155599
         ]
        },
        {
         "hoverinfo": "text",
         "line": {
          "color": "red",
          "width": 3
         },
         "mode": "lines",
         "showlegend": false,
         "text": "dist: 0.00A",
         "type": "scatter3d",
         "x": [
          -0.6775187402108518,
          -0.6775187402108518
         ],
         "y": [
          -2.4993154385779306,
          -2.4993154385779306
         ],
         "z": [
          3.6800030216859296,
          3.6800030216859296
         ]
        },
        {
         "hoverinfo": "text",
         "line": {
          "color": "red",
          "width": 3
         },
         "mode": "lines",
         "showlegend": false,
         "text": "dist: 2.21A",
         "type": "scatter3d",
         "x": [
          -1.5,
          -0.8256637402108513
         ],
         "y": [
          -2,
          -4.042589438577931
         ],
         "z": [
          1,
          1.5140890216859288
         ]
        },
        {
         "hoverinfo": "text",
         "line": {
          "color": "red",
          "width": 3
         },
         "mode": "lines",
         "showlegend": false,
         "text": "dist: 0.00A",
         "type": "scatter3d",
         "x": [
          -1.5,
          -1.5
         ],
         "y": [
          -2,
          -2
         ],
         "z": [
          1,
          1
         ]
        },
        {
         "hoverinfo": "text",
         "line": {
          "color": "red",
          "width": 3
         },
         "mode": "lines",
         "showlegend": false,
         "text": "dist: 0.97A",
         "type": "scatter3d",
         "x": [
          -1.5,
          -2.365627
         ],
         "y": [
          2,
          1.768718000000001
         ],
         "z": [
          -5,
          -5.370734000000001
         ]
        },
        {
         "hoverinfo": "text",
         "line": {
          "color": "red",
          "width": 3
         },
         "mode": "lines",
         "showlegend": false,
         "text": "dist: 0.00A",
         "type": "scatter3d",
         "x": [
          -1.5,
          -1.5
         ],
         "y": [
          2,
          2
         ],
         "z": [
          -5,
          -5
         ]
        },
        {
         "hoverinfo": "text",
         "line": {
          "color": "red",
          "width": 3
         },
         "mode": "lines",
         "showlegend": false,
         "text": "dist: 2.00A",
         "type": "scatter3d",
         "x": [
          -1.5,
          -1.5
         ],
         "y": [
          2,
          4
         ],
         "z": [
          -5,
          -5
         ]
        },
        {
         "hoverinfo": "text",
         "line": {
          "color": "red",
          "width": 3
         },
         "mode": "lines",
         "showlegend": false,
         "text": "dist: 0.00A",
         "type": "scatter3d",
         "x": [
          -1.2128737402108527,
          -1.2128737402108527
         ],
         "y": [
          2.8439085614220687,
          2.8439085614220687
         ],
         "z": [
          -2.0575069783140725,
          -2.0575069783140725
         ]
        },
        {
         "hoverinfo": "text",
         "line": {
          "color": "red",
          "width": 3
         },
         "mode": "lines",
         "showlegend": false,
         "text": "dist: 2.35A",
         "type": "scatter3d",
         "x": [
          -1.2128737402108527,
          0.16978574942754587
         ],
         "y": [
          2.8439085614220687,
          0.9497191935445004
         ],
         "z": [
          -2.0575069783140725,
          -1.861423884833755
         ]
        },
        {
         "hoverinfo": "text",
         "line": {
          "color": "red",
          "width": 3
         },
         "mode": "lines",
         "showlegend": false,
         "text": "dist: 2.44A",
         "type": "scatter3d",
         "x": [
          -1.5,
          -3.5322949999999995
         ],
         "y": [
          4,
          3.8789640000000007
         ],
         "z": [
          -5,
          -3.662769000000001
         ]
        },
        {
         "hoverinfo": "text",
         "line": {
          "color": "red",
          "width": 3
         },
         "mode": "lines",
         "showlegend": false,
         "text": "dist: 2.42A",
         "type": "scatter3d",
         "x": [
          -1.5,
          -2.365627
         ],
         "y": [
          4,
          1.768718000000001
         ],
         "z": [
          -5,
          -5.370734000000001
         ]
        },
        {
         "hoverinfo": "text",
         "line": {
          "color": "red",
          "width": 3
         },
         "mode": "lines",
         "showlegend": false,
         "text": "dist: 2.00A",
         "type": "scatter3d",
         "x": [
          -1.5,
          -1.5
         ],
         "y": [
          4,
          2
         ],
         "z": [
          -5,
          -5
         ]
        },
        {
         "hoverinfo": "text",
         "line": {
          "color": "red",
          "width": 3
         },
         "mode": "lines",
         "showlegend": false,
         "text": "dist: 0.00A",
         "type": "scatter3d",
         "x": [
          -1.5,
          -1.5
         ],
         "y": [
          4,
          4
         ],
         "z": [
          -5,
          -5
         ]
        },
        {
         "hoverinfo": "text",
         "line": {
          "color": "red",
          "width": 3
         },
         "mode": "lines",
         "showlegend": false,
         "text": "dist: 0.57A",
         "type": "scatter3d",
         "x": [
          -1.5,
          -2.0446790000000004
         ],
         "y": [
          5,
          4.855818000000001
         ],
         "z": [
          0,
          -0.10802600000000062
         ]
        },
        {
         "hoverinfo": "text",
         "line": {
          "color": "red",
          "width": 3
         },
         "mode": "lines",
         "showlegend": false,
         "text": "dist: 0.00A",
         "type": "scatter3d",
         "x": [
          -1.5,
          -1.5
         ],
         "y": [
          5,
          5
         ],
         "z": [
          0,
          0
         ]
        },
        {
         "hoverinfo": "text",
         "line": {
          "color": "red",
          "width": 3
         },
         "mode": "lines",
         "showlegend": false,
         "text": "dist: 2.55A",
         "type": "scatter3d",
         "x": [
          0.12099025978914746,
          -0.8256637402108513
         ],
         "y": [
          -5.0293394385779315,
          -4.042589438577931
         ],
         "z": [
          3.6639910216859297,
          1.5140890216859288
         ]
        },
        {
         "hoverinfo": "text",
         "line": {
          "color": "red",
          "width": 3
         },
         "mode": "lines",
         "showlegend": false,
         "text": "dist: 0.00A",
         "type": "scatter3d",
         "x": [
          0.12099025978914746,
          0.12099025978914746
         ],
         "y": [
          -5.0293394385779315,
          -5.0293394385779315
         ],
         "z": [
          3.6639910216859297,
          3.6639910216859297
         ]
        },
        {
         "hoverinfo": "text",
         "line": {
          "color": "red",
          "width": 3
         },
         "mode": "lines",
         "showlegend": false,
         "text": "dist: 2.35A",
         "type": "scatter3d",
         "x": [
          0.16978574942754587,
          -1.2128737402108527
         ],
         "y": [
          0.9497191935445004,
          2.8439085614220687
         ],
         "z": [
          -1.861423884833755,
          -2.0575069783140725
         ]
        },
        {
         "hoverinfo": "text",
         "line": {
          "color": "red",
          "width": 3
         },
         "mode": "lines",
         "showlegend": false,
         "text": "dist: 0.00A",
         "type": "scatter3d",
         "x": [
          0.16978574942754587,
          0.16978574942754587
         ],
         "y": [
          0.9497191935445004,
          0.9497191935445004
         ],
         "z": [
          -1.861423884833755,
          -1.861423884833755
         ]
        },
        {
         "hoverinfo": "text",
         "line": {
          "color": "red",
          "width": 3
         },
         "mode": "lines",
         "showlegend": false,
         "text": "dist: 0.00A",
         "type": "scatter3d",
         "x": [
          0.4642837494275458,
          0.4642837494275458
         ],
         "y": [
          5.920034193544501,
          5.920034193544501
         ],
         "z": [
          -1.698743884833755,
          -1.698743884833755
         ]
        },
        {
         "hoverinfo": "text",
         "line": {
          "color": "red",
          "width": 3
         },
         "mode": "lines",
         "showlegend": false,
         "text": "dist: 0.00A",
         "type": "scatter3d",
         "x": [
          0.6815067494275464,
          0.6815067494275464
         ],
         "y": [
          0.8464761935445013,
          0.8464761935445013
         ],
         "z": [
          0.7575751151662438,
          0.7575751151662438
         ]
        },
        {
         "hoverinfo": "text",
         "line": {
          "color": "red",
          "width": 3
         },
         "mode": "lines",
         "showlegend": false,
         "text": "dist: 0.00A",
         "type": "scatter3d",
         "x": [
          1.2335337494275462,
          1.2335337494275462
         ],
         "y": [
          3.253994193544501,
          3.253994193544501
         ],
         "z": [
          -0.5221928848337551,
          -0.5221928848337551
         ]
        },
        {
         "hoverinfo": "text",
         "line": {
          "color": "red",
          "width": 3
         },
         "mode": "lines",
         "showlegend": false,
         "text": "dist: 0.00A",
         "type": "scatter3d",
         "x": [
          1.0246427494275459,
          1.0246427494275459
         ],
         "y": [
          5.708970193544501,
          5.708970193544501
         ],
         "z": [
          -4.408548884833755,
          -4.408548884833755
         ]
        },
        {
         "hoverinfo": "text",
         "line": {
          "color": "red",
          "width": 3
         },
         "mode": "lines",
         "showlegend": false,
         "text": "dist: 0.52A",
         "type": "scatter3d",
         "x": [
          -1.5,
          -1.406068602935271
         ],
         "y": [
          -5,
          -5.49320811138614
         ],
         "z": [
          -5,
          -5.135852667551358
         ]
        },
        {
         "hoverinfo": "text",
         "line": {
          "color": "red",
          "width": 3
         },
         "mode": "lines",
         "showlegend": false,
         "text": "dist: 1.56A",
         "type": "scatter3d",
         "x": [
          -0.8256637402108513,
          0.022226259789148273
         ],
         "y": [
          -4.042589438577931,
          -3.6081874385779322
         ],
         "z": [
          1.5140890216859288,
          2.7494130216859274
         ]
        },
        {
         "hoverinfo": "text",
         "line": {
          "color": "red",
          "width": 3
         },
         "mode": "lines",
         "showlegend": false,
         "text": "dist: 1.53A",
         "type": "scatter3d",
         "x": [
          -1.5,
          -0.630047740210852
         ],
         "y": [
          2,
          1.0489625614220692
         ],
         "z": [
          -5,
          -5.826727978314072
         ]
        },
        {
         "hoverinfo": "text",
         "line": {
          "color": "red",
          "width": 3
         },
         "mode": "lines",
         "showlegend": false,
         "text": "dist: 0.00A",
         "type": "scatter3d",
         "x": [
          3.505683000000001,
          3.505683000000001
         ],
         "y": [
          -1.677274999999998,
          -1.677274999999998
         ],
         "z": [
          -5.43286,
          -5.43286
         ]
        },
        {
         "hoverinfo": "text",
         "line": {
          "color": "red",
          "width": 3
         },
         "mode": "lines",
         "showlegend": false,
         "text": "dist: 0.00A",
         "type": "scatter3d",
         "x": [
          4.337536,
          4.337536
         ],
         "y": [
          -1.9924879999999998,
          -1.9924879999999998
         ],
         "z": [
          2.272283,
          2.272283
         ]
        },
        {
         "hoverinfo": "text",
         "line": {
          "color": "red",
          "width": 3
         },
         "mode": "lines",
         "showlegend": false,
         "text": "dist: 0.00A",
         "type": "scatter3d",
         "x": [
          3.400791999999999,
          3.400791999999999
         ],
         "y": [
          -4.923577,
          -4.923577
         ],
         "z": [
          4.106719999999999,
          4.106719999999999
         ]
        },
        {
         "hoverinfo": "text",
         "line": {
          "color": "red",
          "width": 3
         },
         "mode": "lines",
         "showlegend": false,
         "text": "dist: 0.00A",
         "type": "scatter3d",
         "x": [
          3.2963629999999995,
          3.2963629999999995
         ],
         "y": [
          4.620056000000001,
          4.620056000000001
         ],
         "z": [
          1.5188079999999982,
          1.5188079999999982
         ]
        },
        {
         "hoverinfo": "text",
         "line": {
          "color": "red",
          "width": 3
         },
         "mode": "lines",
         "showlegend": false,
         "text": "dist: 0.00A",
         "type": "scatter3d",
         "x": [
          4.288603999999999,
          4.288603999999999
         ],
         "y": [
          1.4117780000000009,
          1.4117780000000009
         ],
         "z": [
          -5.295141000000001,
          -5.295141000000001
         ]
        },
        {
         "hoverinfo": "text",
         "line": {
          "color": "red",
          "width": 3
         },
         "mode": "lines",
         "showlegend": false,
         "text": "dist: 0.00A",
         "type": "scatter3d",
         "x": [
          -3.395403999999999,
          -3.395403999999999
         ],
         "y": [
          -4.470077999999999,
          -4.470077999999999
         ],
         "z": [
          -5.2492920000000005,
          -5.2492920000000005
         ]
        },
        {
         "hoverinfo": "text",
         "line": {
          "color": "red",
          "width": 3
         },
         "mode": "lines",
         "showlegend": false,
         "text": "dist: 2.24A",
         "type": "scatter3d",
         "x": [
          -3.395403999999999,
          -1.406068602935271
         ],
         "y": [
          -4.470077999999999,
          -5.49320811138614
         ],
         "z": [
          -5.2492920000000005,
          -5.135852667551358
         ]
        },
        {
         "hoverinfo": "text",
         "line": {
          "color": "red",
          "width": 3
         },
         "mode": "lines",
         "showlegend": false,
         "text": "dist: 0.00A",
         "type": "scatter3d",
         "x": [
          -3.9045710000000007,
          -3.9045710000000007
         ],
         "y": [
          0.17148200000000102,
          0.17148200000000102
         ],
         "z": [
          -0.075094,
          -0.075094
         ]
        },
        {
         "hoverinfo": "text",
         "line": {
          "color": "red",
          "width": 3
         },
         "mode": "lines",
         "showlegend": false,
         "text": "dist: 0.00A",
         "type": "scatter3d",
         "x": [
          -2.1031150000000007,
          -2.1031150000000007
         ],
         "y": [
          -1.5952190000000002,
          -1.5952190000000002
         ],
         "z": [
          2.627377000000001,
          2.627377000000001
         ]
        },
        {
         "hoverinfo": "text",
         "line": {
          "color": "red",
          "width": 3
         },
         "mode": "lines",
         "showlegend": false,
         "text": "dist: 0.00A",
         "type": "scatter3d",
         "x": [
          -3.3346160000000005,
          -3.3346160000000005
         ],
         "y": [
          -4.618774999999999,
          -4.618774999999999
         ],
         "z": [
          3.535831,
          3.535831
         ]
        },
        {
         "hoverinfo": "text",
         "line": {
          "color": "red",
          "width": 3
         },
         "mode": "lines",
         "showlegend": false,
         "text": "dist: 0.00A",
         "type": "scatter3d",
         "x": [
          -1.677486,
          -1.677486
         ],
         "y": [
          0.6030180000000023,
          0.6030180000000023
         ],
         "z": [
          5.314871,
          5.314871
         ]
        },
        {
         "hoverinfo": "text",
         "line": {
          "color": "red",
          "width": 3
         },
         "mode": "lines",
         "showlegend": false,
         "text": "dist: 0.00A",
         "type": "scatter3d",
         "x": [
          -2.2986380000000004,
          -2.2986380000000004
         ],
         "y": [
          2.3820580000000007,
          2.3820580000000007
         ],
         "z": [
          -3.4082419999999995,
          -3.4082419999999995
         ]
        },
        {
         "hoverinfo": "text",
         "line": {
          "color": "red",
          "width": 3
         },
         "mode": "lines",
         "showlegend": false,
         "text": "dist: 0.00A",
         "type": "scatter3d",
         "x": [
          -2.8018959999999993,
          -2.8018959999999993
         ],
         "y": [
          5.288629,
          5.288629
         ],
         "z": [
          -4.8826529999999995,
          -4.8826529999999995
         ]
        },
        {
         "hoverinfo": "text",
         "line": {
          "color": "red",
          "width": 3
         },
         "mode": "lines",
         "showlegend": false,
         "text": "dist: 0.00A",
         "type": "scatter3d",
         "x": [
          -3.542605,
          -3.542605
         ],
         "y": [
          4.373694,
          4.373694
         ],
         "z": [
          3.179373,
          3.179373
         ]
        },
        {
         "hoverinfo": "text",
         "line": {
          "color": "red",
          "width": 3
         },
         "mode": "lines",
         "showlegend": false,
         "text": "dist: 0.00A",
         "type": "scatter3d",
         "x": [
          -4.376805000000001,
          -4.376805000000001
         ],
         "y": [
          1.9777850000000008,
          1.9777850000000008
         ],
         "z": [
          5.124404999999999,
          5.124404999999999
         ]
        },
        {
         "hoverinfo": "text",
         "line": {
          "color": "red",
          "width": 3
         },
         "mode": "lines",
         "showlegend": false,
         "text": "dist: 2.24A",
         "type": "scatter3d",
         "x": [
          -1.406068602935271,
          -3.395403999999999
         ],
         "y": [
          -5.49320811138614,
          -4.470077999999999
         ],
         "z": [
          -5.135852667551358,
          -5.2492920000000005
         ]
        },
        {
         "hoverinfo": "text",
         "line": {
          "color": "red",
          "width": 3
         },
         "mode": "lines",
         "showlegend": false,
         "text": "dist: 0.00A",
         "type": "scatter3d",
         "x": [
          -1.406068602935271,
          -1.406068602935271
         ],
         "y": [
          -5.49320811138614,
          -5.49320811138614
         ],
         "z": [
          -5.135852667551358,
          -5.135852667551358
         ]
        },
        {
         "hoverinfo": "text",
         "line": {
          "color": "red",
          "width": 3
         },
         "mode": "lines",
         "showlegend": false,
         "text": "dist: 0.00A",
         "type": "scatter3d",
         "x": [
          -0.630047740210852,
          -0.630047740210852
         ],
         "y": [
          1.0489625614220692,
          1.0489625614220692
         ],
         "z": [
          -5.826727978314072,
          -5.826727978314072
         ]
        },
        {
         "hoverinfo": "text",
         "line": {
          "color": "red",
          "width": 3
         },
         "mode": "lines",
         "showlegend": false,
         "text": "dist: 0.00A",
         "type": "scatter3d",
         "x": [
          0.022226259789148273,
          0.022226259789148273
         ],
         "y": [
          -3.6081874385779322,
          -3.6081874385779322
         ],
         "z": [
          2.7494130216859274,
          2.7494130216859274
         ]
        },
        {
         "hoverinfo": "text",
         "line": {
          "color": "red",
          "width": 3
         },
         "mode": "lines",
         "showlegend": false,
         "text": "dist: 0.00A",
         "type": "scatter3d",
         "x": [
          0.28563274942754635,
          0.28563274942754635
         ],
         "y": [
          1.8713621935445,
          1.8713621935445
         ],
         "z": [
          -0.422862884833755,
          -0.422862884833755
         ]
        },
        {
         "hoverinfo": "text",
         "line": {
          "color": "red",
          "width": 3
         },
         "mode": "lines",
         "showlegend": false,
         "text": "dist: 2.34A",
         "type": "scatter3d",
         "x": [
          0.28563274942754635,
          -0.5
         ],
         "y": [
          1.8713621935445,
          4
         ],
         "z": [
          -0.422862884833755,
          -1
         ]
        },
        {
         "hoverinfo": "text",
         "line": {
          "color": "red",
          "width": 3
         },
         "mode": "lines",
         "showlegend": false,
         "text": "dist: 2.34A",
         "type": "scatter3d",
         "x": [
          -0.5,
          0.28563274942754635
         ],
         "y": [
          4,
          1.8713621935445
         ],
         "z": [
          -1,
          -0.422862884833755
         ]
        },
        {
         "hoverinfo": "text",
         "line": {
          "color": "red",
          "width": 3
         },
         "mode": "lines",
         "showlegend": false,
         "text": "dist: 0.00A",
         "type": "scatter3d",
         "x": [
          -0.5,
          -0.5
         ],
         "y": [
          4,
          4
         ],
         "z": [
          -1,
          -1
         ]
        },
        {
         "hoverinfo": "text",
         "line": {
          "color": "red",
          "width": 3
         },
         "mode": "lines",
         "showlegend": false,
         "text": "dist: 2.74A",
         "type": "scatter3d",
         "x": [
          -0.5,
          1.150856749427546
         ],
         "y": [
          4,
          5.039972193544501
         ],
         "z": [
          -1,
          -2.924418884833756
         ]
        },
        {
         "hoverinfo": "text",
         "line": {
          "color": "red",
          "width": 3
         },
         "mode": "lines",
         "showlegend": false,
         "text": "dist: 2.74A",
         "type": "scatter3d",
         "x": [
          1.150856749427546,
          -0.5
         ],
         "y": [
          5.039972193544501,
          4
         ],
         "z": [
          -2.924418884833756,
          -1
         ]
        },
        {
         "hoverinfo": "text",
         "line": {
          "color": "red",
          "width": 3
         },
         "mode": "lines",
         "showlegend": false,
         "text": "dist: 0.00A",
         "type": "scatter3d",
         "x": [
          1.150856749427546,
          1.150856749427546
         ],
         "y": [
          5.039972193544501,
          5.039972193544501
         ],
         "z": [
          -2.924418884833756,
          -2.924418884833756
         ]
        },
        {
         "hoverinfo": "skip",
         "marker": {
          "showscale": false
         },
         "mode": "markers",
         "showlegend": false,
         "type": "scatter3d",
         "x": [
          null
         ],
         "y": [
          null
         ],
         "z": [
          null
         ]
        }
       ],
       "layout": {
        "legend": {
         "title": {
          "text": "Species"
         },
         "tracegroupgap": 0
        },
        "margin": {
         "b": 10,
         "l": 10,
         "r": 20,
         "t": 10
        },
        "scene": {
         "aspectmode": "data",
         "domain": {
          "x": [
           0,
           1
          ],
          "y": [
           0,
           1
          ]
         },
         "xaxis": {
          "title": {
           "text": "X"
          }
         },
         "yaxis": {
          "title": {
           "text": "Y"
          }
         },
         "zaxis": {
          "title": {
           "text": "Z"
          }
         }
        },
        "template": {
         "data": {
          "bar": [
           {
            "error_x": {
             "color": "#2a3f5f"
            },
            "error_y": {
             "color": "#2a3f5f"
            },
            "marker": {
             "line": {
              "color": "#E5ECF6",
              "width": 0.5
             },
             "pattern": {
              "fillmode": "overlay",
              "size": 10,
              "solidity": 0.2
             }
            },
            "type": "bar"
           }
          ],
          "barpolar": [
           {
            "marker": {
             "line": {
              "color": "#E5ECF6",
              "width": 0.5
             },
             "pattern": {
              "fillmode": "overlay",
              "size": 10,
              "solidity": 0.2
             }
            },
            "type": "barpolar"
           }
          ],
          "carpet": [
           {
            "aaxis": {
             "endlinecolor": "#2a3f5f",
             "gridcolor": "white",
             "linecolor": "white",
             "minorgridcolor": "white",
             "startlinecolor": "#2a3f5f"
            },
            "baxis": {
             "endlinecolor": "#2a3f5f",
             "gridcolor": "white",
             "linecolor": "white",
             "minorgridcolor": "white",
             "startlinecolor": "#2a3f5f"
            },
            "type": "carpet"
           }
          ],
          "choropleth": [
           {
            "colorbar": {
             "outlinewidth": 0,
             "ticks": ""
            },
            "type": "choropleth"
           }
          ],
          "contour": [
           {
            "colorbar": {
             "outlinewidth": 0,
             "ticks": ""
            },
            "colorscale": [
             [
              0,
              "#0d0887"
             ],
             [
              0.1111111111111111,
              "#46039f"
             ],
             [
              0.2222222222222222,
              "#7201a8"
             ],
             [
              0.3333333333333333,
              "#9c179e"
             ],
             [
              0.4444444444444444,
              "#bd3786"
             ],
             [
              0.5555555555555556,
              "#d8576b"
             ],
             [
              0.6666666666666666,
              "#ed7953"
             ],
             [
              0.7777777777777778,
              "#fb9f3a"
             ],
             [
              0.8888888888888888,
              "#fdca26"
             ],
             [
              1,
              "#f0f921"
             ]
            ],
            "type": "contour"
           }
          ],
          "contourcarpet": [
           {
            "colorbar": {
             "outlinewidth": 0,
             "ticks": ""
            },
            "type": "contourcarpet"
           }
          ],
          "heatmap": [
           {
            "colorbar": {
             "outlinewidth": 0,
             "ticks": ""
            },
            "colorscale": [
             [
              0,
              "#0d0887"
             ],
             [
              0.1111111111111111,
              "#46039f"
             ],
             [
              0.2222222222222222,
              "#7201a8"
             ],
             [
              0.3333333333333333,
              "#9c179e"
             ],
             [
              0.4444444444444444,
              "#bd3786"
             ],
             [
              0.5555555555555556,
              "#d8576b"
             ],
             [
              0.6666666666666666,
              "#ed7953"
             ],
             [
              0.7777777777777778,
              "#fb9f3a"
             ],
             [
              0.8888888888888888,
              "#fdca26"
             ],
             [
              1,
              "#f0f921"
             ]
            ],
            "type": "heatmap"
           }
          ],
          "heatmapgl": [
           {
            "colorbar": {
             "outlinewidth": 0,
             "ticks": ""
            },
            "colorscale": [
             [
              0,
              "#0d0887"
             ],
             [
              0.1111111111111111,
              "#46039f"
             ],
             [
              0.2222222222222222,
              "#7201a8"
             ],
             [
              0.3333333333333333,
              "#9c179e"
             ],
             [
              0.4444444444444444,
              "#bd3786"
             ],
             [
              0.5555555555555556,
              "#d8576b"
             ],
             [
              0.6666666666666666,
              "#ed7953"
             ],
             [
              0.7777777777777778,
              "#fb9f3a"
             ],
             [
              0.8888888888888888,
              "#fdca26"
             ],
             [
              1,
              "#f0f921"
             ]
            ],
            "type": "heatmapgl"
           }
          ],
          "histogram": [
           {
            "marker": {
             "pattern": {
              "fillmode": "overlay",
              "size": 10,
              "solidity": 0.2
             }
            },
            "type": "histogram"
           }
          ],
          "histogram2d": [
           {
            "colorbar": {
             "outlinewidth": 0,
             "ticks": ""
            },
            "colorscale": [
             [
              0,
              "#0d0887"
             ],
             [
              0.1111111111111111,
              "#46039f"
             ],
             [
              0.2222222222222222,
              "#7201a8"
             ],
             [
              0.3333333333333333,
              "#9c179e"
             ],
             [
              0.4444444444444444,
              "#bd3786"
             ],
             [
              0.5555555555555556,
              "#d8576b"
             ],
             [
              0.6666666666666666,
              "#ed7953"
             ],
             [
              0.7777777777777778,
              "#fb9f3a"
             ],
             [
              0.8888888888888888,
              "#fdca26"
             ],
             [
              1,
              "#f0f921"
             ]
            ],
            "type": "histogram2d"
           }
          ],
          "histogram2dcontour": [
           {
            "colorbar": {
             "outlinewidth": 0,
             "ticks": ""
            },
            "colorscale": [
             [
              0,
              "#0d0887"
             ],
             [
              0.1111111111111111,
              "#46039f"
             ],
             [
              0.2222222222222222,
              "#7201a8"
             ],
             [
              0.3333333333333333,
              "#9c179e"
             ],
             [
              0.4444444444444444,
              "#bd3786"
             ],
             [
              0.5555555555555556,
              "#d8576b"
             ],
             [
              0.6666666666666666,
              "#ed7953"
             ],
             [
              0.7777777777777778,
              "#fb9f3a"
             ],
             [
              0.8888888888888888,
              "#fdca26"
             ],
             [
              1,
              "#f0f921"
             ]
            ],
            "type": "histogram2dcontour"
           }
          ],
          "mesh3d": [
           {
            "colorbar": {
             "outlinewidth": 0,
             "ticks": ""
            },
            "type": "mesh3d"
           }
          ],
          "parcoords": [
           {
            "line": {
             "colorbar": {
              "outlinewidth": 0,
              "ticks": ""
             }
            },
            "type": "parcoords"
           }
          ],
          "pie": [
           {
            "automargin": true,
            "type": "pie"
           }
          ],
          "scatter": [
           {
            "fillpattern": {
             "fillmode": "overlay",
             "size": 10,
             "solidity": 0.2
            },
            "type": "scatter"
           }
          ],
          "scatter3d": [
           {
            "line": {
             "colorbar": {
              "outlinewidth": 0,
              "ticks": ""
             }
            },
            "marker": {
             "colorbar": {
              "outlinewidth": 0,
              "ticks": ""
             }
            },
            "type": "scatter3d"
           }
          ],
          "scattercarpet": [
           {
            "marker": {
             "colorbar": {
              "outlinewidth": 0,
              "ticks": ""
             }
            },
            "type": "scattercarpet"
           }
          ],
          "scattergeo": [
           {
            "marker": {
             "colorbar": {
              "outlinewidth": 0,
              "ticks": ""
             }
            },
            "type": "scattergeo"
           }
          ],
          "scattergl": [
           {
            "marker": {
             "colorbar": {
              "outlinewidth": 0,
              "ticks": ""
             }
            },
            "type": "scattergl"
           }
          ],
          "scattermapbox": [
           {
            "marker": {
             "colorbar": {
              "outlinewidth": 0,
              "ticks": ""
             }
            },
            "type": "scattermapbox"
           }
          ],
          "scatterpolar": [
           {
            "marker": {
             "colorbar": {
              "outlinewidth": 0,
              "ticks": ""
             }
            },
            "type": "scatterpolar"
           }
          ],
          "scatterpolargl": [
           {
            "marker": {
             "colorbar": {
              "outlinewidth": 0,
              "ticks": ""
             }
            },
            "type": "scatterpolargl"
           }
          ],
          "scatterternary": [
           {
            "marker": {
             "colorbar": {
              "outlinewidth": 0,
              "ticks": ""
             }
            },
            "type": "scatterternary"
           }
          ],
          "surface": [
           {
            "colorbar": {
             "outlinewidth": 0,
             "ticks": ""
            },
            "colorscale": [
             [
              0,
              "#0d0887"
             ],
             [
              0.1111111111111111,
              "#46039f"
             ],
             [
              0.2222222222222222,
              "#7201a8"
             ],
             [
              0.3333333333333333,
              "#9c179e"
             ],
             [
              0.4444444444444444,
              "#bd3786"
             ],
             [
              0.5555555555555556,
              "#d8576b"
             ],
             [
              0.6666666666666666,
              "#ed7953"
             ],
             [
              0.7777777777777778,
              "#fb9f3a"
             ],
             [
              0.8888888888888888,
              "#fdca26"
             ],
             [
              1,
              "#f0f921"
             ]
            ],
            "type": "surface"
           }
          ],
          "table": [
           {
            "cells": {
             "fill": {
              "color": "#EBF0F8"
             },
             "line": {
              "color": "white"
             }
            },
            "header": {
             "fill": {
              "color": "#C8D4E3"
             },
             "line": {
              "color": "white"
             }
            },
            "type": "table"
           }
          ]
         },
         "layout": {
          "annotationdefaults": {
           "arrowcolor": "#2a3f5f",
           "arrowhead": 0,
           "arrowwidth": 1
          },
          "autotypenumbers": "strict",
          "coloraxis": {
           "colorbar": {
            "outlinewidth": 0,
            "ticks": ""
           }
          },
          "colorscale": {
           "diverging": [
            [
             0,
             "#8e0152"
            ],
            [
             0.1,
             "#c51b7d"
            ],
            [
             0.2,
             "#de77ae"
            ],
            [
             0.3,
             "#f1b6da"
            ],
            [
             0.4,
             "#fde0ef"
            ],
            [
             0.5,
             "#f7f7f7"
            ],
            [
             0.6,
             "#e6f5d0"
            ],
            [
             0.7,
             "#b8e186"
            ],
            [
             0.8,
             "#7fbc41"
            ],
            [
             0.9,
             "#4d9221"
            ],
            [
             1,
             "#276419"
            ]
           ],
           "sequential": [
            [
             0,
             "#0d0887"
            ],
            [
             0.1111111111111111,
             "#46039f"
            ],
            [
             0.2222222222222222,
             "#7201a8"
            ],
            [
             0.3333333333333333,
             "#9c179e"
            ],
            [
             0.4444444444444444,
             "#bd3786"
            ],
            [
             0.5555555555555556,
             "#d8576b"
            ],
            [
             0.6666666666666666,
             "#ed7953"
            ],
            [
             0.7777777777777778,
             "#fb9f3a"
            ],
            [
             0.8888888888888888,
             "#fdca26"
            ],
            [
             1,
             "#f0f921"
            ]
           ],
           "sequentialminus": [
            [
             0,
             "#0d0887"
            ],
            [
             0.1111111111111111,
             "#46039f"
            ],
            [
             0.2222222222222222,
             "#7201a8"
            ],
            [
             0.3333333333333333,
             "#9c179e"
            ],
            [
             0.4444444444444444,
             "#bd3786"
            ],
            [
             0.5555555555555556,
             "#d8576b"
            ],
            [
             0.6666666666666666,
             "#ed7953"
            ],
            [
             0.7777777777777778,
             "#fb9f3a"
            ],
            [
             0.8888888888888888,
             "#fdca26"
            ],
            [
             1,
             "#f0f921"
            ]
           ]
          },
          "colorway": [
           "#636efa",
           "#EF553B",
           "#00cc96",
           "#ab63fa",
           "#FFA15A",
           "#19d3f3",
           "#FF6692",
           "#B6E880",
           "#FF97FF",
           "#FECB52"
          ],
          "font": {
           "color": "#2a3f5f"
          },
          "geo": {
           "bgcolor": "white",
           "lakecolor": "white",
           "landcolor": "#E5ECF6",
           "showlakes": true,
           "showland": true,
           "subunitcolor": "white"
          },
          "hoverlabel": {
           "align": "left"
          },
          "hovermode": "closest",
          "mapbox": {
           "style": "light"
          },
          "paper_bgcolor": "white",
          "plot_bgcolor": "#E5ECF6",
          "polar": {
           "angularaxis": {
            "gridcolor": "white",
            "linecolor": "white",
            "ticks": ""
           },
           "bgcolor": "#E5ECF6",
           "radialaxis": {
            "gridcolor": "white",
            "linecolor": "white",
            "ticks": ""
           }
          },
          "scene": {
           "xaxis": {
            "backgroundcolor": "#E5ECF6",
            "gridcolor": "white",
            "gridwidth": 2,
            "linecolor": "white",
            "showbackground": true,
            "ticks": "",
            "zerolinecolor": "white"
           },
           "yaxis": {
            "backgroundcolor": "#E5ECF6",
            "gridcolor": "white",
            "gridwidth": 2,
            "linecolor": "white",
            "showbackground": true,
            "ticks": "",
            "zerolinecolor": "white"
           },
           "zaxis": {
            "backgroundcolor": "#E5ECF6",
            "gridcolor": "white",
            "gridwidth": 2,
            "linecolor": "white",
            "showbackground": true,
            "ticks": "",
            "zerolinecolor": "white"
           }
          },
          "shapedefaults": {
           "line": {
            "color": "#2a3f5f"
           }
          },
          "ternary": {
           "aaxis": {
            "gridcolor": "white",
            "linecolor": "white",
            "ticks": ""
           },
           "baxis": {
            "gridcolor": "white",
            "linecolor": "white",
            "ticks": ""
           },
           "bgcolor": "#E5ECF6",
           "caxis": {
            "gridcolor": "white",
            "linecolor": "white",
            "ticks": ""
           }
          },
          "title": {
           "x": 0.05
          },
          "xaxis": {
           "automargin": true,
           "gridcolor": "white",
           "linecolor": "white",
           "ticks": "",
           "title": {
            "standoff": 15
           },
           "zerolinecolor": "white",
           "zerolinewidth": 2
          },
          "yaxis": {
           "automargin": true,
           "gridcolor": "white",
           "linecolor": "white",
           "ticks": "",
           "title": {
            "standoff": 15
           },
           "zerolinecolor": "white",
           "zerolinewidth": 2
          }
         }
        },
        "title": {
         "automargin": true,
         "text": "Distances penalties",
         "x": 0.5,
         "xanchor": "center",
         "y": 0.95,
         "yanchor": "top"
        },
        "width": 700
       }
      }
     },
     "metadata": {},
     "output_type": "display_data"
    }
   ],
   "source": [
    "s_gen = ea_x.population_genotypes[0]\n",
    "s_fen = genotype_to_fenotype(s_gen)\n",
    "\n",
    "plot_atoms(s_fen, atom_species_by_index, atom_species_by_symbol)\n",
    "plot_solution_with_walls((wall_left, wall_right), s_fen, atom_species_by_index, atom_species_by_symbol)\n",
    "plot_neighbourhood_penalties(np.concat([wall_left, wall_right, s_fen]), atom_species_by_index, atom_species_by_symbol, cluster_size, cluster_size, cluster_size)\n",
    "plot_distances_penalties(np.concat([wall_left, wall_right, s_fen]), atom_species_by_index, atom_species_by_symbol)"
   ]
  },
  {
   "cell_type": "markdown",
   "metadata": {},
   "source": [
    "####  Y-axis"
   ]
  },
  {
   "cell_type": "code",
   "execution_count": 85,
   "metadata": {},
   "outputs": [],
   "source": [
    "wall_down, wall_up = get_positioned_walls_y(best_solution_x, er_cluster, cluster_size, wall_thickness, solution_thickness)\n",
    "wall_down, wall_up = replace_cations_with_Si([wall_down, wall_up], atom_species_by_symbol)"
   ]
  },
  {
   "cell_type": "code",
   "execution_count": 86,
   "metadata": {},
   "outputs": [],
   "source": [
    "initial_population = get_n_random_solutions_without_Er(supercell, \n",
    "                                                        cell_size, \n",
    "                                                        atom_species_by_symbol, \n",
    "                                                        cluster_size, \n",
    "                                                        solution_thickness, \n",
    "                                                        axis=1, \n",
    "                                                        n=population_size)\n",
    "\n",
    "initial_population = replace_cations_with_Si(initial_population, atom_species_by_symbol)"
   ]
  },
  {
   "cell_type": "code",
   "execution_count": 87,
   "metadata": {},
   "outputs": [],
   "source": [
    "mutation_type = lambda offspring: apply_single_random_mutation(mutation_probabilities, offspring, cluster_size, solution_thickness, atom_species_by_symbol, axis=1)"
   ]
  },
  {
   "cell_type": "code",
   "execution_count": 88,
   "metadata": {},
   "outputs": [],
   "source": [
    "crossover = lambda parents: crossover_fenotypes(parents, cluster_size, solution_thickness, axis=1)"
   ]
  },
  {
   "cell_type": "code",
   "execution_count": 89,
   "metadata": {},
   "outputs": [],
   "source": [
    "fitness_function = lambda solution: fitness_y(wall_down, wall_up, solution, atom_species_by_symbol, cluster_size, wall_thickness, solution_thickness, alpha, beta, gamma)"
   ]
  },
  {
   "cell_type": "code",
   "execution_count": 90,
   "metadata": {},
   "outputs": [],
   "source": [
    "ea_y = EvolutionaryAlgorithm(initial_population, mutation_type, crossover, selection_proportional, fitness_function)"
   ]
  },
  {
   "cell_type": "code",
   "execution_count": 91,
   "metadata": {},
   "outputs": [
    {
     "name": "stdout",
     "output_type": "stream",
     "text": [
      "Generation 0 avg fitness: -3890.886033368257 best fitness: -3301.685622471774\n",
      "Generation 15 avg fitness: -3028.867006601634 best fitness: -2782.6979758192556\n",
      "Generation 30 avg fitness: -2895.521760194376 best fitness: -2694.4203850637273\n",
      "Generation 45 avg fitness: -2688.7612591615016 best fitness: -2490.591295815377\n",
      "Generation 60 avg fitness: -2551.5858647784703 best fitness: -2390.590871467342\n",
      "Generation 75 avg fitness: -2484.3227603397277 best fitness: -2331.839784063225\n",
      "Reached stagnation\n",
      "Evolution ran for  87 generations, reached best fitness of  -2268.9499583124366\n"
     ]
    }
   ],
   "source": [
    "new_population = ea_y.evolve(n_parents_per_child, n_children, n_elites, max_num_generations, tolerate_stagnation_for_n_generations, stagnation_epsilon, target_fitness_value)"
   ]
  },
  {
   "cell_type": "code",
   "execution_count": 92,
   "metadata": {},
   "outputs": [
    {
     "data": {
      "image/png": "[encoded data removed]",
      "text/plain": [
       "<Figure size 640x480 with 1 Axes>"
      ]
     },
     "metadata": {},
     "output_type": "display_data"
    },
    {
     "data": {
      "application/vnd.plotly.v1+json": {
       "config": {
        "plotlyServerURL": "https://plot.ly"
       },
       "data": [
        {
         "hoverinfo": "text",
         "marker": {
          "color": [
           4,
           6,
           6,
           6,
           6,
           6,
           6,
           6,
           4,
           4,
           4,
           6,
           6,
           6,
           4,
           4,
           6,
           6,
           6,
           6,
           6,
           6,
           6,
           6,
           4
          ],
          "colorscale": [
           [
            0,
            "#440154"
           ],
           [
            0.1111111111111111,
            "#482878"
           ],
           [
            0.2222222222222222,
            "#3e4989"
           ],
           [
            0.3333333333333333,
            "#31688e"
           ],
           [
            0.4444444444444444,
            "#26828e"
           ],
           [
            0.5555555555555556,
            "#1f9e89"
           ],
           [
            0.6666666666666666,
            "#35b779"
           ],
           [
            0.7777777777777778,
            "#6ece58"
           ],
           [
            0.8888888888888888,
            "#b5de2b"
           ],
           [
            1,
            "#fde725"
           ]
          ],
          "opacity": 0.8,
          "size": 5,
          "symbol": "circle"
         },
         "mode": "markers",
         "text": [
          "Si",
          "O",
          "O",
          "O",
          "O",
          "O",
          "O",
          "O",
          "Si",
          "Si",
          "Si",
          "O",
          "O",
          "O",
          "Si",
          "Si",
          "O",
          "O",
          "O",
          "O",
          "O",
          "O",
          "O",
          "O",
          "Si"
         ],
         "type": "scatter3d",
         "x": [
          -4.080799555043889,
          -4.004343555043889,
          4.053270864251006,
          -3.1771930348985187,
          0.7910047259319981,
          5.114908538690072,
          -0.3736519362136326,
          -4.089763351764358,
          -0.13385591604918545,
          -3.747545503007467,
          -5.689994916049185,
          -6.3640189160491865,
          -3.330139045747261,
          -4.322328916049186,
          1.822284083950814,
          6.230312083950814,
          5.494716083950814,
          5.492530418822699,
          1.3922086326581282,
          2.3292094973789093,
          0.12025620605023418,
          5.308726736355371,
          -1.179510763095788,
          2.6151529419470645,
          4.976420800022302
         ],
         "y": [
          0.8584791443015911,
          0.4116851443015914,
          -1.3048183445520039,
          0.46995822677747956,
          0.9268536957022002,
          -0.47955253863962366,
          0.7570686565638862,
          0.738887377467578,
          -1.2321022796576298,
          -0.7368588655684906,
          0.6498447203423718,
          -0.7761502796576282,
          -1.311985402756726,
          1.2874727203423717,
          0.46701272034237173,
          0.28670872034237194,
          -0.6828992796576281,
          0.3801552613028678,
          1.058374817019337,
          -0.9716786356660733,
          0.8857810810552418,
          -0.06576622727564563,
          -0.31521967244173466,
          1.1454713195796802,
          -1.2822851327036173
         ],
         "z": [
          -1.9044108145452547,
          -0.25526981454525455,
          -3.6224667769340204,
          -0.5537070664141828,
          -5.547041719248062,
          -4.080551082255855,
          -2.5596341207879196,
          0.3847389438958546,
          0.3693100186323939,
          1.069809722773343,
          3.9765910186323925,
          4.852408018632394,
          2.9016128531466534,
          4.892981018632392,
          2.4556810186323936,
          1.6988980186323932,
          2.953840018632393,
          0.640226931157162,
          3.86041507595074,
          2.2654340614252266,
          3.6644460097489637,
          0.10782715508684593,
          5.2639703439326055,
          3.7350385932430967,
          0.8013398863406573
         ]
        }
       ],
       "layout": {
        "margin": {
         "b": 10,
         "l": 10,
         "r": 20,
         "t": 10
        },
        "scene": {
         "aspectmode": "data",
         "xaxis": {
          "title": {
           "text": "X"
          }
         },
         "yaxis": {
          "title": {
           "text": "Y"
          }
         },
         "zaxis": {
          "title": {
           "text": "Z"
          }
         }
        },
        "showlegend": false,
        "template": {
         "data": {
          "bar": [
           {
            "error_x": {
             "color": "#2a3f5f"
            },
            "error_y": {
             "color": "#2a3f5f"
            },
            "marker": {
             "line": {
              "color": "#E5ECF6",
              "width": 0.5
             },
             "pattern": {
              "fillmode": "overlay",
              "size": 10,
              "solidity": 0.2
             }
            },
            "type": "bar"
           }
          ],
          "barpolar": [
           {
            "marker": {
             "line": {
              "color": "#E5ECF6",
              "width": 0.5
             },
             "pattern": {
              "fillmode": "overlay",
              "size": 10,
              "solidity": 0.2
             }
            },
            "type": "barpolar"
           }
          ],
          "carpet": [
           {
            "aaxis": {
             "endlinecolor": "#2a3f5f",
             "gridcolor": "white",
             "linecolor": "white",
             "minorgridcolor": "white",
             "startlinecolor": "#2a3f5f"
            },
            "baxis": {
             "endlinecolor": "#2a3f5f",
             "gridcolor": "white",
             "linecolor": "white",
             "minorgridcolor": "white",
             "startlinecolor": "#2a3f5f"
            },
            "type": "carpet"
           }
          ],
          "choropleth": [
           {
            "colorbar": {
             "outlinewidth": 0,
             "ticks": ""
            },
            "type": "choropleth"
           }
          ],
          "contour": [
           {
            "colorbar": {
             "outlinewidth": 0,
             "ticks": ""
            },
            "colorscale": [
             [
              0,
              "#0d0887"
             ],
             [
              0.1111111111111111,
              "#46039f"
             ],
             [
              0.2222222222222222,
              "#7201a8"
             ],
             [
              0.3333333333333333,
              "#9c179e"
             ],
             [
              0.4444444444444444,
              "#bd3786"
             ],
             [
              0.5555555555555556,
              "#d8576b"
             ],
             [
              0.6666666666666666,
              "#ed7953"
             ],
             [
              0.7777777777777778,
              "#fb9f3a"
             ],
             [
              0.8888888888888888,
              "#fdca26"
             ],
             [
              1,
              "#f0f921"
             ]
            ],
            "type": "contour"
           }
          ],
          "contourcarpet": [
           {
            "colorbar": {
             "outlinewidth": 0,
             "ticks": ""
            },
            "type": "contourcarpet"
           }
          ],
          "heatmap": [
           {
            "colorbar": {
             "outlinewidth": 0,
             "ticks": ""
            },
            "colorscale": [
             [
              0,
              "#0d0887"
             ],
             [
              0.1111111111111111,
              "#46039f"
             ],
             [
              0.2222222222222222,
              "#7201a8"
             ],
             [
              0.3333333333333333,
              "#9c179e"
             ],
             [
              0.4444444444444444,
              "#bd3786"
             ],
             [
              0.5555555555555556,
              "#d8576b"
             ],
             [
              0.6666666666666666,
              "#ed7953"
             ],
             [
              0.7777777777777778,
              "#fb9f3a"
             ],
             [
              0.8888888888888888,
              "#fdca26"
             ],
             [
              1,
              "#f0f921"
             ]
            ],
            "type": "heatmap"
           }
          ],
          "heatmapgl": [
           {
            "colorbar": {
             "outlinewidth": 0,
             "ticks": ""
            },
            "colorscale": [
             [
              0,
              "#0d0887"
             ],
             [
              0.1111111111111111,
              "#46039f"
             ],
             [
              0.2222222222222222,
              "#7201a8"
             ],
             [
              0.3333333333333333,
              "#9c179e"
             ],
             [
              0.4444444444444444,
              "#bd3786"
             ],
             [
              0.5555555555555556,
              "#d8576b"
             ],
             [
              0.6666666666666666,
              "#ed7953"
             ],
             [
              0.7777777777777778,
              "#fb9f3a"
             ],
             [
              0.8888888888888888,
              "#fdca26"
             ],
             [
              1,
              "#f0f921"
             ]
            ],
            "type": "heatmapgl"
           }
          ],
          "histogram": [
           {
            "marker": {
             "pattern": {
              "fillmode": "overlay",
              "size": 10,
              "solidity": 0.2
             }
            },
            "type": "histogram"
           }
          ],
          "histogram2d": [
           {
            "colorbar": {
             "outlinewidth": 0,
             "ticks": ""
            },
            "colorscale": [
             [
              0,
              "#0d0887"
             ],
             [
              0.1111111111111111,
              "#46039f"
             ],
             [
              0.2222222222222222,
              "#7201a8"
             ],
             [
              0.3333333333333333,
              "#9c179e"
             ],
             [
              0.4444444444444444,
              "#bd3786"
             ],
             [
              0.5555555555555556,
              "#d8576b"
             ],
             [
              0.6666666666666666,
              "#ed7953"
             ],
             [
              0.7777777777777778,
              "#fb9f3a"
             ],
             [
              0.8888888888888888,
              "#fdca26"
             ],
             [
              1,
              "#f0f921"
             ]
            ],
            "type": "histogram2d"
           }
          ],
          "histogram2dcontour": [
           {
            "colorbar": {
             "outlinewidth": 0,
             "ticks": ""
            },
            "colorscale": [
             [
              0,
              "#0d0887"
             ],
             [
              0.1111111111111111,
              "#46039f"
             ],
             [
              0.2222222222222222,
              "#7201a8"
             ],
             [
              0.3333333333333333,
              "#9c179e"
             ],
             [
              0.4444444444444444,
              "#bd3786"
             ],
             [
              0.5555555555555556,
              "#d8576b"
             ],
             [
              0.6666666666666666,
              "#ed7953"
             ],
             [
              0.7777777777777778,
              "#fb9f3a"
             ],
             [
              0.8888888888888888,
              "#fdca26"
             ],
             [
              1,
              "#f0f921"
             ]
            ],
            "type": "histogram2dcontour"
           }
          ],
          "mesh3d": [
           {
            "colorbar": {
             "outlinewidth": 0,
             "ticks": ""
            },
            "type": "mesh3d"
           }
          ],
          "parcoords": [
           {
            "line": {
             "colorbar": {
              "outlinewidth": 0,
              "ticks": ""
             }
            },
            "type": "parcoords"
           }
          ],
          "pie": [
           {
            "automargin": true,
            "type": "pie"
           }
          ],
          "scatter": [
           {
            "fillpattern": {
             "fillmode": "overlay",
             "size": 10,
             "solidity": 0.2
            },
            "type": "scatter"
           }
          ],
          "scatter3d": [
           {
            "line": {
             "colorbar": {
              "outlinewidth": 0,
              "ticks": ""
             }
            },
            "marker": {
             "colorbar": {
              "outlinewidth": 0,
              "ticks": ""
             }
            },
            "type": "scatter3d"
           }
          ],
          "scattercarpet": [
           {
            "marker": {
             "colorbar": {
              "outlinewidth": 0,
              "ticks": ""
             }
            },
            "type": "scattercarpet"
           }
          ],
          "scattergeo": [
           {
            "marker": {
             "colorbar": {
              "outlinewidth": 0,
              "ticks": ""
             }
            },
            "type": "scattergeo"
           }
          ],
          "scattergl": [
           {
            "marker": {
             "colorbar": {
              "outlinewidth": 0,
              "ticks": ""
             }
            },
            "type": "scattergl"
           }
          ],
          "scattermapbox": [
           {
            "marker": {
             "colorbar": {
              "outlinewidth": 0,
              "ticks": ""
             }
            },
            "type": "scattermapbox"
           }
          ],
          "scatterpolar": [
           {
            "marker": {
             "colorbar": {
              "outlinewidth": 0,
              "ticks": ""
             }
            },
            "type": "scatterpolar"
           }
          ],
          "scatterpolargl": [
           {
            "marker": {
             "colorbar": {
              "outlinewidth": 0,
              "ticks": ""
             }
            },
            "type": "scatterpolargl"
           }
          ],
          "scatterternary": [
           {
            "marker": {
             "colorbar": {
              "outlinewidth": 0,
              "ticks": ""
             }
            },
            "type": "scatterternary"
           }
          ],
          "surface": [
           {
            "colorbar": {
             "outlinewidth": 0,
             "ticks": ""
            },
            "colorscale": [
             [
              0,
              "#0d0887"
             ],
             [
              0.1111111111111111,
              "#46039f"
             ],
             [
              0.2222222222222222,
              "#7201a8"
             ],
             [
              0.3333333333333333,
              "#9c179e"
             ],
             [
              0.4444444444444444,
              "#bd3786"
             ],
             [
              0.5555555555555556,
              "#d8576b"
             ],
             [
              0.6666666666666666,
              "#ed7953"
             ],
             [
              0.7777777777777778,
              "#fb9f3a"
             ],
             [
              0.8888888888888888,
              "#fdca26"
             ],
             [
              1,
              "#f0f921"
             ]
            ],
            "type": "surface"
           }
          ],
          "table": [
           {
            "cells": {
             "fill": {
              "color": "#EBF0F8"
             },
             "line": {
              "color": "white"
             }
            },
            "header": {
             "fill": {
              "color": "#C8D4E3"
             },
             "line": {
              "color": "white"
             }
            },
            "type": "table"
           }
          ]
         },
         "layout": {
          "annotationdefaults": {
           "arrowcolor": "#2a3f5f",
           "arrowhead": 0,
           "arrowwidth": 1
          },
          "autotypenumbers": "strict",
          "coloraxis": {
           "colorbar": {
            "outlinewidth": 0,
            "ticks": ""
           }
          },
          "colorscale": {
           "diverging": [
            [
             0,
             "#8e0152"
            ],
            [
             0.1,
             "#c51b7d"
            ],
            [
             0.2,
             "#de77ae"
            ],
            [
             0.3,
             "#f1b6da"
            ],
            [
             0.4,
             "#fde0ef"
            ],
            [
             0.5,
             "#f7f7f7"
            ],
            [
             0.6,
             "#e6f5d0"
            ],
            [
             0.7,
             "#b8e186"
            ],
            [
             0.8,
             "#7fbc41"
            ],
            [
             0.9,
             "#4d9221"
            ],
            [
             1,
             "#276419"
            ]
           ],
           "sequential": [
            [
             0,
             "#0d0887"
            ],
            [
             0.1111111111111111,
             "#46039f"
            ],
            [
             0.2222222222222222,
             "#7201a8"
            ],
            [
             0.3333333333333333,
             "#9c179e"
            ],
            [
             0.4444444444444444,
             "#bd3786"
            ],
            [
             0.5555555555555556,
             "#d8576b"
            ],
            [
             0.6666666666666666,
             "#ed7953"
            ],
            [
             0.7777777777777778,
             "#fb9f3a"
            ],
            [
             0.8888888888888888,
             "#fdca26"
            ],
            [
             1,
             "#f0f921"
            ]
           ],
           "sequentialminus": [
            [
             0,
             "#0d0887"
            ],
            [
             0.1111111111111111,
             "#46039f"
            ],
            [
             0.2222222222222222,
             "#7201a8"
            ],
            [
             0.3333333333333333,
             "#9c179e"
            ],
            [
             0.4444444444444444,
             "#bd3786"
            ],
            [
             0.5555555555555556,
             "#d8576b"
            ],
            [
             0.6666666666666666,
             "#ed7953"
            ],
            [
             0.7777777777777778,
             "#fb9f3a"
            ],
            [
             0.8888888888888888,
             "#fdca26"
            ],
            [
             1,
             "#f0f921"
            ]
           ]
          },
          "colorway": [
           "#636efa",
           "#EF553B",
           "#00cc96",
           "#ab63fa",
           "#FFA15A",
           "#19d3f3",
           "#FF6692",
           "#B6E880",
           "#FF97FF",
           "#FECB52"
          ],
          "font": {
           "color": "#2a3f5f"
          },
          "geo": {
           "bgcolor": "white",
           "lakecolor": "white",
           "landcolor": "#E5ECF6",
           "showlakes": true,
           "showland": true,
           "subunitcolor": "white"
          },
          "hoverlabel": {
           "align": "left"
          },
          "hovermode": "closest",
          "mapbox": {
           "style": "light"
          },
          "paper_bgcolor": "white",
          "plot_bgcolor": "#E5ECF6",
          "polar": {
           "angularaxis": {
            "gridcolor": "white",
            "linecolor": "white",
            "ticks": ""
           },
           "bgcolor": "#E5ECF6",
           "radialaxis": {
            "gridcolor": "white",
            "linecolor": "white",
            "ticks": ""
           }
          },
          "scene": {
           "xaxis": {
            "backgroundcolor": "#E5ECF6",
            "gridcolor": "white",
            "gridwidth": 2,
            "linecolor": "white",
            "showbackground": true,
            "ticks": "",
            "zerolinecolor": "white"
           },
           "yaxis": {
            "backgroundcolor": "#E5ECF6",
            "gridcolor": "white",
            "gridwidth": 2,
            "linecolor": "white",
            "showbackground": true,
            "ticks": "",
            "zerolinecolor": "white"
           },
           "zaxis": {
            "backgroundcolor": "#E5ECF6",
            "gridcolor": "white",
            "gridwidth": 2,
            "linecolor": "white",
            "showbackground": true,
            "ticks": "",
            "zerolinecolor": "white"
           }
          },
          "shapedefaults": {
           "line": {
            "color": "#2a3f5f"
           }
          },
          "ternary": {
           "aaxis": {
            "gridcolor": "white",
            "linecolor": "white",
            "ticks": ""
           },
           "baxis": {
            "gridcolor": "white",
            "linecolor": "white",
            "ticks": ""
           },
           "bgcolor": "#E5ECF6",
           "caxis": {
            "gridcolor": "white",
            "linecolor": "white",
            "ticks": ""
           }
          },
          "title": {
           "x": 0.05
          },
          "xaxis": {
           "automargin": true,
           "gridcolor": "white",
           "linecolor": "white",
           "ticks": "",
           "title": {
            "standoff": 15
           },
           "zerolinecolor": "white",
           "zerolinewidth": 2
          },
          "yaxis": {
           "automargin": true,
           "gridcolor": "white",
           "linecolor": "white",
           "ticks": "",
           "title": {
            "standoff": 15
           },
           "zerolinecolor": "white",
           "zerolinewidth": 2
          }
         }
        },
        "width": 700
       }
      }
     },
     "metadata": {},
     "output_type": "display_data"
    },
    {
     "data": {
      "application/vnd.plotly.v1+json": {
       "config": {
        "plotlyServerURL": "https://plot.ly"
       },
       "data": [
        {
         "hoverinfo": "text",
         "marker": {
          "color": [
           4,
           6,
           6,
           6,
           6,
           6,
           6,
           6,
           4,
           4,
           4,
           6,
           6,
           6,
           4,
           4,
           6,
           6,
           6,
           6,
           6,
           6,
           6,
           6,
           4
          ],
          "colorscale": [
           [
            0,
            "#440154"
           ],
           [
            0.1111111111111111,
            "#482878"
           ],
           [
            0.2222222222222222,
            "#3e4989"
           ],
           [
            0.3333333333333333,
            "#31688e"
           ],
           [
            0.4444444444444444,
            "#26828e"
           ],
           [
            0.5555555555555556,
            "#1f9e89"
           ],
           [
            0.6666666666666666,
            "#35b779"
           ],
           [
            0.7777777777777778,
            "#6ece58"
           ],
           [
            0.8888888888888888,
            "#b5de2b"
           ],
           [
            1,
            "#fde725"
           ]
          ],
          "opacity": 0.8,
          "size": 5,
          "symbol": "circle"
         },
         "mode": "markers",
         "text": [
          "Si",
          "O",
          "O",
          "O",
          "O",
          "O",
          "O",
          "O",
          "Si",
          "Si",
          "Si",
          "O",
          "O",
          "O",
          "Si",
          "Si",
          "O",
          "O",
          "O",
          "O",
          "O",
          "O",
          "O",
          "O",
          "Si"
         ],
         "type": "scatter3d",
         "x": [
          -4.080799555043889,
          -4.004343555043889,
          4.053270864251006,
          -3.1771930348985187,
          0.7910047259319981,
          5.114908538690072,
          -0.3736519362136326,
          -4.089763351764358,
          -0.13385591604918545,
          -3.747545503007467,
          -5.689994916049185,
          -6.3640189160491865,
          -3.330139045747261,
          -4.322328916049186,
          1.822284083950814,
          6.230312083950814,
          5.494716083950814,
          5.492530418822699,
          1.3922086326581282,
          2.3292094973789093,
          0.12025620605023418,
          5.308726736355371,
          -1.179510763095788,
          2.6151529419470645,
          4.976420800022302
         ],
         "y": [
          0.8584791443015911,
          0.4116851443015914,
          -1.3048183445520039,
          0.46995822677747956,
          0.9268536957022002,
          -0.47955253863962366,
          0.7570686565638862,
          0.738887377467578,
          -1.2321022796576298,
          -0.7368588655684906,
          0.6498447203423718,
          -0.7761502796576282,
          -1.311985402756726,
          1.2874727203423717,
          0.46701272034237173,
          0.28670872034237194,
          -0.6828992796576281,
          0.3801552613028678,
          1.058374817019337,
          -0.9716786356660733,
          0.8857810810552418,
          -0.06576622727564563,
          -0.31521967244173466,
          1.1454713195796802,
          -1.2822851327036173
         ],
         "z": [
          -1.9044108145452547,
          -0.25526981454525455,
          -3.6224667769340204,
          -0.5537070664141828,
          -5.547041719248062,
          -4.080551082255855,
          -2.5596341207879196,
          0.3847389438958546,
          0.3693100186323939,
          1.069809722773343,
          3.9765910186323925,
          4.852408018632394,
          2.9016128531466534,
          4.892981018632392,
          2.4556810186323936,
          1.6988980186323932,
          2.953840018632393,
          0.640226931157162,
          3.86041507595074,
          2.2654340614252266,
          3.6644460097489637,
          0.10782715508684593,
          5.2639703439326055,
          3.7350385932430967,
          0.8013398863406573
         ]
        },
        {
         "hoverinfo": "text",
         "marker": {
          "color": [
           4,
           4,
           4,
           4,
           4,
           4,
           4,
           4,
           6,
           6,
           6,
           6,
           6,
           6,
           6,
           6,
           6,
           6,
           6,
           6,
           6,
           6,
           4,
           6,
           6
          ],
          "colorscale": [
           [
            0,
            "#440154"
           ],
           [
            0.1111111111111111,
            "#482878"
           ],
           [
            0.2222222222222222,
            "#3e4989"
           ],
           [
            0.3333333333333333,
            "#31688e"
           ],
           [
            0.4444444444444444,
            "#26828e"
           ],
           [
            0.5555555555555556,
            "#1f9e89"
           ],
           [
            0.6666666666666666,
            "#35b779"
           ],
           [
            0.7777777777777778,
            "#6ece58"
           ],
           [
            0.8888888888888888,
            "#b5de2b"
           ],
           [
            1,
            "#fde725"
           ]
          ],
          "opacity": 0.8,
          "size": 5,
          "symbol": "diamond"
         },
         "mode": "markers",
         "text": [
          "Si",
          "Si",
          "Si",
          "Si",
          "Si",
          "Si",
          "Si",
          "Si",
          "O",
          "O",
          "O",
          "O",
          "O",
          "O",
          "O",
          "O",
          "O",
          "O",
          "O",
          "O",
          "O",
          "O",
          "Si",
          "O",
          "O"
         ],
         "type": "scatter3d",
         "x": [
          1.5982789999999998,
          4.104596000000001,
          0.38539800000000035,
          1.0470590000000009,
          1.960559,
          -1.8428670000000018,
          -1.441711999999999,
          4.1653839999999995,
          0.1944720000000011,
          -0.5660799999999995,
          0.04781000000000013,
          -2.461870000000001,
          2.2226800000000004,
          4.374359999999999,
          5.241650999999999,
          -1.9396580000000014,
          1.019646999999999,
          2.7276480000000003,
          1.2575059999999993,
          -3.0313499999999998,
          2.6424339999999997,
          5.176579,
          -4.099208000000001,
          -1.1628469999999993,
          4.2739910000000005
         ],
         "y": [
          3.6457210000000018,
          3.029922000000001,
          2.4557610000000007,
          2.4084000000000003,
          2.7243140000000015,
          4.431564000000002,
          2.3832380000000004,
          2.8812250000000006,
          2.868539,
          4.176868000000001,
          3.9712830000000015,
          3.6587960000000006,
          3.0236170000000016,
          2.2094130000000014,
          2.7340790000000013,
          1.945672,
          2.077173,
          4.206485000000001,
          2.273733000000002,
          4.325731000000001,
          3.466812000000001,
          4.130923000000001,
          2.576423,
          4.267608000000001,
          1.7345940000000013
         ],
         "z": [
          0.5615810000000003,
          -5.2492920000000005,
          -5.346079,
          3.8928780000000014,
          -2.4344099999999997,
          -0.38092100000000073,
          -2.5603999999999996,
          3.535831,
          -3.0924560000000003,
          -5.646465000000001,
          3.5105190000000004,
          -1.8827829999999999,
          -4.381571000000001,
          2.0674100000000006,
          -3.592866000000001,
          -4.148141000000001,
          1.7352739999999987,
          -1.7859670000000012,
          -0.7566860000000002,
          0.8509709999999995,
          3.564393000000001,
          3.8384349999999987,
          4.106719999999999,
          5.902368999999999,
          4.712675
         ]
        },
        {
         "hoverinfo": "text",
         "marker": {
          "color": [
           4,
           4,
           4,
           4,
           4,
           4,
           6,
           6,
           6,
           6,
           6,
           6,
           6,
           6,
           6,
           6,
           6,
           6,
           4,
           6,
           6,
           6,
           6,
           6,
           6
          ],
          "colorscale": [
           [
            0,
            "#440154"
           ],
           [
            0.1111111111111111,
            "#482878"
           ],
           [
            0.2222222222222222,
            "#3e4989"
           ],
           [
            0.3333333333333333,
            "#31688e"
           ],
           [
            0.4444444444444444,
            "#26828e"
           ],
           [
            0.5555555555555556,
            "#1f9e89"
           ],
           [
            0.6666666666666666,
            "#35b779"
           ],
           [
            0.7777777777777778,
            "#6ece58"
           ],
           [
            0.8888888888888888,
            "#b5de2b"
           ],
           [
            1,
            "#fde725"
           ]
          ],
          "opacity": 0.8,
          "size": 5,
          "symbol": "diamond"
         },
         "mode": "markers",
         "text": [
          "Si",
          "Si",
          "Si",
          "Si",
          "Si",
          "Si",
          "O",
          "O",
          "O",
          "O",
          "O",
          "O",
          "O",
          "O",
          "O",
          "O",
          "O",
          "O",
          "Si",
          "O",
          "O",
          "O",
          "O",
          "O",
          "O"
         ],
         "type": "scatter3d",
         "x": [
          0.7969489999999997,
          4.698104000000001,
          -1.8873420000000003,
          3.957395,
          -4.2036370000000005,
          2.180046000000001,
          -3.4745150000000002,
          2.6984449999999995,
          1.97363,
          -0.953793000000001,
          5.65006,
          0.7698959999999992,
          3.9677050000000005,
          -1.7219209999999983,
          -3.5273329999999987,
          5.455321,
          -0.5796510000000001,
          -2.7372739999999993,
          -0.09485199999999949,
          1.8091910000000002,
          3.65334,
          0.6621927353107804,
          -1.4193111218963952,
          -0.47063970164348795,
          0.06643015902913008
         ],
         "y": [
          -2.4658919999999993,
          -2.2113709999999998,
          -3.423259999999999,
          -3.1263059999999996,
          -2.879943999999999,
          -2.3432779999999998,
          -4.049852999999999,
          -3.517539999999999,
          -3.0613919999999997,
          -2.0322619999999993,
          -3.559843999999999,
          -1.7085969999999993,
          -3.6210359999999993,
          -3.3704599999999996,
          -2.8661209999999997,
          -2.644181999999999,
          -3.3850549999999995,
          -3.7957709999999993,
          -1.825937999999999,
          -2.1167479999999994,
          -4.0783049999999985,
          -3.126115203008224,
          -4.360541524954657,
          -2.1805228416071767,
          -2.2010789709944127
         ],
         "z": [
          -4.552469,
          -4.8826529999999995,
          -3.089163000000001,
          3.179373,
          1.5188079999999982,
          0.9048460000000009,
          3.8831879999999988,
          2.0315819999999984,
          -0.5321040000000004,
          -3.6700920000000004,
          2.6708279999999984,
          1.3903820000000007,
          -3.662769000000001,
          -1.3376770000000011,
          -3.611614000000001,
          -0.10802600000000062,
          4.006603,
          1.297409,
          5.3262,
          5.815417,
          4.655602,
          -1.0274160491061668,
          -3.181109910319766,
          1.3529176427692389,
          -3.659645514417987
         ]
        }
       ],
       "layout": {
        "margin": {
         "b": 10,
         "l": 10,
         "r": 20,
         "t": 10
        },
        "scene": {
         "aspectmode": "data",
         "xaxis": {
          "title": {
           "text": "X"
          }
         },
         "yaxis": {
          "title": {
           "text": "Y"
          }
         },
         "zaxis": {
          "title": {
           "text": "Z"
          }
         }
        },
        "showlegend": false,
        "template": {
         "data": {
          "bar": [
           {
            "error_x": {
             "color": "#2a3f5f"
            },
            "error_y": {
             "color": "#2a3f5f"
            },
            "marker": {
             "line": {
              "color": "#E5ECF6",
              "width": 0.5
             },
             "pattern": {
              "fillmode": "overlay",
              "size": 10,
              "solidity": 0.2
             }
            },
            "type": "bar"
           }
          ],
          "barpolar": [
           {
            "marker": {
             "line": {
              "color": "#E5ECF6",
              "width": 0.5
             },
             "pattern": {
              "fillmode": "overlay",
              "size": 10,
              "solidity": 0.2
             }
            },
            "type": "barpolar"
           }
          ],
          "carpet": [
           {
            "aaxis": {
             "endlinecolor": "#2a3f5f",
             "gridcolor": "white",
             "linecolor": "white",
             "minorgridcolor": "white",
             "startlinecolor": "#2a3f5f"
            },
            "baxis": {
             "endlinecolor": "#2a3f5f",
             "gridcolor": "white",
             "linecolor": "white",
             "minorgridcolor": "white",
             "startlinecolor": "#2a3f5f"
            },
            "type": "carpet"
           }
          ],
          "choropleth": [
           {
            "colorbar": {
             "outlinewidth": 0,
             "ticks": ""
            },
            "type": "choropleth"
           }
          ],
          "contour": [
           {
            "colorbar": {
             "outlinewidth": 0,
             "ticks": ""
            },
            "colorscale": [
             [
              0,
              "#0d0887"
             ],
             [
              0.1111111111111111,
              "#46039f"
             ],
             [
              0.2222222222222222,
              "#7201a8"
             ],
             [
              0.3333333333333333,
              "#9c179e"
             ],
             [
              0.4444444444444444,
              "#bd3786"
             ],
             [
              0.5555555555555556,
              "#d8576b"
             ],
             [
              0.6666666666666666,
              "#ed7953"
             ],
             [
              0.7777777777777778,
              "#fb9f3a"
             ],
             [
              0.8888888888888888,
              "#fdca26"
             ],
             [
              1,
              "#f0f921"
             ]
            ],
            "type": "contour"
           }
          ],
          "contourcarpet": [
           {
            "colorbar": {
             "outlinewidth": 0,
             "ticks": ""
            },
            "type": "contourcarpet"
           }
          ],
          "heatmap": [
           {
            "colorbar": {
             "outlinewidth": 0,
             "ticks": ""
            },
            "colorscale": [
             [
              0,
              "#0d0887"
             ],
             [
              0.1111111111111111,
              "#46039f"
             ],
             [
              0.2222222222222222,
              "#7201a8"
             ],
             [
              0.3333333333333333,
              "#9c179e"
             ],
             [
              0.4444444444444444,
              "#bd3786"
             ],
             [
              0.5555555555555556,
              "#d8576b"
             ],
             [
              0.6666666666666666,
              "#ed7953"
             ],
             [
              0.7777777777777778,
              "#fb9f3a"
             ],
             [
              0.8888888888888888,
              "#fdca26"
             ],
             [
              1,
              "#f0f921"
             ]
            ],
            "type": "heatmap"
           }
          ],
          "heatmapgl": [
           {
            "colorbar": {
             "outlinewidth": 0,
             "ticks": ""
            },
            "colorscale": [
             [
              0,
              "#0d0887"
             ],
             [
              0.1111111111111111,
              "#46039f"
             ],
             [
              0.2222222222222222,
              "#7201a8"
             ],
             [
              0.3333333333333333,
              "#9c179e"
             ],
             [
              0.4444444444444444,
              "#bd3786"
             ],
             [
              0.5555555555555556,
              "#d8576b"
             ],
             [
              0.6666666666666666,
              "#ed7953"
             ],
             [
              0.7777777777777778,
              "#fb9f3a"
             ],
             [
              0.8888888888888888,
              "#fdca26"
             ],
             [
              1,
              "#f0f921"
             ]
            ],
            "type": "heatmapgl"
           }
          ],
          "histogram": [
           {
            "marker": {
             "pattern": {
              "fillmode": "overlay",
              "size": 10,
              "solidity": 0.2
             }
            },
            "type": "histogram"
           }
          ],
          "histogram2d": [
           {
            "colorbar": {
             "outlinewidth": 0,
             "ticks": ""
            },
            "colorscale": [
             [
              0,
              "#0d0887"
             ],
             [
              0.1111111111111111,
              "#46039f"
             ],
             [
              0.2222222222222222,
              "#7201a8"
             ],
             [
              0.3333333333333333,
              "#9c179e"
             ],
             [
              0.4444444444444444,
              "#bd3786"
             ],
             [
              0.5555555555555556,
              "#d8576b"
             ],
             [
              0.6666666666666666,
              "#ed7953"
             ],
             [
              0.7777777777777778,
              "#fb9f3a"
             ],
             [
              0.8888888888888888,
              "#fdca26"
             ],
             [
              1,
              "#f0f921"
             ]
            ],
            "type": "histogram2d"
           }
          ],
          "histogram2dcontour": [
           {
            "colorbar": {
             "outlinewidth": 0,
             "ticks": ""
            },
            "colorscale": [
             [
              0,
              "#0d0887"
             ],
             [
              0.1111111111111111,
              "#46039f"
             ],
             [
              0.2222222222222222,
              "#7201a8"
             ],
             [
              0.3333333333333333,
              "#9c179e"
             ],
             [
              0.4444444444444444,
              "#bd3786"
             ],
             [
              0.5555555555555556,
              "#d8576b"
             ],
             [
              0.6666666666666666,
              "#ed7953"
             ],
             [
              0.7777777777777778,
              "#fb9f3a"
             ],
             [
              0.8888888888888888,
              "#fdca26"
             ],
             [
              1,
              "#f0f921"
             ]
            ],
            "type": "histogram2dcontour"
           }
          ],
          "mesh3d": [
           {
            "colorbar": {
             "outlinewidth": 0,
             "ticks": ""
            },
            "type": "mesh3d"
           }
          ],
          "parcoords": [
           {
            "line": {
             "colorbar": {
              "outlinewidth": 0,
              "ticks": ""
             }
            },
            "type": "parcoords"
           }
          ],
          "pie": [
           {
            "automargin": true,
            "type": "pie"
           }
          ],
          "scatter": [
           {
            "fillpattern": {
             "fillmode": "overlay",
             "size": 10,
             "solidity": 0.2
            },
            "type": "scatter"
           }
          ],
          "scatter3d": [
           {
            "line": {
             "colorbar": {
              "outlinewidth": 0,
              "ticks": ""
             }
            },
            "marker": {
             "colorbar": {
              "outlinewidth": 0,
              "ticks": ""
             }
            },
            "type": "scatter3d"
           }
          ],
          "scattercarpet": [
           {
            "marker": {
             "colorbar": {
              "outlinewidth": 0,
              "ticks": ""
             }
            },
            "type": "scattercarpet"
           }
          ],
          "scattergeo": [
           {
            "marker": {
             "colorbar": {
              "outlinewidth": 0,
              "ticks": ""
             }
            },
            "type": "scattergeo"
           }
          ],
          "scattergl": [
           {
            "marker": {
             "colorbar": {
              "outlinewidth": 0,
              "ticks": ""
             }
            },
            "type": "scattergl"
           }
          ],
          "scattermapbox": [
           {
            "marker": {
             "colorbar": {
              "outlinewidth": 0,
              "ticks": ""
             }
            },
            "type": "scattermapbox"
           }
          ],
          "scatterpolar": [
           {
            "marker": {
             "colorbar": {
              "outlinewidth": 0,
              "ticks": ""
             }
            },
            "type": "scatterpolar"
           }
          ],
          "scatterpolargl": [
           {
            "marker": {
             "colorbar": {
              "outlinewidth": 0,
              "ticks": ""
             }
            },
            "type": "scatterpolargl"
           }
          ],
          "scatterternary": [
           {
            "marker": {
             "colorbar": {
              "outlinewidth": 0,
              "ticks": ""
             }
            },
            "type": "scatterternary"
           }
          ],
          "surface": [
           {
            "colorbar": {
             "outlinewidth": 0,
             "ticks": ""
            },
            "colorscale": [
             [
              0,
              "#0d0887"
             ],
             [
              0.1111111111111111,
              "#46039f"
             ],
             [
              0.2222222222222222,
              "#7201a8"
             ],
             [
              0.3333333333333333,
              "#9c179e"
             ],
             [
              0.4444444444444444,
              "#bd3786"
             ],
             [
              0.5555555555555556,
              "#d8576b"
             ],
             [
              0.6666666666666666,
              "#ed7953"
             ],
             [
              0.7777777777777778,
              "#fb9f3a"
             ],
             [
              0.8888888888888888,
              "#fdca26"
             ],
             [
              1,
              "#f0f921"
             ]
            ],
            "type": "surface"
           }
          ],
          "table": [
           {
            "cells": {
             "fill": {
              "color": "#EBF0F8"
             },
             "line": {
              "color": "white"
             }
            },
            "header": {
             "fill": {
              "color": "#C8D4E3"
             },
             "line": {
              "color": "white"
             }
            },
            "type": "table"
           }
          ]
         },
         "layout": {
          "annotationdefaults": {
           "arrowcolor": "#2a3f5f",
           "arrowhead": 0,
           "arrowwidth": 1
          },
          "autotypenumbers": "strict",
          "coloraxis": {
           "colorbar": {
            "outlinewidth": 0,
            "ticks": ""
           }
          },
          "colorscale": {
           "diverging": [
            [
             0,
             "#8e0152"
            ],
            [
             0.1,
             "#c51b7d"
            ],
            [
             0.2,
             "#de77ae"
            ],
            [
             0.3,
             "#f1b6da"
            ],
            [
             0.4,
             "#fde0ef"
            ],
            [
             0.5,
             "#f7f7f7"
            ],
            [
             0.6,
             "#e6f5d0"
            ],
            [
             0.7,
             "#b8e186"
            ],
            [
             0.8,
             "#7fbc41"
            ],
            [
             0.9,
             "#4d9221"
            ],
            [
             1,
             "#276419"
            ]
           ],
           "sequential": [
            [
             0,
             "#0d0887"
            ],
            [
             0.1111111111111111,
             "#46039f"
            ],
            [
             0.2222222222222222,
             "#7201a8"
            ],
            [
             0.3333333333333333,
             "#9c179e"
            ],
            [
             0.4444444444444444,
             "#bd3786"
            ],
            [
             0.5555555555555556,
             "#d8576b"
            ],
            [
             0.6666666666666666,
             "#ed7953"
            ],
            [
             0.7777777777777778,
             "#fb9f3a"
            ],
            [
             0.8888888888888888,
             "#fdca26"
            ],
            [
             1,
             "#f0f921"
            ]
           ],
           "sequentialminus": [
            [
             0,
             "#0d0887"
            ],
            [
             0.1111111111111111,
             "#46039f"
            ],
            [
             0.2222222222222222,
             "#7201a8"
            ],
            [
             0.3333333333333333,
             "#9c179e"
            ],
            [
             0.4444444444444444,
             "#bd3786"
            ],
            [
             0.5555555555555556,
             "#d8576b"
            ],
            [
             0.6666666666666666,
             "#ed7953"
            ],
            [
             0.7777777777777778,
             "#fb9f3a"
            ],
            [
             0.8888888888888888,
             "#fdca26"
            ],
            [
             1,
             "#f0f921"
            ]
           ]
          },
          "colorway": [
           "#636efa",
           "#EF553B",
           "#00cc96",
           "#ab63fa",
           "#FFA15A",
           "#19d3f3",
           "#FF6692",
           "#B6E880",
           "#FF97FF",
           "#FECB52"
          ],
          "font": {
           "color": "#2a3f5f"
          },
          "geo": {
           "bgcolor": "white",
           "lakecolor": "white",
           "landcolor": "#E5ECF6",
           "showlakes": true,
           "showland": true,
           "subunitcolor": "white"
          },
          "hoverlabel": {
           "align": "left"
          },
          "hovermode": "closest",
          "mapbox": {
           "style": "light"
          },
          "paper_bgcolor": "white",
          "plot_bgcolor": "#E5ECF6",
          "polar": {
           "angularaxis": {
            "gridcolor": "white",
            "linecolor": "white",
            "ticks": ""
           },
           "bgcolor": "#E5ECF6",
           "radialaxis": {
            "gridcolor": "white",
            "linecolor": "white",
            "ticks": ""
           }
          },
          "scene": {
           "xaxis": {
            "backgroundcolor": "#E5ECF6",
            "gridcolor": "white",
            "gridwidth": 2,
            "linecolor": "white",
            "showbackground": true,
            "ticks": "",
            "zerolinecolor": "white"
           },
           "yaxis": {
            "backgroundcolor": "#E5ECF6",
            "gridcolor": "white",
            "gridwidth": 2,
            "linecolor": "white",
            "showbackground": true,
            "ticks": "",
            "zerolinecolor": "white"
           },
           "zaxis": {
            "backgroundcolor": "#E5ECF6",
            "gridcolor": "white",
            "gridwidth": 2,
            "linecolor": "white",
            "showbackground": true,
            "ticks": "",
            "zerolinecolor": "white"
           }
          },
          "shapedefaults": {
           "line": {
            "color": "#2a3f5f"
           }
          },
          "ternary": {
           "aaxis": {
            "gridcolor": "white",
            "linecolor": "white",
            "ticks": ""
           },
           "baxis": {
            "gridcolor": "white",
            "linecolor": "white",
            "ticks": ""
           },
           "bgcolor": "#E5ECF6",
           "caxis": {
            "gridcolor": "white",
            "linecolor": "white",
            "ticks": ""
           }
          },
          "title": {
           "x": 0.05
          },
          "xaxis": {
           "automargin": true,
           "gridcolor": "white",
           "linecolor": "white",
           "ticks": "",
           "title": {
            "standoff": 15
           },
           "zerolinecolor": "white",
           "zerolinewidth": 2
          },
          "yaxis": {
           "automargin": true,
           "gridcolor": "white",
           "linecolor": "white",
           "ticks": "",
           "title": {
            "standoff": 15
           },
           "zerolinecolor": "white",
           "zerolinewidth": 2
          }
         }
        },
        "width": 700
       }
      }
     },
     "metadata": {},
     "output_type": "display_data"
    }
   ],
   "source": [
    "ea_y.plot_fitness()\n",
    "best_solution_y = ea_y.get_best_solution()\n",
    "\n",
    "plot_atoms(best_solution_y, atom_species_by_index)\n",
    "plot_solution_with_walls((wall_down, wall_up), best_solution_y, atom_species_by_index)"
   ]
  },
  {
   "cell_type": "markdown",
   "metadata": {},
   "source": [
    "####  Z-axis"
   ]
  },
  {
   "cell_type": "code",
   "execution_count": 93,
   "metadata": {},
   "outputs": [],
   "source": [
    "wall_front, wall_back = get_positioned_walls_z(best_solution_x, best_solution_y, er_cluster, cluster_size, wall_thickness, solution_thickness)\n",
    "wall_front, wall_back = replace_cations_with_Si([wall_front, wall_back], atom_species_by_symbol)"
   ]
  },
  {
   "cell_type": "code",
   "execution_count": 94,
   "metadata": {},
   "outputs": [],
   "source": [
    "initial_population = get_n_random_solutions_without_Er(supercell, \n",
    "                                                        cell_size, \n",
    "                                                        atom_species_by_symbol, \n",
    "                                                        cluster_size, \n",
    "                                                        solution_thickness, \n",
    "                                                        axis=2, \n",
    "                                                        n=population_size)\n",
    "\n",
    "initial_population = replace_cations_with_Si(initial_population, atom_species_by_symbol)"
   ]
  },
  {
   "cell_type": "code",
   "execution_count": 95,
   "metadata": {},
   "outputs": [],
   "source": [
    "mutation_type = lambda offspring: apply_single_random_mutation(mutation_probabilities, offspring, cluster_size, solution_thickness, atom_species_by_symbol, axis=2)"
   ]
  },
  {
   "cell_type": "code",
   "execution_count": 96,
   "metadata": {},
   "outputs": [],
   "source": [
    "crossover = lambda parents: crossover_fenotypes(parents, cluster_size, solution_thickness, axis=2)"
   ]
  },
  {
   "cell_type": "code",
   "execution_count": 97,
   "metadata": {},
   "outputs": [],
   "source": [
    "fitness_function = lambda solution: fitness_z(wall_front, wall_back, solution, atom_species_by_symbol, cluster_size, wall_thickness, solution_thickness, alpha, beta, gamma)"
   ]
  },
  {
   "cell_type": "code",
   "execution_count": 98,
   "metadata": {},
   "outputs": [],
   "source": [
    "ea_z = EvolutionaryAlgorithm(initial_population, mutation_type, crossover, selection_proportional, fitness_function)"
   ]
  },
  {
   "cell_type": "code",
   "execution_count": 99,
   "metadata": {},
   "outputs": [
    {
     "name": "stdout",
     "output_type": "stream",
     "text": [
      "Generation 0 avg fitness: -4864.062567775644 best fitness: -4053.452534567585\n",
      "Generation 15 avg fitness: -4175.410629039994 best fitness: -3925.984234251252\n",
      "Generation 30 avg fitness: -3861.8955811778314 best fitness: -3674.630647779744\n",
      "Generation 45 avg fitness: -3678.880580934246 best fitness: -3515.3300363550925\n",
      "Generation 60 avg fitness: -3520.798980770777 best fitness: -3331.6964518914547\n",
      "Generation 75 avg fitness: -3373.637072314719 best fitness: -3224.206848896968\n",
      "Generation 90 avg fitness: -3258.28998996103 best fitness: -3123.7189324425008\n",
      "Generation 105 avg fitness: -3082.450485014446 best fitness: -2929.881549444838\n",
      "Reached stagnation\n",
      "Evolution ran for  120 generations, reached best fitness of  -2825.5187547750766\n"
     ]
    }
   ],
   "source": [
    "new_population = ea_z.evolve(n_parents_per_child, n_children, n_elites, max_num_generations, tolerate_stagnation_for_n_generations, stagnation_epsilon, target_fitness_value)"
   ]
  },
  {
   "cell_type": "code",
   "execution_count": 104,
   "metadata": {},
   "outputs": [
    {
     "data": {
      "image/png": "[encoded data removed]",
      "text/plain": [
       "<Figure size 640x480 with 1 Axes>"
      ]
     },
     "metadata": {},
     "output_type": "display_data"
    },
    {
     "data": {
      "application/vnd.plotly.v1+json": {
       "config": {
        "plotlyServerURL": "https://plot.ly"
       },
       "data": [
        {
         "hoverinfo": "text",
         "marker": {
          "color": [
           4,
           4,
           4,
           6,
           6,
           6,
           6,
           6,
           6,
           6,
           6,
           6,
           4,
           4,
           4,
           4,
           6,
           6,
           6,
           6,
           6,
           6,
           6,
           4,
           6,
           6,
           6,
           6,
           6,
           6
          ],
          "colorscale": [
           [
            0,
            "#440154"
           ],
           [
            0.1111111111111111,
            "#482878"
           ],
           [
            0.2222222222222222,
            "#3e4989"
           ],
           [
            0.3333333333333333,
            "#31688e"
           ],
           [
            0.4444444444444444,
            "#26828e"
           ],
           [
            0.5555555555555556,
            "#1f9e89"
           ],
           [
            0.6666666666666666,
            "#35b779"
           ],
           [
            0.7777777777777778,
            "#6ece58"
           ],
           [
            0.8888888888888888,
            "#b5de2b"
           ],
           [
            1,
            "#fde725"
           ]
          ],
          "opacity": 0.8,
          "size": 5,
          "symbol": "circle"
         },
         "mode": "markers",
         "text": [
          "Si",
          "Si",
          "Si",
          "O",
          "O",
          "O",
          "O",
          "O",
          "O",
          "O",
          "O",
          "O",
          "Si",
          "Si",
          "Si",
          "Si",
          "O",
          "O",
          "O",
          "O",
          "O",
          "O",
          "O",
          "Si",
          "O",
          "O",
          "O",
          "O",
          "O",
          "O"
         ],
         "type": "scatter3d",
         "x": [
          -0.5299798385638042,
          -4.476735356586821,
          -2.2317079973738716,
          -4.136803597878584,
          -1.3418927694899614,
          -2.700251597878584,
          -3.0551461556660295,
          -4.0950973472800625,
          -3.8069978156955955,
          -2.302792120493115,
          -0.8299670521884335,
          0.5386490357275826,
          1.4136206254821255,
          0.8141435765541972,
          4.0993466254821245,
          2.435789625482127,
          0.5331584709344802,
          2.9462504159786658,
          0.3741326254821269,
          3.283365455199614,
          1.1694710990937642,
          1.7642786254821248,
          0.19209962548212633,
          5.439042625482126,
          4.377619625482126,
          5.506294625482126,
          6.135978625482126,
          0.4979777590224401,
          6.205544154581743,
          6.1023366198927445
         ],
         "y": [
          2.718914040757427,
          -1.4200581685390394,
          -3.454662699313331,
          -2.670943817863357,
          5.12026405798707,
          2.270023182136642,
          -2.339608433903646,
          -0.2818364627673991,
          -3.366913843136145,
          -4.707971631210382,
          -2.4723846014620747,
          1.8930932322566385,
          2.6004431119314413,
          -2.621190317165516,
          0.7639491119314394,
          -5.59865688806856,
          2.371572034040093,
          -6.084691028007504,
          -2.4347018880685605,
          -5.944696368441309,
          -6.417375874635055,
          -1.4721448880685601,
          4.78743011193144,
          -2.222511888068561,
          -0.8124998880685608,
          1.6887731119314404,
          -2.78306688806856,
          5.433795132332632,
          5.661035755269012,
          -0.5411685958516763
         ],
         "z": [
          -0.3826030064629553,
          -0.43063683317529305,
          0.9127681641070303,
          0.9941413104826946,
          -0.9565079774000037,
          0.7278183104826947,
          -1.0943270407597046,
          -0.12053769932916329,
          1.4716204044518266,
          0.6981997346037696,
          1.223122920861821,
          0.8199703428335513,
          1.2994097650316796,
          0.2114896486227018,
          -1.217452234968321,
          0.18973276503168002,
          -0.39685310007606145,
          -1.2374406063938932,
          -0.7313342349683207,
          1.2162321585554408,
          1.2165528768161986,
          1.2888547650316795,
          -1.1803532349683206,
          -1.121904234968321,
          -0.9784672349683206,
          -1.0587092349683207,
          0.39773776503168,
          1.0391186051501218,
          1.4783944170249037,
          -1.4372001122313391
         ]
        }
       ],
       "layout": {
        "margin": {
         "b": 10,
         "l": 10,
         "r": 20,
         "t": 10
        },
        "scene": {
         "aspectmode": "data",
         "xaxis": {
          "title": {
           "text": "X"
          }
         },
         "yaxis": {
          "title": {
           "text": "Y"
          }
         },
         "zaxis": {
          "title": {
           "text": "Z"
          }
         }
        },
        "showlegend": false,
        "template": {
         "data": {
          "bar": [
           {
            "error_x": {
             "color": "#2a3f5f"
            },
            "error_y": {
             "color": "#2a3f5f"
            },
            "marker": {
             "line": {
              "color": "#E5ECF6",
              "width": 0.5
             },
             "pattern": {
              "fillmode": "overlay",
              "size": 10,
              "solidity": 0.2
             }
            },
            "type": "bar"
           }
          ],
          "barpolar": [
           {
            "marker": {
             "line": {
              "color": "#E5ECF6",
              "width": 0.5
             },
             "pattern": {
              "fillmode": "overlay",
              "size": 10,
              "solidity": 0.2
             }
            },
            "type": "barpolar"
           }
          ],
          "carpet": [
           {
            "aaxis": {
             "endlinecolor": "#2a3f5f",
             "gridcolor": "white",
             "linecolor": "white",
             "minorgridcolor": "white",
             "startlinecolor": "#2a3f5f"
            },
            "baxis": {
             "endlinecolor": "#2a3f5f",
             "gridcolor": "white",
             "linecolor": "white",
             "minorgridcolor": "white",
             "startlinecolor": "#2a3f5f"
            },
            "type": "carpet"
           }
          ],
          "choropleth": [
           {
            "colorbar": {
             "outlinewidth": 0,
             "ticks": ""
            },
            "type": "choropleth"
           }
          ],
          "contour": [
           {
            "colorbar": {
             "outlinewidth": 0,
             "ticks": ""
            },
            "colorscale": [
             [
              0,
              "#0d0887"
             ],
             [
              0.1111111111111111,
              "#46039f"
             ],
             [
              0.2222222222222222,
              "#7201a8"
             ],
             [
              0.3333333333333333,
              "#9c179e"
             ],
             [
              0.4444444444444444,
              "#bd3786"
             ],
             [
              0.5555555555555556,
              "#d8576b"
             ],
             [
              0.6666666666666666,
              "#ed7953"
             ],
             [
              0.7777777777777778,
              "#fb9f3a"
             ],
             [
              0.8888888888888888,
              "#fdca26"
             ],
             [
              1,
              "#f0f921"
             ]
            ],
            "type": "contour"
           }
          ],
          "contourcarpet": [
           {
            "colorbar": {
             "outlinewidth": 0,
             "ticks": ""
            },
            "type": "contourcarpet"
           }
          ],
          "heatmap": [
           {
            "colorbar": {
             "outlinewidth": 0,
             "ticks": ""
            },
            "colorscale": [
             [
              0,
              "#0d0887"
             ],
             [
              0.1111111111111111,
              "#46039f"
             ],
             [
              0.2222222222222222,
              "#7201a8"
             ],
             [
              0.3333333333333333,
              "#9c179e"
             ],
             [
              0.4444444444444444,
              "#bd3786"
             ],
             [
              0.5555555555555556,
              "#d8576b"
             ],
             [
              0.6666666666666666,
              "#ed7953"
             ],
             [
              0.7777777777777778,
              "#fb9f3a"
             ],
             [
              0.8888888888888888,
              "#fdca26"
             ],
             [
              1,
              "#f0f921"
             ]
            ],
            "type": "heatmap"
           }
          ],
          "heatmapgl": [
           {
            "colorbar": {
             "outlinewidth": 0,
             "ticks": ""
            },
            "colorscale": [
             [
              0,
              "#0d0887"
             ],
             [
              0.1111111111111111,
              "#46039f"
             ],
             [
              0.2222222222222222,
              "#7201a8"
             ],
             [
              0.3333333333333333,
              "#9c179e"
             ],
             [
              0.4444444444444444,
              "#bd3786"
             ],
             [
              0.5555555555555556,
              "#d8576b"
             ],
             [
              0.6666666666666666,
              "#ed7953"
             ],
             [
              0.7777777777777778,
              "#fb9f3a"
             ],
             [
              0.8888888888888888,
              "#fdca26"
             ],
             [
              1,
              "#f0f921"
             ]
            ],
            "type": "heatmapgl"
           }
          ],
          "histogram": [
           {
            "marker": {
             "pattern": {
              "fillmode": "overlay",
              "size": 10,
              "solidity": 0.2
             }
            },
            "type": "histogram"
           }
          ],
          "histogram2d": [
           {
            "colorbar": {
             "outlinewidth": 0,
             "ticks": ""
            },
            "colorscale": [
             [
              0,
              "#0d0887"
             ],
             [
              0.1111111111111111,
              "#46039f"
             ],
             [
              0.2222222222222222,
              "#7201a8"
             ],
             [
              0.3333333333333333,
              "#9c179e"
             ],
             [
              0.4444444444444444,
              "#bd3786"
             ],
             [
              0.5555555555555556,
              "#d8576b"
             ],
             [
              0.6666666666666666,
              "#ed7953"
             ],
             [
              0.7777777777777778,
              "#fb9f3a"
             ],
             [
              0.8888888888888888,
              "#fdca26"
             ],
             [
              1,
              "#f0f921"
             ]
            ],
            "type": "histogram2d"
           }
          ],
          "histogram2dcontour": [
           {
            "colorbar": {
             "outlinewidth": 0,
             "ticks": ""
            },
            "colorscale": [
             [
              0,
              "#0d0887"
             ],
             [
              0.1111111111111111,
              "#46039f"
             ],
             [
              0.2222222222222222,
              "#7201a8"
             ],
             [
              0.3333333333333333,
              "#9c179e"
             ],
             [
              0.4444444444444444,
              "#bd3786"
             ],
             [
              0.5555555555555556,
              "#d8576b"
             ],
             [
              0.6666666666666666,
              "#ed7953"
             ],
             [
              0.7777777777777778,
              "#fb9f3a"
             ],
             [
              0.8888888888888888,
              "#fdca26"
             ],
             [
              1,
              "#f0f921"
             ]
            ],
            "type": "histogram2dcontour"
           }
          ],
          "mesh3d": [
           {
            "colorbar": {
             "outlinewidth": 0,
             "ticks": ""
            },
            "type": "mesh3d"
           }
          ],
          "parcoords": [
           {
            "line": {
             "colorbar": {
              "outlinewidth": 0,
              "ticks": ""
             }
            },
            "type": "parcoords"
           }
          ],
          "pie": [
           {
            "automargin": true,
            "type": "pie"
           }
          ],
          "scatter": [
           {
            "fillpattern": {
             "fillmode": "overlay",
             "size": 10,
             "solidity": 0.2
            },
            "type": "scatter"
           }
          ],
          "scatter3d": [
           {
            "line": {
             "colorbar": {
              "outlinewidth": 0,
              "ticks": ""
             }
            },
            "marker": {
             "colorbar": {
              "outlinewidth": 0,
              "ticks": ""
             }
            },
            "type": "scatter3d"
           }
          ],
          "scattercarpet": [
           {
            "marker": {
             "colorbar": {
              "outlinewidth": 0,
              "ticks": ""
             }
            },
            "type": "scattercarpet"
           }
          ],
          "scattergeo": [
           {
            "marker": {
             "colorbar": {
              "outlinewidth": 0,
              "ticks": ""
             }
            },
            "type": "scattergeo"
           }
          ],
          "scattergl": [
           {
            "marker": {
             "colorbar": {
              "outlinewidth": 0,
              "ticks": ""
             }
            },
            "type": "scattergl"
           }
          ],
          "scattermapbox": [
           {
            "marker": {
             "colorbar": {
              "outlinewidth": 0,
              "ticks": ""
             }
            },
            "type": "scattermapbox"
           }
          ],
          "scatterpolar": [
           {
            "marker": {
             "colorbar": {
              "outlinewidth": 0,
              "ticks": ""
             }
            },
            "type": "scatterpolar"
           }
          ],
          "scatterpolargl": [
           {
            "marker": {
             "colorbar": {
              "outlinewidth": 0,
              "ticks": ""
             }
            },
            "type": "scatterpolargl"
           }
          ],
          "scatterternary": [
           {
            "marker": {
             "colorbar": {
              "outlinewidth": 0,
              "ticks": ""
             }
            },
            "type": "scatterternary"
           }
          ],
          "surface": [
           {
            "colorbar": {
             "outlinewidth": 0,
             "ticks": ""
            },
            "colorscale": [
             [
              0,
              "#0d0887"
             ],
             [
              0.1111111111111111,
              "#46039f"
             ],
             [
              0.2222222222222222,
              "#7201a8"
             ],
             [
              0.3333333333333333,
              "#9c179e"
             ],
             [
              0.4444444444444444,
              "#bd3786"
             ],
             [
              0.5555555555555556,
              "#d8576b"
             ],
             [
              0.6666666666666666,
              "#ed7953"
             ],
             [
              0.7777777777777778,
              "#fb9f3a"
             ],
             [
              0.8888888888888888,
              "#fdca26"
             ],
             [
              1,
              "#f0f921"
             ]
            ],
            "type": "surface"
           }
          ],
          "table": [
           {
            "cells": {
             "fill": {
              "color": "#EBF0F8"
             },
             "line": {
              "color": "white"
             }
            },
            "header": {
             "fill": {
              "color": "#C8D4E3"
             },
             "line": {
              "color": "white"
             }
            },
            "type": "table"
           }
          ]
         },
         "layout": {
          "annotationdefaults": {
           "arrowcolor": "#2a3f5f",
           "arrowhead": 0,
           "arrowwidth": 1
          },
          "autotypenumbers": "strict",
          "coloraxis": {
           "colorbar": {
            "outlinewidth": 0,
            "ticks": ""
           }
          },
          "colorscale": {
           "diverging": [
            [
             0,
             "#8e0152"
            ],
            [
             0.1,
             "#c51b7d"
            ],
            [
             0.2,
             "#de77ae"
            ],
            [
             0.3,
             "#f1b6da"
            ],
            [
             0.4,
             "#fde0ef"
            ],
            [
             0.5,
             "#f7f7f7"
            ],
            [
             0.6,
             "#e6f5d0"
            ],
            [
             0.7,
             "#b8e186"
            ],
            [
             0.8,
             "#7fbc41"
            ],
            [
             0.9,
             "#4d9221"
            ],
            [
             1,
             "#276419"
            ]
           ],
           "sequential": [
            [
             0,
             "#0d0887"
            ],
            [
             0.1111111111111111,
             "#46039f"
            ],
            [
             0.2222222222222222,
             "#7201a8"
            ],
            [
             0.3333333333333333,
             "#9c179e"
            ],
            [
             0.4444444444444444,
             "#bd3786"
            ],
            [
             0.5555555555555556,
             "#d8576b"
            ],
            [
             0.6666666666666666,
             "#ed7953"
            ],
            [
             0.7777777777777778,
             "#fb9f3a"
            ],
            [
             0.8888888888888888,
             "#fdca26"
            ],
            [
             1,
             "#f0f921"
            ]
           ],
           "sequentialminus": [
            [
             0,
             "#0d0887"
            ],
            [
             0.1111111111111111,
             "#46039f"
            ],
            [
             0.2222222222222222,
             "#7201a8"
            ],
            [
             0.3333333333333333,
             "#9c179e"
            ],
            [
             0.4444444444444444,
             "#bd3786"
            ],
            [
             0.5555555555555556,
             "#d8576b"
            ],
            [
             0.6666666666666666,
             "#ed7953"
            ],
            [
             0.7777777777777778,
             "#fb9f3a"
            ],
            [
             0.8888888888888888,
             "#fdca26"
            ],
            [
             1,
             "#f0f921"
            ]
           ]
          },
          "colorway": [
           "#636efa",
           "#EF553B",
           "#00cc96",
           "#ab63fa",
           "#FFA15A",
           "#19d3f3",
           "#FF6692",
           "#B6E880",
           "#FF97FF",
           "#FECB52"
          ],
          "font": {
           "color": "#2a3f5f"
          },
          "geo": {
           "bgcolor": "white",
           "lakecolor": "white",
           "landcolor": "#E5ECF6",
           "showlakes": true,
           "showland": true,
           "subunitcolor": "white"
          },
          "hoverlabel": {
           "align": "left"
          },
          "hovermode": "closest",
          "mapbox": {
           "style": "light"
          },
          "paper_bgcolor": "white",
          "plot_bgcolor": "#E5ECF6",
          "polar": {
           "angularaxis": {
            "gridcolor": "white",
            "linecolor": "white",
            "ticks": ""
           },
           "bgcolor": "#E5ECF6",
           "radialaxis": {
            "gridcolor": "white",
            "linecolor": "white",
            "ticks": ""
           }
          },
          "scene": {
           "xaxis": {
            "backgroundcolor": "#E5ECF6",
            "gridcolor": "white",
            "gridwidth": 2,
            "linecolor": "white",
            "showbackground": true,
            "ticks": "",
            "zerolinecolor": "white"
           },
           "yaxis": {
            "backgroundcolor": "#E5ECF6",
            "gridcolor": "white",
            "gridwidth": 2,
            "linecolor": "white",
            "showbackground": true,
            "ticks": "",
            "zerolinecolor": "white"
           },
           "zaxis": {
            "backgroundcolor": "#E5ECF6",
            "gridcolor": "white",
            "gridwidth": 2,
            "linecolor": "white",
            "showbackground": true,
            "ticks": "",
            "zerolinecolor": "white"
           }
          },
          "shapedefaults": {
           "line": {
            "color": "#2a3f5f"
           }
          },
          "ternary": {
           "aaxis": {
            "gridcolor": "white",
            "linecolor": "white",
            "ticks": ""
           },
           "baxis": {
            "gridcolor": "white",
            "linecolor": "white",
            "ticks": ""
           },
           "bgcolor": "#E5ECF6",
           "caxis": {
            "gridcolor": "white",
            "linecolor": "white",
            "ticks": ""
           }
          },
          "title": {
           "x": 0.05
          },
          "xaxis": {
           "automargin": true,
           "gridcolor": "white",
           "linecolor": "white",
           "ticks": "",
           "title": {
            "standoff": 15
           },
           "zerolinecolor": "white",
           "zerolinewidth": 2
          },
          "yaxis": {
           "automargin": true,
           "gridcolor": "white",
           "linecolor": "white",
           "ticks": "",
           "title": {
            "standoff": 15
           },
           "zerolinecolor": "white",
           "zerolinewidth": 2
          }
         }
        },
        "width": 700
       }
      }
     },
     "metadata": {},
     "output_type": "display_data"
    },
    {
     "data": {
      "application/vnd.plotly.v1+json": {
       "config": {
        "plotlyServerURL": "https://plot.ly"
       },
       "data": [
        {
         "hoverinfo": "text",
         "marker": {
          "color": [
           4,
           4,
           4,
           6,
           6,
           6,
           6,
           6,
           6,
           6,
           6,
           6,
           4,
           4,
           4,
           4,
           6,
           6,
           6,
           6,
           6,
           6,
           6,
           4,
           6,
           6,
           6,
           6,
           6,
           6
          ],
          "colorscale": [
           [
            0,
            "#440154"
           ],
           [
            0.1111111111111111,
            "#482878"
           ],
           [
            0.2222222222222222,
            "#3e4989"
           ],
           [
            0.3333333333333333,
            "#31688e"
           ],
           [
            0.4444444444444444,
            "#26828e"
           ],
           [
            0.5555555555555556,
            "#1f9e89"
           ],
           [
            0.6666666666666666,
            "#35b779"
           ],
           [
            0.7777777777777778,
            "#6ece58"
           ],
           [
            0.8888888888888888,
            "#b5de2b"
           ],
           [
            1,
            "#fde725"
           ]
          ],
          "opacity": 0.8,
          "size": 5,
          "symbol": "circle"
         },
         "mode": "markers",
         "text": [
          "Si",
          "Si",
          "Si",
          "O",
          "O",
          "O",
          "O",
          "O",
          "O",
          "O",
          "O",
          "O",
          "Si",
          "Si",
          "Si",
          "Si",
          "O",
          "O",
          "O",
          "O",
          "O",
          "O",
          "O",
          "Si",
          "O",
          "O",
          "O",
          "O",
          "O",
          "O"
         ],
         "type": "scatter3d",
         "x": [
          -0.5299798385638042,
          -4.476735356586821,
          -2.2317079973738716,
          -4.136803597878584,
          -1.3418927694899614,
          -2.700251597878584,
          -3.0551461556660295,
          -4.0950973472800625,
          -3.8069978156955955,
          -2.302792120493115,
          -0.8299670521884335,
          0.5386490357275826,
          1.4136206254821255,
          0.8141435765541972,
          4.0993466254821245,
          2.435789625482127,
          0.5331584709344802,
          2.9462504159786658,
          0.3741326254821269,
          3.283365455199614,
          1.1694710990937642,
          1.7642786254821248,
          0.19209962548212633,
          5.439042625482126,
          4.377619625482126,
          5.506294625482126,
          6.135978625482126,
          0.4979777590224401,
          6.205544154581743,
          6.1023366198927445
         ],
         "y": [
          2.718914040757427,
          -1.4200581685390394,
          -3.454662699313331,
          -2.670943817863357,
          5.12026405798707,
          2.270023182136642,
          -2.339608433903646,
          -0.2818364627673991,
          -3.366913843136145,
          -4.707971631210382,
          -2.4723846014620747,
          1.8930932322566385,
          2.6004431119314413,
          -2.621190317165516,
          0.7639491119314394,
          -5.59865688806856,
          2.371572034040093,
          -6.084691028007504,
          -2.4347018880685605,
          -5.944696368441309,
          -6.417375874635055,
          -1.4721448880685601,
          4.78743011193144,
          -2.222511888068561,
          -0.8124998880685608,
          1.6887731119314404,
          -2.78306688806856,
          5.433795132332632,
          5.661035755269012,
          -0.5411685958516763
         ],
         "z": [
          -0.3826030064629553,
          -0.43063683317529305,
          0.9127681641070303,
          0.9941413104826946,
          -0.9565079774000037,
          0.7278183104826947,
          -1.0943270407597046,
          -0.12053769932916329,
          1.4716204044518266,
          0.6981997346037696,
          1.223122920861821,
          0.8199703428335513,
          1.2994097650316796,
          0.2114896486227018,
          -1.217452234968321,
          0.18973276503168002,
          -0.39685310007606145,
          -1.2374406063938932,
          -0.7313342349683207,
          1.2162321585554408,
          1.2165528768161986,
          1.2888547650316795,
          -1.1803532349683206,
          -1.121904234968321,
          -0.9784672349683206,
          -1.0587092349683207,
          0.39773776503168,
          1.0391186051501218,
          1.4783944170249037,
          -1.4372001122313391
         ]
        },
        {
         "hoverinfo": "text",
         "marker": {
          "color": [
           4,
           4,
           4,
           4,
           6,
           6,
           6,
           6,
           6,
           6,
           6,
           6,
           6,
           4,
           4,
           4,
           4,
           4,
           4,
           6,
           6,
           6,
           6,
           6,
           6,
           6,
           6,
           6,
           6,
           6
          ],
          "colorscale": [
           [
            0,
            "#440154"
           ],
           [
            0.1111111111111111,
            "#482878"
           ],
           [
            0.2222222222222222,
            "#3e4989"
           ],
           [
            0.3333333333333333,
            "#31688e"
           ],
           [
            0.4444444444444444,
            "#26828e"
           ],
           [
            0.5555555555555556,
            "#1f9e89"
           ],
           [
            0.6666666666666666,
            "#35b779"
           ],
           [
            0.7777777777777778,
            "#6ece58"
           ],
           [
            0.8888888888888888,
            "#b5de2b"
           ],
           [
            1,
            "#fde725"
           ]
          ],
          "opacity": 0.8,
          "size": 5,
          "symbol": "diamond"
         },
         "mode": "markers",
         "text": [
          "Si",
          "Si",
          "Si",
          "Si",
          "O",
          "O",
          "O",
          "O",
          "O",
          "O",
          "O",
          "O",
          "O",
          "Si",
          "Si",
          "Si",
          "Si",
          "Si",
          "Si",
          "O",
          "O",
          "O",
          "O",
          "O",
          "O",
          "O",
          "O",
          "O",
          "O",
          "O"
         ],
         "type": "scatter3d",
         "x": [
          4.104596000000001,
          0.38539800000000035,
          -3.994316999999999,
          -0.2273069999999997,
          0.1944720000000011,
          4.305161999999999,
          -0.5660799999999995,
          0.832103,
          1.0167149999999996,
          -1.5260099999999994,
          2.2226800000000004,
          5.241650999999999,
          -1.9396580000000014,
          5.201362,
          0.7969489999999997,
          4.698104000000001,
          -1.8873420000000003,
          0.2094850000000008,
          -3.2113960000000006,
          -0.953793000000001,
          3.9677050000000005,
          -3.5273329999999987,
          5.134373,
          -1.3570840000000004,
          -1.4193111218963952,
          -1.2065125089503412,
          0.06643015902913008,
          4.053270864251006,
          0.7910047259319981,
          5.114908538690072
         ],
         "y": [
          -4.470077999999999,
          -5.044238999999999,
          -1.677274999999998,
          -1.8741179999999993,
          -4.631461,
          -2.527085999999999,
          -3.3231319999999993,
          1.2960279999999997,
          -1.9107329999999987,
          -1.5367560000000005,
          -4.4763829999999984,
          -4.765920999999999,
          -5.554328,
          2.3820580000000007,
          5.034108000000001,
          5.288629,
          4.076740000000001,
          1.6290020000000007,
          1.4117780000000009,
          5.467738000000001,
          3.8789640000000007,
          4.633879,
          1.768718000000001,
          2.553656000000001,
          3.1394584750453425,
          0.17532438645901394,
          5.298921029005587,
          -1.3048183445520039,
          0.9268536957022002,
          -0.47955253863962366
         ],
         "z": [
          2.2507079999999995,
          2.1539210000000004,
          2.06714,
          2.6171249999999997,
          4.407544,
          2.5866559999999996,
          1.853534999999999,
          2.546842999999999,
          3.6968370000000004,
          3.591951999999999,
          3.118428999999999,
          3.907133999999999,
          3.3518589999999993,
          4.0917580000000005,
          2.9475309999999997,
          2.6173470000000005,
          4.410836999999999,
          4.126016,
          2.204858999999999,
          3.8299079999999996,
          3.837230999999999,
          3.888385999999999,
          2.1292659999999994,
          3.7617829999999994,
          4.3188900896802345,
          4.345842324162767,
          3.840354485582013,
          3.8775332230659796,
          1.952958280751938,
          3.4194489177441447
         ]
        },
        {
         "hoverinfo": "text",
         "marker": {
          "color": [
           4,
           4,
           4,
           4,
           6,
           6,
           6,
           6,
           6,
           6,
           4,
           4,
           4,
           6,
           6,
           6,
           6,
           6,
           6,
           4,
           6,
           6,
           6,
           4,
           4,
           4,
           6,
           6,
           6,
           6,
           4,
           6,
           6,
           6,
           6,
           6,
           6
          ],
          "colorscale": [
           [
            0,
            "#440154"
           ],
           [
            0.1111111111111111,
            "#482878"
           ],
           [
            0.2222222222222222,
            "#3e4989"
           ],
           [
            0.3333333333333333,
            "#31688e"
           ],
           [
            0.4444444444444444,
            "#26828e"
           ],
           [
            0.5555555555555556,
            "#1f9e89"
           ],
           [
            0.6666666666666666,
            "#35b779"
           ],
           [
            0.7777777777777778,
            "#6ece58"
           ],
           [
            0.8888888888888888,
            "#b5de2b"
           ],
           [
            1,
            "#fde725"
           ]
          ],
          "opacity": 0.8,
          "size": 5,
          "symbol": "diamond"
         },
         "mode": "markers",
         "text": [
          "Si",
          "Si",
          "Si",
          "Si",
          "O",
          "O",
          "O",
          "O",
          "O",
          "O",
          "Si",
          "Si",
          "Si",
          "O",
          "O",
          "O",
          "O",
          "O",
          "O",
          "Si",
          "O",
          "O",
          "O",
          "Si",
          "Si",
          "Si",
          "O",
          "O",
          "O",
          "O",
          "Si",
          "O",
          "O",
          "O",
          "O",
          "O",
          "O"
         ],
         "type": "scatter3d",
         "x": [
          1.0470590000000009,
          2.2481399999999994,
          -1.1129229999999986,
          4.1653839999999995,
          -2.5923799999999986,
          0.04781000000000013,
          -3.3877750000000013,
          2.7266380000000012,
          2.6424339999999997,
          5.176579,
          -1.1449299999999987,
          5.822514,
          -4.099208000000001,
          4.4011890000000005,
          5.433498,
          -1.1628469999999993,
          -0.8935019999999998,
          2.001864000000001,
          4.2739910000000005,
          3.957395,
          -3.4745150000000002,
          -1.1653860000000016,
          -0.5796510000000001,
          -0.09485199999999949,
          -1.835808,
          3.123194999999999,
          1.8091910000000002,
          3.65334,
          -1.7232999999999983,
          -0.25414084547458254,
          -5.689994916049185,
          -6.3640189160491865,
          -4.322328916049186,
          1.3922086326581282,
          0.12025620605023418,
          -1.179510763095788,
          2.6151529419470645
         ],
         "y": [
          -5.0916,
          -0.4301460000000006,
          -0.1290230000000001,
          -4.618774999999999,
          -2.902099999999999,
          -3.5287169999999985,
          -0.22287000000000035,
          1.2938950000000027,
          -4.033187999999999,
          -3.369076999999999,
          -2.7641799999999996,
          0.6030180000000023,
          -4.923577,
          1.1894430000000007,
          -0.45721400000000045,
          -3.232391999999999,
          -1.1076169999999976,
          -1.0206829999999982,
          -5.765405999999999,
          4.373694,
          3.4501470000000007,
          1.6281440000000007,
          4.1149450000000005,
          5.674062000000001,
          2.824129000000001,
          1.9777850000000008,
          5.383252000000001,
          3.421695000000001,
          2.1043950000000007,
          1.3745179768262732,
          0.6498447203423718,
          -0.7761502796576282,
          1.2874727203423717,
          1.058374817019337,
          0.8857810810552418,
          -0.31521967244173466,
          1.1454713195796802
         ],
         "z": [
          -3.6071219999999986,
          -4.130906000000001,
          -4.494985000000002,
          -3.964169,
          -3.866100000000001,
          -3.9894809999999996,
          -4.190030999999999,
          -3.857145000000001,
          -3.935606999999999,
          -3.6615650000000013,
          -3.178059,
          -2.185129,
          -3.3932800000000007,
          -1.7179910000000005,
          -3.3444010000000004,
          -1.5976310000000007,
          -3.064699,
          -2.478536,
          -2.787325,
          -4.320627,
          -3.6168120000000012,
          -4.405104,
          -3.493397,
          -2.1738,
          -3.251519,
          -2.3755950000000006,
          -1.684583,
          -2.844398,
          -1.6864800000000004,
          -2.3364464749597627,
          -3.5234089813676075,
          -2.647591981367606,
          -2.6070189813676077,
          -3.63958492404926,
          -3.8355539902510363,
          -2.2360296560673945,
          -3.7649614067569033
         ]
        }
       ],
       "layout": {
        "margin": {
         "b": 10,
         "l": 10,
         "r": 20,
         "t": 10
        },
        "scene": {
         "aspectmode": "data",
         "xaxis": {
          "title": {
           "text": "X"
          }
         },
         "yaxis": {
          "title": {
           "text": "Y"
          }
         },
         "zaxis": {
          "title": {
           "text": "Z"
          }
         }
        },
        "showlegend": false,
        "template": {
         "data": {
          "bar": [
           {
            "error_x": {
             "color": "#2a3f5f"
            },
            "error_y": {
             "color": "#2a3f5f"
            },
            "marker": {
             "line": {
              "color": "#E5ECF6",
              "width": 0.5
             },
             "pattern": {
              "fillmode": "overlay",
              "size": 10,
              "solidity": 0.2
             }
            },
            "type": "bar"
           }
          ],
          "barpolar": [
           {
            "marker": {
             "line": {
              "color": "#E5ECF6",
              "width": 0.5
             },
             "pattern": {
              "fillmode": "overlay",
              "size": 10,
              "solidity": 0.2
             }
            },
            "type": "barpolar"
           }
          ],
          "carpet": [
           {
            "aaxis": {
             "endlinecolor": "#2a3f5f",
             "gridcolor": "white",
             "linecolor": "white",
             "minorgridcolor": "white",
             "startlinecolor": "#2a3f5f"
            },
            "baxis": {
             "endlinecolor": "#2a3f5f",
             "gridcolor": "white",
             "linecolor": "white",
             "minorgridcolor": "white",
             "startlinecolor": "#2a3f5f"
            },
            "type": "carpet"
           }
          ],
          "choropleth": [
           {
            "colorbar": {
             "outlinewidth": 0,
             "ticks": ""
            },
            "type": "choropleth"
           }
          ],
          "contour": [
           {
            "colorbar": {
             "outlinewidth": 0,
             "ticks": ""
            },
            "colorscale": [
             [
              0,
              "#0d0887"
             ],
             [
              0.1111111111111111,
              "#46039f"
             ],
             [
              0.2222222222222222,
              "#7201a8"
             ],
             [
              0.3333333333333333,
              "#9c179e"
             ],
             [
              0.4444444444444444,
              "#bd3786"
             ],
             [
              0.5555555555555556,
              "#d8576b"
             ],
             [
              0.6666666666666666,
              "#ed7953"
             ],
             [
              0.7777777777777778,
              "#fb9f3a"
             ],
             [
              0.8888888888888888,
              "#fdca26"
             ],
             [
              1,
              "#f0f921"
             ]
            ],
            "type": "contour"
           }
          ],
          "contourcarpet": [
           {
            "colorbar": {
             "outlinewidth": 0,
             "ticks": ""
            },
            "type": "contourcarpet"
           }
          ],
          "heatmap": [
           {
            "colorbar": {
             "outlinewidth": 0,
             "ticks": ""
            },
            "colorscale": [
             [
              0,
              "#0d0887"
             ],
             [
              0.1111111111111111,
              "#46039f"
             ],
             [
              0.2222222222222222,
              "#7201a8"
             ],
             [
              0.3333333333333333,
              "#9c179e"
             ],
             [
              0.4444444444444444,
              "#bd3786"
             ],
             [
              0.5555555555555556,
              "#d8576b"
             ],
             [
              0.6666666666666666,
              "#ed7953"
             ],
             [
              0.7777777777777778,
              "#fb9f3a"
             ],
             [
              0.8888888888888888,
              "#fdca26"
             ],
             [
              1,
              "#f0f921"
             ]
            ],
            "type": "heatmap"
           }
          ],
          "heatmapgl": [
           {
            "colorbar": {
             "outlinewidth": 0,
             "ticks": ""
            },
            "colorscale": [
             [
              0,
              "#0d0887"
             ],
             [
              0.1111111111111111,
              "#46039f"
             ],
             [
              0.2222222222222222,
              "#7201a8"
             ],
             [
              0.3333333333333333,
              "#9c179e"
             ],
             [
              0.4444444444444444,
              "#bd3786"
             ],
             [
              0.5555555555555556,
              "#d8576b"
             ],
             [
              0.6666666666666666,
              "#ed7953"
             ],
             [
              0.7777777777777778,
              "#fb9f3a"
             ],
             [
              0.8888888888888888,
              "#fdca26"
             ],
             [
              1,
              "#f0f921"
             ]
            ],
            "type": "heatmapgl"
           }
          ],
          "histogram": [
           {
            "marker": {
             "pattern": {
              "fillmode": "overlay",
              "size": 10,
              "solidity": 0.2
             }
            },
            "type": "histogram"
           }
          ],
          "histogram2d": [
           {
            "colorbar": {
             "outlinewidth": 0,
             "ticks": ""
            },
            "colorscale": [
             [
              0,
              "#0d0887"
             ],
             [
              0.1111111111111111,
              "#46039f"
             ],
             [
              0.2222222222222222,
              "#7201a8"
             ],
             [
              0.3333333333333333,
              "#9c179e"
             ],
             [
              0.4444444444444444,
              "#bd3786"
             ],
             [
              0.5555555555555556,
              "#d8576b"
             ],
             [
              0.6666666666666666,
              "#ed7953"
             ],
             [
              0.7777777777777778,
              "#fb9f3a"
             ],
             [
              0.8888888888888888,
              "#fdca26"
             ],
             [
              1,
              "#f0f921"
             ]
            ],
            "type": "histogram2d"
           }
          ],
          "histogram2dcontour": [
           {
            "colorbar": {
             "outlinewidth": 0,
             "ticks": ""
            },
            "colorscale": [
             [
              0,
              "#0d0887"
             ],
             [
              0.1111111111111111,
              "#46039f"
             ],
             [
              0.2222222222222222,
              "#7201a8"
             ],
             [
              0.3333333333333333,
              "#9c179e"
             ],
             [
              0.4444444444444444,
              "#bd3786"
             ],
             [
              0.5555555555555556,
              "#d8576b"
             ],
             [
              0.6666666666666666,
              "#ed7953"
             ],
             [
              0.7777777777777778,
              "#fb9f3a"
             ],
             [
              0.8888888888888888,
              "#fdca26"
             ],
             [
              1,
              "#f0f921"
             ]
            ],
            "type": "histogram2dcontour"
           }
          ],
          "mesh3d": [
           {
            "colorbar": {
             "outlinewidth": 0,
             "ticks": ""
            },
            "type": "mesh3d"
           }
          ],
          "parcoords": [
           {
            "line": {
             "colorbar": {
              "outlinewidth": 0,
              "ticks": ""
             }
            },
            "type": "parcoords"
           }
          ],
          "pie": [
           {
            "automargin": true,
            "type": "pie"
           }
          ],
          "scatter": [
           {
            "fillpattern": {
             "fillmode": "overlay",
             "size": 10,
             "solidity": 0.2
            },
            "type": "scatter"
           }
          ],
          "scatter3d": [
           {
            "line": {
             "colorbar": {
              "outlinewidth": 0,
              "ticks": ""
             }
            },
            "marker": {
             "colorbar": {
              "outlinewidth": 0,
              "ticks": ""
             }
            },
            "type": "scatter3d"
           }
          ],
          "scattercarpet": [
           {
            "marker": {
             "colorbar": {
              "outlinewidth": 0,
              "ticks": ""
             }
            },
            "type": "scattercarpet"
           }
          ],
          "scattergeo": [
           {
            "marker": {
             "colorbar": {
              "outlinewidth": 0,
              "ticks": ""
             }
            },
            "type": "scattergeo"
           }
          ],
          "scattergl": [
           {
            "marker": {
             "colorbar": {
              "outlinewidth": 0,
              "ticks": ""
             }
            },
            "type": "scattergl"
           }
          ],
          "scattermapbox": [
           {
            "marker": {
             "colorbar": {
              "outlinewidth": 0,
              "ticks": ""
             }
            },
            "type": "scattermapbox"
           }
          ],
          "scatterpolar": [
           {
            "marker": {
             "colorbar": {
              "outlinewidth": 0,
              "ticks": ""
             }
            },
            "type": "scatterpolar"
           }
          ],
          "scatterpolargl": [
           {
            "marker": {
             "colorbar": {
              "outlinewidth": 0,
              "ticks": ""
             }
            },
            "type": "scatterpolargl"
           }
          ],
          "scatterternary": [
           {
            "marker": {
             "colorbar": {
              "outlinewidth": 0,
              "ticks": ""
             }
            },
            "type": "scatterternary"
           }
          ],
          "surface": [
           {
            "colorbar": {
             "outlinewidth": 0,
             "ticks": ""
            },
            "colorscale": [
             [
              0,
              "#0d0887"
             ],
             [
              0.1111111111111111,
              "#46039f"
             ],
             [
              0.2222222222222222,
              "#7201a8"
             ],
             [
              0.3333333333333333,
              "#9c179e"
             ],
             [
              0.4444444444444444,
              "#bd3786"
             ],
             [
              0.5555555555555556,
              "#d8576b"
             ],
             [
              0.6666666666666666,
              "#ed7953"
             ],
             [
              0.7777777777777778,
              "#fb9f3a"
             ],
             [
              0.8888888888888888,
              "#fdca26"
             ],
             [
              1,
              "#f0f921"
             ]
            ],
            "type": "surface"
           }
          ],
          "table": [
           {
            "cells": {
             "fill": {
              "color": "#EBF0F8"
             },
             "line": {
              "color": "white"
             }
            },
            "header": {
             "fill": {
              "color": "#C8D4E3"
             },
             "line": {
              "color": "white"
             }
            },
            "type": "table"
           }
          ]
         },
         "layout": {
          "annotationdefaults": {
           "arrowcolor": "#2a3f5f",
           "arrowhead": 0,
           "arrowwidth": 1
          },
          "autotypenumbers": "strict",
          "coloraxis": {
           "colorbar": {
            "outlinewidth": 0,
            "ticks": ""
           }
          },
          "colorscale": {
           "diverging": [
            [
             0,
             "#8e0152"
            ],
            [
             0.1,
             "#c51b7d"
            ],
            [
             0.2,
             "#de77ae"
            ],
            [
             0.3,
             "#f1b6da"
            ],
            [
             0.4,
             "#fde0ef"
            ],
            [
             0.5,
             "#f7f7f7"
            ],
            [
             0.6,
             "#e6f5d0"
            ],
            [
             0.7,
             "#b8e186"
            ],
            [
             0.8,
             "#7fbc41"
            ],
            [
             0.9,
             "#4d9221"
            ],
            [
             1,
             "#276419"
            ]
           ],
           "sequential": [
            [
             0,
             "#0d0887"
            ],
            [
             0.1111111111111111,
             "#46039f"
            ],
            [
             0.2222222222222222,
             "#7201a8"
            ],
            [
             0.3333333333333333,
             "#9c179e"
            ],
            [
             0.4444444444444444,
             "#bd3786"
            ],
            [
             0.5555555555555556,
             "#d8576b"
            ],
            [
             0.6666666666666666,
             "#ed7953"
            ],
            [
             0.7777777777777778,
             "#fb9f3a"
            ],
            [
             0.8888888888888888,
             "#fdca26"
            ],
            [
             1,
             "#f0f921"
            ]
           ],
           "sequentialminus": [
            [
             0,
             "#0d0887"
            ],
            [
             0.1111111111111111,
             "#46039f"
            ],
            [
             0.2222222222222222,
             "#7201a8"
            ],
            [
             0.3333333333333333,
             "#9c179e"
            ],
            [
             0.4444444444444444,
             "#bd3786"
            ],
            [
             0.5555555555555556,
             "#d8576b"
            ],
            [
             0.6666666666666666,
             "#ed7953"
            ],
            [
             0.7777777777777778,
             "#fb9f3a"
            ],
            [
             0.8888888888888888,
             "#fdca26"
            ],
            [
             1,
             "#f0f921"
            ]
           ]
          },
          "colorway": [
           "#636efa",
           "#EF553B",
           "#00cc96",
           "#ab63fa",
           "#FFA15A",
           "#19d3f3",
           "#FF6692",
           "#B6E880",
           "#FF97FF",
           "#FECB52"
          ],
          "font": {
           "color": "#2a3f5f"
          },
          "geo": {
           "bgcolor": "white",
           "lakecolor": "white",
           "landcolor": "#E5ECF6",
           "showlakes": true,
           "showland": true,
           "subunitcolor": "white"
          },
          "hoverlabel": {
           "align": "left"
          },
          "hovermode": "closest",
          "mapbox": {
           "style": "light"
          },
          "paper_bgcolor": "white",
          "plot_bgcolor": "#E5ECF6",
          "polar": {
           "angularaxis": {
            "gridcolor": "white",
            "linecolor": "white",
            "ticks": ""
           },
           "bgcolor": "#E5ECF6",
           "radialaxis": {
            "gridcolor": "white",
            "linecolor": "white",
            "ticks": ""
           }
          },
          "scene": {
           "xaxis": {
            "backgroundcolor": "#E5ECF6",
            "gridcolor": "white",
            "gridwidth": 2,
            "linecolor": "white",
            "showbackground": true,
            "ticks": "",
            "zerolinecolor": "white"
           },
           "yaxis": {
            "backgroundcolor": "#E5ECF6",
            "gridcolor": "white",
            "gridwidth": 2,
            "linecolor": "white",
            "showbackground": true,
            "ticks": "",
            "zerolinecolor": "white"
           },
           "zaxis": {
            "backgroundcolor": "#E5ECF6",
            "gridcolor": "white",
            "gridwidth": 2,
            "linecolor": "white",
            "showbackground": true,
            "ticks": "",
            "zerolinecolor": "white"
           }
          },
          "shapedefaults": {
           "line": {
            "color": "#2a3f5f"
           }
          },
          "ternary": {
           "aaxis": {
            "gridcolor": "white",
            "linecolor": "white",
            "ticks": ""
           },
           "baxis": {
            "gridcolor": "white",
            "linecolor": "white",
            "ticks": ""
           },
           "bgcolor": "#E5ECF6",
           "caxis": {
            "gridcolor": "white",
            "linecolor": "white",
            "ticks": ""
           }
          },
          "title": {
           "x": 0.05
          },
          "xaxis": {
           "automargin": true,
           "gridcolor": "white",
           "linecolor": "white",
           "ticks": "",
           "title": {
            "standoff": 15
           },
           "zerolinecolor": "white",
           "zerolinewidth": 2
          },
          "yaxis": {
           "automargin": true,
           "gridcolor": "white",
           "linecolor": "white",
           "ticks": "",
           "title": {
            "standoff": 15
           },
           "zerolinecolor": "white",
           "zerolinewidth": 2
          }
         }
        },
        "width": 700
       }
      }
     },
     "metadata": {},
     "output_type": "display_data"
    }
   ],
   "source": [
    "ea_z.plot_fitness()\n",
    "best_solution_z = ea_z.get_best_solution()\n",
    "\n",
    "plot_atoms(best_solution_z, atom_species_by_index)\n",
    "plot_solution_with_walls((wall_front, wall_back), best_solution_z, atom_species_by_index)"
   ]
  },
  {
   "cell_type": "code",
   "execution_count": 103,
   "metadata": {},
   "outputs": [
    {
     "data": {
      "application/vnd.plotly.v1+json": {
       "config": {
        "plotlyServerURL": "https://plot.ly"
       },
       "data": [
        {
         "hoverinfo": "text",
         "marker": {
          "color": [
           4,
           4,
           4,
           4,
           6,
           6,
           6,
           6,
           6,
           6,
           4,
           4,
           4,
           6,
           6,
           6,
           6,
           6,
           6,
           4,
           6,
           6,
           6,
           4,
           4,
           4,
           6,
           6,
           6,
           6,
           4,
           6,
           6,
           6,
           6,
           6,
           6
          ],
          "colorscale": [
           [
            0,
            "#440154"
           ],
           [
            0.1111111111111111,
            "#482878"
           ],
           [
            0.2222222222222222,
            "#3e4989"
           ],
           [
            0.3333333333333333,
            "#31688e"
           ],
           [
            0.4444444444444444,
            "#26828e"
           ],
           [
            0.5555555555555556,
            "#1f9e89"
           ],
           [
            0.6666666666666666,
            "#35b779"
           ],
           [
            0.7777777777777778,
            "#6ece58"
           ],
           [
            0.8888888888888888,
            "#b5de2b"
           ],
           [
            1,
            "#fde725"
           ]
          ],
          "opacity": 0.8,
          "size": 5,
          "symbol": "circle"
         },
         "mode": "markers",
         "text": [
          "Si",
          "Si",
          "Si",
          "Si",
          "O",
          "O",
          "O",
          "O",
          "O",
          "O",
          "Si",
          "Si",
          "Si",
          "O",
          "O",
          "O",
          "O",
          "O",
          "O",
          "Si",
          "O",
          "O",
          "O",
          "Si",
          "Si",
          "Si",
          "O",
          "O",
          "O",
          "O",
          "Si",
          "O",
          "O",
          "O",
          "O",
          "O",
          "O"
         ],
         "type": "scatter3d",
         "x": [
          1.0470590000000009,
          2.2481399999999994,
          -1.1129229999999986,
          4.1653839999999995,
          -2.5923799999999986,
          0.04781000000000013,
          -3.3877750000000013,
          2.7266380000000012,
          2.6424339999999997,
          5.176579,
          -1.1449299999999987,
          5.822514,
          -4.099208000000001,
          4.4011890000000005,
          5.433498,
          -1.1628469999999993,
          -0.8935019999999998,
          2.001864000000001,
          4.2739910000000005,
          3.957395,
          -3.4745150000000002,
          -1.1653860000000016,
          -0.5796510000000001,
          -0.09485199999999949,
          -1.835808,
          3.123194999999999,
          1.8091910000000002,
          3.65334,
          -1.7232999999999983,
          -0.25414084547458254,
          -5.689994916049185,
          -6.3640189160491865,
          -4.322328916049186,
          1.3922086326581282,
          0.12025620605023418,
          -1.179510763095788,
          2.6151529419470645
         ],
         "y": [
          -5.0916,
          -0.4301460000000006,
          -0.1290230000000001,
          -4.618774999999999,
          -2.902099999999999,
          -3.5287169999999985,
          -0.22287000000000035,
          1.2938950000000027,
          -4.033187999999999,
          -3.369076999999999,
          -2.7641799999999996,
          0.6030180000000023,
          -4.923577,
          1.1894430000000007,
          -0.45721400000000045,
          -3.232391999999999,
          -1.1076169999999976,
          -1.0206829999999982,
          -5.765405999999999,
          4.373694,
          3.4501470000000007,
          1.6281440000000007,
          4.1149450000000005,
          5.674062000000001,
          2.824129000000001,
          1.9777850000000008,
          5.383252000000001,
          3.421695000000001,
          2.1043950000000007,
          1.3745179768262732,
          0.6498447203423718,
          -0.7761502796576282,
          1.2874727203423717,
          1.058374817019337,
          0.8857810810552418,
          -0.31521967244173466,
          1.1454713195796802
         ],
         "z": [
          -3.6071219999999986,
          -4.130906000000001,
          -4.494985000000002,
          -3.964169,
          -3.866100000000001,
          -3.9894809999999996,
          -4.190030999999999,
          -3.857145000000001,
          -3.935606999999999,
          -3.6615650000000013,
          -3.178059,
          -2.185129,
          -3.3932800000000007,
          -1.7179910000000005,
          -3.3444010000000004,
          -1.5976310000000007,
          -3.064699,
          -2.478536,
          -2.787325,
          -4.320627,
          -3.6168120000000012,
          -4.405104,
          -3.493397,
          -2.1738,
          -3.251519,
          -2.3755950000000006,
          -1.684583,
          -2.844398,
          -1.6864800000000004,
          -2.3364464749597627,
          -3.5234089813676075,
          -2.647591981367606,
          -2.6070189813676077,
          -3.63958492404926,
          -3.8355539902510363,
          -2.2360296560673945,
          -3.7649614067569033
         ]
        }
       ],
       "layout": {
        "margin": {
         "b": 10,
         "l": 10,
         "r": 20,
         "t": 10
        },
        "scene": {
         "aspectmode": "data",
         "xaxis": {
          "title": {
           "text": "X"
          }
         },
         "yaxis": {
          "title": {
           "text": "Y"
          }
         },
         "zaxis": {
          "title": {
           "text": "Z"
          }
         }
        },
        "showlegend": false,
        "template": {
         "data": {
          "bar": [
           {
            "error_x": {
             "color": "#2a3f5f"
            },
            "error_y": {
             "color": "#2a3f5f"
            },
            "marker": {
             "line": {
              "color": "#E5ECF6",
              "width": 0.5
             },
             "pattern": {
              "fillmode": "overlay",
              "size": 10,
              "solidity": 0.2
             }
            },
            "type": "bar"
           }
          ],
          "barpolar": [
           {
            "marker": {
             "line": {
              "color": "#E5ECF6",
              "width": 0.5
             },
             "pattern": {
              "fillmode": "overlay",
              "size": 10,
              "solidity": 0.2
             }
            },
            "type": "barpolar"
           }
          ],
          "carpet": [
           {
            "aaxis": {
             "endlinecolor": "#2a3f5f",
             "gridcolor": "white",
             "linecolor": "white",
             "minorgridcolor": "white",
             "startlinecolor": "#2a3f5f"
            },
            "baxis": {
             "endlinecolor": "#2a3f5f",
             "gridcolor": "white",
             "linecolor": "white",
             "minorgridcolor": "white",
             "startlinecolor": "#2a3f5f"
            },
            "type": "carpet"
           }
          ],
          "choropleth": [
           {
            "colorbar": {
             "outlinewidth": 0,
             "ticks": ""
            },
            "type": "choropleth"
           }
          ],
          "contour": [
           {
            "colorbar": {
             "outlinewidth": 0,
             "ticks": ""
            },
            "colorscale": [
             [
              0,
              "#0d0887"
             ],
             [
              0.1111111111111111,
              "#46039f"
             ],
             [
              0.2222222222222222,
              "#7201a8"
             ],
             [
              0.3333333333333333,
              "#9c179e"
             ],
             [
              0.4444444444444444,
              "#bd3786"
             ],
             [
              0.5555555555555556,
              "#d8576b"
             ],
             [
              0.6666666666666666,
              "#ed7953"
             ],
             [
              0.7777777777777778,
              "#fb9f3a"
             ],
             [
              0.8888888888888888,
              "#fdca26"
             ],
             [
              1,
              "#f0f921"
             ]
            ],
            "type": "contour"
           }
          ],
          "contourcarpet": [
           {
            "colorbar": {
             "outlinewidth": 0,
             "ticks": ""
            },
            "type": "contourcarpet"
           }
          ],
          "heatmap": [
           {
            "colorbar": {
             "outlinewidth": 0,
             "ticks": ""
            },
            "colorscale": [
             [
              0,
              "#0d0887"
             ],
             [
              0.1111111111111111,
              "#46039f"
             ],
             [
              0.2222222222222222,
              "#7201a8"
             ],
             [
              0.3333333333333333,
              "#9c179e"
             ],
             [
              0.4444444444444444,
              "#bd3786"
             ],
             [
              0.5555555555555556,
              "#d8576b"
             ],
             [
              0.6666666666666666,
              "#ed7953"
             ],
             [
              0.7777777777777778,
              "#fb9f3a"
             ],
             [
              0.8888888888888888,
              "#fdca26"
             ],
             [
              1,
              "#f0f921"
             ]
            ],
            "type": "heatmap"
           }
          ],
          "heatmapgl": [
           {
            "colorbar": {
             "outlinewidth": 0,
             "ticks": ""
            },
            "colorscale": [
             [
              0,
              "#0d0887"
             ],
             [
              0.1111111111111111,
              "#46039f"
             ],
             [
              0.2222222222222222,
              "#7201a8"
             ],
             [
              0.3333333333333333,
              "#9c179e"
             ],
             [
              0.4444444444444444,
              "#bd3786"
             ],
             [
              0.5555555555555556,
              "#d8576b"
             ],
             [
              0.6666666666666666,
              "#ed7953"
             ],
             [
              0.7777777777777778,
              "#fb9f3a"
             ],
             [
              0.8888888888888888,
              "#fdca26"
             ],
             [
              1,
              "#f0f921"
             ]
            ],
            "type": "heatmapgl"
           }
          ],
          "histogram": [
           {
            "marker": {
             "pattern": {
              "fillmode": "overlay",
              "size": 10,
              "solidity": 0.2
             }
            },
            "type": "histogram"
           }
          ],
          "histogram2d": [
           {
            "colorbar": {
             "outlinewidth": 0,
             "ticks": ""
            },
            "colorscale": [
             [
              0,
              "#0d0887"
             ],
             [
              0.1111111111111111,
              "#46039f"
             ],
             [
              0.2222222222222222,
              "#7201a8"
             ],
             [
              0.3333333333333333,
              "#9c179e"
             ],
             [
              0.4444444444444444,
              "#bd3786"
             ],
             [
              0.5555555555555556,
              "#d8576b"
             ],
             [
              0.6666666666666666,
              "#ed7953"
             ],
             [
              0.7777777777777778,
              "#fb9f3a"
             ],
             [
              0.8888888888888888,
              "#fdca26"
             ],
             [
              1,
              "#f0f921"
             ]
            ],
            "type": "histogram2d"
           }
          ],
          "histogram2dcontour": [
           {
            "colorbar": {
             "outlinewidth": 0,
             "ticks": ""
            },
            "colorscale": [
             [
              0,
              "#0d0887"
             ],
             [
              0.1111111111111111,
              "#46039f"
             ],
             [
              0.2222222222222222,
              "#7201a8"
             ],
             [
              0.3333333333333333,
              "#9c179e"
             ],
             [
              0.4444444444444444,
              "#bd3786"
             ],
             [
              0.5555555555555556,
              "#d8576b"
             ],
             [
              0.6666666666666666,
              "#ed7953"
             ],
             [
              0.7777777777777778,
              "#fb9f3a"
             ],
             [
              0.8888888888888888,
              "#fdca26"
             ],
             [
              1,
              "#f0f921"
             ]
            ],
            "type": "histogram2dcontour"
           }
          ],
          "mesh3d": [
           {
            "colorbar": {
             "outlinewidth": 0,
             "ticks": ""
            },
            "type": "mesh3d"
           }
          ],
          "parcoords": [
           {
            "line": {
             "colorbar": {
              "outlinewidth": 0,
              "ticks": ""
             }
            },
            "type": "parcoords"
           }
          ],
          "pie": [
           {
            "automargin": true,
            "type": "pie"
           }
          ],
          "scatter": [
           {
            "fillpattern": {
             "fillmode": "overlay",
             "size": 10,
             "solidity": 0.2
            },
            "type": "scatter"
           }
          ],
          "scatter3d": [
           {
            "line": {
             "colorbar": {
              "outlinewidth": 0,
              "ticks": ""
             }
            },
            "marker": {
             "colorbar": {
              "outlinewidth": 0,
              "ticks": ""
             }
            },
            "type": "scatter3d"
           }
          ],
          "scattercarpet": [
           {
            "marker": {
             "colorbar": {
              "outlinewidth": 0,
              "ticks": ""
             }
            },
            "type": "scattercarpet"
           }
          ],
          "scattergeo": [
           {
            "marker": {
             "colorbar": {
              "outlinewidth": 0,
              "ticks": ""
             }
            },
            "type": "scattergeo"
           }
          ],
          "scattergl": [
           {
            "marker": {
             "colorbar": {
              "outlinewidth": 0,
              "ticks": ""
             }
            },
            "type": "scattergl"
           }
          ],
          "scattermapbox": [
           {
            "marker": {
             "colorbar": {
              "outlinewidth": 0,
              "ticks": ""
             }
            },
            "type": "scattermapbox"
           }
          ],
          "scatterpolar": [
           {
            "marker": {
             "colorbar": {
              "outlinewidth": 0,
              "ticks": ""
             }
            },
            "type": "scatterpolar"
           }
          ],
          "scatterpolargl": [
           {
            "marker": {
             "colorbar": {
              "outlinewidth": 0,
              "ticks": ""
             }
            },
            "type": "scatterpolargl"
           }
          ],
          "scatterternary": [
           {
            "marker": {
             "colorbar": {
              "outlinewidth": 0,
              "ticks": ""
             }
            },
            "type": "scatterternary"
           }
          ],
          "surface": [
           {
            "colorbar": {
             "outlinewidth": 0,
             "ticks": ""
            },
            "colorscale": [
             [
              0,
              "#0d0887"
             ],
             [
              0.1111111111111111,
              "#46039f"
             ],
             [
              0.2222222222222222,
              "#7201a8"
             ],
             [
              0.3333333333333333,
              "#9c179e"
             ],
             [
              0.4444444444444444,
              "#bd3786"
             ],
             [
              0.5555555555555556,
              "#d8576b"
             ],
             [
              0.6666666666666666,
              "#ed7953"
             ],
             [
              0.7777777777777778,
              "#fb9f3a"
             ],
             [
              0.8888888888888888,
              "#fdca26"
             ],
             [
              1,
              "#f0f921"
             ]
            ],
            "type": "surface"
           }
          ],
          "table": [
           {
            "cells": {
             "fill": {
              "color": "#EBF0F8"
             },
             "line": {
              "color": "white"
             }
            },
            "header": {
             "fill": {
              "color": "#C8D4E3"
             },
             "line": {
              "color": "white"
             }
            },
            "type": "table"
           }
          ]
         },
         "layout": {
          "annotationdefaults": {
           "arrowcolor": "#2a3f5f",
           "arrowhead": 0,
           "arrowwidth": 1
          },
          "autotypenumbers": "strict",
          "coloraxis": {
           "colorbar": {
            "outlinewidth": 0,
            "ticks": ""
           }
          },
          "colorscale": {
           "diverging": [
            [
             0,
             "#8e0152"
            ],
            [
             0.1,
             "#c51b7d"
            ],
            [
             0.2,
             "#de77ae"
            ],
            [
             0.3,
             "#f1b6da"
            ],
            [
             0.4,
             "#fde0ef"
            ],
            [
             0.5,
             "#f7f7f7"
            ],
            [
             0.6,
             "#e6f5d0"
            ],
            [
             0.7,
             "#b8e186"
            ],
            [
             0.8,
             "#7fbc41"
            ],
            [
             0.9,
             "#4d9221"
            ],
            [
             1,
             "#276419"
            ]
           ],
           "sequential": [
            [
             0,
             "#0d0887"
            ],
            [
             0.1111111111111111,
             "#46039f"
            ],
            [
             0.2222222222222222,
             "#7201a8"
            ],
            [
             0.3333333333333333,
             "#9c179e"
            ],
            [
             0.4444444444444444,
             "#bd3786"
            ],
            [
             0.5555555555555556,
             "#d8576b"
            ],
            [
             0.6666666666666666,
             "#ed7953"
            ],
            [
             0.7777777777777778,
             "#fb9f3a"
            ],
            [
             0.8888888888888888,
             "#fdca26"
            ],
            [
             1,
             "#f0f921"
            ]
           ],
           "sequentialminus": [
            [
             0,
             "#0d0887"
            ],
            [
             0.1111111111111111,
             "#46039f"
            ],
            [
             0.2222222222222222,
             "#7201a8"
            ],
            [
             0.3333333333333333,
             "#9c179e"
            ],
            [
             0.4444444444444444,
             "#bd3786"
            ],
            [
             0.5555555555555556,
             "#d8576b"
            ],
            [
             0.6666666666666666,
             "#ed7953"
            ],
            [
             0.7777777777777778,
             "#fb9f3a"
            ],
            [
             0.8888888888888888,
             "#fdca26"
            ],
            [
             1,
             "#f0f921"
            ]
           ]
          },
          "colorway": [
           "#636efa",
           "#EF553B",
           "#00cc96",
           "#ab63fa",
           "#FFA15A",
           "#19d3f3",
           "#FF6692",
           "#B6E880",
           "#FF97FF",
           "#FECB52"
          ],
          "font": {
           "color": "#2a3f5f"
          },
          "geo": {
           "bgcolor": "white",
           "lakecolor": "white",
           "landcolor": "#E5ECF6",
           "showlakes": true,
           "showland": true,
           "subunitcolor": "white"
          },
          "hoverlabel": {
           "align": "left"
          },
          "hovermode": "closest",
          "mapbox": {
           "style": "light"
          },
          "paper_bgcolor": "white",
          "plot_bgcolor": "#E5ECF6",
          "polar": {
           "angularaxis": {
            "gridcolor": "white",
            "linecolor": "white",
            "ticks": ""
           },
           "bgcolor": "#E5ECF6",
           "radialaxis": {
            "gridcolor": "white",
            "linecolor": "white",
            "ticks": ""
           }
          },
          "scene": {
           "xaxis": {
            "backgroundcolor": "#E5ECF6",
            "gridcolor": "white",
            "gridwidth": 2,
            "linecolor": "white",
            "showbackground": true,
            "ticks": "",
            "zerolinecolor": "white"
           },
           "yaxis": {
            "backgroundcolor": "#E5ECF6",
            "gridcolor": "white",
            "gridwidth": 2,
            "linecolor": "white",
            "showbackground": true,
            "ticks": "",
            "zerolinecolor": "white"
           },
           "zaxis": {
            "backgroundcolor": "#E5ECF6",
            "gridcolor": "white",
            "gridwidth": 2,
            "linecolor": "white",
            "showbackground": true,
            "ticks": "",
            "zerolinecolor": "white"
           }
          },
          "shapedefaults": {
           "line": {
            "color": "#2a3f5f"
           }
          },
          "ternary": {
           "aaxis": {
            "gridcolor": "white",
            "linecolor": "white",
            "ticks": ""
           },
           "baxis": {
            "gridcolor": "white",
            "linecolor": "white",
            "ticks": ""
           },
           "bgcolor": "#E5ECF6",
           "caxis": {
            "gridcolor": "white",
            "linecolor": "white",
            "ticks": ""
           }
          },
          "title": {
           "x": 0.05
          },
          "xaxis": {
           "automargin": true,
           "gridcolor": "white",
           "linecolor": "white",
           "ticks": "",
           "title": {
            "standoff": 15
           },
           "zerolinecolor": "white",
           "zerolinewidth": 2
          },
          "yaxis": {
           "automargin": true,
           "gridcolor": "white",
           "linecolor": "white",
           "ticks": "",
           "title": {
            "standoff": 15
           },
           "zerolinecolor": "white",
           "zerolinewidth": 2
          }
         }
        },
        "width": 700
       }
      }
     },
     "metadata": {},
     "output_type": "display_data"
    }
   ],
   "source": [
    "plot_atoms(wall_back, atom_species_by_index)"
   ]
  },
  {
   "cell_type": "markdown",
   "metadata": {},
   "source": [
    "#### Export results"
   ]
  },
  {
   "cell_type": "code",
   "execution_count": 53,
   "metadata": {},
   "outputs": [],
   "source": [
    "export_to_xcrysden(er_cluster, best_solution_x, best_solution_y, best_solution_z, cluster_size, solution_thickness, atom_species_by_index, 'data/sol.in')"
   ]
  },
  {
   "cell_type": "code",
   "execution_count": 54,
   "metadata": {},
   "outputs": [],
   "source": [
    "export_to_xcrysden(er_cluster, best_solution_x, None, None, cluster_size, solution_thickness, atom_species_by_index, 'data/sol_x.in')"
   ]
  },
  {
   "cell_type": "markdown",
   "metadata": {},
   "source": [
    "#### Fitness analysis"
   ]
  },
  {
   "cell_type": "code",
   "execution_count": 55,
   "metadata": {},
   "outputs": [
    {
     "data": {
      "text/plain": [
       "np.float64(-891.2421155659964)"
      ]
     },
     "execution_count": 55,
     "metadata": {},
     "output_type": "execute_result"
    }
   ],
   "source": [
    "fitness_x(wall_left, wall_right, best_solution_x, atom_species_by_symbol, cluster_size, wall_thickness, solution_thickness, alpha, beta, gamma)"
   ]
  },
  {
   "cell_type": "code",
   "execution_count": 56,
   "metadata": {},
   "outputs": [
    {
     "data": {
      "text/plain": [
       "0.15736659129507888"
      ]
     },
     "execution_count": 56,
     "metadata": {},
     "output_type": "execute_result"
    }
   ],
   "source": [
    "penalty_density(np.concat([wall_left, wall_right, best_solution_x]), 2 * wall_thickness + solution_thickness, cluster_size, cluster_size, atom_species_by_symbol)"
   ]
  },
  {
   "cell_type": "code",
   "execution_count": 57,
   "metadata": {},
   "outputs": [
    {
     "data": {
      "text/plain": [
       "np.float64(23.0)"
      ]
     },
     "execution_count": 57,
     "metadata": {},
     "output_type": "execute_result"
    }
   ],
   "source": [
    "penalty_distances(np.concat([wall_left, wall_right, best_solution_x]), atom_species_by_symbol)"
   ]
  },
  {
   "cell_type": "code",
   "execution_count": 61,
   "metadata": {},
   "outputs": [
    {
     "data": {
      "text/plain": [
       "np.float64(0.0)"
      ]
     },
     "execution_count": 61,
     "metadata": {},
     "output_type": "execute_result"
    }
   ],
   "source": [
    "penalty_angles(np.concat([wall_left, wall_right, best_solution_x]), atom_species_by_symbol)"
   ]
  }
 ],
 "metadata": {
  "kernelspec": {
   "display_name": "Python 3",
   "language": "python",
   "name": "python3"
  },
  "language_info": {
   "codemirror_mode": {
    "name": "ipython",
    "version": 3
   },
   "file_extension": ".py",
   "mimetype": "text/x-python",
   "name": "python",
   "nbconvert_exporter": "python",
   "pygments_lexer": "ipython3",
   "version": "3.11.9"
  }
 },
 "nbformat": 4,
 "nbformat_minor": 2
}
